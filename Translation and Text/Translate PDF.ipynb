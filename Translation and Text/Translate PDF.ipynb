{
 "metadata": {
  "name": "",
  "signature": "sha256:9d0aed7e681c93110f276db987d2d5b036aa3638c0e717db48260a064a7e82e1"
 },
 "nbformat": 3,
 "nbformat_minor": 0,
 "worksheets": [
  {
   "cells": [
    {
     "cell_type": "code",
     "collapsed": false,
     "input": [
      "import PyPDF2\n",
      "pdf = PyPDF2.PdfFileReader(open(\"hp.pdf\", \"rb\"))\n",
      "\n",
      "pages = [page for page in pdf.pages if len(page.extractText()) > 200]\n",
      "\n",
      "print pages[5]"
     ],
     "language": "python",
     "metadata": {},
     "outputs": [
      {
       "output_type": "stream",
       "stream": "stdout",
       "text": [
        "{'/Parent': IndirectObject(2, 0), '/Contents': IndirectObject(37, 0), '/Tabs': '/S', '/Resources': {'/Font': {'/F2': IndirectObject(10, 0), '/F1': IndirectObject(5, 0)}, '/ProcSet': ['/PDF', '/Text', '/ImageB', '/ImageC', '/ImageI']}, '/Group': {'/Type': '/Group', '/S': '/Transparency', '/CS': '/DeviceRGB'}, '/MediaBox': [0, 0, 595.32000, 841.92000], '/Type': '/Page', '/StructParents': 9}\n"
       ]
      }
     ],
     "prompt_number": 1
    },
    {
     "cell_type": "code",
     "collapsed": false,
     "input": [
      " \n",
      "\n",
      "\"\"\"for s in sentences:\n",
      "    print s\"\"\""
     ],
     "language": "python",
     "metadata": {},
     "outputs": [
      {
       "metadata": {},
       "output_type": "pyout",
       "prompt_number": 3,
       "text": [
        "'for s in sentences:\\n   print s'"
       ]
      }
     ],
     "prompt_number": 3
    },
    {
     "cell_type": "code",
     "collapsed": false,
     "input": [
      "chapters = []\n",
      "c = [pages[0].extractText()]\n",
      "\n",
      "for p in pages[1:]:\n",
      "    l = p.extractText()\n",
      "    w = l[:6].split()\n",
      "    b = None\n",
      "    try:\n",
      "        int(w[1])\n",
      "        b = True\n",
      "    except:\n",
      "        b = False\n",
      "    if b:\n",
      "        chapters.append(c)\n",
      "        c = [l]\n",
      "        \n",
      "    else:\n",
      "        c.append(l)\n",
      "    \n"
     ],
     "language": "python",
     "metadata": {},
     "outputs": [],
     "prompt_number": 4
    },
    {
     "cell_type": "code",
     "collapsed": false,
     "input": [
      "def pagesToSentences(chapter):\n",
      "    '''\n",
      "        join all pages\n",
      "        split on . then !\n",
      "        flatten lists\n",
      "    '''\n",
      "    returns = []\n",
      "    joined = \" \". join (chapter)\n",
      "    split1 = joined.split(\".\")\n",
      "    print split1[0], type(split1), len(split1)\n",
      "    split2 = [returns.extend(s.split(\"!\")) for s in split1]\n",
      "    split2 = returns[:]\n",
      "    print len(split2)\n",
      "    returns =[]\n",
      "    split3 = [returns.extend(s.split(\"?\")) for s in split2]\n",
      "    print len(returns)\n",
      "    print returns[0]\n",
      "    return returns\n",
      "\n",
      "p = pagesToSentences(chapters[0])\n",
      "\n",
      "print p[0]"
     ],
     "language": "python",
     "metadata": {},
     "outputs": [
      {
       "output_type": "stream",
       "stream": "stdout",
       "text": [
        "5  1 La maison des \u00ab Jeux du sort \u00bb Les habitants de Little Hangleton maison des \u00ab Jeux du sort ann\u00e9es que lfen\u00eatres condamn\u00e9es par des planches, le toit d\u00e9pourvu de qui poussait en toute libert\u00e9 <type 'list'> 133\n",
        "144\n",
        "170\n",
        "5  1 La maison des \u00ab Jeux du sort \u00bb Les habitants de Little Hangleton maison des \u00ab Jeux du sort ann\u00e9es que lfen\u00eatres condamn\u00e9es par des planches, le toit d\u00e9pourvu de qui poussait en toute libert\u00e9\n",
        "5  1 La maison des \u00ab Jeux du sort \u00bb Les habitants de Little Hangleton maison des \u00ab Jeux du sort ann\u00e9es que lfen\u00eatres condamn\u00e9es par des planches, le toit d\u00e9pourvu de qui poussait en toute libert\u00e9\n"
       ]
      }
     ],
     "prompt_number": 5
    },
    {
     "cell_type": "code",
     "collapsed": false,
     "input": [
      "import goslate\n",
      "\n",
      "gs = goslate.Goslate()\n",
      "\n",
      "\n",
      "\n",
      "print type(gs.translate('lfenetres','en','fr'))\n",
      "\n",
      "def translate(word):\n",
      "    #print word,gs.translate(word,'en','fr'), \"\\n\"\n",
      "    return gs.translate(word,'en','fr')\n",
      "\n",
      "translations = []\n",
      "\n",
      "current = None\n",
      "\n",
      "\n",
      "\n",
      "    "
     ],
     "language": "python",
     "metadata": {},
     "outputs": [
      {
       "output_type": "stream",
       "stream": "stdout",
       "text": [
        "<type 'unicode'>\n"
       ]
      }
     ],
     "prompt_number": 8
    },
    {
     "cell_type": "code",
     "collapsed": false,
     "input": [
      "while len(p) > 0:\n",
      "    print len(p)\n",
      "    current = p.pop()\n",
      "    translations.append((current,(translate(current))))"
     ],
     "language": "python",
     "metadata": {},
     "outputs": [
      {
       "output_type": "stream",
       "stream": "stdout",
       "text": [
        "170\n",
        "169\n",
        "168"
       ]
      },
      {
       "output_type": "stream",
       "stream": "stdout",
       "text": [
        "\n",
        "167"
       ]
      },
      {
       "output_type": "stream",
       "stream": "stdout",
       "text": [
        "\n",
        "166"
       ]
      },
      {
       "output_type": "stream",
       "stream": "stdout",
       "text": [
        "\n",
        "165"
       ]
      },
      {
       "output_type": "stream",
       "stream": "stdout",
       "text": [
        "\n",
        "164"
       ]
      },
      {
       "output_type": "stream",
       "stream": "stdout",
       "text": [
        "\n",
        "163"
       ]
      },
      {
       "output_type": "stream",
       "stream": "stdout",
       "text": [
        "\n",
        "162"
       ]
      },
      {
       "output_type": "stream",
       "stream": "stdout",
       "text": [
        "\n",
        "161"
       ]
      },
      {
       "output_type": "stream",
       "stream": "stdout",
       "text": [
        "\n",
        "160"
       ]
      },
      {
       "output_type": "stream",
       "stream": "stdout",
       "text": [
        "\n",
        "159"
       ]
      },
      {
       "output_type": "stream",
       "stream": "stdout",
       "text": [
        "\n",
        "158"
       ]
      },
      {
       "output_type": "stream",
       "stream": "stdout",
       "text": [
        "\n",
        "157"
       ]
      },
      {
       "output_type": "stream",
       "stream": "stdout",
       "text": [
        "\n",
        "156"
       ]
      },
      {
       "output_type": "stream",
       "stream": "stdout",
       "text": [
        "\n",
        "155"
       ]
      },
      {
       "output_type": "stream",
       "stream": "stdout",
       "text": [
        "\n",
        "154"
       ]
      },
      {
       "output_type": "stream",
       "stream": "stdout",
       "text": [
        "\n",
        "153"
       ]
      },
      {
       "output_type": "stream",
       "stream": "stdout",
       "text": [
        "\n",
        "152"
       ]
      },
      {
       "output_type": "stream",
       "stream": "stdout",
       "text": [
        "\n",
        "151"
       ]
      },
      {
       "output_type": "stream",
       "stream": "stdout",
       "text": [
        "\n",
        "150"
       ]
      },
      {
       "output_type": "stream",
       "stream": "stdout",
       "text": [
        "\n",
        "149"
       ]
      },
      {
       "output_type": "stream",
       "stream": "stdout",
       "text": [
        "\n",
        "148"
       ]
      },
      {
       "output_type": "stream",
       "stream": "stdout",
       "text": [
        "\n",
        "147"
       ]
      },
      {
       "output_type": "stream",
       "stream": "stdout",
       "text": [
        "\n",
        "146"
       ]
      },
      {
       "output_type": "stream",
       "stream": "stdout",
       "text": [
        "\n",
        "145"
       ]
      },
      {
       "output_type": "stream",
       "stream": "stdout",
       "text": [
        "\n",
        "144"
       ]
      },
      {
       "output_type": "stream",
       "stream": "stdout",
       "text": [
        "\n",
        "143"
       ]
      },
      {
       "output_type": "stream",
       "stream": "stdout",
       "text": [
        "\n",
        "142"
       ]
      },
      {
       "output_type": "stream",
       "stream": "stdout",
       "text": [
        "\n",
        "141"
       ]
      },
      {
       "output_type": "stream",
       "stream": "stdout",
       "text": [
        "\n",
        "140"
       ]
      },
      {
       "output_type": "stream",
       "stream": "stdout",
       "text": [
        "\n",
        "139"
       ]
      },
      {
       "output_type": "stream",
       "stream": "stdout",
       "text": [
        "\n",
        "138"
       ]
      },
      {
       "output_type": "stream",
       "stream": "stdout",
       "text": [
        "\n",
        "137"
       ]
      },
      {
       "output_type": "stream",
       "stream": "stdout",
       "text": [
        "\n",
        "136"
       ]
      },
      {
       "output_type": "stream",
       "stream": "stdout",
       "text": [
        "\n",
        "135"
       ]
      },
      {
       "output_type": "stream",
       "stream": "stdout",
       "text": [
        "\n",
        "134"
       ]
      },
      {
       "output_type": "stream",
       "stream": "stdout",
       "text": [
        "\n",
        "133"
       ]
      },
      {
       "output_type": "stream",
       "stream": "stdout",
       "text": [
        "\n",
        "132"
       ]
      },
      {
       "output_type": "stream",
       "stream": "stdout",
       "text": [
        "\n",
        "131"
       ]
      },
      {
       "output_type": "stream",
       "stream": "stdout",
       "text": [
        "\n",
        "130"
       ]
      },
      {
       "output_type": "stream",
       "stream": "stdout",
       "text": [
        "\n",
        "129"
       ]
      },
      {
       "output_type": "stream",
       "stream": "stdout",
       "text": [
        "\n",
        "128"
       ]
      },
      {
       "output_type": "stream",
       "stream": "stdout",
       "text": [
        "\n",
        "127"
       ]
      },
      {
       "output_type": "stream",
       "stream": "stdout",
       "text": [
        "\n",
        "126"
       ]
      },
      {
       "output_type": "stream",
       "stream": "stdout",
       "text": [
        "\n",
        "125"
       ]
      },
      {
       "output_type": "stream",
       "stream": "stdout",
       "text": [
        "\n",
        "124"
       ]
      },
      {
       "output_type": "stream",
       "stream": "stdout",
       "text": [
        "\n",
        "123"
       ]
      },
      {
       "output_type": "stream",
       "stream": "stdout",
       "text": [
        "\n",
        "122\n",
        "121"
       ]
      },
      {
       "output_type": "stream",
       "stream": "stdout",
       "text": [
        "\n",
        "120"
       ]
      },
      {
       "output_type": "stream",
       "stream": "stdout",
       "text": [
        "\n",
        "119"
       ]
      },
      {
       "output_type": "stream",
       "stream": "stdout",
       "text": [
        "\n",
        "118"
       ]
      },
      {
       "output_type": "stream",
       "stream": "stdout",
       "text": [
        "\n",
        "117"
       ]
      },
      {
       "output_type": "stream",
       "stream": "stdout",
       "text": [
        "\n",
        "116"
       ]
      },
      {
       "output_type": "stream",
       "stream": "stdout",
       "text": [
        "\n",
        "115"
       ]
      },
      {
       "output_type": "stream",
       "stream": "stdout",
       "text": [
        "\n",
        "114"
       ]
      },
      {
       "output_type": "stream",
       "stream": "stdout",
       "text": [
        "\n",
        "113"
       ]
      },
      {
       "output_type": "stream",
       "stream": "stdout",
       "text": [
        "\n",
        "112"
       ]
      },
      {
       "output_type": "stream",
       "stream": "stdout",
       "text": [
        "\n",
        "111"
       ]
      },
      {
       "output_type": "stream",
       "stream": "stdout",
       "text": [
        "\n",
        "110"
       ]
      },
      {
       "output_type": "stream",
       "stream": "stdout",
       "text": [
        "\n",
        "109"
       ]
      },
      {
       "output_type": "stream",
       "stream": "stdout",
       "text": [
        "\n",
        "108"
       ]
      },
      {
       "output_type": "stream",
       "stream": "stdout",
       "text": [
        "\n",
        "107"
       ]
      },
      {
       "output_type": "stream",
       "stream": "stdout",
       "text": [
        "\n",
        "106"
       ]
      },
      {
       "output_type": "stream",
       "stream": "stdout",
       "text": [
        "\n",
        "105"
       ]
      },
      {
       "output_type": "stream",
       "stream": "stdout",
       "text": [
        "\n",
        "104"
       ]
      },
      {
       "output_type": "stream",
       "stream": "stdout",
       "text": [
        "\n",
        "103"
       ]
      },
      {
       "output_type": "stream",
       "stream": "stdout",
       "text": [
        "\n",
        "102"
       ]
      },
      {
       "output_type": "stream",
       "stream": "stdout",
       "text": [
        "\n",
        "101"
       ]
      },
      {
       "output_type": "stream",
       "stream": "stdout",
       "text": [
        "\n",
        "100"
       ]
      },
      {
       "output_type": "stream",
       "stream": "stdout",
       "text": [
        "\n",
        "99"
       ]
      },
      {
       "output_type": "stream",
       "stream": "stdout",
       "text": [
        "\n",
        "98"
       ]
      },
      {
       "output_type": "stream",
       "stream": "stdout",
       "text": [
        "\n",
        "97"
       ]
      },
      {
       "output_type": "stream",
       "stream": "stdout",
       "text": [
        "\n",
        "96"
       ]
      },
      {
       "output_type": "stream",
       "stream": "stdout",
       "text": [
        "\n",
        "95"
       ]
      },
      {
       "output_type": "stream",
       "stream": "stdout",
       "text": [
        "\n",
        "94"
       ]
      },
      {
       "output_type": "stream",
       "stream": "stdout",
       "text": [
        "\n",
        "93"
       ]
      },
      {
       "output_type": "stream",
       "stream": "stdout",
       "text": [
        "\n",
        "92"
       ]
      },
      {
       "output_type": "stream",
       "stream": "stdout",
       "text": [
        "\n",
        "91"
       ]
      },
      {
       "output_type": "stream",
       "stream": "stdout",
       "text": [
        "\n",
        "90"
       ]
      },
      {
       "output_type": "stream",
       "stream": "stdout",
       "text": [
        "\n",
        "89"
       ]
      },
      {
       "output_type": "stream",
       "stream": "stdout",
       "text": [
        "\n",
        "88"
       ]
      },
      {
       "output_type": "stream",
       "stream": "stdout",
       "text": [
        "\n",
        "87"
       ]
      },
      {
       "output_type": "stream",
       "stream": "stdout",
       "text": [
        "\n",
        "86"
       ]
      },
      {
       "output_type": "stream",
       "stream": "stdout",
       "text": [
        "\n",
        "85"
       ]
      },
      {
       "output_type": "stream",
       "stream": "stdout",
       "text": [
        "\n",
        "84"
       ]
      },
      {
       "output_type": "stream",
       "stream": "stdout",
       "text": [
        "\n",
        "83"
       ]
      },
      {
       "output_type": "stream",
       "stream": "stdout",
       "text": [
        "\n",
        "82"
       ]
      },
      {
       "output_type": "stream",
       "stream": "stdout",
       "text": [
        "\n",
        "81"
       ]
      },
      {
       "output_type": "stream",
       "stream": "stdout",
       "text": [
        "\n",
        "80"
       ]
      },
      {
       "output_type": "stream",
       "stream": "stdout",
       "text": [
        "\n",
        "79"
       ]
      },
      {
       "output_type": "stream",
       "stream": "stdout",
       "text": [
        "\n",
        "78"
       ]
      },
      {
       "output_type": "stream",
       "stream": "stdout",
       "text": [
        "\n",
        "77"
       ]
      },
      {
       "output_type": "stream",
       "stream": "stdout",
       "text": [
        "\n",
        "76"
       ]
      },
      {
       "output_type": "stream",
       "stream": "stdout",
       "text": [
        "\n",
        "75"
       ]
      },
      {
       "output_type": "stream",
       "stream": "stdout",
       "text": [
        "\n",
        "74"
       ]
      },
      {
       "output_type": "stream",
       "stream": "stdout",
       "text": [
        "\n",
        "73"
       ]
      },
      {
       "output_type": "stream",
       "stream": "stdout",
       "text": [
        "\n",
        "72"
       ]
      },
      {
       "output_type": "stream",
       "stream": "stdout",
       "text": [
        "\n",
        "71\n",
        "70"
       ]
      },
      {
       "output_type": "stream",
       "stream": "stdout",
       "text": [
        "\n",
        "69"
       ]
      },
      {
       "output_type": "stream",
       "stream": "stdout",
       "text": [
        "\n",
        "68"
       ]
      },
      {
       "output_type": "stream",
       "stream": "stdout",
       "text": [
        "\n",
        "67"
       ]
      },
      {
       "output_type": "stream",
       "stream": "stdout",
       "text": [
        "\n",
        "66"
       ]
      },
      {
       "output_type": "stream",
       "stream": "stdout",
       "text": [
        "\n",
        "65"
       ]
      },
      {
       "output_type": "stream",
       "stream": "stdout",
       "text": [
        "\n",
        "64"
       ]
      },
      {
       "output_type": "stream",
       "stream": "stdout",
       "text": [
        "\n",
        "63"
       ]
      },
      {
       "output_type": "stream",
       "stream": "stdout",
       "text": [
        "\n",
        "62"
       ]
      },
      {
       "output_type": "stream",
       "stream": "stdout",
       "text": [
        "\n",
        "61"
       ]
      },
      {
       "output_type": "stream",
       "stream": "stdout",
       "text": [
        "\n",
        "60"
       ]
      },
      {
       "output_type": "stream",
       "stream": "stdout",
       "text": [
        "\n",
        "59"
       ]
      },
      {
       "output_type": "stream",
       "stream": "stdout",
       "text": [
        "\n",
        "58"
       ]
      },
      {
       "output_type": "stream",
       "stream": "stdout",
       "text": [
        "\n",
        "57"
       ]
      },
      {
       "output_type": "stream",
       "stream": "stdout",
       "text": [
        "\n",
        "56"
       ]
      },
      {
       "output_type": "stream",
       "stream": "stdout",
       "text": [
        "\n",
        "55"
       ]
      },
      {
       "output_type": "stream",
       "stream": "stdout",
       "text": [
        "\n",
        "54"
       ]
      },
      {
       "output_type": "stream",
       "stream": "stdout",
       "text": [
        "\n",
        "53"
       ]
      },
      {
       "output_type": "stream",
       "stream": "stdout",
       "text": [
        "\n",
        "52"
       ]
      },
      {
       "output_type": "stream",
       "stream": "stdout",
       "text": [
        "\n",
        "51"
       ]
      },
      {
       "output_type": "stream",
       "stream": "stdout",
       "text": [
        "\n",
        "50"
       ]
      },
      {
       "output_type": "stream",
       "stream": "stdout",
       "text": [
        "\n",
        "49"
       ]
      },
      {
       "output_type": "stream",
       "stream": "stdout",
       "text": [
        "\n",
        "48"
       ]
      },
      {
       "output_type": "stream",
       "stream": "stdout",
       "text": [
        "\n",
        "47"
       ]
      },
      {
       "output_type": "stream",
       "stream": "stdout",
       "text": [
        "\n",
        "46"
       ]
      },
      {
       "output_type": "stream",
       "stream": "stdout",
       "text": [
        "\n",
        "45"
       ]
      },
      {
       "output_type": "stream",
       "stream": "stdout",
       "text": [
        "\n",
        "44"
       ]
      },
      {
       "output_type": "stream",
       "stream": "stdout",
       "text": [
        "\n",
        "43"
       ]
      },
      {
       "output_type": "stream",
       "stream": "stdout",
       "text": [
        "\n",
        "42"
       ]
      },
      {
       "output_type": "stream",
       "stream": "stdout",
       "text": [
        "\n",
        "41"
       ]
      },
      {
       "output_type": "stream",
       "stream": "stdout",
       "text": [
        "\n",
        "40"
       ]
      },
      {
       "output_type": "stream",
       "stream": "stdout",
       "text": [
        "\n",
        "39"
       ]
      },
      {
       "output_type": "stream",
       "stream": "stdout",
       "text": [
        "\n",
        "38"
       ]
      },
      {
       "output_type": "stream",
       "stream": "stdout",
       "text": [
        "\n",
        "37"
       ]
      },
      {
       "output_type": "stream",
       "stream": "stdout",
       "text": [
        "\n",
        "36"
       ]
      },
      {
       "output_type": "stream",
       "stream": "stdout",
       "text": [
        "\n",
        "35"
       ]
      },
      {
       "output_type": "stream",
       "stream": "stdout",
       "text": [
        "\n",
        "34"
       ]
      },
      {
       "output_type": "stream",
       "stream": "stdout",
       "text": [
        "\n",
        "33"
       ]
      },
      {
       "output_type": "stream",
       "stream": "stdout",
       "text": [
        "\n",
        "32"
       ]
      },
      {
       "output_type": "stream",
       "stream": "stdout",
       "text": [
        "\n",
        "31"
       ]
      },
      {
       "output_type": "stream",
       "stream": "stdout",
       "text": [
        "\n",
        "30"
       ]
      },
      {
       "output_type": "stream",
       "stream": "stdout",
       "text": [
        "\n",
        "29"
       ]
      },
      {
       "output_type": "stream",
       "stream": "stdout",
       "text": [
        "\n",
        "28"
       ]
      },
      {
       "output_type": "stream",
       "stream": "stdout",
       "text": [
        "\n",
        "27"
       ]
      },
      {
       "output_type": "stream",
       "stream": "stdout",
       "text": [
        "\n",
        "26"
       ]
      },
      {
       "output_type": "stream",
       "stream": "stdout",
       "text": [
        "\n",
        "25"
       ]
      },
      {
       "output_type": "stream",
       "stream": "stdout",
       "text": [
        "\n",
        "24"
       ]
      },
      {
       "output_type": "stream",
       "stream": "stdout",
       "text": [
        "\n",
        "23"
       ]
      },
      {
       "output_type": "stream",
       "stream": "stdout",
       "text": [
        "\n",
        "22"
       ]
      },
      {
       "output_type": "stream",
       "stream": "stdout",
       "text": [
        "\n",
        "21"
       ]
      },
      {
       "output_type": "stream",
       "stream": "stdout",
       "text": [
        "\n",
        "20"
       ]
      },
      {
       "output_type": "stream",
       "stream": "stdout",
       "text": [
        "\n",
        "19"
       ]
      },
      {
       "output_type": "stream",
       "stream": "stdout",
       "text": [
        "\n",
        "18"
       ]
      },
      {
       "output_type": "stream",
       "stream": "stdout",
       "text": [
        "\n",
        "17"
       ]
      },
      {
       "output_type": "stream",
       "stream": "stdout",
       "text": [
        "\n",
        "16"
       ]
      },
      {
       "output_type": "stream",
       "stream": "stdout",
       "text": [
        "\n",
        "15"
       ]
      },
      {
       "output_type": "stream",
       "stream": "stdout",
       "text": [
        "\n",
        "14"
       ]
      },
      {
       "output_type": "stream",
       "stream": "stdout",
       "text": [
        "\n",
        "13"
       ]
      },
      {
       "output_type": "stream",
       "stream": "stdout",
       "text": [
        "\n",
        "12"
       ]
      },
      {
       "output_type": "stream",
       "stream": "stdout",
       "text": [
        "\n",
        "11"
       ]
      },
      {
       "output_type": "stream",
       "stream": "stdout",
       "text": [
        "\n",
        "10"
       ]
      },
      {
       "output_type": "stream",
       "stream": "stdout",
       "text": [
        "\n",
        "9"
       ]
      },
      {
       "output_type": "stream",
       "stream": "stdout",
       "text": [
        "\n",
        "8"
       ]
      },
      {
       "output_type": "stream",
       "stream": "stdout",
       "text": [
        "\n",
        "7"
       ]
      },
      {
       "output_type": "stream",
       "stream": "stdout",
       "text": [
        "\n",
        "6"
       ]
      },
      {
       "output_type": "stream",
       "stream": "stdout",
       "text": [
        "\n",
        "5"
       ]
      },
      {
       "output_type": "stream",
       "stream": "stdout",
       "text": [
        "\n",
        "4"
       ]
      },
      {
       "output_type": "stream",
       "stream": "stdout",
       "text": [
        "\n",
        "3"
       ]
      },
      {
       "output_type": "stream",
       "stream": "stdout",
       "text": [
        "\n",
        "2"
       ]
      },
      {
       "output_type": "stream",
       "stream": "stdout",
       "text": [
        "\n",
        "1"
       ]
      },
      {
       "output_type": "stream",
       "stream": "stdout",
       "text": [
        "\n"
       ]
      }
     ],
     "prompt_number": 9
    },
    {
     "cell_type": "code",
     "collapsed": false,
     "input": [
      "#for a,b in translations[::10]:\n",
      "\n",
      "import csv, codecs, cStringIO\n",
      "\n",
      "class UnicodeWriter:\n",
      "    \"\"\"\n",
      "    A CSV writer which will write rows to CSV file \"f\",\n",
      "    which is encoded in the given encoding.\n",
      "    \"\"\"\n",
      "\n",
      "    def __init__(self, f, dialect=csv.excel, encoding=\"utf-8\", **kwds):\n",
      "        # Redirect output to a queue\n",
      "        self.queue = cStringIO.StringIO()\n",
      "        self.writer = csv.writer(self.queue, dialect=dialect, **kwds)\n",
      "        self.stream = f\n",
      "        self.encoder = codecs.getincrementalencoder(encoding)()\n",
      "\n",
      "    def writerow(self, row):\n",
      "        self.writer.writerow([s.encode(\"utf-8\") for s in row])\n",
      "        # Fetch UTF-8 output from the queue ...\n",
      "        data = self.queue.getvalue()\n",
      "        data = data.decode(\"utf-8\")\n",
      "        # ... and reencode it into the target encoding\n",
      "        data = self.encoder.encode(data)\n",
      "        # write to the target stream\n",
      "        self.stream.write(data)\n",
      "        # empty queue\n",
      "        self.queue.truncate(0)\n",
      "\n",
      "    def writerows(self, rows):\n",
      "        for row in rows:\n",
      "            self.writerow(row)\n",
      "            \n",
      "            \n",
      "\n",
      "    \n",
      "\n",
      "        \n",
      "f = open(\"potter4111.csv\", 'w')\n",
      "for line, trans in translations:\n",
      "        out = \"!\".join([line,trans]) +\";\\n\"\n",
      "\n",
      "        f.write(out.encode('utf8'))\n",
      "f.close()"
     ],
     "language": "python",
     "metadata": {},
     "outputs": [],
     "prompt_number": 10
    },
    {
     "cell_type": "code",
     "collapsed": false,
     "input": [
      "pages[0]?"
     ],
     "language": "python",
     "metadata": {},
     "outputs": [
      {
       "ename": "SyntaxError",
       "evalue": "invalid syntax (<ipython-input-11-666ecd7390de>, line 1)",
       "output_type": "pyerr",
       "traceback": [
        "\u001b[1;36m  File \u001b[1;32m\"<ipython-input-11-666ecd7390de>\"\u001b[1;36m, line \u001b[1;32m1\u001b[0m\n\u001b[1;33m    pages[0]?\u001b[0m\n\u001b[1;37m            ^\u001b[0m\n\u001b[1;31mSyntaxError\u001b[0m\u001b[1;31m:\u001b[0m invalid syntax\n"
       ]
      }
     ],
     "prompt_number": 11
    },
    {
     "cell_type": "code",
     "collapsed": false,
     "input": [
      "allWords = set()\n",
      "\n",
      "for l,t in translations:\n",
      "    print l\n",
      "    words = l.split()\n",
      "    print words\n",
      "    for word in words:\n",
      "        try:\n",
      "            int(word)\n",
      "            #print int(word)\n",
      "        except:\n",
      "            allWords.add(word.lower())\n",
      "            #print word.lower()\n",
      "    print len(allWords)\n",
      "    \n"
     ],
     "language": "python",
     "metadata": {},
     "outputs": [
      {
       "output_type": "stream",
       "stream": "stdout",
       "text": [
        "  \n",
        "[]\n",
        "0\n",
        " Il y eut un \u00e9clat de lumi\u00e8re verte, un souffle semblable \u00e0 un brusque coup de vent, puis Frank Bryce  Potter se r\u00e9veilla en sursaut\n",
        "[u'Il', u'y', u'eut', u'un', u'\\xe9clat', u'de', u'lumi\\xe8re', u'verte,', u'un', u'souffle', u'semblable', u'\\xe0', u'un', u'brusque', u'coup', u'de', u'vent,', u'puis', u'Frank', u'Bryce', u'Potter', u'se', u'r\\xe9veilla', u'en', u'sursaut']\n",
        "22\n",
        " La bouche grande ouverte, il laissa \u00e9chapper un que la chose assise dans le fauteuil pronon\u00e7a en brandissant une baguette magique\n",
        "[u'La', u'bouche', u'grande', u'ouverte,', u'il', u'laissa', u'\\xe9chapper', u'un', u'que', u'la', u'chose', u'assise', u'dans', u'le', u'fauteuil', u'pronon\\xe7a', u'en', u'brandissant', u'une', u'baguette', u'magique']\n",
        "39\n",
        " Sa canne lui glissa alors des doigts et tomba par terre avec un bruit sec\n",
        "[u'Sa', u'canne', u'lui', u'glissa', u'alors', u'des', u'doigts', u'et', u'tomba', u'par', u'terre', u'avec', u'un', u'bruit', u'sec']\n",
        "53\n",
        " Enfin, Frank se retrouva face au fauteuil et vit ce qui y \u00e9tait assis\n",
        "[u'Enfin,', u'Frank', u'se', u'retrouva', u'face', u'au', u'fauteuil', u'et', u'vit', u'ce', u'qui', u'y', u'\\xe9tait', u'assis']\n",
        "62\n",
        " Le reptile leva son horrible t\u00eate triangulaire et \u00e9mit un l\u00e9ger sifflement lorsque les pieds du fauteuil se prirent dans son tapis\n",
        "[u'Le', u'reptile', u'leva', u'son', u'horrible', u't\\xeate', u'triangulaire', u'et', u'\\xe9mit', u'un', u'l\\xe9ger', u'sifflement', u'lorsque', u'les', u'pieds', u'du', u'fauteuil', u'se', u'prirent', u'dans', u'son', u'tapis']\n",
        "77\n",
        " ma\u00eetre et le serpent lov\u00e9 sur le tapis, le petit homme entreprit de tourner le fauteuil\n",
        "[u'ma\\xeetre', u'et', u'le', u'serpent', u'lov\\xe9', u'sur', u'le', u'tapis,', u'le', u'petit', u'homme', u'entreprit', u'de', u'tourner', u'le', u'fauteuil']\n",
        "86\n",
        "  18   \n",
        "[u'18']\n",
        "86\n",
        " Le serviteur laissa \u00e9chapper un g\u00e9missement\n",
        "[u'Le', u'serviteur', u'laissa', u'\\xe9chapper', u'un', u'g\\xe9missement']\n",
        "88\n",
        "  Justement, je ne suis pas un homme, Moldu, r\u00e9pondit la voix glaciale qui parvenait \u00e0 peine \u00e0 dominer le cr\u00e9pitement du finalement, pourquoi pas Queudver, viens tourner mon fauteuil\n",
        "[u'Justement,', u'je', u'ne', u'suis', u'pas', u'un', u'homme,', u'Moldu,', u'r\\xe9pondit', u'la', u'voix', u'glaciale', u'qui', u'parvenait', u'\\xe0', u'peine', u'\\xe0', u'dominer', u'le', u'cr\\xe9pitement', u'du', u'finalement,', u'pourquoi', u'pas', u'Queudver,', u'viens', u'tourner', u'mon', u'fauteuil']\n",
        "107\n",
        " Vous pourriez au moins vous tourner et me regarder en face, comme un homme, vous ne croyez pas \n",
        "[u'Vous', u'pourriez', u'au', u'moins', u'vous', u'tourner', u'et', u'me', u'regarder', u'en', u'face,', u'comme', u'un', u'homme,', u'vous', u'ne', u'croyez', u'pas']\n",
        "115\n",
        " Eh bien, permettez-moi de vous dire que vos mani\u00e8res laissent \u00e0 d\u00e9sirer, Mylord\n",
        "[u'Eh', u'bien,', u'permettez-moi', u'de', u'vous', u'dire', u'que', u'vos', u'mani\\xe8res', u'laissent', u'\\xe0', u'd\\xe9sirer,', u'Mylord']\n",
        "124\n",
        " Ne mens pas \u00e0 Lord Voldemort, Moldu,   Voyez-vous \u00e7a vraiment \n",
        "[u'Ne', u'mens', u'pas', u'\\xe0', u'Lord', u'Voldemort,', u'Moldu,', u'Voyez-vous', u'\\xe7a', u'vraiment']\n",
        "130\n",
        " Et je vais vous dire une chose, ajouta-t-il sait que je   personne o\u00f9 tu allais\n",
        "[u'Et', u'je', u'vais', u'vous', u'dire', u'une', u'chose,', u'ajouta-t-il', u'sait', u'que', u'je', u'personne', u'o\\xf9', u'tu', u'allais']\n",
        "138\n",
        " lan\u00e7a Frank sur un ton de x, comme     suffisamment entendu ce soir pour int\u00e9resser la police, croyez-commettre un autre \n",
        "[u'lan\\xe7a', u'Frank', u'sur', u'un', u'ton', u'de', u'x,', u'comme', u'suffisamment', u'entendu', u'ce', u'soir', u'pour', u'int\\xe9resser', u'la', u'police,', u'croyez-commettre', u'un', u'autre']\n",
        "149\n",
        "  -vous appel\u00e9 \n",
        "[u'-vous', u'appel\\xe9']\n",
        "151\n",
        " demanda la voix glaciale\n",
        "[u'demanda', u'la', u'voix', u'glaciale']\n",
        "152\n",
        "  Tu as tout entendu, Moldu \n",
        "[u'Tu', u'as', u'tout', u'entendu,', u'Moldu']\n",
        "156\n",
        " Les flammes de la chemin\u00e9e constituaient la seule source de que son serviteur car on ne voyait m\u00eame pas le sommet de sa t\u00eate d\u00e9passer du dossier\n",
        "[u'Les', u'flammes', u'de', u'la', u'chemin\\xe9e', u'constituaient', u'la', u'seule', u'source', u'de', u'que', u'son', u'serviteur', u'car', u'on', u'ne', u'voyait', u'm\\xeame', u'pas', u'le', u'sommet', u'de', u'sa', u't\\xeate', u'd\\xe9passer', u'du', u'dossier']\n",
        "168\n",
        "  17 ne f\u00fbt pas encore remis du choc, Frank se cramponna fermement \u00e0 sa canne et franchit la porte de son pas claudicant\n",
        "[u'17', u'ne', u'f\\xfbt', u'pas', u'encore', u'remis', u'du', u'choc,', u'Frank', u'se', u'cramponna', u'fermement', u'\\xe0', u'sa', u'canne', u'et', u'franchit', u'la', u'porte', u'de', u'son', u'pas', u'claudicant']\n",
        "177\n",
        " aux mites, comme une horrible caricature de chien\n",
        "[u'aux', u'mites,', u'comme', u'une', u'horrible', u'caricature', u'de', u'chien']\n",
        "181\n",
        " As-tu oubli\u00e9 les bonnes mani\u00e8res \n",
        "[u'As-tu', u'oubli\\xe9', u'les', u'bonnes', u'mani\\xe8res']\n",
        "184\n",
        "  Invite-le donc, Queudver\n",
        "[u'Invite-le', u'donc,', u'Queudver']\n",
        "187\n",
        " Son visage exprimait une inqui\u00e9tude m\u00eal\u00e9e de terreur\n",
        "[u'Son', u'visage', u'exprimait', u'une', u'inqui\\xe9tude', u'm\\xeal\\xe9e', u'de', u'terreur']\n",
        "192\n",
        "  Un petit homme au front d\u00e9garni, les cheveux grisonnants, se tenait devant lui\n",
        "[u'Un', u'petit', u'homme', u'au', u'front', u'd\\xe9garni,', u'les', u'cheveux', u'grisonnants,', u'se', u'tenait', u'devant', u'lui']\n",
        "198\n",
        "  porte un vieux Moldu qui \u00e9coute tout ce que nous disons\n",
        "[u'porte', u'un', u'vieux', u'Moldu', u'qui', u'\\xe9coute', u'tout', u'ce', u'que', u'nous', u'disons']\n",
        "202\n",
        " balbutia Queudver\n",
        "[u'balbutia', u'Queudver']\n",
        "203\n",
        "  Vr \n",
        "[u'Vr']\n",
        "204\n",
        " Il ne souhaitait plu : retourner dans son lit avec de reprendre ses esprits, la voix glaciale recommen\u00e7a \u00e0 parler normalement :  Nagini a des nouvelles int\u00e9ressantes \u00e0 nous apprendre, Queudver, dit-elle\n",
        "[u'Il', u'ne', u'souhaitait', u'plu', u':', u'retourner', u'dans', u'son', u'lit', u'avec', u'de', u'reprendre', u'ses', u'esprits,', u'la', u'voix', u'glaciale', u'recommen\\xe7a', u'\\xe0', u'parler', u'normalement', u':', u'Nagini', u'a', u'des', u'nouvelles', u'int\\xe9ressantes', u'\\xe0', u'nous', u'apprendre,', u'Queudver,', u'dit-elle']\n",
        "221\n",
        " Frank ne comprenait pas ce qui se passait\n",
        "[u'Frank', u'ne', u'comprenait', u'pas', u'ce', u'qui', u'se', u'passait']\n",
        "223\n",
        " Dans la pi\u00e8ce, la voix continuait de siffler et Frank eut soudain une \u00e9trange pens\u00e9e, une pens\u00e9e Cet homme avait la facult\u00e9 de parler aux serpents\n",
        "[u'Dans', u'la', u'pi\\xe8ce,', u'la', u'voix', u'continuait', u'de', u'siffler', u'et', u'Frank', u'eut', u'soudain', u'une', u'\\xe9trange', u'pens\\xe9e,', u'une', u'pens\\xe9e', u'Cet', u'homme', u'avait', u'la', u'facult\\xe9', u'de', u'parler', u'aux', u'serpents']\n",
        "234\n",
        " Frank avait maintenant le front aussi moite que sa main, qui tremblait en serrant sa canne\n",
        "[u'Frank', u'avait', u'maintenant', u'le', u'front', u'aussi', u'moite', u'que', u'sa', u'main,', u'qui', u'tremblait', u'en', u'serrant', u'sa', u'canne']\n",
        "240\n",
        " Le serpent se laissait guider par les sifflements et les crachotements que produisait la bout de sa queue aux \u00e9cailles en losanges disparut par la porte entrouverte\n",
        "[u'Le', u'serpent', u'se', u'laissait', u'guider', u'par', u'les', u'sifflements', u'et', u'les', u'crachotements', u'que', u'produisait', u'la', u'bout', u'de', u'sa', u'queue', u'aux', u'\\xe9cailles', u'en', u'losanges', u'disparut', u'par', u'la', u'porte', u'entrouverte']\n",
        "251\n",
        " Incr\u00e9dule, il le vit alors passer devant lui sans le toucher ; un v\u00e9ritable miracle \n",
        "[u'Incr\\xe9dule,', u'il', u'le', u'vit', u'alors', u'passer', u'devant', u'lui', u'sans', u'le', u'toucher', u';', u'un', u'v\\xe9ritable', u'miracle']\n",
        "258\n",
        " Que fallait-il faire r\u00e9fugier dans la pi\u00e8ce o\u00f9 deux hommes tranquillement install\u00e9s  ; \u00e9tait, le serpent allait s\u00fbrement le  \u00e9tait arriv\u00e9 \u00e0 sa hauteur\n",
        "[u'Que', u'fallait-il', u'faire', u'r\\xe9fugier', u'dans', u'la', u'pi\\xe8ce', u'o\\xf9', u'deux', u'hommes', u'tranquillement', u'install\\xe9s', u';', u'\\xe9tait,', u'le', u'serpent', u'allait', u's\\xfbrement', u'le', u'\\xe9tait', u'arriv\\xe9', u'\\xe0', u'sa', u'hauteur']\n",
        "271\n",
        " Frank vit alors poussi\u00e8re du sol une large tr 16 approchait\n",
        "[u'Frank', u'vit', u'alors', u'poussi\\xe8re', u'du', u'sol', u'une', u'large', u'tr', u'16', u'approchait']\n",
        "276\n",
        " Puis Frank entendit un bruit derri\u00e8re lui, dans le couloir  Quelque chose ondulait sur le sol, quelque chose qui porte entreb\u00e2ill\u00e9e les flammes de la chemin\u00e9e\n",
        "[u'Puis', u'Frank', u'entendit', u'un', u'bruit', u'derri\\xe8re', u'lui,', u'dans', u'le', u'couloir', u'Quelque', u'chose', u'ondulait', u'sur', u'le', u'sol,', u'quelque', u'chose', u'qui', u'porte', u'entreb\\xe2ill\\xe9e', u'les', u'flammes', u'de', u'la', u'chemin\\xe9e']\n",
        "284\n",
        " Mais la voix glaciale reprit la parole et Frank resta fig\u00e9 sur place,   e   ; il sifflait, avoir une crise de quelque chose, une attaque, peut-\u00eatre\n",
        "[u'Mais', u'la', u'voix', u'glaciale', u'reprit', u'la', u'parole', u'et', u'Frank', u'resta', u'fig\\xe9', u'sur', u'place,', u'e', u';', u'il', u'sifflait,', u'avoir', u'une', u'crise', u'de', u'quelque', u'chose,', u'une', u'attaque,', u'peut-\\xeatre']\n",
        "296\n",
        " Et il  de qui sait-, \u00e9tait en danger\n",
        "[u'Et', u'il', u'de', u'qui', u'sait-,', u'\\xe9tait', u'en', u'danger']\n",
        "298\n",
        " Il en parlait sans la moindre nuance de remords  il en parlait m\u00eame avec amusement un fou\n",
        "[u'Il', u'en', u'parlait', u'sans', u'la', u'moindre', u'nuance', u'de', u'remords', u'il', u'en', u'parlait', u'm\\xeame', u'avec', u'amusement', u'un', u'fou']\n",
        "304\n",
        " Mais les onn\u00e9 la preuve lorsque je m\u00e9moire de  Dans le couloir, Frank se rendit soudain compte que la main la voix glaciale avait tu\u00e9 une femme\n",
        "[u'Mais', u'les', u'onn\\xe9', u'la', u'preuve', u'lorsque', u'je', u'm\\xe9moire', u'de', u'Dans', u'le', u'couloir,', u'Frank', u'se', u'rendit', u'soudain', u'compte', u'que', u'la', u'main', u'la', u'voix', u'glaciale', u'avait', u'tu\\xe9', u'une', u'femme']\n",
        "313\n",
        "  Nous aurions pu modifier sa m\u00e9moire \n",
        "[u'Nous', u'aurions', u'pu', u'modifier', u'sa', u'm\\xe9moire']\n",
        "316\n",
        " Les sorciers qui sont cens\u00e9s \u00eatre morts devraient \u00e9viter de croiser des sorci\u00e8res   15 Queudver marmonna quelque chose \u00e0 voix si basse que  un rire totalement d\u00e9pourvu de joie, aussi froid que sa fa\u00e7on de parler\n",
        "[u'Les', u'sorciers', u'qui', u'sont', u'cens\\xe9s', u'\\xeatre', u'morts', u'devraient', u'\\xe9viter', u'de', u'croiser', u'des', u'sorci\\xe8res', u'15', u'Queudver', u'marmonna', u'quelque', u'chose', u'\\xe0', u'voix', u'si', u'basse', u'que', u'un', u'rire', u'totalement', u'd\\xe9pourvu', u'de', u'joie,', u'aussi', u'froid', u'que', u'sa', u'fa\\xe7on', u'de', u'parler']\n",
        "334\n",
        " De toute fa\u00e7on, on lui aurait pos\u00e9 des questions tr\u00e8s embarrassantes si elle \u00e9tait revenue au minist\u00e8re en racontant avait rencontr\u00e9 pendant ses vacances\n",
        "[u'De', u'toute', u'fa\\xe7on,', u'on', u'lui', u'aurait', u'pos\\xe9', u'des', u'questions', u'tr\\xe8s', u'embarrassantes', u'si', u'elle', u'\\xe9tait', u'revenue', u'au', u'minist\\xe8re', u'en', u'racontant', u'avait', u'rencontr\\xe9', u'pendant', u'ses', u'vacances']\n",
        "348\n",
        " Elle ne pouvait plus servir \u00e0 rien apr\u00e8s avoir subi mon interrogatoire, elle \u00e9tait devenue tout \u00e0 fait inutile\n",
        "[u'Elle', u'ne', u'pouvait', u'plus', u'servir', u'\\xe0', u'rien', u'apr\\xe8s', u'avoir', u'subi', u'mon', u'interrogatoire,', u'elle', u'\\xe9tait', u'devenue', u'tout', u'\\xe0', u'fait', u'inutile']\n",
        "358\n",
        " Pourquoi te tuerais-je \u00e9tais oblig\u00e9\n",
        "[u'Pourquoi', u'te', u'tuerais-je', u'\\xe9tais', u'oblig\\xe9']\n",
        "362\n",
        "  Queudver, Queudver doucereux\n",
        "[u'Queudver,', u'Queudver', u'doucereux']\n",
        "363\n",
        "     \n",
        "[]\n",
        "363\n",
        "  Allons, Queudver, tu ne voudrais pas que je g\u00e2che la surprise orkins\n",
        "[u'Allons,', u'Queudver,', u'tu', u'ne', u'voudrais', u'pas', u'que', u'je', u'g\\xe2che', u'la', u'surprise', u'orkins']\n",
        "368\n",
        " Queudver paraissait \u00e0 nouveau terrifi\u00e9\n",
        "[u'Queudver', u'paraissait', u'\\xe0', u'nouveau', u'terrifi\\xe9']\n",
        "371\n",
        " Nombre de mes partisans seraient pr\u00eats \u00e0   Vr - \n",
        "[u'Nombre', u'de', u'mes', u'partisans', u'seraient', u'pr\\xeats', u'\\xe0', u'Vr', u'-']\n",
        "377\n",
        "    Menteur, r\u00e9p\u00e9ta la deuxi\u00e8me voix avec un amusement de mais pu \u00e9chafauder notre plan et tu recevras ta r\u00e9compense pour cela, t\u00e2che essentielle\n",
        "[u'Menteur,', u'r\\xe9p\\xe9ta', u'la', u'deuxi\\xe8me', u'voix', u'avec', u'un', u'amusement', u'de', u'mais', u'pu', u'\\xe9chafauder', u'notre', u'plan', u'et', u'tu', u'recevras', u'ta', u'r\\xe9compense', u'pour', u'cela,', u't\\xe2che', u'essentielle']\n",
        "389\n",
        " Et   v\u00e9rit\u00e9, tu ne savais pas \u00e0 quel point elle me serait utile lorsque  -ce pas \n",
        "[u'Et', u'v\\xe9rit\\xe9,', u'tu', u'ne', u'savais', u'pas', u'\\xe0', u'quel', u'point', u'elle', u'me', u'serait', u'utile', u'lorsque', u'-ce', u'pas']\n",
        "396\n",
        " Je suis celui qui vous a retrouv\u00e9\n",
        "[u'Je', u'suis', u'celui', u'qui', u'vous', u'a', u'retrouv\\xe9']\n",
        "398\n",
        "  la voix un peu boudeuse\n",
        "[u'la', u'voix', u'un', u'peu', u'boudeuse']\n",
        "400\n",
        "  tu ne remplis aucune de ces deux conditions\n",
        "[u'tu', u'ne', u'remplis', u'aucune', u'de', u'ces', u'deux', u'conditions']\n",
        "404\n",
        " Je ne te demande fid\u00e8le   14  per\u00e7ait un tr\u00e8s net d\u00e9senchantement\n",
        "[u'Je', u'ne', u'te', u'demande', u'fid\\xe8le', u'14', u'per\\xe7ait', u'un', u'tr\\xe8s', u'net', u'd\\xe9senchantement']\n",
        "409\n",
        " Si tu suis le plan  ; je voudrais pouvoir le faire moi-chemin qui m\u00e8ne \u00e0 Harry Potter sera libre\n",
        "[u'Si', u'tu', u'suis', u'le', u'plan', u';', u'je', u'voudrais', u'pouvoir', u'le', u'faire', u'moi-chemin', u'qui', u'm\\xe8ne', u'\\xe0', u'Harry', u'Potter', u'sera', u'libre']\n",
        "415\n",
        " Si \n",
        "[u'Si']\n",
        "415\n",
        " murmura la deuxi\u00e8me voix\n",
        "[u'murmura', u'la', u'deuxi\\xe8me', u'voix']\n",
        "416\n",
        " Tout au long de notre de Bertha Jorkins ne passera pas longtemps inaper\u00e7ue et si   Si \n",
        "[u'Tout', u'au', u'long', u'de', u'notre', u'de', u'Bertha', u'Jorkins', u'ne', u'passera', u'pas', u'longtemps', u'inaper\\xe7ue', u'et', u'si', u'Si']\n",
        "422\n",
        " Il suffit que tu fasses  un courage que tu devras trouver en toi, \u00e0 moins que tu ne souhaites subir dans   Ma\u00eetre, il faut que je vous parle qui trahissait \u00e0 pr\u00e9sent la panique\n",
        "[u'Il', u'suffit', u'que', u'tu', u'fasses', u'un', u'courage', u'que', u'tu', u'devras', u'trouver', u'en', u'toi,', u'\\xe0', u'moins', u'que', u'tu', u'ne', u'souhaites', u'subir', u'dans', u'Ma\\xeetre,', u'il', u'faut', u'que', u'je', u'vous', u'parle', u'qui', u'trahissait', u'\\xe0', u'pr\\xe9sent', u'la', u'panique']\n",
        "436\n",
        " Quant \u00e0 la protection dont il b\u00e9n\u00e9ficie, je suis convaincu que mon plan parviendra \u00e0 la neutraliser\n",
        "[u'Quant', u'\\xe0', u'la', u'protection', u'dont', u'il', u'b\\xe9n\\xe9ficie,', u'je', u'suis', u'convaincu', u'que', u'mon', u'plan', u'parviendra', u'\\xe0', u'la', u'neutraliser']\n",
        "443\n",
        "  de plus\n",
        "[u'de', u'plus']\n",
        "443\n",
        " Le deuxi\u00e8me homme reprit alors la parole dans un murmure qui ressemblait presque \u00e0 un sifflement\n",
        "[u'Le', u'deuxi\\xe8me', u'homme', u'reprit', u'alors', u'la', u'parole', u'dans', u'un', u'murmure', u'qui', u'ressemblait', u'presque', u'\\xe0', u'un', u'sifflement']\n",
        "446\n",
        " Pendant quelques secondes, Frank chemin\u00e9e\n",
        "[u'Pendant', u'quelques', u'secondes,', u'Frank', u'chemin\\xe9e']\n",
        "448\n",
        " Queudver, qui avait commenc\u00e9 \u00e0 balbutier des paroles incoh\u00e9rentes, se tut aussit\u00f4t\n",
        "[u'Queudver,', u'qui', u'avait', u'commenc\\xe9', u'\\xe0', u'balbutier', u'des', u'paroles', u'incoh\\xe9rentes,', u'se', u'tut', u'aussit\\xf4t']\n",
        "454\n",
        " Silence \n",
        "[u'Silence']\n",
        "455\n",
        "    Menteur, dit la deuxi\u00e8me voix dans repris de forces et quelques jours de solitude suffiraient \u00e0 me maladroits\n",
        "[u'Menteur,', u'dit', u'la', u'deuxi\\xe8me', u'voix', u'dans', u'repris', u'de', u'forces', u'et', u'quelques', u'jours', u'de', u'solitude', u'suffiraient', u'\\xe0', u'me', u'maladroits']\n",
        "462\n",
        " Qui va traire Nagini \n",
        "[u'Qui', u'va', u'traire', u'Nagini']\n",
        "464\n",
        " Comment pourrais-rester plus de quelques heures sans nourriture \n",
        "[u'Comment', u'pourrais-rester', u'plus', u'de', u'quelques', u'heures', u'sans', u'nourriture']\n",
        "468\n",
        " Je te vois tressaillir chaque fois que tu me regardes, je te sens frissonner quand tu me   Non   13  serais pas ici si tu avais un autre endroit o\u00f9 aller\n",
        "[u'Je', u'te', u'vois', u'tressaillir', u'chaque', u'fois', u'que', u'tu', u'me', u'regardes,', u'je', u'te', u'sens', u'frissonner', u'quand', u'tu', u'me', u'Non', u'13', u'serais', u'pas', u'ici', u'si', u'tu', u'avais', u'un', u'autre', u'endroit', u'o\\xf9', u'aller']\n",
        "482\n",
        " Je te d\u00e9go\u00fbte\n",
        "[u'Je', u'te', u'd\\xe9go\\xfbte']\n",
        "483\n",
        " Je le sais  revenu aupr\u00e8s de moi\n",
        "[u'Je', u'le', u'sais', u'revenu', u'aupr\\xe8s', u'de', u'moi']\n",
        "487\n",
        " siffla la deuxi\u00e8me voix\n",
        "[u'siffla', u'la', u'deuxi\\xe8me', u'voix']\n",
        "488\n",
        "  Ma\u00eetre   Ne me mens pas \n",
        "[u'Ma\\xeetre', u'Ne', u'me', u'mens', u'pas']\n",
        "488\n",
        " Cette suggestion de renoncer au plan pr\u00e9vu ne serait- \n",
        "[u'Cette', u'suggestion', u'de', u'renoncer', u'au', u'plan', u'pr\\xe9vu', u'ne', u'serait-']\n",
        "493\n",
        " Mettre la main sur Harry Potter   rempla\u00e7ant -\u00eatre que la t\u00e2che de me soigner a fini par te lasser, Queudver \n",
        "[u'Mettre', u'la', u'main', u'sur', u'Harry', u'Potter', u'rempla\\xe7ant', u'-\\xeatre', u'que', u'la', u't\\xe2che', u'de', u'me', u'soigner', u'a', u'fini', u'par', u'te', u'lasser,', u'Queudver']\n",
        "499\n",
        " autre sorcier   la chose pourrait \u00eatre accomplie beaucoup plus vite laisser seul pendant un bref moment  facult\u00e9 de d\u00e9guisement tr\u00e8s efficace  je pourrais \u00eatre de retour     Ce serait judicieux, dit Queudver qui semblait soudain profond\u00e9ment soulag\u00e9\n",
        "[u'autre', u'sorcier', u'la', u'chose', u'pourrait', u'\\xeatre', u'accomplie', u'beaucoup', u'plus', u'vite', u'laisser', u'seul', u'pendant', u'un', u'bref', u'moment', u'facult\\xe9', u'de', u'd\\xe9guisement', u'tr\\xe8s', u'efficace', u'je', u'pourrais', u'\\xeatre', u'de', u'retour', u'Ce', u'serait', u'judicieux,', u'dit', u'Queudver', u'qui', u'semblait', u'soudain', u'profond\\xe9ment', u'soulag\\xe9']\n",
        "516\n",
        " Il ne repr\u00e9sente rien pour moi, rien du tout \n",
        "[u'Il', u'ne', u'repr\\xe9sente', u'rien', u'pour', u'moi,', u'rien', u'du', u'tout']\n",
        "518\n",
        " assura Queudver, sa voix montant dans les aigus, comme un grincement\n",
        "[u'assura', u'Queudver,', u'sa', u'voix', u'montant', u'dans', u'les', u'aigus,', u'comme', u'un', u'grincement']\n",
        "522\n",
        "  Ma\u00eetre, je ne dis pas cela par souci de prot\u00e9ger ce gar\u00e7on \n",
        "[u'Ma\\xeetre,', u'je', u'ne', u'dis', u'pas', u'cela', u'par', u'souci', u'de', u'prot\\xe9ger', u'ce', u'gar\\xe7on']\n",
        "527\n",
        " Vraiment \n",
        "[u'Vraiment']\n",
        "527\n",
        " dit la deuxi\u00e8me voix dans un souffle\n",
        "[u'dit', u'la', u'deuxi\\xe8me', u'voix', u'dans', u'un', u'souffle']\n",
        "527\n",
        " Nouveau silence, plus prolong\u00e9, puis :  Sans Harry Potter \n",
        "[u'Nouveau', u'silence,', u'plus', u'prolong\\xe9,', u'puis', u':', u'Sans', u'Harry', u'Potter']\n",
        "529\n",
        "  Il serait possible de le faire sans Harry Potter, Ma\u00eetre\n",
        "[u'Il', u'serait', u'possible', u'de', u'le', u'faire', u'sans', u'Harry', u'Potter,', u'Ma\\xeetre']\n",
        "531\n",
        " Un bref silence suivit, puis Queudver reprit la parole, les trahissent\n",
        "[u'Un', u'bref', u'silence', u'suivit,', u'puis', u'Queudver', u'reprit', u'la', u'parole,', u'les', u'trahissent']\n",
        "534\n",
        " Il y avait \u00e0 pr\u00e9sent quelque chose de mena\u00e7ant dans la voix glaciale\n",
        "[u'Il', u'y', u'avait', u'\\xe0', u'pr\\xe9sent', u'quelque', u'chose', u'de', u'mena\\xe7ant', u'dans', u'la', u'voix', u'glaciale']\n",
        "535\n",
        " demanda   12  Je suis tr\u00e8s d\u00e9cid\u00e9, sans nul doute, Queudver\n",
        "[u'demanda', u'12', u'Je', u'suis', u'tr\\xe8s', u'd\\xe9cid\\xe9,', u'sans', u'nul', u'doute,', u'Queudver']\n",
        "538\n",
        " Frank serra plus fort sa canne entre ses   Vous \u00eates donc toujours aussi d\u00e9cid\u00e9, Ma\u00eetre \n",
        "[u'Frank', u'serra', u'plus', u'fort', u'sa', u'canne', u'entre', u'ses', u'Vous', u'\\xeates', u'donc', u'toujours', u'aussi', u'd\\xe9cid\\xe9,', u'Ma\\xeetre']\n",
        "544\n",
        " De toute \u00e9vidence, chacun de ces termes poss\u00e9dait un sens secret et, pour  les espions et les criminels\n",
        "[u'De', u'toute', u'\\xe9vidence,', u'chacun', u'de', u'ces', u'termes', u'poss\\xe9dait', u'un', u'sens', u'secret', u'et,', u'pour', u'les', u'espions', u'et', u'les', u'criminels']\n",
        "552\n",
        " Il avait entendu distinctement les mots \u00ab minist\u00e8re de la Magie \u00bb, \u00ab sorciers \u00bb et \u00ab Moldus \u00bb\n",
        "[u'Il', u'avait', u'entendu', u'distinctement', u'les', u'mots', u'\\xab', u'minist\\xe8re', u'de', u'la', u'Magie', u'\\xbb,', u'\\xab', u'sorciers', u'\\xbb', u'et', u'\\xab', u'Moldus', u'\\xbb']\n",
        "559\n",
        " Frank renon\u00e7a \u00e0 d\u00e9boucher son oreille\n",
        "[u'Frank', u'renon\\xe7a', u'\\xe0', u'd\\xe9boucher', u'son', u'oreille']\n",
        "562\n",
        " Nous allons donc attendre\n",
        "[u'Nous', u'allons', u'donc', u'attendre']\n",
        "564\n",
        " Ils seront obs\u00e9d\u00e9s par la s\u00e9curit\u00e9, de peur que les Moldus remarquent quoi que ce soit\n",
        "[u'Ils', u'seront', u'obs\\xe9d\\xe9s', u'par', u'la', u's\\xe9curit\\xe9,', u'de', u'peur', u'que', u'les', u'Moldus', u'remarquent', u'quoi', u'que', u'ce', u'soit']\n",
        "572\n",
        "  du monde entier vont se pr\u00e9cipiter dans le pays et o\u00f9 tous les fouineurs du minist\u00e8re de la Magie seront sur le qui-vive pour temps \u00e0 contr\u00f4ler et recontr\u00f4ler toutes les identit\u00e9s\n",
        "[u'du', u'monde', u'entier', u'vont', u'se', u'pr\\xe9cipiter', u'dans', u'le', u'pays', u'et', u'o\\xf9', u'tous', u'les', u'fouineurs', u'du', u'minist\\xe8re', u'de', u'la', u'Magie', u'seront', u'sur', u'le', u'qui-vive', u'pour', u'temps', u'\\xe0', u'contr\\xf4ler', u'et', u'recontr\\xf4ler', u'toutes', u'les', u'identit\\xe9s']\n",
        "585\n",
        " (Frank enfon\u00e7a encore plus vigoureusement son --il attendre que la Coupe du Monde soit termin\u00e9e \n",
        "[u'(Frank', u'enfon\\xe7a', u'encore', u'plus', u'vigoureusement', u'son', u'--il', u'attendre', u'que', u'la', u'Coupe', u'du', u'Monde', u'soit', u'termin\\xe9e']\n",
        "591\n",
        " dit Queudver\n",
        "[u'dit', u'Queudver']\n",
        "591\n",
        "   \n",
        "[]\n",
        "591\n",
        " Frank enfon\u00e7a dans son oreille un doigt noueux et le fit tourner \u00e0 pl\u00ab Quidditch \u00bb, qui ne voulait rien dire du tout\n",
        "[u'Frank', u'enfon\\xe7a', u'dans', u'son', u'oreille', u'un', u'doigt', u'noueux', u'et', u'le', u'fit', u'tourner', u'\\xe0', u'pl\\xab', u'Quidditch', u'\\xbb,', u'qui', u'ne', u'voulait', u'rien', u'dire', u'du', u'tout']\n",
        "597\n",
        " Cet Coupe du Monde de Quidditch soit termin\u00e9e\n",
        "[u'Cet', u'Coupe', u'du', u'Monde', u'de', u'Quidditch', u'soit', u'termin\\xe9e']\n",
        "597\n",
        " Peut-\u00eatre plus\n",
        "[u'Peut-\\xeatre', u'plus']\n",
        "597\n",
        "  Une semaine, r\u00e9pondit la voix glaciale\n",
        "[u'Une', u'semaine,', u'r\\xe9pondit', u'la', u'voix', u'glaciale']\n",
        "598\n",
        "    11  Il faudra le traire avant de se coucher, Queudver, reprit la  Le front pliss\u00e9, Frank inclina sa bonne oreille un peu plus entendre le mieux possible ce qui se  :  Ma\u00eetre, puis-je vous demander combien de temps nous allons rester ici \n",
        "[u'11', u'Il', u'faudra', u'le', u'traire', u'avant', u'de', u'se', u'coucher,', u'Queudver,', u'reprit', u'la', u'Le', u'front', u'pliss\\xe9,', u'Frank', u'inclina', u'sa', u'bonne', u'oreille', u'un', u'peu', u'plus', u'entendre', u'le', u'mieux', u'possible', u'ce', u'qui', u'se', u':', u'Ma\\xeetre,', u'puis-je', u'vous', u'demander', u'combien', u'de', u'temps', u'nous', u'allons', u'rester', u'ici']\n",
        "610\n",
        " demanda la voix glaciale\n",
        "[u'demanda', u'la', u'voix', u'glaciale']\n",
        "610\n",
        "  O\u00f9 est Nagini \n",
        "[u'O\\xf9', u'est', u'Nagini']\n",
        "611\n",
        " Bient\u00f4t, il disparut \u00e0 nouveau de son champ de vision\n",
        "[u'Bient\\xf4t,', u'il', u'disparut', u'\\xe0', u'nouveau', u'de', u'son', u'champ', u'de', u'vision']\n",
        "614\n",
        " Il portait une longue cape noire et avait le cr\u00e2ne un peu d\u00e9garni\n",
        "[u'Il', u'portait', u'une', u'longue', u'cape', u'noire', u'et', u'avait', u'le', u'cr\\xe2ne', u'un', u'peu', u'd\\xe9garni']\n",
        "620\n",
        " Frank aper\u00e7ut un petit homme qui poussait le fauteuil en tournant le dos \u00e0 la porte\n",
        "[u'Frank', u'aper\\xe7ut', u'un', u'petit', u'homme', u'qui', u'poussait', u'le', u'fauteuil', u'en', u'tournant', u'le', u'dos', u'\\xe0', u'la', u'porte']\n",
        "624\n",
        " Frank tourna vers la porte son oreille droite, celle avec laquelle il entendagros fauteuil tra\u00een\u00e9 sur le sol\n",
        "[u'Frank', u'tourna', u'vers', u'la', u'porte', u'son', u'oreille', u'droite,', u'celle', u'avec', u'laquelle', u'il', u'entendagros', u'fauteuil', u'tra\\xeen\\xe9', u'sur', u'le', u'sol']\n",
        "631\n",
        "  Rapproche-moi du feu, Queudver\n",
        "[u'Rapproche-moi', u'du', u'feu,', u'Queudver']\n",
        "633\n",
        " Quelque chose dans cette voix fit se dresser les quelques cheveux \u00e9pars qui restaient sur la nuque de Frank\n",
        "[u'Quelque', u'chose', u'dans', u'cette', u'voix', u'fit', u'se', u'dresser', u'les', u'quelques', u'cheveux', u'\\xe9pars', u'qui', u'restaient', u'sur', u'la', u'nuque', u'de', u'Frank']\n",
        "637\n",
        " aigu\u00eb, et froide comme un coup de vent glac\u00e9\n",
        "[u'aigu\\xeb,', u'et', u'froide', u'comme', u'un', u'coup', u'de', u'vent', u'glac\\xe9']\n",
        "641\n",
        "  Plus tard, r\u00e9pondit une deuxi\u00e8me voix\n",
        "[u'Plus', u'tard,', u'r\\xe9pondit', u'une', u'deuxi\\xe8me', u'voix']\n",
        "642\n",
        "  Il en reste un peu dans la bouteille, Ma\u00eetre, si vous avez encore faim\n",
        "[u'Il', u'en', u'reste', u'un', u'peu', u'dans', u'la', u'bouteille,', u'Ma\\xeetre,', u'si', u'vous', u'avez', u'encore', u'faim']\n",
        "646\n",
        " Parvenu sur le palier, Frank tourna \u00e0 droite et vit tout de suite o\u00f9 se trouvaient les intrus : au bout du couloir, une porte \u00e9tait entrouverte et la m\u00eame lueur tremblotante brillait par   : et \u00e9couta attentivement, car une voix lui parvenait de la pi\u00e8ce ; pas untimide, craintive\n",
        "[u'Parvenu', u'sur', u'le', u'palier,', u'Frank', u'tourna', u'\\xe0', u'droite', u'et', u'vit', u'tout', u'de', u'suite', u'o\\xf9', u'se', u'trouvaient', u'les', u'intrus', u':', u'au', u'bout', u'du', u'couloir,', u'une', u'porte', u'\\xe9tait', u'entrouverte', u'et', u'la', u'm\\xeame', u'lueur', u'tremblotante', u'brillait', u'par', u':', u'et', u'\\xe9couta', u'attentivement,', u'car', u'une', u'voix', u'lui', u'parvenait', u'de', u'la', u'pi\\xe8ce', u';', u'pas', u'untimide,', u'craintive']\n",
        "659\n",
        " Il atteignit le vestibule, un peu moins sombre gr\u00e2ce aux grandes fen\u00eatres \u00e0 meneaux qui aubruit de ses pas et de sa canne\n",
        "[u'Il', u'atteignit', u'le', u'vestibule,', u'un', u'peu', u'moins', u'sombre', u'gr\\xe2ce', u'aux', u'grandes', u'fen\\xeatres', u'\\xe0', u'meneaux', u'qui', u'aubruit', u'de', u'ses', u'pas', u'et', u'de', u'sa', u'canne']\n",
        "667\n",
        "  ; pourtant, malgr\u00e9  10  pas ou des voix au-dessus de sa t\u00eate\n",
        "[u';', u'pourtant,', u'malgr\\xe9', u'10', u'pas', u'ou', u'des', u'voix', u'au-dessus', u'de', u'sa', u't\\xeate']\n",
        "671\n",
        " Il sortit alors sa vieille cl\u00e9, la glissa dans la serrure et ouvrit la porte sans faire de bruit\n",
        "[u'Il', u'sortit', u'alors', u'sa', u'vieille', u'cl\\xe9,', u'la', u'glissa', u'dans', u'la', u'serrure', u'et', u'ouvrit', u'la', u'porte', u'sans', u'faire', u'de', u'bruit']\n",
        "676\n",
        " Frank fit le tour par-derri\u00e8re et lierre\n",
        "[u'Frank', u'fit', u'le', u'tour', u'par-derri\\xe8re', u'et', u'lierre']\n",
        "679\n",
        " n ni les fen\u00eatres ne semblaient avoir \u00e9t\u00e9 fractur\u00e9es\n",
        "[u'n', u'ni', u'les', u'fen\\xeatres', u'ne', u'semblaient', u'avoir', u'\\xe9t\\xe9', u'fractur\\xe9es']\n",
        "684\n",
        " Au passage, il saisit sa canne pos\u00e9e contre le mur et sortit dans la nuit\n",
        "[u'Au', u'passage,', u'il', u'saisit', u'sa', u'canne', u'pos\\xe9e', u'contre', u'le', u'mur', u'et', u'sortit', u'dans', u'la', u'nuit']\n",
        "690\n",
        " lui permettait sa jambe raide puis redescendit dans la cuisine un crochet pr\u00e8s de la porte\n",
        "[u'lui', u'permettait', u'sa', u'jambe', u'raide', u'puis', u'redescendit', u'dans', u'la', u'cuisine', u'un', u'crochet', u'pr\\xe8s', u'de', u'la', u'porte']\n",
        "697\n",
        " Les enfants \u00e9taient \u00e0 nouveau entr\u00e9s dans la maison et, \u00e0 en juger par cette lueur tremblotante, ils avaient allum\u00e9 un feu\n",
        "[u'Les', u'enfants', u'\\xe9taient', u'\\xe0', u'nouveau', u'entr\\xe9s', u'dans', u'la', u'maison', u'et,', u'\\xe0', u'en', u'juger', u'par', u'cette', u'lueur', u'tremblotante,', u'ils', u'avaient', u'allum\\xe9', u'un', u'feu']\n",
        "706\n",
        " Frank devina tout de suite ce qui devait se passer\n",
        "[u'Frank', u'devina', u'tout', u'de', u'suite', u'ce', u'qui', u'devait', u'se', u'passer']\n",
        "708\n",
        " Il se leva et descendit faisait couler maison et vit une lumi\u00e8re scintiller derri\u00e8re les plus hautes fen\u00eatres\n",
        "[u'Il', u'se', u'leva', u'et', u'descendit', u'faisait', u'couler', u'maison', u'et', u'vit', u'une', u'lumi\\xe8re', u'scintiller', u'derri\\xe8re', u'les', u'plus', u'hautes', u'fen\\xeatres']\n",
        "713\n",
        " Aussi, lorsque le vieil chose de tr\u00e8s bizarre se passait dans la vieille maison, il crut simplement que les enfants avaient franchi un pas de plus dans  Ce fut la jambe raide de Frank qui le r\u00e9veilla ; elle lui faisait de plus en plus mal dans ses vieux jours\n",
        "[u'Aussi,', u'lorsque', u'le', u'vieil', u'chose', u'de', u'tr\\xe8s', u'bizarre', u'se', u'passait', u'dans', u'la', u'vieille', u'maison,', u'il', u'crut', u'simplement', u'que', u'les', u'enfants', u'avaient', u'franchi', u'un', u'pas', u'de', u'plus', u'dans', u'Ce', u'fut', u'la', u'jambe', u'raide', u'de', u'Frank', u'qui', u'le', u'r\\xe9veilla', u';', u'elle', u'lui', u'faisait', u'de', u'plus', u'en', u'plus', u'mal', u'dans', u'ses', u'vieux', u'jours']\n",
        "722\n",
        " Frank, pour sa palui parce que, comme leurs parents et leurs grands-parents, ils le prenaient \u00e9galement pour un assassin\n",
        "[u'Frank,', u'pour', u'sa', u'palui', u'parce', u'que,', u'comme', u'leurs', u'parents', u'et', u'leurs', u'grands-parents,', u'ils', u'le', u'prenaient', u'\\xe9galement', u'pour', u'un', u'assassin']\n",
        "732\n",
        " Ils savaient que le vieux Frank \u00e9tait tr\u00e8s attach\u00e9 au domaine et ils b\u00e2ton \u00e0 la main, hurlant contre eux de sa voix rauque\n",
        "[u'Ils', u'savaient', u'que', u'le', u'vieux', u'Frank', u'\\xe9tait', u'tr\\xe8s', u'attach\\xe9', u'au', u'domaine', u'et', u'ils', u'b\\xe2ton', u'\\xe0', u'la', u'main,', u'hurlant', u'contre', u'eux', u'de', u'sa', u'voix', u'rauque']\n",
        "739\n",
        " Les epierres dans les carreaux de la maison des \u00ab Jeux du sort \u00bb et  9 ils \u00e9taient m\u00eame entr\u00e9s dans la maison en for\u00e7ant la porte\n",
        "[u'Les', u'epierres', u'dans', u'les', u'carreaux', u'de', u'la', u'maison', u'des', u'\\xab', u'Jeux', u'du', u'sort', u'\\xbb', u'et', u'9', u'ils', u'\\xe9taient', u'm\\xeame', u'entr\\xe9s', u'dans', u'la', u'maison', u'en', u'for\\xe7ant', u'la', u'porte']\n",
        "744\n",
        " Pourtant, les jours de beau fleurs, m\u00eame si les mauvaises herbes commen\u00e7aient \u00e0  Frank\n",
        "[u'Pourtant,', u'les', u'jours', u'de', u'beau', u'fleurs,', u'm\\xeame', u'si', u'les', u'mauvaises', u'herbes', u'commen\\xe7aient', u'\\xe0', u'Frank']\n",
        "749\n",
        " Il \u00e9tait sourd et sa jambe \u00e9tait devenue plus raide que jamais\n",
        "[u'Il', u'\\xe9tait', u'sourd', u'et', u'sa', u'jambe', u'\\xe9tait', u'devenue', u'plus', u'raide', u'que', u'jamais']\n",
        "751\n",
        " En tout cas, il continuait de payer Frank pour -dix-septi\u00e8me anniversaire\n",
        "[u'En', u'tout', u'cas,', u'il', u'continuait', u'de', u'payer', u'Frank', u'pour', u'-dix-septi\\xe8me', u'anniversaire']\n",
        "755\n",
        "  Le riche propri\u00e9taire qui poss\u00e9dait \u00e0 pr\u00e9sent la maison des  ; dans  raisons fiscales \u00bb, m\u00eame si personne ne savait exactement ce que cela pouvait bien signifier\n",
        "[u'Le', u'riche', u'propri\\xe9taire', u'qui', u'poss\\xe9dait', u'\\xe0', u'pr\\xe9sent', u'la', u'maison', u'des', u';', u'dans', u'raisons', u'fiscales', u'\\xbb,', u'm\\xeame', u'si', u'personne', u'ne', u'savait', u'exactement', u'ce', u'que', u'cela', u'pouvait', u'bien', u'signifier']\n",
        "763\n",
        "  bien de ce que dit la police, avait comment\u00e9 Dot au pub du Pendu jardin pour le compte de la famille qui avait rachet\u00e9 la maison des Jedusor, puis pour la famille qui lui avait succ\u00e9d\u00e9  car -\u00eatre \u00e9tait-ce en partie \u00e0 cause de Frank que chaque nouveau propri\u00e9taire affirmait se  avait commenc\u00e9 \u00e0 tomber en ruine\n",
        "[u'bien', u'de', u'ce', u'que', u'dit', u'la', u'police,', u'avait', u'comment\\xe9', u'Dot', u'au', u'pub', u'du', u'Pendu', u'jardin', u'pour', u'le', u'compte', u'de', u'la', u'famille', u'qui', u'avait', u'rachet\\xe9', u'la', u'maison', u'des', u'Jedusor,', u'puis', u'pour', u'la', u'famille', u'qui', u'lui', u'avait', u'succ\\xe9d\\xe9', u'car', u'-\\xeatre', u'\\xe9tait-ce', u'en', u'partie', u'\\xe0', u'cause', u'de', u'Frank', u'que', u'chaque', u'nouveau', u'propri\\xe9taire', u'affirmait', u'se', u'avait', u'commenc\\xe9', u'\\xe0', u'tomber', u'en', u'ruine']\n",
        "778\n",
        " \u00c0 la grande surprise de tous, et dans une atmosph\u00e8re de suspicion, Frank Bryce \u00e9tait retourn\u00e9 vivre dans sa maisonnette, sur le domaine qui entourait la r\u00e9sidence des Jedusor\n",
        "[u'\\xc0', u'la', u'grande', u'surprise', u'de', u'tous,', u'et', u'dans', u'une', u'atmosph\\xe8re', u'de', u'suspicion,', u'Frank', u'Bryce', u'\\xe9tait', u'retourn\\xe9', u'vivre', u'dans', u'sa', u'maisonnette,', u'sur', u'le', u'domaine', u'qui', u'entourait', u'la', u'r\\xe9sidence', u'des', u'Jedusor']\n",
        "787\n",
        " On avait enterr\u00e9 les Jedusor dans le \u00e9taient rest\u00e9es pendant longtemps un objet de curiosit\u00e9\n",
        "[u'On', u'avait', u'enterr\\xe9', u'les', u'Jedusor', u'dans', u'le', u'\\xe9taient', u'rest\\xe9es', u'pendant', u'longtemps', u'un', u'objet', u'de', u'curiosit\\xe9']\n",
        "791\n",
        " avait d\u00fb rel\u00e2cher Frank\n",
        "[u'avait', u'd\\xfb', u'rel\\xe2cher', u'Frank']\n",
        "793\n",
        " Pour tout dire, concluait le rapport sur un ton qui ne cherchait pas \u00e0 dissimuler la stup\u00e9faction de ses auteurs, les Jedusor paraissaient en parfaite sant\u00e9   8 les Jedusor avaient tous les trois sur le visage une expression de terreur  passablement contrari\u00e9s, qui donc avait jamais entendu dire en se contentant de leur faire peur \n",
        "[u'Pour', u'tout', u'dire,', u'concluait', u'le', u'rapport', u'sur', u'un', u'ton', u'qui', u'ne', u'cherchait', u'pas', u'\\xe0', u'dissimuler', u'la', u'stup\\xe9faction', u'de', u'ses', u'auteurs,', u'les', u'Jedusor', u'paraissaient', u'en', u'parfaite', u'sant\\xe9', u'8', u'les', u'Jedusor', u'avaient', u'tous', u'les', u'trois', u'sur', u'le', u'visage', u'une', u'expression', u'de', u'terreur', u'passablement', u'contrari\\xe9s,', u'qui', u'donc', u'avait', u'jamais', u'entendu', u'dire', u'en', u'se', u'contentant', u'de', u'leur', u'faire', u'peur']\n",
        "809\n",
        " Apparemment, personne ne leur avait fait le moindre mal\n",
        "[u'Apparemment,', u'personne', u'ne', u'leur', u'avait', u'fait', u'le', u'moindre', u'mal']\n",
        "810\n",
        " \u00e9quipe de m\u00e9decins l\u00e9gistes avait examin\u00e9 les corps et en avait \u00e9t\u00e9 ni empoisonn\u00e9, ni poignard\u00e9, ni tu\u00e9 avec une arme \u00e0 feu, ni \u00e9trangl\u00e9, ni \u00e9touff\u00e9\n",
        "[u'\\xe9quipe', u'de', u'm\\xe9decins', u'l\\xe9gistes', u'avait', u'examin\\xe9', u'les', u'corps', u'et', u'en', u'avait', u'\\xe9t\\xe9', u'ni', u'empoisonn\\xe9,', u'ni', u'poignard\\xe9,', u'ni', u'tu\\xe9', u'avec', u'une', u'arme', u'\\xe0', u'feu,', u'ni', u'\\xe9trangl\\xe9,', u'ni', u'\\xe9touff\\xe9']\n",
        "820\n",
        " Puis, au moment o\u00f9 la situation devenait vraiment grave opsie pratiqu\u00e9e sur les cadavres des Jedusor \u00e9taient arriv\u00e9es et avaient tout boulevers\u00e9\n",
        "[u'Puis,', u'au', u'moment', u'o\\xf9', u'la', u'situation', u'devenait', u'vraiment', u'grave', u'opsie', u'pratiqu\\xe9e', u'sur', u'les', u'cadavres', u'des', u'Jedusor', u'\\xe9taient', u'arriv\\xe9es', u'et', u'avaient', u'tout', u'boulevers\\xe9']\n",
        "829\n",
        " Je me souviens, quand  Little Hangleton, pour douter que Frank Bryce f\u00fbt bel et bien  Mais dans la ville voisine de Great Hangleton, dans le poste de police sombre et miteux o\u00f9 il \u00e9tait interrog\u00e9, Frank r\u00e9p\u00e9tait mort des Jedusor, \u00e9tait un jeune homme p\u00e2le aux cheveux invent\u00e9\n",
        "[u'Je', u'me', u'souviens,', u'quand', u'Little', u'Hangleton,', u'pour', u'douter', u'que', u'Frank', u'Bryce', u'f\\xfbt', u'bel', u'et', u'bien', u'Mais', u'dans', u'la', u'ville', u'voisine', u'de', u'Great', u'Hangleton,', u'dans', u'le', u'poste', u'de', u'police', u'sombre', u'et', u'miteux', u'o\\xf9', u'il', u'\\xe9tait', u'interrog\\xe9,', u'Frank', u'r\\xe9p\\xe9tait', u'mort', u'des', u'Jedusor,', u'\\xe9tait', u'un', u'jeune', u'homme', u'p\\xe2le', u'aux', u'cheveux', u'invent\\xe9']\n",
        "846\n",
        "  Un caract\u00e8re \u00e9pouvantable, avait approuv\u00e9 la d\u00e9nomm\u00e9e Dot en hochant vigoureusement la t\u00eate\n",
        "[u'Un', u'caract\\xe8re', u'\\xe9pouvantable,', u'avait', u'approuv\\xe9', u'la', u'd\\xe9nomm\\xe9e', u'Dot', u'en', u'hochant', u'vigoureusement', u'la', u't\\xeate']\n",
        "851\n",
        " avait lanc\u00e9 une femme surexcit\u00e9e, assise dans un coin\n",
        "[u'avait', u'lanc\\xe9', u'une', u'femme', u'surexcit\\xe9e,', u'assise', u'dans', u'un', u'coin']\n",
        "854\n",
        "  voir contre moi, pas vrai, Dot \n",
        "[u'voir', u'contre', u'moi,', u'pas', u'vrai,', u'Dot']\n",
        "856\n",
        "   vous voulez mon avis, avait ajout\u00e9 le patron du pub\n",
        "[u'vous', u'voulez', u'mon', u'avis,', u'avait', u'ajout\\xe9', u'le', u'patron', u'du', u'pub']\n",
        "860\n",
        "  homme au comptoir\n",
        "[u'homme', u'au', u'comptoir']\n",
        "861\n",
        " Tout ce e se glisser dans la  Les villageois avaient alors \u00e9chang\u00e9 de sombres regards\n",
        "[u'Tout', u'ce', u'e', u'se', u'glisser', u'dans', u'la', u'Les', u'villageois', u'avaient', u'alors', u'\\xe9chang\\xe9', u'de', u'sombres', u'regards']\n",
        "866\n",
        " Il y a toujours eu une cl\u00e9 de cette porte dans la maison du jardinier  7 serrure, la nuit derni\u00e8re  \n",
        "[u'Il', u'y', u'a', u'toujours', u'eu', u'une', u'cl\\xe9', u'de', u'cette', u'porte', u'dans', u'la', u'maison', u'du', u'jardinier', u'7', u'serrure,', u'la', u'nuit', u'derni\\xe8re']\n",
        "871\n",
        "   Et qui donc poss\u00e9dait la cl\u00e9 de la porte de service interrompue la cuisini\u00e8re\n",
        "[u'Et', u'qui', u'donc', u'poss\\xe9dait', u'la', u'cl\\xe9', u'de', u'la', u'porte', u'de', u'service', u'interrompue', u'la', u'cuisini\\xe8re']\n",
        "874\n",
        "  Faut le comprendre, avait dit une femme accoud\u00e9e au comptoir, Frank, il a beaucoup souffert pendant la guerre\n",
        "[u'Faut', u'le', u'comprendre,', u'avait', u'dit', u'une', u'femme', u'accoud\\xe9e', u'au', u'comptoir,', u'Frank,', u'il', u'a', u'beaucoup', u'souffert', u'pendant', u'la', u'guerre']\n",
        "879\n",
        " Je crois m\u00eame Il ne voulait pas se m\u00ealer aux autres, jamais\n",
        "[u'Je', u'crois', u'm\\xeame', u'Il', u'ne', u'voulait', u'pas', u'se', u'm\\xealer', u'aux', u'autres,', u'jamais']\n",
        "882\n",
        " Pas tr\u00e8s aimable, pour tout dire\n",
        "[u'Pas', u'tr\\xe8s', u'aimable,', u'pour', u'tout', u'dire']\n",
        "883\n",
        "   -elle dit aux villageois pendus \u00e0 ses l\u00e8vres, apr\u00e8s avoir vid\u00e9 son quatri\u00e8me verre de x\u00e9r\u00e8s\n",
        "[u'-elle', u'dit', u'aux', u'villageois', u'pendus', u'\\xe0', u'ses', u'l\\xe8vres,', u'apr\\xe8s', u'avoir', u'vid\\xe9', u'son', u'quatri\\xe8me', u'verre', u'de', u'x\\xe9r\\xe8s']\n",
        "890\n",
        " Depuis, il travaillait au service des Jedusor\n",
        "[u'Depuis,', u'il', u'travaillait', u'au', u'service', u'des', u'Jedusor']\n",
        "892\n",
        " Frank \u00e9tait revenu de la guerre avec une jambe raide et une profonde aversion pour la foule et le bruit\n",
        "[u'Frank', u'\\xe9tait', u'revenu', u'de', u'la', u'guerre', u'avec', u'une', u'jambe', u'raide', u'et', u'une', u'profonde', u'aversion', u'pour', u'la', u'foule', u'et', u'le', u'bruit']\n",
        "895\n",
        " Il vivait seul dans une maisonnette d\u00e9labr\u00e9e situ\u00e9e dans le domaine qui entourait le manoir\n",
        "[u'Il', u'vivait', u'seul', u'dans', u'une', u'maisonnette', u'd\\xe9labr\\xe9e', u'situ\\xe9e', u'dans', u'le', u'domaine', u'qui', u'entourait', u'le', u'manoir']\n",
        "900\n",
        " Frank Bryce \u00e9tait le jardinier des Jedusor\n",
        "[u'Frank', u'Bryce', u'\\xe9tait', u'le', u'jardinier', u'des', u'Jedusor']\n",
        "900\n",
        " Au Pendu, le pub du village, le commerce avait bien march\u00e9, ce soir-l\u00e0 triplson fauteuil au coin du feu lorsque, en plein milieu des conversations, la cuisini\u00e8re des Jedusor avait fait une entr\u00e9e   Frank  \n",
        "[u'Au', u'Pendu,', u'le', u'pub', u'du', u'village,', u'le', u'commerce', u'avait', u'bien', u'march\\xe9,', u'ce', u'soir-l\\xe0', u'triplson', u'fauteuil', u'au', u'coin', u'du', u'feu', u'lorsque,', u'en', u'plein', u'milieu', u'des', u'conversations,', u'la', u'cuisini\\xe8re', u'des', u'Jedusor', u'avait', u'fait', u'une', u'entr\\xe9e', u'Frank']\n",
        "911\n",
        " Tout ce qui meurtrier  le crime ne faisant aucun doute, car trois personnes de mort naturelle le m\u00eame soir\n",
        "[u'Tout', u'ce', u'qui', u'meurtrier', u'le', u'crime', u'ne', u'faisant', u'aucun', u'doute,', u'car', u'trois', u'personnes', u'de', u'mort', u'naturelle', u'le', u'm\\xeame', u'soir']\n",
        "917\n",
        " Mr et Mrs Jedusor, un couple \u00e2g\u00e9, \u00e9taient riches, arrogants, mal \u00e9lev\u00e9s, et leur fils d\u00e9j\u00e0 adulte, Tom, se montrait encore pire que ses parents\n",
        "[u'Mr', u'et', u'Mrs', u'Jedusor,', u'un', u'couple', u'\\xe2g\\xe9,', u'\\xe9taient', u'riches,', u'arrogants,', u'mal', u'\\xe9lev\\xe9s,', u'et', u'leur', u'fils', u'd\\xe9j\\xe0', u'adulte,', u'Tom,', u'se', u'montrait', u'encore', u'pire', u'que', u'ses', u'parents']\n",
        "930\n",
        "  6 On avait appel\u00e9 la police et tout le village de Little Hangleton une grande sympathie alentour\n",
        "[u'6', u'On', u'avait', u'appel\\xe9', u'la', u'police', u'et', u'tout', u'le', u'village', u'de', u'Little', u'Hangleton', u'une', u'grande', u'sympathie', u'alentour']\n",
        "934\n",
        " Encore habill\u00e9s pour le d\u00eener \n",
        "[u'Encore', u'habill\\xe9s', u'pour', u'le', u'd\\xeener']\n",
        "936\n",
        " Froids comme la glace \n",
        "[u'Froids', u'comme', u'la', u'glace']\n",
        "938\n",
        "   Ils sont allong\u00e9s par terre les yeux grands ouverts \n",
        "[u'Ils', u'sont', u'allong\\xe9s', u'par', u'terre', u'les', u'yeux', u'grands', u'ouverts']\n",
        "942\n",
        " Un demi-si\u00e8cle plus t\u00f4t, un \u00e9v\u00e9nement avaavait \u00e9t\u00e9 racont\u00e9e tant de fois, enjoliv\u00e9e si souvent, que plus toutes les versions du r\u00e9cit commen\u00e7aient de la m\u00eame mani\u00e8re : que la maison de la famille Jedusor \u00e9tait encore une imposante r\u00e9sidence soigneusement entretenue, une servante \u00e9tait entr\u00e9e dans le grand salon et y avait trouv\u00e9 les cadavres des trois Jedusor\n",
        "[u'Un', u'demi-si\\xe8cle', u'plus', u't\\xf4t,', u'un', u'\\xe9v\\xe9nement', u'avaavait', u'\\xe9t\\xe9', u'racont\\xe9e', u'tant', u'de', u'fois,', u'enjoliv\\xe9e', u'si', u'souvent,', u'que', u'plus', u'toutes', u'les', u'versions', u'du', u'r\\xe9cit', u'commen\\xe7aient', u'de', u'la', u'm\\xeame', u'mani\\xe8re', u':', u'que', u'la', u'maison', u'de', u'la', u'famille', u'Jedusor', u'\\xe9tait', u'encore', u'une', u'imposante', u'r\\xe9sidence', u'soigneusement', u'entretenue,', u'une', u'servante', u'\\xe9tait', u'entr\\xe9e', u'dans', u'le', u'grand', u'salon', u'et', u'y', u'avait', u'trouv\\xe9', u'les', u'cadavres', u'des', u'trois', u'Jedusor']\n",
        "961\n",
        " \u00ab froid dans le dos \u00bb\n",
        "[u'\\xab', u'froid', u'dans', u'le', u'dos', u'\\xbb']\n",
        "961\n",
        " Autrefois, le manoir avait eu belle majestueux \u00e9difice \u00e0 des kilom\u00e8tres \u00e0 la ronde mais, \u00e0 pr\u00e9sent, la maison des \u00ab Jeux du sort humide, d\u00e9labr\u00e9e, d\u00e9serte\n",
        "[u'Autrefois,', u'le', u'manoir', u'avait', u'eu', u'belle', u'majestueux', u'\\xe9difice', u'\\xe0', u'des', u'kilom\\xe8tres', u'\\xe0', u'la', u'ronde', u'mais,', u'\\xe0', u'pr\\xe9sent,', u'la', u'maison', u'des', u'\\xab', u'Jeux', u'du', u'sort', u'humide,', u'd\\xe9labr\\xe9e,', u'd\\xe9serte']\n",
        "972\n",
        "5  1 La maison des \u00ab Jeux du sort \u00bb Les habitants de Little Hangleton maison des \u00ab Jeux du sort ann\u00e9es que lfen\u00eatres condamn\u00e9es par des planches, le toit d\u00e9pourvu de qui poussait en toute libert\u00e9\n",
        "[u'5', u'1', u'La', u'maison', u'des', u'\\xab', u'Jeux', u'du', u'sort', u'\\xbb', u'Les', u'habitants', u'de', u'Little', u'Hangleton', u'maison', u'des', u'\\xab', u'Jeux', u'du', u'sort', u'ann\\xe9es', u'que', u'lfen\\xeatres', u'condamn\\xe9es', u'par', u'des', u'planches,', u'le', u'toit', u'd\\xe9pourvu', u'de', u'qui', u'poussait', u'en', u'toute', u'libert\\xe9']\n",
        "979\n"
       ]
      }
     ],
     "prompt_number": 12
    },
    {
     "cell_type": "markdown",
     "metadata": {},
     "source": [
      "# Scoring Words\n",
      "1. length (counterpoint confortable : comfortable :: navet : turnip)\n",
      "2. characters used (especially if using audio)\n",
      "3. Scrabble score\n",
      "4. frequency of word in text (if a word i"
     ]
    },
    {
     "cell_type": "code",
     "collapsed": false,
     "input": [
      "def score(word):\n",
      "    return len(word)\n",
      "\n",
      "scored = [(word, score(word)) for word in allWords ]"
     ],
     "language": "python",
     "metadata": {},
     "outputs": [],
     "prompt_number": 13
    }
   ],
   "metadata": {}
  }
 ]
}