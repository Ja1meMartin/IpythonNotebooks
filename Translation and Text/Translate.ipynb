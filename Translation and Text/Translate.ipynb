{
 "metadata": {
  "name": "",
  "signature": "sha256:4a36a7628e4fee2e6fcd92ef5a1eaac51d2abc5c76c0a6455a35c8d1992fcdcd"
 },
 "nbformat": 3,
 "nbformat_minor": 0,
 "worksheets": [
  {
   "cells": [
    {
     "cell_type": "markdown",
     "metadata": {},
     "source": [
      "#open file"
     ]
    },
    {
     "cell_type": "code",
     "collapsed": false,
     "input": [
      "import goslate\n",
      "\n",
      "secret = \"eh3bEcZHuC8gTWTRBgVBSjI9yyrgvAri6mjDaH7RhRI\"\n",
      "clientID =\"flashtrans\"\n",
      "\n",
      "gs = goslate.Goslate()\n",
      "\n",
      "print gs.get_languages()['fr']\n",
      "\n",
      "print type(gs.translate('lfenetres','en','fr'))\n",
      "\n",
      "def t(word):\n",
      "    print word,gs.translate(word,'en','fr'), \"\\n\"\n",
      "    return gs.translate(word,'en','fr')\n",
      "\n"
     ],
     "language": "python",
     "metadata": {},
     "outputs": [
      {
       "output_type": "stream",
       "stream": "stdout",
       "text": [
        "French\n",
        "<type 'unicode'>"
       ]
      },
      {
       "output_type": "stream",
       "stream": "stdout",
       "text": [
        "\n"
       ]
      }
     ],
     "prompt_number": 2
    },
    {
     "cell_type": "code",
     "collapsed": false,
     "input": [
      "file = open('newfile.csv', 'r')\n",
      "\n",
      "print [(w,t(w)) for w in file.readlines()]\n",
      "\n",
      "file.close()"
     ],
     "language": "python",
     "metadata": {},
     "outputs": [
      {
       "output_type": "stream",
       "stream": "stdout",
       "text": [
        "\u00e9treint\n",
        "Hugged"
       ]
      },
      {
       "output_type": "stream",
       "stream": "stdout",
       "text": [
        " \n",
        "\n",
        "franchissent\n"
       ]
      },
      {
       "output_type": "stream",
       "stream": "stdout",
       "text": [
        "cross \n",
        "\n",
        "pincement\n"
       ]
      },
      {
       "output_type": "stream",
       "stream": "stdout",
       "text": [
        "pinch \n",
        "\n",
        "n'emp\u00eache\n"
       ]
      },
      {
       "output_type": "stream",
       "stream": "stdout",
       "text": [
        "Nonetheless \n",
        "\n",
        "aguerris\n"
       ]
      },
      {
       "output_type": "stream",
       "stream": "stdout",
       "text": [
        "seasoned \n",
        "\n",
        "repartait\n"
       ]
      },
      {
       "output_type": "stream",
       "stream": "stdout",
       "text": [
        "off again \n",
        "\n",
        "falloir\n"
       ]
      },
      {
       "output_type": "stream",
       "stream": "stdout",
       "text": [
        "have to \n",
        "\n",
        "ne pas rater\n"
       ]
      },
      {
       "output_type": "stream",
       "stream": "stdout",
       "text": [
        "Do not miss \n",
        "\n",
        "se mettre en t\u00eate les nouveau emplois du temps\n"
       ]
      },
      {
       "output_type": "stream",
       "stream": "stdout",
       "text": [
        "into his head the new schedules \n",
        "\n",
        "exprim\u00e9es\n"
       ]
      },
      {
       "output_type": "stream",
       "stream": "stdout",
       "text": [
        "expressed \n",
        "\n",
        "et quelques conseils pour les apaiser\n"
       ]
      },
      {
       "output_type": "stream",
       "stream": "stdout",
       "text": [
        "and some tips to appease \n",
        "\n",
        "s'en remettre\n"
       ]
      },
      {
       "output_type": "stream",
       "stream": "stdout",
       "text": [
        "rely \n",
        "\n",
        "faire comprendre\n"
       ]
      },
      {
       "output_type": "stream",
       "stream": "stdout",
       "text": [
        "understanding \n",
        "\n",
        "qu'on peut s'\u00e9loigner sans se perdre pour autant\n"
       ]
      },
      {
       "output_type": "stream",
       "stream": "stdout",
       "text": [
        "you can get away without losing \n",
        "\n",
        "fusionelles\n"
       ]
      },
      {
       "output_type": "stream",
       "stream": "stdout",
       "text": [
        "fusionelles \n",
        "\n",
        "aupr\u00e9s\n"
       ]
      },
      {
       "output_type": "stream",
       "stream": "stdout",
       "text": [
        "House nearby \n",
        "\n",
        "je vais tomber sur un mauvais prof\n"
       ]
      },
      {
       "output_type": "stream",
       "stream": "stdout",
       "text": [
        "I will simply have a bad teacher \n",
        "\n",
        "am\u00e8res s\u00e9quelles d'exp\u00e9riences pass\u00e9es\n"
       ]
      },
      {
       "output_type": "stream",
       "stream": "stdout",
       "text": [
        "bitter legacy of past experiences \n",
        "\n",
        "il est de moyen \u00e0 cancre\n"
       ]
      },
      {
       "output_type": "stream",
       "stream": "stdout",
       "text": [
        "it is medium to dunce \n",
        "\n",
        "tendance \u00e0 s'acharmer sur le mauvais \u00e9l\u00e8ve\n"
       ]
      },
      {
       "output_type": "stream",
       "stream": "stdout",
       "text": [
        "tend to acharmer on the wrong student \n",
        "\n",
        "d\u00e8s le premier jour\n"
       ]
      },
      {
       "output_type": "stream",
       "stream": "stdout",
       "text": [
        "from day one \n",
        "\n",
        "D\u00e8s qu'il y avait du brut c'est mois qui prenais une colle\n"
       ]
      },
      {
       "output_type": "stream",
       "stream": "stdout",
       "text": [
        "Whenever there was crude it took months glue \n",
        "\n",
        "les mauvais souvenirs sont tenaces\n"
       ]
      },
      {
       "output_type": "stream",
       "stream": "stdout",
       "text": [
        "bad memories die hard \n",
        "\n",
        "s'\u00e9nervait tr\u00e8s vite\n"
       ]
      },
      {
       "output_type": "stream",
       "stream": "stdout",
       "text": [
        "got angry very quickly \n",
        "\n",
        "on supprime\n"
       ]
      },
      {
       "output_type": "stream",
       "stream": "stdout",
       "text": [
        "is removed \n",
        "\n",
        "lance\n"
       ]
      },
      {
       "output_type": "stream",
       "stream": "stdout",
       "text": [
        "lance \n",
        "\n",
        "fataliste\n"
       ]
      },
      {
       "output_type": "stream",
       "stream": "stdout",
       "text": [
        "fatalist \n",
        "\n",
        "s'occuper de nous\n"
       ]
      },
      {
       "output_type": "stream",
       "stream": "stdout",
       "text": [
        "take care of us \n",
        "\n",
        "dissocier le travail de l'affectif\n"
       ]
      },
      {
       "output_type": "stream",
       "stream": "stdout",
       "text": [
        "dissociate the work of affective \n",
        "\n",
        "[('\\xc3\\xa9treint\\n', u'Hugged'), ('franchissent\\n', u'cross'), ('pincement\\n', u'pinch'), (\"n'emp\\xc3\\xaache\\n\", u'Nonetheless'), ('aguerris\\n', u'seasoned'), ('repartait\\n', u'off again'), ('falloir\\n', u'have to'), ('ne pas rater\\n', u'Do not miss'), ('se mettre en t\\xc3\\xaate les nouveau emplois du temps\\n', u'into his head the new schedules'), ('exprim\\xc3\\xa9es\\n', u'expressed'), ('et quelques conseils pour les apaiser\\n', u'and some tips to appease'), (\"s'en remettre\\n\", u'rely'), ('faire comprendre\\n', u'understanding'), (\"qu'on peut s'\\xc3\\xa9loigner sans se perdre pour autant\\n\", u'you can get away without losing'), ('fusionelles\\n', u'fusionelles'), ('aupr\\xc3\\xa9s\\n', u'House nearby'), ('je vais tomber sur un mauvais prof\\n', u'I will simply have a bad teacher'), (\"am\\xc3\\xa8res s\\xc3\\xa9quelles d'exp\\xc3\\xa9riences pass\\xc3\\xa9es\\n\", u'bitter legacy of past experiences'), ('il est de moyen \\xc3\\xa0 cancre\\n', u'it is medium to dunce'), (\"tendance \\xc3\\xa0 s'acharmer sur le mauvais \\xc3\\xa9l\\xc3\\xa8ve\\n\", u'tend to acharmer on the wrong student'), ('d\\xc3\\xa8s le premier jour\\n', u'from day one'), (\"D\\xc3\\xa8s qu'il y avait du brut c'est mois qui prenais une colle\\n\", u'Whenever there was crude it took months glue'), ('les mauvais souvenirs sont tenaces\\n', u'bad memories die hard'), (\"s'\\xc3\\xa9nervait tr\\xc3\\xa8s vite\\n\", u'got angry very quickly'), ('on supprime\\n', u'is removed'), ('lance\\n', u'lance'), ('fataliste\\n', u'fatalist'), (\"s'occuper de nous\\n\", u'take care of us'), (\"dissocier le travail de l'affectif\\n\", u'dissociate the work of affective')]"
       ]
      },
      {
       "output_type": "stream",
       "stream": "stdout",
       "text": [
        "\n"
       ]
      }
     ],
     "prompt_number": 3
    }
   ],
   "metadata": {}
  }
 ]
}