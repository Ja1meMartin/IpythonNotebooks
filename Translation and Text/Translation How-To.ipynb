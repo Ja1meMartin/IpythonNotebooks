{
 "metadata": {
  "name": "",
  "signature": "sha256:83c0e2ef8d68e75e766c1aa623832fa761d72d779d236d2da13fb90082829fef"
 },
 "nbformat": 3,
 "nbformat_minor": 0,
 "worksheets": [
  {
   "cells": [
    {
     "cell_type": "markdown",
     "metadata": {},
     "source": [
      "[TVMonde Books](http://bibliothequenumerique.tv5monde.com/livre/53/L-Ecole-des-journalistes)  \n",
      "[Scikit Learn Laboratory](https://skll.readthedocs.org/en/latest/index.html)  \n",
      "[Scraping PDF + Directories](http://architects.dzone.com/articles/scraping-pdf-text-python)  "
     ]
    }
   ],
   "metadata": {}
  }
 ]
}