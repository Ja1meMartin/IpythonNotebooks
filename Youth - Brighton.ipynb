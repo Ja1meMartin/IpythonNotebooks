{
 "metadata": {
  "name": "",
  "signature": "sha256:15a5242dfe708f330c76111aed3b395ab071471c2071b82259e070985aedb800"
 },
 "nbformat": 3,
 "nbformat_minor": 0,
 "worksheets": [
  {
   "cells": [
    {
     "cell_type": "code",
     "collapsed": false,
     "input": [
      "import feedparser\n",
      "feed = \"http://www.seagulls.co.uk//common/rss/news-rss-feed.xml\"\n",
      "d = feedparser.parse(feed)"
     ],
     "language": "python",
     "metadata": {},
     "outputs": [],
     "prompt_number": 3
    },
    {
     "cell_type": "code",
     "collapsed": false,
     "input": [
      "links = [e.link for e in d['entries']]\n",
      "    \n",
      "print d.entries[0].content"
     ],
     "language": "python",
     "metadata": {},
     "outputs": [
      {
       "ename": "AttributeError",
       "evalue": "object has no attribute 'content'",
       "output_type": "pyerr",
       "traceback": [
        "\u001b[1;31m---------------------------------------------------------------------------\u001b[0m\n\u001b[1;31mAttributeError\u001b[0m                            Traceback (most recent call last)",
        "\u001b[1;32m<ipython-input-18-3f2f3e1fd52f>\u001b[0m in \u001b[0;36m<module>\u001b[1;34m()\u001b[0m\n\u001b[0;32m      1\u001b[0m \u001b[0mlinks\u001b[0m \u001b[1;33m=\u001b[0m \u001b[1;33m[\u001b[0m\u001b[0me\u001b[0m\u001b[1;33m.\u001b[0m\u001b[0mlink\u001b[0m \u001b[1;32mfor\u001b[0m \u001b[0me\u001b[0m \u001b[1;32min\u001b[0m \u001b[0md\u001b[0m\u001b[1;33m[\u001b[0m\u001b[1;34m'entries'\u001b[0m\u001b[1;33m]\u001b[0m\u001b[1;33m]\u001b[0m\u001b[1;33m\u001b[0m\u001b[0m\n\u001b[0;32m      2\u001b[0m \u001b[1;33m\u001b[0m\u001b[0m\n\u001b[1;32m----> 3\u001b[1;33m \u001b[1;32mprint\u001b[0m \u001b[0md\u001b[0m\u001b[1;33m.\u001b[0m\u001b[0mentries\u001b[0m\u001b[1;33m[\u001b[0m\u001b[1;36m0\u001b[0m\u001b[1;33m]\u001b[0m\u001b[1;33m.\u001b[0m\u001b[0mcontent\u001b[0m\u001b[1;33m\u001b[0m\u001b[0m\n\u001b[0m",
        "\u001b[1;32mC:\\Anaconda\\lib\\site-packages\\feedparser.pyc\u001b[0m in \u001b[0;36m__getattr__\u001b[1;34m(self, key)\u001b[0m\n\u001b[0;32m    414\u001b[0m             \u001b[1;32mreturn\u001b[0m \u001b[0mself\u001b[0m\u001b[1;33m.\u001b[0m\u001b[0m__getitem__\u001b[0m\u001b[1;33m(\u001b[0m\u001b[0mkey\u001b[0m\u001b[1;33m)\u001b[0m\u001b[1;33m\u001b[0m\u001b[0m\n\u001b[0;32m    415\u001b[0m         \u001b[1;32mexcept\u001b[0m \u001b[0mKeyError\u001b[0m\u001b[1;33m:\u001b[0m\u001b[1;33m\u001b[0m\u001b[0m\n\u001b[1;32m--> 416\u001b[1;33m             \u001b[1;32mraise\u001b[0m \u001b[0mAttributeError\u001b[0m\u001b[1;33m,\u001b[0m \u001b[1;34m\"object has no attribute '%s'\"\u001b[0m \u001b[1;33m%\u001b[0m \u001b[0mkey\u001b[0m\u001b[1;33m\u001b[0m\u001b[0m\n\u001b[0m\u001b[0;32m    417\u001b[0m \u001b[1;33m\u001b[0m\u001b[0m\n\u001b[0;32m    418\u001b[0m     \u001b[1;32mdef\u001b[0m \u001b[0m__hash__\u001b[0m\u001b[1;33m(\u001b[0m\u001b[0mself\u001b[0m\u001b[1;33m)\u001b[0m\u001b[1;33m:\u001b[0m\u001b[1;33m\u001b[0m\u001b[0m\n",
        "\u001b[1;31mAttributeError\u001b[0m: object has no attribute 'content'"
       ]
      }
     ],
     "prompt_number": 18
    },
    {
     "cell_type": "code",
     "collapsed": false,
     "input": [
      "from newspaper import Article\n",
      "\n",
      "url = 'http://arsenalyouth.wordpress.com/2014/10/08/zelalem-beginning-to-demonstrate-much-needed-consistency/'\n",
      "a = Article(links[0])\n",
      "a.download()\n"
     ],
     "language": "python",
     "metadata": {},
     "outputs": [],
     "prompt_number": 8
    },
    {
     "cell_type": "code",
     "collapsed": false,
     "input": [
      "f = a.parse()\n",
      "print a.text"
     ],
     "language": "python",
     "metadata": {},
     "outputs": [
      {
       "output_type": "stream",
       "stream": "stdout",
       "text": [
        "Bennett has arrived on an initial one-month loan from fellow Championship side Norwich City, and returns to Albion following a successful two-year stint on the south coast.He was a key member of the side which won the 2011 League One title, but left the club prior to the Amex Stadium move.He told seagulls.co.uk, \u201cThis is a club which, as the fans know, is close to my heart, so I jumped at the chance of coming back. Brighton gave me my first real chance in football and I was fortunate to be part of a highly successful spell in the club\u2019s recent history. I also had a good rapport with the fans, the staff at the club and I also enjoyed living down here.\u201cWhen the opportunity came to move to Norwich and move to the Premier League, it was one I couldn\u2019t turn down, but my one regret was that I didn\u2019t get the opportunity to run out at the Amex in Albion colours. Now I will hopefully have that chance.\u201dBennett, 25, went on to play 58 times in the top flight, but he missed nearly all of last season following cruciate knee ligament surgery. He is now looking to play regularly again, and show the form which had also made him a favourite at Carrow Road.\u201cI\u2019ve really enjoyed my time at Norwich and felt comfortable playing in the Premier League. My own game certainly improved by playing against and with so many top-class players and it was just unfortunate that the injury stopped me in my tracks.\u201cI returned for the final couple of games of last season, but it\u2019s been hard to break into a side that has been doing well this season. Now I just want to start playing regularly again and help Brighton climb the table.\u201dBennett admits it\u2019s a different squad to the one he left, but the club still has the same feel and ambition as it did before.\u201cThis has always been a club going places, a club on the up, and that ambition is still there. There\u2019s a handful of players here from my first spell: GG [Gordon Greer], Calde [Inigo Calderon], Kaz [Kazenga LuaLua], Crofty [Andrew Crofts] and Casper [Ankergren], while Lewis Dunk and Jake Forster-Caskey were breaking into the squad \u2013 so it will be good to see them again.\u201cObviously there\u2019s going to be new players when you\u2019re coming into a club and the management has also changed, but Sami Hyypia is such a respected figure in the game that I\u2019m looking forward to working with him. I just can\u2019t wait to get going now and repay the faith he, and the club, have shown in bringing me back here.\u201d\n"
       ]
      }
     ],
     "prompt_number": 13
    },
    {
     "cell_type": "code",
     "collapsed": false,
     "input": [
      "print a.parse"
     ],
     "language": "python",
     "metadata": {},
     "outputs": []
    },
    {
     "cell_type": "code",
     "collapsed": false,
     "input": [
      "print a.parse"
     ],
     "language": "python",
     "metadata": {},
     "outputs": []
    },
    {
     "cell_type": "code",
     "collapsed": false,
     "input": [
      "print f"
     ],
     "language": "python",
     "metadata": {},
     "outputs": []
    }
   ],
   "metadata": {}
  }
 ]
}