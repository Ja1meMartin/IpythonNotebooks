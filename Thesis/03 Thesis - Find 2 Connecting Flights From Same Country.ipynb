{
 "cells": [
  {
   "cell_type": "code",
   "execution_count": 16,
   "metadata": {
    "collapsed": false
   },
   "outputs": [
    {
     "name": "stdout",
     "output_type": "stream",
     "text": [
      "{'Britain': ['London'], 'Spain': ['Malaga'], 'Ireland': ['Dublin'], 'France': ['Paris', 'Toulouse', 'Bordeaux']}\n",
      "CREATE (Dublin:Airport {name:\"Dublin\"}),(Paris:Airport {name:\"Paris\"}),(Toulouse:Airport {name:\"Toulouse\"}),(Bordeaux:Airport {name:\"Bordeaux\"}),(London:Airport {name:\"London\"}),(Malaga:Airport {name:\"Malaga\"})\n"
     ]
    }
   ],
   "source": [
    "import py2neo\n",
    "\n",
    "airport_names = [\"Dublin\", \"Paris\",\"Toulouse\", \"Bordeaux\", \"London\", \"Malaga\"]\n",
    "airport_countries = [\"Ireland\",\"France\",\"France\",\"France\",\"Britain\",\"Spain\"]\n",
    "\n",
    "airport_dict = {}\n",
    "\n",
    "for name, country in zip(airport_names, airport_countries):\n",
    "    l = airport_dict.get(country, [])\n",
    "    l.append(name)\n",
    "    airport_dict[country] = l\n",
    "    \n",
    "print airport_dict\n",
    "\n",
    "print \"CREATE\", \",\".join ( [ '({name}:Airport {{name:\"{name}\"}})'.format(name=a) for a in airport_names])"
   ]
  },
  {
   "cell_type": "code",
   "execution_count": 17,
   "metadata": {
    "collapsed": false
   },
   "outputs": [],
   "source": [
    "from py2neo import authenticate, Graph, Relationship\n",
    "g = Graph(\"http://localhost:7474/db/data/\")\n"
   ]
  },
  {
   "cell_type": "code",
   "execution_count": 18,
   "metadata": {
    "collapsed": false
   },
   "outputs": [
    {
     "name": "stdout",
     "output_type": "stream",
     "text": [
      "[((paris:Airport {name:\"Paris\"}), (toulouse:Airport {name:\"Toulouse\"})), ((paris:Airport {name:\"Paris\"}), (bordeaux:Airport {name:\"Bordeaux\"})), ((toulouse:Airport {name:\"Toulouse\"}), (bordeaux:Airport {name:\"Bordeaux\"}))] list\n",
      "ffff (paris:Airport {name:\"Paris\"}) (toulouse:Airport {name:\"Toulouse\"})\n",
      "ffff (paris:Airport {name:\"Paris\"}) (bordeaux:Airport {name:\"Bordeaux\"})\n",
      "ffff (toulouse:Airport {name:\"Toulouse\"}) (bordeaux:Airport {name:\"Bordeaux\"})\n"
     ]
    }
   ],
   "source": [
    "g.delete_all()\n",
    "from py2neo import Node\n",
    "try:\n",
    "    g.schema.create_uniqueness_constraint(\"Airport\", \"name\")\n",
    "except:\n",
    "    pass\n",
    "\n",
    "import itertools\n",
    "\n",
    "for country, airports in airport_dict.iteritems():\n",
    "    nodes = [Node(\"Airport\", name=a) for a in airports]\n",
    "    for node in nodes:\n",
    "        g.create( node )\n",
    "    \n",
    "    if len(nodes) > 1:\n",
    "        same_country = list(itertools.combinations ( nodes , 2 ))\n",
    "        print same_country, \"list\"\n",
    "        for a,b in same_country:\n",
    "            print \"ffff\",a,b\n",
    "            g.create(Relationship(a, \"Same_Country\", b))"
   ]
  },
  {
   "cell_type": "code",
   "execution_count": 19,
   "metadata": {
    "collapsed": false
   },
   "outputs": [],
   "source": [
    "airports = list(g.find(\"Airport\"))"
   ]
  },
  {
   "cell_type": "code",
   "execution_count": 20,
   "metadata": {
    "collapsed": false
   },
   "outputs": [
    {
     "name": "stdout",
     "output_type": "stream",
     "text": [
      "(malaga:Airport {name:\"Malaga\"}) (paris:Airport {name:\"Paris\"})\n",
      "(london:Airport {name:\"London\"}) (bordeaux:Airport {name:\"Bordeaux\"})\n",
      "(dublin:Airport {name:\"Dublin\"}) (malaga:Airport {name:\"Malaga\"})\n",
      "(london:Airport {name:\"London\"}) (bordeaux:Airport {name:\"Bordeaux\"})\n",
      "(dublin:Airport {name:\"Dublin\"}) (paris:Airport {name:\"Paris\"})\n",
      "(london:Airport {name:\"London\"}) (toulouse:Airport {name:\"Toulouse\"})\n",
      "(paris:Airport {name:\"Paris\"}) (london:Airport {name:\"London\"})\n",
      "(paris:Airport {name:\"Paris\"}) (malaga:Airport {name:\"Malaga\"})\n",
      "(dublin:Airport {name:\"Dublin\"}) (london:Airport {name:\"London\"})\n",
      "(toulouse:Airport {name:\"Toulouse\"}) (bordeaux:Airport {name:\"Bordeaux\"})\n",
      "(london:Airport {name:\"London\"}) (malaga:Airport {name:\"Malaga\"})\n",
      "(bordeaux:Airport {name:\"Bordeaux\"}) (toulouse:Airport {name:\"Toulouse\"})\n",
      "(dublin:Airport {name:\"Dublin\"}) (toulouse:Airport {name:\"Toulouse\"})\n",
      "(london:Airport {name:\"London\"}) (bordeaux:Airport {name:\"Bordeaux\"})\n",
      "(dublin:Airport {name:\"Dublin\"}) (malaga:Airport {name:\"Malaga\"})\n",
      "(dublin:Airport {name:\"Dublin\"}) (paris:Airport {name:\"Paris\"})\n",
      "(london:Airport {name:\"London\"}) (malaga:Airport {name:\"Malaga\"})\n",
      "(toulouse:Airport {name:\"Toulouse\"}) (malaga:Airport {name:\"Malaga\"})\n",
      "(paris:Airport {name:\"Paris\"}) (bordeaux:Airport {name:\"Bordeaux\"})\n",
      "(paris:Airport {name:\"Paris\"}) (dublin:Airport {name:\"Dublin\"})\n",
      "(paris:Airport {name:\"Paris\"}) (bordeaux:Airport {name:\"Bordeaux\"})\n",
      "(bordeaux:Airport {name:\"Bordeaux\"}) (dublin:Airport {name:\"Dublin\"})\n",
      "(dublin:Airport {name:\"Dublin\"}) (bordeaux:Airport {name:\"Bordeaux\"})\n",
      "(paris:Airport {name:\"Paris\"}) (malaga:Airport {name:\"Malaga\"})\n",
      "(bordeaux:Airport {name:\"Bordeaux\"}) (paris:Airport {name:\"Paris\"})\n",
      "(bordeaux:Airport {name:\"Bordeaux\"}) (malaga:Airport {name:\"Malaga\"})\n"
     ]
    }
   ],
   "source": [
    "import random\n",
    "potential_flights = list ( itertools.permutations ( airports, 2) )\n",
    "r = random.Random(117)\n",
    "\n",
    "for i in range(26):\n",
    "    to, dest = r.choice(potential_flights)\n",
    "    print to, dest\n",
    "    g.create(Relationship(to, \"Flies_To\", dest, cost = random.randint(20,100)))"
   ]
  },
  {
   "cell_type": "markdown",
   "metadata": {},
   "source": [
    "# Modelling Question\n",
    "Should the Relationship Same_Country connect flights or airorts? My original thought was Airport as you can see below.\n",
    "However I think if you are looking at following a path through a graph then you may want to connect the flights.  \n",
    "  \n",
    "When you add a flight to the graph you might have to develop routines for searching the graph to add relationships. So a new flight is added from Paris to Cork. For same country relationship should all later flights from Ireland to France have this as a potential connector?  \n",
    "  \n",
    "Or is this something that should be done in the front end."
   ]
  },
  {
   "cell_type": "code",
   "execution_count": 21,
   "metadata": {
    "collapsed": false
   },
   "outputs": [
    {
     "name": "stdout",
     "output_type": "stream",
     "text": [
      "RES 1\n",
      "(malaga)-[:Flies_To {cost:72}]->(paris) (bordeaux)-[:Flies_To {cost:70}]->(dublin)\n"
     ]
    }
   ],
   "source": [
    "fly_from_same_country = \"\"\"\n",
    "MATCH (malaga:Airport) - [f1:Flies_To] -> (a:Airport) -[s:Same_Country] -(b:Airport) - [f2:Flies_To]-> (dublin:Airport)\n",
    "WHERE malaga.name='Malaga' AND dublin.name = \"Dublin\"\n",
    "RETURN  *\n",
    "ORDER BY f1.cost + f2.cost ASC\n",
    "\"\"\"\n",
    "results = list(g.run(fly_from_same_country))\n",
    "print \"RES\", len(results)\n",
    "for r in results:\n",
    "    print r['f1'], r['f2']"
   ]
  }
 ],
 "metadata": {
  "kernelspec": {
   "display_name": "Python 2",
   "language": "python",
   "name": "python2"
  },
  "language_info": {
   "codemirror_mode": {
    "name": "ipython",
    "version": 2
   },
   "file_extension": ".py",
   "mimetype": "text/x-python",
   "name": "python",
   "nbconvert_exporter": "python",
   "pygments_lexer": "ipython2",
   "version": "2.7.11"
  }
 },
 "nbformat": 4,
 "nbformat_minor": 0
}
