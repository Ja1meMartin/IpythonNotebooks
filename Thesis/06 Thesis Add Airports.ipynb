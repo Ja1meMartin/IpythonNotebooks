{
 "cells": [
  {
   "cell_type": "code",
   "execution_count": null,
   "metadata": {
    "collapsed": true
   },
   "outputs": [],
   "source": []
  },
  {
   "cell_type": "code",
   "execution_count": 2,
   "metadata": {
    "collapsed": false
   },
   "outputs": [
    {
     "name": "stdout",
     "output_type": "stream",
     "text": [
      "id 4154\n",
      "ident LFMK\n",
      "type medium_airport\n",
      "name Carcassonne Airport\n",
      "latitude_deg 43.215999603271484\n",
      "longitude_deg 2.3063199520111084\n",
      "elevation_ft 433\n",
      "continent EU\n",
      "iso_country FR\n",
      "iso_region FR-K\n",
      "municipality Carcassonne/Salvaza\n",
      "scheduled_service yes\n",
      "gps_code LFMK\n",
      "iata_code CCF\n",
      "local_code \n",
      "home_link \n",
      "wikipedia_link http://en.wikipedia.org/wiki/Carcassonne_Salvaza_Airport\n",
      "keywords \n",
      "['id', 'ident', 'type', 'name', 'latitude_deg', 'longitude_deg', 'elevation_ft', 'continent', 'iso_country', 'iso_region', 'municipality', 'scheduled_service', 'gps_code', 'iata_code', 'local_code', 'home_link', 'wikipedia_link', 'keywords']\n"
     ]
    }
   ],
   "source": [
    "import csv\n",
    "\n",
    "reader = []\n",
    "\n",
    "with open('airports.csv', 'rb') as filename:\n",
    "    reader = list(csv.reader(filename))\n",
    "    \n",
    "    \n",
    "    #for row in reader:\n",
    "        #if row[2] == 'large_airport':\n",
    "            #print row[3]\n",
    "            \n",
    "    for key, value in zip ( reader[0], reader [27863]):\n",
    "        print key, value\n",
    "        \n",
    "    print reader[0]"
   ]
  },
  {
   "cell_type": "code",
   "execution_count": 3,
   "metadata": {
    "collapsed": false
   },
   "outputs": [
    {
     "name": "stdout",
     "output_type": "stream",
     "text": [
      "311396, FR-L, Brive Souillac Airport, 45.039722, 1.485556, EU, FR, \n",
      "4058, FR-B, Agen-La Garenne Airport, 44.17470169067383, 0.5905560255050659, EU, FR, Agen/La Garenne\n",
      "4060, FR-B, Bordeaux-Mérignac Airport, 44.828300476100004, -0.715556025505, EU, FR, Bordeaux/Mérignac\n",
      "4061, FR-B, Bergerac-Roumanière Airport, 44.82529830932617, 0.5186110138893127, EU, FR, Bergerac/Roumanière\n",
      "4064, FR-T, La Rochelle-Île de Ré Airport, 46.17919921875, -1.1952799558639526, EU, FR, La Rochelle/Île de Ré\n",
      "4065, FR-T, Poitiers-Biard Airport, 46.58769989013672, 0.30666598677635193, EU, FR, Poitiers/Biard\n",
      "4067, FR-L, Limoges Airport, 45.86280059814453, 1.1794400215148926, EU, FR, Limoges/Bellegarde\n",
      "4070, FR-N, Toulouse-Blagnac Airport, 43.629101, 1.36382, EU, FR, Toulouse/Blagnac\n",
      "4071, FR-B, Pau Pyrénées Airport, 43.380001068115234, -0.41861099004745483, EU, FR, Pau/Pyrénées (Uzein)\n",
      "4073, FR-N, Tarbes-Lourdes-Pyrénées Airport, 43.1786994934082, -0.006438999902456999, EU, FR, Tarbes/Lourdes/Pyrénées\n",
      "4074, FR-T, Angoulême-Brie-Champniers Airport, 45.72919845581055, 0.22145600616931915, EU, FR, Angoulême/Brie/Champniers\n",
      "4077, FR-B, Biarritz-Anglet-Bayonne Airport, 43.46839904785156, -1.523319959640503, EU, FR, Biarritz/Anglet/Bayonne\n",
      "4082, FR-N, Castres-Mazamet Airport, 43.55630111694336, 2.289180040359497, EU, FR, Castres/Mazamet\n",
      "4086, FR-N, Rodez-Marcillac Airport, 44.407901763916016, 2.4826700687408447, EU, FR, Rodez/Marcillac\n",
      "4101, FR-R, Île d'Yeu Airport, 46.71860122680664, -2.3911099433898926, EU, FR, Île d'Yeu\n",
      "4111, FR-C, Le Puy-Loudes Airport, 45.0806999206543, 3.762890100479126, EU, FR, Le Puy/Loudes\n",
      "4120, FR-M, Metz-Nancy-Lorraine Airport, 48.9821014404, 6.25131988525, EU, FR, Metz / Nancy\n",
      "4121, FR-R, Angers-Loire Airport, 47.560298919677734, -0.3122220039367676, EU, FR, Angers/Marcé\n",
      "4123, FR-H, Bastia-Poretta Airport, 42.55270004272461, 9.48373031616211, EU, FR, Bastia/Poretta\n",
      "4124, FR-H, Calvi-Sainte-Catherine Airport, 42.530799865722656, 8.793190002441406, EU, FR, Calvi/Sainte-Catherine\n",
      "4125, FR-H, Figari Sud-Corse Airport, 41.5005989074707, 9.097780227661133, EU, FR, Figari Sud-Corse\n",
      "4126, FR-H, Ajaccio-Napoléon Bonaparte Airport, 41.92359924316406, 8.8029203414917, EU, FR, Ajaccio/Napoléon Bonaparte\n",
      "4131, FR-V, Chambéry-Savoie Airport, 45.638099670410156, 5.880229949951172, EU, FR, Chambéry/Aix-les-Bains\n",
      "4132, FR-C, Clermont-Ferrand Auvergne Airport, 45.7867012024, 3.1691699028, EU, FR, Clermont-Ferrand/Auvergne\n",
      "4137, FR-V, Lyon Saint-Exupéry Airport, 45.726398468, 5.0908298492399995, EU, FR, Lyon\n",
      "4141, FR-V, Annecy-Haute-Savoie-Mont Blanc Airport, 45.92919921875, 6.09876012802124, EU, FR, Annecy/Meythet\n",
      "4142, FR-V, Grenoble-Isère Airport, 45.36289978027344, 5.329370021820068, EU, FR, Grenoble/Saint-Geoirs\n",
      "4146, FR-C, Aurillac Airport, 44.89139938354492, 2.4219400882720947, EU, FR, Aurillac\n",
      "4151, FR-U, Cannes-Mandelieu Airport, 43.54199981689453, 6.953479766845703, EU, FR, Cannes/Mandelieu\n",
      "4152, FR-V, Saint-Étienne-Bouthéon Airport, 45.54059982299805, 4.296390056610107, EU, FR, Saint-Étienne/Bouthéon\n",
      "4154, FR-K, Carcassonne Airport, 43.215999603271484, 2.3063199520111084, EU, FR, Carcassonne/Salvaza\n",
      "4155, FR-U, Marseille Provence Airport, 43.439271922, 5.22142410278, EU, FR, Marseille\n",
      "4156, FR-U, Nice-Côte d'Azur Airport, 43.6584014893, 7.215869903560001, EU, FR, Nice\n",
      "4158, FR-K, Perpignan-Rivesaltes (Llabanère) Airport, 42.74039840698242, 2.8706700801849365, EU, FR, Perpignan/Rivesaltes\n",
      "4161, FR-K, Montpellier-Méditerranée Airport, 43.57619857788086, 3.96301007270813, EU, FR, Montpellier/Méditerranée\n",
      "4162, FR-K, Béziers-Vias Airport, 43.32350158691406, 3.3538999557495117, EU, FR, Béziers/Vias\n",
      "4163, FR-U, Avignon-Caumont Airport, 43.90729904174805, 4.901830196380615, EU, FR, Avignon/Caumont\n",
      "4169, FR-S, Paris Beauvais Tillé Airport, 49.45439910888672, 2.1127800941467285, EU, FR, Beauvais/Tillé\n",
      "4173, FR-Q, Le Havre Octeville Airport, 49.53390121459961, 0.08805599808692932, EU, FR, Le Havre/Octeville\n",
      "4177, FR-Q, Rouen Airport, 49.38420104980469, 1.1748000383377075, EU, FR, Rouen/Vallée de Seine\n",
      "4179, FR-F, Tours-Val-de-Loire Airport, 47.4322013855, 0.727605998516, EU, FR, Tours/Val de Loire (Loire Valley)\n",
      "4185, FR-J, Charles de Gaulle International Airport, 49.0127983093, 2.54999995232, EU, FR, Paris\n",
      "4189, FR-J, Paris-Orly Airport, 48.7252998352, 2.35944008827, EU, FR, Paris\n",
      "4190, FR-J, Pontoise - Cormeilles-en-Vexin Airport, 49.0966, 2.04083, EU, FR, Cormeilles-en-Vexin\n",
      "4202, FR-O, Lille-Lesquin Airport, 50.5619010925293, 3.089440107345581, EU, FR, Lille/Lesquin\n",
      "4206, FR-E, Brest Bretagne Airport, 48.447898864746094, -4.418540000915527, EU, FR, Brest/Guipavas\n",
      "4207, FR-P, Cherbourg-Maupertus Airport, 49.65010070800781, -1.4702800512313843, EU, FR, Cherbourg/Maupertus\n",
      "4208, FR-E, Dinard-Pleurtuit-Saint-Malo Airport, 48.58769989013672, -2.0799601078033447, EU, FR, Dinard/Pleurtuit/Saint-Malo\n",
      "4212, FR-E, Lorient South Brittany (Bretagne Sud) Airport, 47.76060104370117, -3.440000057220459, EU, FR, Lorient/Lann/Bihoué\n",
      "4215, FR-P, Caen-Carpiquet Airport, 49.173301696777344, -0.44999998807907104, EU, FR, Caen/Carpiquet\n",
      "4218, FR-E, Rennes-Saint-Jacques Airport, 48.069499969499994, -1.73478996754, EU, FR, Rennes/Saint-Jacques\n",
      "4219, FR-E, Lannion-Côte de Granit Airport, 48.754398345947266, -3.4716598987579346, EU, FR, Lannion\n",
      "4220, FR-E, Quimper-Cornouaille Airport, 47.974998474121094, -4.167789936065674, EU, FR, Quimper/Pluguffan\n",
      "4221, FR-R, Nantes Atlantique Airport, 47.153198242200006, -1.61073005199, EU, FR, Nantes\n",
      "4226, FR-A, EuroAirport Basel-Mulhouse-Freiburg Airport, 47.59, 7.5291667, EU, FR, Bâle/Mulhouse\n",
      "4228, FR-D, Dijon-Bourgogne Airport, 47.268901825, 5.09000015259, EU, FR, Dijon/Longvic\n",
      "4230, FR-M, Épinal-Mirecourt Airport, 48.32500076293945, 6.069980144500732, EU, FR, Épinal/Mirecourt\n",
      "4237, FR-G, Reims-Champagne (BA 112) Airport, 49.310001373291016, 4.050000190734863, EU, FR, Reims/Champagne\n",
      "4238, FR-A, Strasbourg Airport, 48.538299560546875, 7.628230094909668, EU, FR, Strasbourg\n",
      "4241, FR-U, Toulon-Hyères Airport, 43.0973014832, 6.14602994919, EU, FR, Toulon/Hyères/Le Palyvestre\n",
      "4242, FR-K, Nîmes-Arles-Camargue Airport, 43.75740051269531, 4.4163498878479, EU, FR, Nîmes/Garons\n"
     ]
    }
   ],
   "source": [
    "lon,lat = 52.6541, -7.2448\n",
    "\n",
    "def dist(x,y):\n",
    "    lon,lat = 52.6541, -7.2448\n",
    "    return abs(lon -float(x)) + abs(lat - float(y)) < 1\n",
    "\n",
    "for row in reader[1:]:\n",
    "    if row[8] == 'FR' and row[2] in ['large_airport', 'medium_airport'] and row[11]=='yes':\n",
    "        print ( \", \".join ( row[x] for x in [0,9,3,4,5,7,8,10]) )\n",
    "            #print \" \".join(row)"
   ]
  },
  {
   "cell_type": "code",
   "execution_count": 4,
   "metadata": {
    "collapsed": false
   },
   "outputs": [],
   "source": [
    "from py2neo import authenticate, Graph, Relationship\n",
    "graph = Graph(\"http://localhost:7474/db/data/\")\n",
    "from py2neo import Node, Relationship"
   ]
  },
  {
   "cell_type": "code",
   "execution_count": 5,
   "metadata": {
    "collapsed": false
   },
   "outputs": [
    {
     "name": "stdout",
     "output_type": "stream",
     "text": [
      "Total Rf Heliport US\n",
      "Wetherbee Farm Airport US\n",
      "Gilmore Strip US\n",
      "Dye Seed Ranch Inc. Airport US\n",
      "Loxahatchee Airport US\n",
      "Fire Station No. 14 Heliport US\n",
      "Cachoeira Alta Airport BR\n",
      "International Tower Heliport US\n",
      "Kamen-Heeren Airfield DE\n",
      "Åre Östersund Airport SE\n",
      "Yemo Airport CD\n",
      "Stark Heliport US\n"
     ]
    },
    {
     "name": "stderr",
     "output_type": "stream",
     "text": [
      "Exception KeyError: (u'http://localhost:7474/db/data/node/21536',) in <function remove at 0x0000000005B8ABA8> ignored\n",
      "Exception KeyError: (u'http://localhost:7474/db/data/relationship/31962',) in <function remove at 0x0000000005B8F9E8> ignored\n",
      "Exception KeyError: (u'http://localhost:7474/db/data/relationship/31963',) in <function remove at 0x0000000005B8F9E8> ignored\n",
      "Exception KeyError: (u'http://localhost:7474/db/data/relationship/31964',) in <function remove at 0x0000000005B8F9E8> ignored\n",
      "Exception KeyError: (u'http://localhost:7474/db/data/relationship/31961',) in <function remove at 0x0000000005B8F9E8> ignored\n",
      "Exception KeyError: (u'http://localhost:7474/db/data/node/21545',) in <function remove at 0x0000000005B8ABA8> ignored\n",
      "Exception KeyError: (u'http://localhost:7474/db/data/relationship/31973',) in <function remove at 0x0000000005B8F9E8> ignored\n",
      "Exception KeyError: (u'http://localhost:7474/db/data/node/21551',) in <function remove at 0x0000000005B8ABA8> ignored\n",
      "Exception KeyError: (u'http://localhost:7474/db/data/relationship/31982',) in <function remove at 0x0000000005B8F9E8> ignored\n",
      "Exception KeyError: (u'http://localhost:7474/db/data/relationship/31983',) in <function remove at 0x0000000005B8F9E8> ignored\n",
      "Exception KeyError: (u'http://localhost:7474/db/data/relationship/31984',) in <function remove at 0x0000000005B8F9E8> ignored\n",
      "Exception KeyError: (u'http://localhost:7474/db/data/node/21561',) in <function remove at 0x0000000005B8ABA8> ignored\n",
      "Exception KeyError: (u'http://localhost:7474/db/data/relationship/31993',) in <function remove at 0x0000000005B8F9E8> ignored\n",
      "Exception KeyError: (u'http://localhost:7474/db/data/node/21567',) in <function remove at 0x0000000005B8ABA8> ignored\n",
      "Exception KeyError: (u'http://localhost:7474/db/data/relationship/32002',) in <function remove at 0x0000000005B8F9E8> ignored\n",
      "Exception KeyError: (u'http://localhost:7474/db/data/relationship/32003',) in <function remove at 0x0000000005B8F9E8> ignored\n",
      "Exception KeyError: (u'http://localhost:7474/db/data/relationship/32004',) in <function remove at 0x0000000005B8F9E8> ignored\n",
      "Exception KeyError: (u'http://localhost:7474/db/data/node/21576',) in <function remove at 0x0000000005B8ABA8> ignored\n",
      "Exception KeyError: (u'http://localhost:7474/db/data/relationship/32013',) in <function remove at 0x0000000005B8F9E8> ignored\n",
      "Exception KeyError: (u'http://localhost:7474/db/data/node/21582',) in <function remove at 0x0000000005B8ABA8> ignored\n",
      "Exception KeyError: (u'http://localhost:7474/db/data/relationship/32022',) in <function remove at 0x0000000005B8F9E8> ignored\n",
      "Exception KeyError: (u'http://localhost:7474/db/data/relationship/32023',) in <function remove at 0x0000000005B8F9E8> ignored\n",
      "Exception KeyError: (u'http://localhost:7474/db/data/relationship/32024',) in <function remove at 0x0000000005B8F9E8> ignored\n",
      "Exception KeyError: (u'http://localhost:7474/db/data/node/21589',) in <function remove at 0x0000000005B8ABA8> ignored\n",
      "Exception KeyError: (u'http://localhost:7474/db/data/relationship/32036',) in <function remove at 0x0000000005B8F9E8> ignored\n",
      "Exception KeyError: (u'http://localhost:7474/db/data/relationship/32033',) in <function remove at 0x0000000005B8F9E8> ignored\n",
      "Exception KeyError: (u'http://localhost:7474/db/data/relationship/32034',) in <function remove at 0x0000000005B8F9E8> ignored\n",
      "Exception KeyError: (u'http://localhost:7474/db/data/relationship/32035',) in <function remove at 0x0000000005B8F9E8> ignored\n",
      "Exception KeyError: (u'http://localhost:7474/db/data/node/21595',) in <function remove at 0x0000000005B8ABA8> ignored\n",
      "Exception KeyError: (u'http://localhost:7474/db/data/relationship/32043',) in <function remove at 0x0000000005B8F9E8> ignored\n",
      "Exception KeyError: (u'http://localhost:7474/db/data/relationship/32044',) in <function remove at 0x0000000005B8F9E8> ignored\n",
      "Exception KeyError: (u'http://localhost:7474/db/data/node/21603',) in <function remove at 0x0000000005B8ABA8> ignored\n",
      "Exception KeyError: (u'http://localhost:7474/db/data/relationship/32054',) in <function remove at 0x0000000005B8F9E8> ignored\n",
      "Exception KeyError: (u'http://localhost:7474/db/data/relationship/32055',) in <function remove at 0x0000000005B8F9E8> ignored\n",
      "Exception KeyError: (u'http://localhost:7474/db/data/relationship/32056',) in <function remove at 0x0000000005B8F9E8> ignored\n",
      "Exception KeyError: (u'http://localhost:7474/db/data/relationship/32053',) in <function remove at 0x0000000005B8F9E8> ignored\n",
      "Exception KeyError: (u'http://localhost:7474/db/data/node/21609',) in <function remove at 0x0000000005B8ABA8> ignored\n",
      "Exception KeyError: (u'http://localhost:7474/db/data/relationship/32063',) in <function remove at 0x0000000005B8F9E8> ignored\n",
      "Exception KeyError: (u'http://localhost:7474/db/data/relationship/32064',) in <function remove at 0x0000000005B8F9E8> ignored\n",
      "Exception KeyError: (u'http://localhost:7474/db/data/node/21612',) in <function remove at 0x0000000005B8ABA8> ignored\n",
      "Exception KeyError: (u'http://localhost:7474/db/data/relationship/32065',) in <function remove at 0x0000000005B8F9E8> ignored\n",
      "Exception KeyError: (u'http://localhost:7474/db/data/relationship/32066',) in <function remove at 0x0000000005B8F9E8> ignored\n",
      "Exception KeyError: (u'http://localhost:7474/db/data/relationship/32067',) in <function remove at 0x0000000005B8F9E8> ignored\n",
      "Exception KeyError: (u'http://localhost:7474/db/data/relationship/32068',) in <function remove at 0x0000000005B8F9E8> ignored\n",
      "Exception KeyError: (u'http://localhost:7474/db/data/node/21613',) in <function remove at 0x0000000005B8ABA8> ignored\n",
      "Exception KeyError: (u'http://localhost:7474/db/data/relationship/32069',) in <function remove at 0x0000000005B8F9E8> ignored\n",
      "Exception KeyError: (u'http://localhost:7474/db/data/relationship/32070',) in <function remove at 0x0000000005B8F9E8> ignored\n",
      "Exception KeyError: (u'http://localhost:7474/db/data/relationship/32071',) in <function remove at 0x0000000005B8F9E8> ignored\n",
      "Exception KeyError: (u'http://localhost:7474/db/data/relationship/32072',) in <function remove at 0x0000000005B8F9E8> ignored\n"
     ]
    },
    {
     "name": "stdout",
     "output_type": "stream",
     "text": [
      "Burns Municipal Airport US\n",
      "San Nicolas Island Nolf Airport US\n",
      "Colmar-Meyenheim Air Base FR\n",
      "Timmers Landing Field US\n",
      "Nettie's Place Airport US\n",
      "Perryville Airport US\n",
      "Presidente Néstor Kirchner Regionsl Airport AR\n",
      "International Paper Luís Antônio Heliport BR\n",
      "Fazenda Congonhas Airport BR\n",
      "Fazenda Centro da Mata Airport BR\n",
      "Westwood Corporation Heliport US\n",
      "Lhok Sukon Airport ID\n",
      "Roper Bar Airport AU\n",
      "Wall time: 2min 41s\n"
     ]
    }
   ],
   "source": [
    "%%time\n",
    "regions, countries, continents, cities = {}, {}, {}, {}\n",
    "\n",
    "tx = graph.begin()\n",
    "\n",
    "for index,row in enumerate(reader[1:]):\n",
    "    if index % 2000 == 0:\n",
    "        print row[3], row[8]\n",
    "        \n",
    "    if row[11] == 'yes':\n",
    "        region_name = row[9]\n",
    "        region = regions.get(region_name, None)\n",
    "        if not region:\n",
    "            region = Node(\"Region\", region = region_name)\n",
    "            regions[region_name] = region\n",
    "            tx.create(region)\n",
    "        \n",
    "        country_name = row[8]\n",
    "        country = countries.get(country_name, None)\n",
    "        if not country:\n",
    "            country = Node(\"Country\", country = country_name)\n",
    "            countries[country_name] = country\n",
    "            tx.create(country)\n",
    "            \n",
    "        continent_name = row[7]\n",
    "        continent = continents.get(continent_name, None)\n",
    "        if not continent:\n",
    "            continent = Node(\"Continent\", continent = continent_name)\n",
    "            continents[continent_name] = continent\n",
    "            tx.create(continent)\n",
    "            \n",
    "        city_name = row[10].split(\"/\")[0]\n",
    "        city = cities.get(city_name, None)\n",
    "        if not city:\n",
    "            city = Node(\"City\", city = city_name)\n",
    "            cities[city_name] = city\n",
    "            tx.create(city)\n",
    "        \n",
    "        airport_name = row[3]\n",
    "        airport = Node(\"Airport\", airport=airport_name)\n",
    "        tx.create(airport)\n",
    "        tx.create(Relationship(airport, \"IN_REGION\", region))\n",
    "        tx.create(Relationship(airport, \"IN_COUNTRY\", country))\n",
    "        tx.create(Relationship(airport, \"IN_CONTINENT\", continent))\n",
    "        tx.create(Relationship(airport, \"IN_CITY\", city))\n",
    "        tx.process()\n",
    "        \n",
    "tx.commit()"
   ]
  },
  {
   "cell_type": "code",
   "execution_count": 6,
   "metadata": {
    "collapsed": false
   },
   "outputs": [
    {
     "name": "stdout",
     "output_type": "stream",
     "text": [
      "Wall time: 1min 15s\n"
     ]
    }
   ],
   "source": [
    "%%time\n",
    "query = \"\"\"\n",
    "MATCH p=()-[r:IN_COUNTRY]->() RETURN p \n",
    "\"\"\"\n",
    "#1209ms\n",
    "graph.run(query)\n",
    "            "
   ]
  },
  {
   "cell_type": "code",
   "execution_count": 7,
   "metadata": {
    "collapsed": false
   },
   "outputs": [
    {
     "name": "stdout",
     "output_type": "stream",
     "text": [
      "Wall time: 0 ns\n"
     ]
    }
   ],
   "source": [
    "%%time\n",
    "#query = \"\"\"\n",
    "#CREATE INDEX ON :Country(country)\n",
    "#\"\"\"\n",
    "#graph.run(query)"
   ]
  },
  {
   "cell_type": "code",
   "execution_count": 8,
   "metadata": {
    "collapsed": false
   },
   "outputs": [
    {
     "name": "stdout",
     "output_type": "stream",
     "text": [
      "Wall time: 1min 8s\n"
     ]
    }
   ],
   "source": [
    "%%time\n",
    "query = \"\"\"\n",
    "MATCH p=()-[r:IN_COUNTRY]->() RETURN p \n",
    "\"\"\"\n",
    "\n",
    "graph.run(query)"
   ]
  },
  {
   "cell_type": "code",
   "execution_count": 9,
   "metadata": {
    "collapsed": false
   },
   "outputs": [
    {
     "name": "stdout",
     "output_type": "stream",
     "text": [
      "Wall time: 48.6 s\n"
     ]
    }
   ],
   "source": [
    "%%time\n",
    "query = \"\"\"\n",
    "MATCH p=(a:Airport)-[r:IN_COUNTRY]->(c:Country) RETURN p \n",
    "\"\"\"\n",
    "\n",
    "graph.run(query)"
   ]
  },
  {
   "cell_type": "code",
   "execution_count": 10,
   "metadata": {
    "collapsed": false
   },
   "outputs": [
    {
     "name": "stdout",
     "output_type": "stream",
     "text": [
      "Wall time: 767 ms\n"
     ]
    }
   ],
   "source": [
    "%%time\n",
    "query = \"\"\"\n",
    "CREATE INDEX ON :Airport(airport)\n",
    "\"\"\"\n",
    "graph.run(query)"
   ]
  },
  {
   "cell_type": "code",
   "execution_count": 10,
   "metadata": {
    "collapsed": false
   },
   "outputs": [
    {
     "name": "stdout",
     "output_type": "stream",
     "text": [
      "Wall time: 31 s\n"
     ]
    }
   ],
   "source": [
    "%%time\n",
    "query = \"\"\"\n",
    "MATCH (a:Airport)-[r:IN_COUNTRY]->(c:Country) RETURN *\n",
    "\"\"\"\n",
    "\n",
    "graph.run(query)"
   ]
  },
  {
   "cell_type": "code",
   "execution_count": 11,
   "metadata": {
    "collapsed": true
   },
   "outputs": [],
   "source": [
    "\n",
    "try:\n",
    "    g.schema.create_uniqueness_constraint(\"Airport\", \"airport\")\n",
    "    g.schema.create_uniqueness_constraint(\"Country\", \"country\")\n",
    "except:\n",
    "    pass"
   ]
  },
  {
   "cell_type": "code",
   "execution_count": 12,
   "metadata": {
    "collapsed": false
   },
   "outputs": [
    {
     "name": "stdout",
     "output_type": "stream",
     "text": [
      "Wall time: 28.9 s\n"
     ]
    },
    {
     "data": {
      "text/plain": [
       "<py2neo.database.Cursor at 0xed42c50>"
      ]
     },
     "execution_count": 12,
     "metadata": {},
     "output_type": "execute_result"
    }
   ],
   "source": [
    "%%time\n",
    "graph.run(query)"
   ]
  }
 ],
 "metadata": {
  "kernelspec": {
   "display_name": "Python 2",
   "language": "python",
   "name": "python2"
  },
  "language_info": {
   "codemirror_mode": {
    "name": "ipython",
    "version": 2
   },
   "file_extension": ".py",
   "mimetype": "text/x-python",
   "name": "python",
   "nbconvert_exporter": "python",
   "pygments_lexer": "ipython2",
   "version": "2.7.11"
  }
 },
 "nbformat": 4,
 "nbformat_minor": 0
}
