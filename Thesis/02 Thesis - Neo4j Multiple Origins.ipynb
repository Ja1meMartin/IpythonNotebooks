{
 "cells": [
  {
   "cell_type": "code",
   "execution_count": 17,
   "metadata": {
    "collapsed": false
   },
   "outputs": [
    {
     "name": "stdout",
     "output_type": "stream",
     "text": [
      "CREATE (Dublin:Airport {name:\"Dublin\"}),(Paris:Airport {name:\"Paris\"}),(London:Airport {name:\"London\"}),(Malaga:Airport {name:\"Malaga\"})\n"
     ]
    }
   ],
   "source": [
    "import py2neo\n",
    "\n",
    "airport_names = [\"Dublin\", \"Paris\", \"London\", \"Malaga\"]\n",
    "\n",
    "print \"CREATE\", \",\".join ( [ '({name}:Airport {{name:\"{name}\"}})'.format(name=a) for a in airport_names])"
   ]
  },
  {
   "cell_type": "code",
   "execution_count": 18,
   "metadata": {
    "collapsed": false
   },
   "outputs": [],
   "source": [
    "from py2neo import authenticate, Graph, Relationship\n",
    "g = Graph(\"http://localhost:7474/db/data/\")\n",
    "g.delete_all()"
   ]
  },
  {
   "cell_type": "code",
   "execution_count": 19,
   "metadata": {
    "collapsed": true
   },
   "outputs": [],
   "source": [
    "from py2neo import Node\n",
    "try:\n",
    "    g.schema.create_uniqueness_constraint(\"Airport\", \"name\")\n",
    "except:\n",
    "    pass\n",
    "\n",
    "nodes = [g.create(Node(\"Airport\", name=a)) for a in airport_names]"
   ]
  },
  {
   "cell_type": "code",
   "execution_count": 20,
   "metadata": {
    "collapsed": false
   },
   "outputs": [],
   "source": [
    "airports = list(g.find(\"Airport\"))"
   ]
  },
  {
   "cell_type": "code",
   "execution_count": 21,
   "metadata": {
    "collapsed": false
   },
   "outputs": [
    {
     "name": "stdout",
     "output_type": "stream",
     "text": [
      "(dublin:Airport {name:\"Dublin\"}) (malaga:Airport {name:\"Malaga\"})\n",
      "(dublin:Airport {name:\"Dublin\"}) (london:Airport {name:\"London\"})\n",
      "(paris:Airport {name:\"Paris\"}) (london:Airport {name:\"London\"})\n",
      "(dublin:Airport {name:\"Dublin\"}) (london:Airport {name:\"London\"})\n",
      "(paris:Airport {name:\"Paris\"}) (london:Airport {name:\"London\"})\n",
      "(dublin:Airport {name:\"Dublin\"}) (london:Airport {name:\"London\"})\n",
      "(london:Airport {name:\"London\"}) (dublin:Airport {name:\"Dublin\"})\n",
      "(london:Airport {name:\"London\"}) (dublin:Airport {name:\"Dublin\"})\n",
      "(paris:Airport {name:\"Paris\"}) (london:Airport {name:\"London\"})\n",
      "(malaga:Airport {name:\"Malaga\"}) (dublin:Airport {name:\"Dublin\"})\n",
      "(dublin:Airport {name:\"Dublin\"}) (paris:Airport {name:\"Paris\"})\n",
      "(malaga:Airport {name:\"Malaga\"}) (london:Airport {name:\"London\"})\n",
      "(paris:Airport {name:\"Paris\"}) (malaga:Airport {name:\"Malaga\"})\n",
      "(dublin:Airport {name:\"Dublin\"}) (london:Airport {name:\"London\"})\n",
      "(paris:Airport {name:\"Paris\"}) (london:Airport {name:\"London\"})\n",
      "(paris:Airport {name:\"Paris\"}) (malaga:Airport {name:\"Malaga\"})\n"
     ]
    }
   ],
   "source": [
    "import itertools, random\n",
    "potential_flights = list ( itertools.permutations ( airports, 2) )\n",
    "r = random.Random(117)\n",
    "\n",
    "for i in range(16):\n",
    "    to, dest = r.choice(potential_flights)\n",
    "    print to, dest\n",
    "    g.create(Relationship(to, \"Flies_To\", dest, cost = random.randint(20,100)))"
   ]
  },
  {
   "cell_type": "code",
   "execution_count": 22,
   "metadata": {
    "collapsed": false
   },
   "outputs": [
    {
     "name": "stdout",
     "output_type": "stream",
     "text": [
      "(u'an': (malaga:Airport {name:\"Malaga\"}), u'cost': 93)\n",
      "(u'an': (london:Airport {name:\"London\"}), u'cost': 193)\n"
     ]
    }
   ],
   "source": [
    "# From previous notebook with new cost\n",
    "connecting_flights_paris_to_dublin = \"\"\"\n",
    "MATCH (paris:Airport) - [f1:Flies_To] -> (an:Airport) - [f2:Flies_To]-> (dublin:Airport)\n",
    "WHERE paris.name='Paris' AND dublin.name = \"Dublin\"\n",
    "RETURN  an, f1.cost+f2.cost AS cost\n",
    "ORDER BY cost ASC\n",
    "\"\"\"\n",
    "results = g.run(connecting_flights_paris_to_dublin)\n",
    "for r in results:\n",
    "    print r"
   ]
  },
  {
   "cell_type": "code",
   "execution_count": 25,
   "metadata": {
    "collapsed": false
   },
   "outputs": [
    {
     "name": "stdout",
     "output_type": "stream",
     "text": [
      "origins (paris:Airport {name:\"Paris\"}) (dublin:Airport {name:\"Dublin\"})\n",
      "destination (malaga:Airport {name:\"Malaga\"}) \n",
      "\n",
      "origins (paris:Airport {name:\"Paris\"}) (dublin:Airport {name:\"Dublin\"})\n",
      "destination (london:Airport {name:\"London\"}) \n",
      "\n"
     ]
    }
   ],
   "source": [
    "# Start in different places\n",
    "multiple_origins = \"\"\"\n",
    "MATCH (paris:Airport) - [f1:Flies_To] -> (an:Airport), (dublin:Airport) - [f2:Flies_To]-> (an:Airport)\n",
    "WHERE paris.name='Paris' AND dublin.name = \"Dublin\"\n",
    "RETURN  *\n",
    "ORDER BY f1.cost + f2.cost ASC\n",
    "\"\"\"\n",
    "results = g.run(multiple_origins)\n",
    "\n",
    "for r in results:\n",
    "    \"NEW FLIGHT/n=========\"\n",
    "    print \"origins\", r['paris'], r['dublin']\n",
    "    print \"destination\", r['an'], \"\\n\""
   ]
  }
 ],
 "metadata": {
  "kernelspec": {
   "display_name": "Python 2",
   "language": "python",
   "name": "python2"
  },
  "language_info": {
   "codemirror_mode": {
    "name": "ipython",
    "version": 2
   },
   "file_extension": ".py",
   "mimetype": "text/x-python",
   "name": "python",
   "nbconvert_exporter": "python",
   "pygments_lexer": "ipython2",
   "version": "2.7.11"
  }
 },
 "nbformat": 4,
 "nbformat_minor": 0
}
