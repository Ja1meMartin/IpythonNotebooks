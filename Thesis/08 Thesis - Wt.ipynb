{
 "cells": [
  {
   "cell_type": "code",
   "execution_count": 2,
   "metadata": {
    "collapsed": false
   },
   "outputs": [],
   "source": [
    "from py2neo import authenticate, Graph, Relationship\n",
    "graph = Graph(\"http://localhost:7474/db/data/\")"
   ]
  },
  {
   "cell_type": "code",
   "execution_count": null,
   "metadata": {
    "collapsed": false
   },
   "outputs": [],
   "source": [
    "index = \"\"\"\n",
    "CREATE INDEX ON :AirportDay(airport);\n",
    "CREATE INDEX ON :Airport(continent);\n",
    "CREATE INDEX ON :Airport(country);\n",
    "CREATE INDEX ON :Airport(region);\n",
    "CREATE INDEX ON :Airport(city);\n",
    "\n",
    "CREATE INDEX ON :AirportDay(day);\n",
    "CREATE INDEX ON :AirportDay(airport)\n",
    "\"\"\"\n",
    "\n",
    "for statement in index.split(\";\"):\n",
    "    graph.run(statement)"
   ]
  },
  {
   "cell_type": "code",
   "execution_count": null,
   "metadata": {
    "collapsed": false
   },
   "outputs": [],
   "source": [
    "%%time\n",
    "query = \"\"\"\n",
    "MATCH (: Airport {country : 'IE'} ) <- [:HAS_AIRPORT] - (ad1:AirportDay)\n",
    "WITH ad1\n",
    "MATCH (ad1) - [f1:FLIGHT] - > (ad2:AirportDay)  - [:HAS_AIRPORT] -> (airport2: Airport {continent : 'EU'} ),\n",
    "(ad2) - [nm:NEXT_MARKET {days: 4}] - (ad3),\n",
    "(ad3) - [f2:FLIGHT] -> (ad4) - [:HAS_AIRPORT] -> (: Airport {country : 'IE'} )\n",
    "RETURN f1,f2\n",
    "\"\"\"\n",
    "\n",
    "t = list(graph.run(query))\n",
    "print len(t)"
   ]
  },
  {
   "cell_type": "code",
   "execution_count": null,
   "metadata": {
    "collapsed": true
   },
   "outputs": [],
   "source": [
    "%%time\n",
    "query = \"\"\"\n",
    "MATCH (: Airport {country : 'IE'} ) <- [:HAS_AIRPORT] - (ad1:AirportDay)\n",
    "WITH ad1\n",
    "MATCH (ad1) - [f1:FLIGHT] - > (ad2:AirportDay)  - [:HAS_AIRPORT] -> (: Airport) - [IN_CONTINENT] -(:Continent {continent: 'EU}) ,\n",
    "(ad2) - [nm:NEXT_MARKET {days: 4}] - (ad3),\n",
    "(ad3) - [f2:FLIGHT] -> (ad4) - [:HAS_AIRPORT] -> (: Airport {country : 'IE'} )\n",
    "RETURN f1,f2\n",
    "\"\"\"\n",
    "\n",
    "t = list(graph.run(query))\n",
    "print len(t)"
   ]
  },
  {
   "cell_type": "code",
   "execution_count": 8,
   "metadata": {
    "collapsed": false
   },
   "outputs": [
    {
     "name": "stdout",
     "output_type": "stream",
     "text": [
      "1520\n",
      "Wall time: 12.4 s\n"
     ]
    }
   ],
   "source": [
    "%%time\n",
    "query = \"\"\"\n",
    "MATCH (airport1: Airport {airport : 'Dublin Airport'} ) <- [:HAS_AIRPORT] - (ad1:AirportDay)\n",
    "WITH ad1, airport1\n",
    "MATCH (ad1) - [f1:FLIGHT] - > (ad2:AirportDay)  - [:HAS_AIRPORT] -> (airport2: Airport {continent : 'EU'} )\n",
    "WITH f1, airport1, ad2\n",
    "MATCH (ad2) - [nm:NEXT_MARKET {days: 4}] - (ad3)\n",
    "WITH f1, airport1, ad3\n",
    "MATCH (ad3) - [f2:FLIGHT] -> (ad4) - [:HAS_AIRPORT] -> (airport1)\n",
    "RETURN f1,f2\n",
    "\"\"\"\n",
    "\n",
    "t = list(graph.run(query))\n",
    "print len(t)"
   ]
  }
 ],
 "metadata": {
  "kernelspec": {
   "display_name": "Python 2",
   "language": "python",
   "name": "python2"
  },
  "language_info": {
   "codemirror_mode": {
    "name": "ipython",
    "version": 2
   },
   "file_extension": ".py",
   "mimetype": "text/x-python",
   "name": "python",
   "nbconvert_exporter": "python",
   "pygments_lexer": "ipython2",
   "version": "2.7.11"
  }
 },
 "nbformat": 4,
 "nbformat_minor": 0
}
