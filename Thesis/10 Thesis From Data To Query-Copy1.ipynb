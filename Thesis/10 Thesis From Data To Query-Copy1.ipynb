{
 "cells": [
  {
   "cell_type": "code",
   "execution_count": 1,
   "metadata": {
    "collapsed": true
   },
   "outputs": [],
   "source": [
    "from py2neo import authenticate, Graph, Relationship\n",
    "graph = Graph(\"http://localhost:7474/db/data/\")\n",
    "from py2neo import Node, Relationship"
   ]
  },
  {
   "cell_type": "code",
   "execution_count": 2,
   "metadata": {
    "collapsed": false
   },
   "outputs": [],
   "source": [
    "def cypher_statement_start(location, name, date, day):\n",
    "    location = location.lower()\n",
    "    if not location or not name:\n",
    "        raise ValueError(\"Must have a location and a name!\")\n",
    "        \n",
    "    statement = \"\"\"MATCH (airport1: Airport {{ {location} : '{name}' }} ) <- [:HAS_AIRPORT] - (ad1:AirportDay)\n",
    "    \"\"\".format(location=location, name=name)\n",
    "    \n",
    "    where = None\n",
    "    \n",
    "    if type(date) == list and type(date[0]) == int :\n",
    "        data_type = type(date[1])\n",
    "        if  data_type == int:\n",
    "            where = 'WHERE ad1.day >= {date1} AND ad1.day <= {date2}'.format(date1=min(date), date2=max(date))\n",
    "        elif date[1] is None:\n",
    "            where = 'WHERE ad1.day = {date}'.format(date=date[0])\n",
    "        elif date[1] in ['<=','>=','=']:\n",
    "            where = 'WHERE ad1.day {sign} {date}'.format(date=date[0], sign=date[1])\n",
    "        else:\n",
    "            raise ValueError('Invalid sign type ' + str(date[1])) \n",
    "    else:\n",
    "        if not date is None:\n",
    "            raise ValueError('Invalid date type ' + str(date))\n",
    "        \n",
    "    if where:\n",
    "        return statement  + where\n",
    "    \n",
    "    return statement \n",
    "    \n",
    "    \n",
    "def test_start(tup):\n",
    "    print \"TESTING:\", tup\n",
    "    statement = cypher_statement_start(*tup)\n",
    "    statement = statement + \" RETURN ad1\"\n",
    "    print statement, \"\\nLENGTH:\", len(list(graph.run(statement)))\n",
    "    print "
   ]
  },
  {
   "cell_type": "code",
   "execution_count": 3,
   "metadata": {
    "collapsed": false
   },
   "outputs": [
    {
     "name": "stdout",
     "output_type": "stream",
     "text": [
      "TESTING: ('City', 'London', [7, '>='], None)\n",
      "MATCH (airport1: Airport { city : 'London' } ) <- [:HAS_AIRPORT] - (ad1:AirportDay)\n",
      "    WHERE ad1.day >= 7 RETURN ad1 \n",
      "LENGTH: 36\n",
      "\n",
      "TESTING: ('City', 'London', [7, '<='], None)\n",
      "MATCH (airport1: Airport { city : 'London' } ) <- [:HAS_AIRPORT] - (ad1:AirportDay)\n",
      "    WHERE ad1.day <= 7 RETURN ad1 \n",
      "LENGTH: 28\n",
      "\n",
      "TESTING: ('City', 'London', [7, 8], None)\n",
      "MATCH (airport1: Airport { city : 'London' } ) <- [:HAS_AIRPORT] - (ad1:AirportDay)\n",
      "    WHERE ad1.day >= 7 AND ad1.day <= 8 RETURN ad1 \n",
      "LENGTH: 8\n",
      "\n",
      "TESTING: ('City', 'London', [7, None], None)\n",
      "MATCH (airport1: Airport { city : 'London' } ) <- [:HAS_AIRPORT] - (ad1:AirportDay)\n",
      "    WHERE ad1.day = 7 RETURN ad1 \n",
      "LENGTH: 4\n",
      "\n",
      "TESTING: ('City', 'Paris', None, None)\n",
      "MATCH (airport1: Airport { city : 'Paris' } ) <- [:HAS_AIRPORT] - (ad1:AirportDay)\n",
      "     RETURN ad1 \n",
      "LENGTH: 30\n",
      "\n"
     ]
    }
   ],
   "source": [
    "start_test_1 = ('City', 'Paris', None, None)\n",
    "start_test_2 = ('City', 'London', [7, None], None)\n",
    "start_test_3 = ('City', 'London', [7, 8], None)\n",
    "start_test_4 = ('City', 'London', [7, '<='], None)\n",
    "start_test_5 = ('City', 'London', [7, '>='], None)\n",
    "\n",
    "#test_start(start_test_2)\n",
    "test_start(start_test_5)\n",
    "test_start(start_test_4)\n",
    "test_start(start_test_3)\n",
    "test_start(start_test_2)\n",
    "test_start(start_test_1)\n"
   ]
  },
  {
   "cell_type": "code",
   "execution_count": 4,
   "metadata": {
    "collapsed": false
   },
   "outputs": [
    {
     "data": {
      "text/plain": [
       "\"(ad8:AirportDay)  - [:HAS_AIRPORT] -> (:Airport {city: 'Paris' })\""
      ]
     },
     "execution_count": 4,
     "metadata": {},
     "output_type": "execute_result"
    }
   ],
   "source": [
    "def cypher_statement_stop(location, name, stop_number):\n",
    "    no = str(stop_number*2)\n",
    "    airport_day = \"(ad\" + no + \":AirportDay)\"\n",
    "    airport = \"(:Airport {\" +location.lower() +\": '\"+ name +\"' })\"\n",
    "    statement = airport_day + \"  - [:HAS_AIRPORT] -> \" + airport  \n",
    "    return statement\n",
    "    \n",
    "cypher_statement_stop('City', 'Paris', 4)\n",
    "    "
   ]
  },
  {
   "cell_type": "code",
   "execution_count": 5,
   "metadata": {
    "collapsed": false
   },
   "outputs": [
    {
     "name": "stdout",
     "output_type": "stream",
     "text": [
      "MATCH (airport1: Airport { city : 'Dublin' } ) <- [:HAS_AIRPORT] - (ad1:AirportDay)\n",
      "    WHERE ad1.day = 7\n",
      "(ad2:AirportDay)  - [:HAS_AIRPORT] -> (:Airport {city: 'Oslo' })\n",
      "(ad4:AirportDay)  - [:HAS_AIRPORT] -> (:Airport {city: 'Paris' })\n",
      "(ad8:AirportDay)  - [:HAS_AIRPORT] -> (:Airport {city: 'Cork' })\n"
     ]
    }
   ],
   "source": [
    "def create_statement(start, stops, destination, inOrder = True, return_flight = True):\n",
    "    \n",
    "    processed_statements = []\n",
    "    \n",
    "    processed_statements.append(cypher_statement_start(*start)) \n",
    "    \n",
    "    \n",
    "    for index, stop in enumerate(stops, start = 1):\n",
    "        \n",
    "        if index > 2:\n",
    "            print \"\\n WE NEED A NEW MARKET \\n\"\n",
    "            \n",
    "        \n",
    "        processed_statements.append( cypher_statement_stop(stop[0], stop[1], index) )\n",
    "    \n",
    "    if destination:\n",
    "        processed_statements.append( cypher_statement_stop(destination[0], destination[1], len(processed_statements) + 1) )\n",
    "        \n",
    "    for ps in processed_statements:\n",
    "        print ps\n",
    "\n",
    "start = ('City','Dublin',[7,None], None)\n",
    "stop1 = ('City','Oslo',4,'Airport')\n",
    "stop2 = ('City','Paris',3,'City')\n",
    "destination = ('City','Cork',3, None)\n",
    "stops = [stop1,stop2]\n",
    "\n",
    "create_statement(start,stops, destination)"
   ]
  },
  {
   "cell_type": "code",
   "execution_count": 6,
   "metadata": {
    "collapsed": false
   },
   "outputs": [
    {
     "name": "stdout",
     "output_type": "stream",
     "text": [
      "NEW ST (ad2:AirportDay)  - [:HAS_AIRPORT] -> (:Airport {city: 'Oslo' })\n",
      "NEW ST (ad4:AirportDay)  - [:HAS_AIRPORT] -> (:Airport {city: 'Paris' })\n",
      "0 -1 0 MATCH (airport1: Airport { city : 'Dublin' } ) <- [:HAS_AIRPORT] - (ad1:AirportDay)\n",
      "    WHERE ad1.day = 7\n",
      "\n",
      "===========\n",
      "MATCH (airport1: Airport { city : 'Dublin' } ) <- [:HAS_AIRPORT] - (ad1:AirportDay)\n",
      "    WHERE ad1.day = 7 \n",
      "===========\n",
      "\n",
      "1 1 2 (ad2:AirportDay)  - [:HAS_AIRPORT] -> (:Airport {city: 'Oslo' })\n",
      "WE NEED TO ADD FLIGHT (ad2:AirportDay)  - [:HAS_AIRPORT] -> (:Airport {city: 'Oslo' })\n",
      "\n",
      "===========\n",
      "MATCH (airport1: Airport { city : 'Dublin' } ) <- [:HAS_AIRPORT] - (ad1:AirportDay)\n",
      "    WHERE ad1.day = 7\n",
      "MATCH (ad1) - [f1:FLIGHT] -> (ad2:AirportDay)  - [:HAS_AIRPORT] -> (:Airport {city: 'Oslo' }) \n",
      "===========\n",
      "\n",
      "2 3 4 (ad4:AirportDay)  - [:HAS_AIRPORT] -> (:Airport {city: 'Paris' })\n",
      "WE NEED A NEW MArKET\n",
      "1 Airport\n",
      "ADD MARKET (ad2)  - [:NEW_MARKET {days: 1}] - (ad3: AirportDay)\n",
      "WE NEED TO ADD FLIGHT (ad4:AirportDay)  - [:HAS_AIRPORT] -> (:Airport {city: 'Paris' })\n",
      "\n",
      "===========\n",
      "MATCH (airport1: Airport { city : 'Dublin' } ) <- [:HAS_AIRPORT] - (ad1:AirportDay)\n",
      "    WHERE ad1.day = 7\n",
      "MATCH (ad1) - [f1:FLIGHT] -> (ad2:AirportDay)  - [:HAS_AIRPORT] -> (:Airport {city: 'Oslo' })\n",
      "MATCH (ad2)  - [:NEW_MARKET {days: 1}] - (ad3: AirportDay)\n",
      "MATCH (ad3) - [f2:FLIGHT] -> (ad4:AirportDay)  - [:HAS_AIRPORT] -> (:Airport {city: 'Paris' }) \n",
      "===========\n",
      "\n",
      "3 5 6 (ad6:AirportDay)  - [:HAS_AIRPORT] -> (:Airport {city: 'Cork' })\n",
      "WE NEED A NEW MArKET\n",
      "2 None\n",
      "ADD MARKET (ad4)  - [:NEW_MARKET {days: 2}] - (ad5: AirportDay)\n",
      "WE NEED TO ADD FLIGHT (ad6:AirportDay)  - [:HAS_AIRPORT] -> (:Airport {city: 'Cork' })\n",
      "\n",
      "===========\n",
      "MATCH (airport1: Airport { city : 'Dublin' } ) <- [:HAS_AIRPORT] - (ad1:AirportDay)\n",
      "    WHERE ad1.day = 7\n",
      "MATCH (ad1) - [f1:FLIGHT] -> (ad2:AirportDay)  - [:HAS_AIRPORT] -> (:Airport {city: 'Oslo' })\n",
      "MATCH (ad2)  - [:NEW_MARKET {days: 1}] - (ad3: AirportDay)\n",
      "MATCH (ad3) - [f2:FLIGHT] -> (ad4:AirportDay)  - [:HAS_AIRPORT] -> (:Airport {city: 'Paris' })\n",
      "MATCH (ad4)  - [:NEW_MARKET {days: 2}] - (ad5: AirportDay)\n",
      "MATCH (ad5) - [f3:FLIGHT] -> (ad6:AirportDay)  - [:HAS_AIRPORT] -> (:Airport {city: 'Cork' }) \n",
      "===========\n",
      "\n",
      "MATCH (airport1: Airport { city : 'Dublin' } ) <- [:HAS_AIRPORT] - (ad1:AirportDay)\n",
      "    WHERE ad1.day = 7\n",
      "(ad2:AirportDay)  - [:HAS_AIRPORT] -> (:Airport {city: 'Oslo' })\n",
      "(ad4:AirportDay)  - [:HAS_AIRPORT] -> (:Airport {city: 'Paris' })\n",
      "(ad6:AirportDay)  - [:HAS_AIRPORT] -> (:Airport {city: 'Cork' })\n"
     ]
    }
   ],
   "source": [
    "def create_statement(start, stops, destination, inOrder = True, return_flight = True):\n",
    "    \n",
    "    processed_statements = []\n",
    "    \n",
    "    processed_statements.append(cypher_statement_start(*start))\n",
    "    all_tuples = [start]\n",
    "    \n",
    "    \n",
    "    for index, stop in enumerate(stops, start = 1):\n",
    "                  \n",
    "        s = cypher_statement_stop(stop[0], stop[1], index)\n",
    "        print \"NEW ST\", s\n",
    "                                  \n",
    "        processed_statements.append( s) \n",
    "        all_tuples.append(stop)\n",
    "    \n",
    "    if destination:\n",
    "        processed_statements.append( cypher_statement_stop(destination[0], destination[1], len(processed_statements)  )) \n",
    "        \n",
    "    pairs = ((x*2-1,x*2, statement) for x, statement in enumerate(processed_statements))\n",
    "    \n",
    "    statement = \"\"\n",
    "    \n",
    "    for index, pair in enumerate(pairs):\n",
    "        \n",
    "        early, late, ps = pair\n",
    "        \n",
    "        print index, early, late, ps\n",
    "        \n",
    "        if index >= 2: ## FIND NEW MARKET\n",
    "            prev = early - 1\n",
    "            duration, location = all_tuples[index-1][2:]\n",
    "            \n",
    "            print \"WE NEED A NEW MArKET\"\n",
    "            print duration, location\n",
    "            \n",
    "            if not location or location == 'Airport':\n",
    "                market1 = \"(ad\" + str(early-1) + \") \"\n",
    "                market2 = \"(ad\" + str(early) + \": AirportDay)\"\n",
    "                add = market1 + \" - [:NEW_MARKET {days: \" + str(duration) + \"}] - \" + market2\n",
    "                print \"ADD MARKET\", add\n",
    "                statement = statement + \"\\nMATCH \" + add\n",
    "            \n",
    "        if index >= 1: ## Connect Flight\n",
    "            print \"WE NEED TO ADD FLIGHT\", processed_statements[index]\n",
    "            statement = statement + \"\\nMATCH (ad\" + str(early) \n",
    "            statement = statement + \") - [f\" + str(index) + \":FLIGHT] -> \" + processed_statements[index]\n",
    "            \n",
    "        else:\n",
    "            statement = statement + processed_statements[index]\n",
    "        \n",
    "                \n",
    "            \n",
    "        print \"\\n===========\\n\", statement, \"\\n===========\\n\"\n",
    "    for ps in processed_statements:\n",
    "        all_tuples.append(destination)\n",
    "        print ps\n",
    "\n",
    "start = ('City','Dublin',[7,None], None)\n",
    "stop1 = ('City','Oslo',1,'Airport')\n",
    "stop2 = ('City','Paris',2,None)\n",
    "destination = ('City','Cork',3, None)\n",
    "stops = [stop1,stop2]\n",
    "\n",
    "create_statement(start,stops, destination)"
   ]
  }
 ],
 "metadata": {
  "kernelspec": {
   "display_name": "Python 2",
   "language": "python",
   "name": "python2"
  },
  "language_info": {
   "codemirror_mode": {
    "name": "ipython",
    "version": 2
   },
   "file_extension": ".py",
   "mimetype": "text/x-python",
   "name": "python",
   "nbconvert_exporter": "python",
   "pygments_lexer": "ipython2",
   "version": "2.7.11"
  }
 },
 "nbformat": 4,
 "nbformat_minor": 0
}
