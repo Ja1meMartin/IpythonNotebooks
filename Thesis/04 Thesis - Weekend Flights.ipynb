{
 "cells": [
  {
   "cell_type": "code",
   "execution_count": 1,
   "metadata": {
    "collapsed": false
   },
   "outputs": [
    {
     "name": "stdout",
     "output_type": "stream",
     "text": [
      "{'Britain': ['London'], 'Spain': ['Malaga'], 'Ireland': ['Dublin'], 'France': ['Paris', 'Toulouse', 'Bordeaux']}\n",
      "CREATE (Dublin:Airport {name:\"Dublin\"}),(Paris:Airport {name:\"Paris\"}),(Toulouse:Airport {name:\"Toulouse\"}),(Bordeaux:Airport {name:\"Bordeaux\"}),(London:Airport {name:\"London\"}),(Malaga:Airport {name:\"Malaga\"})\n"
     ]
    }
   ],
   "source": [
    "import py2neo\n",
    "\n",
    "airport_names = [\"Dublin\", \"Paris\",\"Toulouse\", \"Bordeaux\", \"London\", \"Malaga\"]\n",
    "airport_countries = [\"Ireland\",\"France\",\"France\",\"France\",\"Britain\",\"Spain\"]\n",
    "\n",
    "airport_dict = {}\n",
    "\n",
    "for name, country in zip(airport_names, airport_countries):\n",
    "    l = airport_dict.get(country, [])\n",
    "    l.append(name)\n",
    "    airport_dict[country] = l\n",
    "    \n",
    "print airport_dict\n",
    "WEEKDAYS = [\"MONDAY\", \"TUESDAY\", \"WEDNESDAY\", \"THURSDAY\", \"FRIDAY\", \"SATURDAY\", \"SUNDAY\"]\n",
    "\n",
    "print \"CREATE\", \",\".join ( [ '({name}:Airport {{name:\"{name}\"}})'.format(name=a) for a in airport_names])"
   ]
  },
  {
   "cell_type": "code",
   "execution_count": 2,
   "metadata": {
    "collapsed": false
   },
   "outputs": [],
   "source": [
    "from py2neo import authenticate, Graph, Relationship\n",
    "g = Graph(\"http://localhost:7474/db/data/\")\n"
   ]
  },
  {
   "cell_type": "code",
   "execution_count": 3,
   "metadata": {
    "collapsed": false
   },
   "outputs": [
    {
     "name": "stdout",
     "output_type": "stream",
     "text": [
      "Britain and its airports: ['London']\n",
      "Spain and its airports: ['Malaga']\n",
      "Ireland and its airports: ['Dublin']\n",
      "France and its airports: ['Paris', 'Toulouse', 'Bordeaux']\n",
      "[((paris:Airport {name:\"Paris\"}), (toulouse:Airport {name:\"Toulouse\"})), ((paris:Airport {name:\"Paris\"}), (bordeaux:Airport {name:\"Bordeaux\"})), ((toulouse:Airport {name:\"Toulouse\"}), (bordeaux:Airport {name:\"Bordeaux\"}))] list\n"
     ]
    }
   ],
   "source": [
    "g.delete_all()\n",
    "from py2neo import Node\n",
    "try:\n",
    "    g.schema.create_uniqueness_constraint(\"Airport\", \"name\")\n",
    "    g.schema.create_uniqueness_constraint(\"Weekday\", \"weekday\")\n",
    "except:\n",
    "    pass\n",
    "\n",
    "import itertools\n",
    "\n",
    "for country, airports in airport_dict.iteritems():\n",
    "    print country, \"and its airports:\", airports\n",
    "    nodes = [Node(\"Airport\", name=a) for a in airports]\n",
    "    for node in nodes:\n",
    "        g.create( node )\n",
    "    \n",
    "    if len(nodes) > 1:\n",
    "        same_country = list(itertools.combinations ( nodes , 2 ))\n",
    "        print same_country, \"list\"\n",
    "        for a,b in same_country:\n",
    "            g.create(Relationship(a, \"Same_Country\", b))\n",
    "            \n",
    "for day in WEEKDAYS:\n",
    "    g.create ( Node ( \"Weekday\" , day) )"
   ]
  },
  {
   "cell_type": "code",
   "execution_count": 4,
   "metadata": {
    "collapsed": false
   },
   "outputs": [],
   "source": [
    "airports = list(g.find(\"Airport\"))\n",
    "weekdays = list(g.find(\"Weekday\"))"
   ]
  },
  {
   "cell_type": "code",
   "execution_count": 5,
   "metadata": {
    "collapsed": false
   },
   "outputs": [
    {
     "name": "stdout",
     "output_type": "stream",
     "text": [
      "(e7e7370:Airport {name:\"London\"}) (bordeaux:Airport {name:\"Bordeaux\"})\n",
      "(e7e7370)-[:Flight_Out]->(dc04921)\n",
      "(dc04921)-[:Flight_In]->(bordeaux)\n",
      "(dc04921:Flight {flight_cost:39,flight_name:\"Lo-Bo-243\"})\n",
      "(e7e7370:Airport {name:\"London\"}) (toulouse:Airport {name:\"Toulouse\"})\n",
      "(e7e7370)-[:Flight_Out]->(c866df0)\n",
      "(c866df0)-[:Flight_In]->(toulouse)\n",
      "(c866df0:Flight {flight_cost:52,flight_name:\"Lo-To-610\"})\n",
      "(toulouse:Airport {name:\"Toulouse\"}) (bordeaux:Airport {name:\"Bordeaux\"})\n",
      "(toulouse)-[:Flight_Out]->(a01fc75)\n",
      "(a01fc75)-[:Flight_In]->(bordeaux)\n",
      "(a01fc75:Flight {flight_cost:48,flight_name:\"To-Bo-978\"})\n",
      "(e7e7370:Airport {name:\"London\"}) (bordeaux:Airport {name:\"Bordeaux\"})\n",
      "(e7e7370)-[:Flight_Out]->(d089a10)\n",
      "(d089a10)-[:Flight_In]->(bordeaux)\n",
      "(d089a10:Flight {flight_cost:55,flight_name:\"Lo-Bo-481\"})\n",
      "(toulouse:Airport {name:\"Toulouse\"}) (baf9572:Airport {name:\"Malaga\"})\n",
      "(toulouse)-[:Flight_Out]->(e01b307)\n",
      "(e01b307)-[:Flight_In]->(baf9572)\n",
      "(e01b307:Flight {flight_cost:20,flight_name:\"To-Ma-634\"})\n",
      "(bordeaux:Airport {name:\"Bordeaux\"}) (f560c4b:Airport {name:\"Dublin\"})\n",
      "(bordeaux)-[:Flight_Out]->(b50119b)\n",
      "(b50119b)-[:Flight_In]->(f560c4b)\n",
      "(b50119b:Flight {flight_cost:71,flight_name:\"Bo-Du-596\"})\n",
      "(bordeaux:Airport {name:\"Bordeaux\"}) (baf9572:Airport {name:\"Malaga\"})\n",
      "(bordeaux)-[:Flight_Out]->(c23c9c9)\n",
      "(c23c9c9)-[:Flight_In]->(baf9572)\n",
      "(c23c9c9:Flight {flight_cost:96,flight_name:\"Bo-Ma-202\"})\n",
      "(paris:Airport {name:\"Paris\"}) (toulouse:Airport {name:\"Toulouse\"})\n",
      "(paris)-[:Flight_Out]->(efb8563)\n",
      "(efb8563)-[:Flight_In]->(toulouse)\n",
      "(efb8563:Flight {flight_cost:93,flight_name:\"Pa-To-290\"})\n",
      "(f560c4b:Airport {name:\"Dublin\"}) (paris:Airport {name:\"Paris\"})\n",
      "(f560c4b)-[:Flight_Out]->(caeac35)\n",
      "(caeac35)-[:Flight_In]->(paris)\n",
      "(caeac35:Flight {flight_cost:46,flight_name:\"Du-Pa-378\"})\n",
      "(bordeaux:Airport {name:\"Bordeaux\"}) (f560c4b:Airport {name:\"Dublin\"})\n",
      "(bordeaux)-[:Flight_Out]->(ca0faa0)\n",
      "(ca0faa0)-[:Flight_In]->(f560c4b)\n",
      "(ca0faa0:Flight {flight_cost:65,flight_name:\"Bo-Du-945\"})\n",
      "(baf9572:Airport {name:\"Malaga\"}) (toulouse:Airport {name:\"Toulouse\"})\n",
      "(baf9572)-[:Flight_Out]->(fef60ca)\n",
      "(fef60ca)-[:Flight_In]->(toulouse)\n",
      "(fef60ca:Flight {flight_cost:20,flight_name:\"Ma-To-633\"})\n",
      "(baf9572:Airport {name:\"Malaga\"}) (paris:Airport {name:\"Paris\"})\n",
      "(baf9572)-[:Flight_Out]->(d2aa763)\n",
      "(d2aa763)-[:Flight_In]->(paris)\n",
      "(d2aa763:Flight {flight_cost:46,flight_name:\"Ma-Pa-997\"})\n",
      "(toulouse:Airport {name:\"Toulouse\"}) (f560c4b:Airport {name:\"Dublin\"})\n",
      "(toulouse)-[:Flight_Out]->(c386a8c)\n",
      "(c386a8c)-[:Flight_In]->(f560c4b)\n",
      "(c386a8c:Flight {flight_cost:72,flight_name:\"To-Du-777\"})\n",
      "(toulouse:Airport {name:\"Toulouse\"}) (bordeaux:Airport {name:\"Bordeaux\"})\n",
      "(toulouse)-[:Flight_Out]->(f79ccc6)\n",
      "(f79ccc6)-[:Flight_In]->(bordeaux)\n",
      "(f79ccc6:Flight {flight_cost:56,flight_name:\"To-Bo-928\"})\n",
      "(baf9572:Airport {name:\"Malaga\"}) (toulouse:Airport {name:\"Toulouse\"})\n",
      "(baf9572)-[:Flight_Out]->(fb552f8)\n",
      "(fb552f8)-[:Flight_In]->(toulouse)\n",
      "(fb552f8:Flight {flight_cost:92,flight_name:\"Ma-To-451\"})\n",
      "(baf9572:Airport {name:\"Malaga\"}) (toulouse:Airport {name:\"Toulouse\"})\n",
      "(baf9572)-[:Flight_Out]->(da78936)\n",
      "(da78936)-[:Flight_In]->(toulouse)\n",
      "(da78936:Flight {flight_cost:29,flight_name:\"Ma-To-442\"})\n"
     ]
    }
   ],
   "source": [
    "import random\n",
    "potential_flights = list ( itertools.permutations ( airports, 2) )\n",
    "random.seed(117)\n",
    "\n",
    "for i in range(16):\n",
    "    \n",
    "    cost = random.randint(20,100)\n",
    "    to, dest = random.choice(potential_flights)\n",
    "    weekday = random.choice(weekdays)\n",
    "    flight_name = to['name'][:2]+'-'+dest['name'][:2]+'-'+str(random.randint(101,1000))\n",
    "    print to, dest\n",
    "    flight_node = Node(\"Flight\", flight_name = flight_name, flight_cost = cost)\n",
    "    out, landing = Relationship(to, \"Flight_Out\", flight_node), Relationship(flight_node, \"Flight_In\", dest)\n",
    "    print out\n",
    "    print landing\n",
    "    g.create(flight_node )\n",
    "    g.create(out)\n",
    "    g.create(landing)\n",
    "    print flight_node"
   ]
  },
  {
   "cell_type": "code",
   "execution_count": 6,
   "metadata": {
    "collapsed": false
   },
   "outputs": [
    {
     "name": "stdout",
     "output_type": "stream",
     "text": [
      "There are 4 results \n",
      "\n",
      "Paris 46\n",
      "Toulouse 20\n"
     ]
    }
   ],
   "source": [
    "\n",
    "flights_from_malaga = \"\"\"\n",
    "MATCH (malaga:Airport) - [out:Flight_Out] - (f:Flight) - [in:Flight_In] - (dest:Airport)\n",
    "WHERE malaga.name='Malaga' \n",
    "RETURN  *\n",
    "\"\"\"\n",
    "from itertools import groupby\n",
    "\n",
    "results = list(g.run(flights_from_malaga))\n",
    "\n",
    "print \"There are {0} results \\n\" .format ( str(len(results)) ) \n",
    "\n",
    "import operator\n",
    "\n",
    "results_dict = {}\n",
    "\n",
    "for key, group in groupby(results, lambda result: result['dest']['name']):\n",
    "    key_dict = results_dict.get(key, [])\n",
    "    key_dict.extend( group )\n",
    "    results_dict[key] = key_dict\n",
    "    \n",
    "for key in results_dict.keys():\n",
    "    print key, min ( results_dict[key] , key = operator.itemgetter(1) )['f']['flight_cost']"
   ]
  },
  {
   "cell_type": "code",
   "execution_count": 7,
   "metadata": {
    "collapsed": false
   },
   "outputs": [
    {
     "name": "stdout",
     "output_type": "stream",
     "text": [
      "(e7e7370:Airport {name:\"London\"})\n",
      "(baf9572:Airport {name:\"Malaga\"})\n",
      "(f560c4b:Airport {name:\"Dublin\"})\n",
      "(paris:Airport {name:\"Paris\"})\n",
      "(toulouse:Airport {name:\"Toulouse\"})\n",
      "(bordeaux:Airport {name:\"Bordeaux\"})\n"
     ]
    }
   ],
   "source": [
    "# Not sure why identifiers != name\n",
    "for node in airports:\n",
    "    print node"
   ]
  }
 ],
 "metadata": {
  "kernelspec": {
   "display_name": "Python 2",
   "language": "python",
   "name": "python2"
  },
  "language_info": {
   "codemirror_mode": {
    "name": "ipython",
    "version": 2
   },
   "file_extension": ".py",
   "mimetype": "text/x-python",
   "name": "python",
   "nbconvert_exporter": "python",
   "pygments_lexer": "ipython2",
   "version": "2.7.11"
  }
 },
 "nbformat": 4,
 "nbformat_minor": 0
}
