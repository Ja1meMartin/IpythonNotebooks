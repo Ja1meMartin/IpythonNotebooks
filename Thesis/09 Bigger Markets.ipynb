{
 "cells": [
  {
   "cell_type": "code",
   "execution_count": null,
   "metadata": {
    "collapsed": true
   },
   "outputs": [],
   "source": []
  },
  {
   "cell_type": "code",
   "execution_count": 1,
   "metadata": {
    "collapsed": false
   },
   "outputs": [
    {
     "name": "stdout",
     "output_type": "stream",
     "text": [
      "id 4154\n",
      "ident LFMK\n",
      "type medium_airport\n",
      "name Carcassonne Airport\n",
      "latitude_deg 43.215999603271484\n",
      "longitude_deg 2.3063199520111084\n",
      "elevation_ft 433\n",
      "continent EU\n",
      "iso_country FR\n",
      "iso_region FR-K\n",
      "municipality Carcassonne/Salvaza\n",
      "scheduled_service yes\n",
      "gps_code LFMK\n",
      "iata_code CCF\n",
      "local_code \n",
      "home_link \n",
      "wikipedia_link http://en.wikipedia.org/wiki/Carcassonne_Salvaza_Airport\n",
      "keywords \n",
      "['id', 'ident', 'type', 'name', 'latitude_deg', 'longitude_deg', 'elevation_ft', 'continent', 'iso_country', 'iso_region', 'municipality', 'scheduled_service', 'gps_code', 'iata_code', 'local_code', 'home_link', 'wikipedia_link', 'keywords']\n"
     ]
    }
   ],
   "source": [
    "import csv\n",
    "\n",
    "reader = []\n",
    "\n",
    "with open('airports.csv', 'rb') as filename:\n",
    "    reader = list(csv.reader(filename))\n",
    "    \n",
    "    \n",
    "    #for row in reader:\n",
    "        #if row[2] == 'large_airport':\n",
    "            #print row[3]\n",
    "            \n",
    "    for key, value in zip ( reader[0], reader [27863]):\n",
    "        print key, value\n",
    "        \n",
    "    print reader[0]"
   ]
  },
  {
   "cell_type": "code",
   "execution_count": 2,
   "metadata": {
    "collapsed": false
   },
   "outputs": [
    {
     "name": "stdout",
     "output_type": "stream",
     "text": [
      "311396, FR-L, Brive Souillac Airport, 45.039722, 1.485556, EU, FR, \n",
      "4058, FR-B, Agen-La Garenne Airport, 44.17470169067383, 0.5905560255050659, EU, FR, Agen/La Garenne\n",
      "4060, FR-B, Bordeaux-Mérignac Airport, 44.828300476100004, -0.715556025505, EU, FR, Bordeaux/Mérignac\n",
      "4061, FR-B, Bergerac-Roumanière Airport, 44.82529830932617, 0.5186110138893127, EU, FR, Bergerac/Roumanière\n",
      "4064, FR-T, La Rochelle-Île de Ré Airport, 46.17919921875, -1.1952799558639526, EU, FR, La Rochelle/Île de Ré\n",
      "4065, FR-T, Poitiers-Biard Airport, 46.58769989013672, 0.30666598677635193, EU, FR, Poitiers/Biard\n",
      "4067, FR-L, Limoges Airport, 45.86280059814453, 1.1794400215148926, EU, FR, Limoges/Bellegarde\n",
      "4070, FR-N, Toulouse-Blagnac Airport, 43.629101, 1.36382, EU, FR, Toulouse/Blagnac\n",
      "4071, FR-B, Pau Pyrénées Airport, 43.380001068115234, -0.41861099004745483, EU, FR, Pau/Pyrénées (Uzein)\n",
      "4073, FR-N, Tarbes-Lourdes-Pyrénées Airport, 43.1786994934082, -0.006438999902456999, EU, FR, Tarbes/Lourdes/Pyrénées\n",
      "4074, FR-T, Angoulême-Brie-Champniers Airport, 45.72919845581055, 0.22145600616931915, EU, FR, Angoulême/Brie/Champniers\n",
      "4077, FR-B, Biarritz-Anglet-Bayonne Airport, 43.46839904785156, -1.523319959640503, EU, FR, Biarritz/Anglet/Bayonne\n",
      "4082, FR-N, Castres-Mazamet Airport, 43.55630111694336, 2.289180040359497, EU, FR, Castres/Mazamet\n",
      "4086, FR-N, Rodez-Marcillac Airport, 44.407901763916016, 2.4826700687408447, EU, FR, Rodez/Marcillac\n",
      "4101, FR-R, Île d'Yeu Airport, 46.71860122680664, -2.3911099433898926, EU, FR, Île d'Yeu\n",
      "4111, FR-C, Le Puy-Loudes Airport, 45.0806999206543, 3.762890100479126, EU, FR, Le Puy/Loudes\n",
      "4120, FR-M, Metz-Nancy-Lorraine Airport, 48.9821014404, 6.25131988525, EU, FR, Metz / Nancy\n",
      "4121, FR-R, Angers-Loire Airport, 47.560298919677734, -0.3122220039367676, EU, FR, Angers/Marcé\n",
      "4123, FR-H, Bastia-Poretta Airport, 42.55270004272461, 9.48373031616211, EU, FR, Bastia/Poretta\n",
      "4124, FR-H, Calvi-Sainte-Catherine Airport, 42.530799865722656, 8.793190002441406, EU, FR, Calvi/Sainte-Catherine\n",
      "4125, FR-H, Figari Sud-Corse Airport, 41.5005989074707, 9.097780227661133, EU, FR, Figari Sud-Corse\n",
      "4126, FR-H, Ajaccio-Napoléon Bonaparte Airport, 41.92359924316406, 8.8029203414917, EU, FR, Ajaccio/Napoléon Bonaparte\n",
      "4131, FR-V, Chambéry-Savoie Airport, 45.638099670410156, 5.880229949951172, EU, FR, Chambéry/Aix-les-Bains\n",
      "4132, FR-C, Clermont-Ferrand Auvergne Airport, 45.7867012024, 3.1691699028, EU, FR, Clermont-Ferrand/Auvergne\n",
      "4137, FR-V, Lyon Saint-Exupéry Airport, 45.726398468, 5.0908298492399995, EU, FR, Lyon\n",
      "4141, FR-V, Annecy-Haute-Savoie-Mont Blanc Airport, 45.92919921875, 6.09876012802124, EU, FR, Annecy/Meythet\n",
      "4142, FR-V, Grenoble-Isère Airport, 45.36289978027344, 5.329370021820068, EU, FR, Grenoble/Saint-Geoirs\n",
      "4146, FR-C, Aurillac Airport, 44.89139938354492, 2.4219400882720947, EU, FR, Aurillac\n",
      "4151, FR-U, Cannes-Mandelieu Airport, 43.54199981689453, 6.953479766845703, EU, FR, Cannes/Mandelieu\n",
      "4152, FR-V, Saint-Étienne-Bouthéon Airport, 45.54059982299805, 4.296390056610107, EU, FR, Saint-Étienne/Bouthéon\n",
      "4154, FR-K, Carcassonne Airport, 43.215999603271484, 2.3063199520111084, EU, FR, Carcassonne/Salvaza\n",
      "4155, FR-U, Marseille Provence Airport, 43.439271922, 5.22142410278, EU, FR, Marseille\n",
      "4156, FR-U, Nice-Côte d'Azur Airport, 43.6584014893, 7.215869903560001, EU, FR, Nice\n",
      "4158, FR-K, Perpignan-Rivesaltes (Llabanère) Airport, 42.74039840698242, 2.8706700801849365, EU, FR, Perpignan/Rivesaltes\n",
      "4161, FR-K, Montpellier-Méditerranée Airport, 43.57619857788086, 3.96301007270813, EU, FR, Montpellier/Méditerranée\n",
      "4162, FR-K, Béziers-Vias Airport, 43.32350158691406, 3.3538999557495117, EU, FR, Béziers/Vias\n",
      "4163, FR-U, Avignon-Caumont Airport, 43.90729904174805, 4.901830196380615, EU, FR, Avignon/Caumont\n",
      "4169, FR-S, Paris Beauvais Tillé Airport, 49.45439910888672, 2.1127800941467285, EU, FR, Beauvais/Tillé\n",
      "4173, FR-Q, Le Havre Octeville Airport, 49.53390121459961, 0.08805599808692932, EU, FR, Le Havre/Octeville\n",
      "4177, FR-Q, Rouen Airport, 49.38420104980469, 1.1748000383377075, EU, FR, Rouen/Vallée de Seine\n",
      "4179, FR-F, Tours-Val-de-Loire Airport, 47.4322013855, 0.727605998516, EU, FR, Tours/Val de Loire (Loire Valley)\n",
      "4185, FR-J, Charles de Gaulle International Airport, 49.0127983093, 2.54999995232, EU, FR, Paris\n",
      "4189, FR-J, Paris-Orly Airport, 48.7252998352, 2.35944008827, EU, FR, Paris\n",
      "4190, FR-J, Pontoise - Cormeilles-en-Vexin Airport, 49.0966, 2.04083, EU, FR, Cormeilles-en-Vexin\n",
      "4202, FR-O, Lille-Lesquin Airport, 50.5619010925293, 3.089440107345581, EU, FR, Lille/Lesquin\n",
      "4206, FR-E, Brest Bretagne Airport, 48.447898864746094, -4.418540000915527, EU, FR, Brest/Guipavas\n",
      "4207, FR-P, Cherbourg-Maupertus Airport, 49.65010070800781, -1.4702800512313843, EU, FR, Cherbourg/Maupertus\n",
      "4208, FR-E, Dinard-Pleurtuit-Saint-Malo Airport, 48.58769989013672, -2.0799601078033447, EU, FR, Dinard/Pleurtuit/Saint-Malo\n",
      "4212, FR-E, Lorient South Brittany (Bretagne Sud) Airport, 47.76060104370117, -3.440000057220459, EU, FR, Lorient/Lann/Bihoué\n",
      "4215, FR-P, Caen-Carpiquet Airport, 49.173301696777344, -0.44999998807907104, EU, FR, Caen/Carpiquet\n",
      "4218, FR-E, Rennes-Saint-Jacques Airport, 48.069499969499994, -1.73478996754, EU, FR, Rennes/Saint-Jacques\n",
      "4219, FR-E, Lannion-Côte de Granit Airport, 48.754398345947266, -3.4716598987579346, EU, FR, Lannion\n",
      "4220, FR-E, Quimper-Cornouaille Airport, 47.974998474121094, -4.167789936065674, EU, FR, Quimper/Pluguffan\n",
      "4221, FR-R, Nantes Atlantique Airport, 47.153198242200006, -1.61073005199, EU, FR, Nantes\n",
      "4226, FR-A, EuroAirport Basel-Mulhouse-Freiburg Airport, 47.59, 7.5291667, EU, FR, Bâle/Mulhouse\n",
      "4228, FR-D, Dijon-Bourgogne Airport, 47.268901825, 5.09000015259, EU, FR, Dijon/Longvic\n",
      "4230, FR-M, Épinal-Mirecourt Airport, 48.32500076293945, 6.069980144500732, EU, FR, Épinal/Mirecourt\n",
      "4237, FR-G, Reims-Champagne (BA 112) Airport, 49.310001373291016, 4.050000190734863, EU, FR, Reims/Champagne\n",
      "4238, FR-A, Strasbourg Airport, 48.538299560546875, 7.628230094909668, EU, FR, Strasbourg\n",
      "4241, FR-U, Toulon-Hyères Airport, 43.0973014832, 6.14602994919, EU, FR, Toulon/Hyères/Le Palyvestre\n",
      "4242, FR-K, Nîmes-Arles-Camargue Airport, 43.75740051269531, 4.4163498878479, EU, FR, Nîmes/Garons\n"
     ]
    }
   ],
   "source": [
    "lon,lat = 52.6541, -7.2448\n",
    "\n",
    "def dist(x,y):\n",
    "    lon,lat = 52.6541, -7.2448\n",
    "    return abs(lon -float(x)) + abs(lat - float(y)) < 1\n",
    "\n",
    "for row in reader[1:]:\n",
    "    if row[8] == 'FR' and row[2] in ['large_airport', 'medium_airport'] and row[11]=='yes':\n",
    "        print ( \", \".join ( row[x] for x in [0,9,3,4,5,7,8,10]) )\n",
    "            #print \" \".join(row)"
   ]
  },
  {
   "cell_type": "code",
   "execution_count": 3,
   "metadata": {
    "collapsed": false
   },
   "outputs": [],
   "source": [
    "from py2neo import authenticate, Graph, Relationship\n",
    "graph = Graph(\"http://localhost:7474/db/data/\")\n",
    "from py2neo import Node, Relationship\n",
    "graph.delete_all()"
   ]
  },
  {
   "cell_type": "code",
   "execution_count": 4,
   "metadata": {
    "collapsed": false
   },
   "outputs": [],
   "source": [
    "NO_OF_DAYS = 15\n",
    "days = [ Node(\"Date\", date = i) for i in range (1,NO_OF_DAYS+1)]\n",
    "\n",
    "processed_days = []\n",
    "\n",
    "for day in days:\n",
    "    graph.create( day )\n",
    "    \n",
    "    for pd in processed_days:\n",
    "        relationship = Relationship (pd, \"Later\", day)\n",
    "        days_between = day['date'] - pd['date']\n",
    "        relationship['date'] = days_between\n",
    "        graph.create( relationship )\n",
    "        \n",
    "    processed_days.append(day)"
   ]
  },
  {
   "cell_type": "code",
   "execution_count": 5,
   "metadata": {
    "collapsed": false
   },
   "outputs": [
    {
     "name": "stdout",
     "output_type": "stream",
     "text": [
      "123, IS-2, Keflavik International Airport, 63.985000610352, -22.605600357056, EU, IS, Reykjavík, large_airport\n",
      "4614, XK-01, Priština International Airport, 42.5728, 21.035801, EU, XK, Prishtina, large_airport\n",
      "2155, BE-BRU, Brussels Airport, 50.901401519800004, 4.48443984985, EU, BE, Brussels, large_airport\n",
      "2157, BE-WHT, Brussels South Charleroi Airport, 50.459201812699995, 4.45382022858, EU, BE, Brussels, large_airport\n",
      "2162, BE-WLG, Liège Airport, 50.63740158081055, 5.443220138549805, EU, BE, Liège, large_airport\n",
      "2209, DE-BR, Berlin-Schönefeld International Airport, 52.380001068115, 13.522500038147, EU, DE, Berlin, large_airport\n",
      "2210, DE-SN, Dresden Airport, 51.1328010559082, 13.767200469970703, EU, DE, Dresden, large_airport\n",
      "2212, DE-HE, Frankfurt am Main International Airport, 50.026402, 8.54313, EU, DE, Frankfurt-am-Main, large_airport\n",
      "2213, DE-NW, Münster Osnabrück Airport, 52.134601593, 7.68483018875, EU, DE, Münster, large_airport\n",
      "2214, DE-HH, Hamburg Airport, 53.630401611328, 9.9882297515869, EU, DE, Hamburg, large_airport\n",
      "2216, DE-NW, Cologne Bonn Airport, 50.8658981323, 7.1427397728, EU, DE, Cologne, large_airport\n",
      "2217, DE-NW, Düsseldorf International Airport, 51.28950119018555, 6.766779899597168, EU, DE, Düsseldorf, large_airport\n",
      "2218, DE-BY, Munich International Airport, 48.353801727295, 11.786100387573, EU, DE, Munich, large_airport\n",
      "2219, DE-BY, Nuremberg Airport, 49.4986991882, 11.066900253299998, EU, DE, Nuremberg, large_airport\n",
      "2220, DE-SN, Leipzig Halle Airport, 51.43239974975586, 12.241600036621094, EU, DE, Leipzig, large_airport\n",
      "2222, DE-BW, Stuttgart Airport, 48.689899444599995, 9.22196006775, EU, DE, Stuttgart, large_airport\n",
      "2223, DE-BE, Berlin-Tegel International Airport, 52.5597000122, 13.2876996994, EU, DE, Berlin, large_airport\n",
      "2224, DE-NI, Hannover Airport, 52.461101532, 9.685079574580001, EU, DE, Hannover, large_airport\n",
      "2225, DE-HB, Bremen Airport, 53.0475006104, 8.78666973114, EU, DE, Bremen, large_airport\n",
      "2247, DE-NW, Dortmund Airport, 51.51829910279999, 7.61223983765, EU, DE, Dortmund, large_airport\n",
      "2270, DE-BW, Karlsruhe Baden-Baden Airport, 48.7793998718, 8.08049964905, EU, DE, Baden-Baden, large_airport\n",
      "2301, EE-37, Lennart Meri Tallinn Airport, 59.41329956049999, 24.832799911499997, EU, EE, Tallinn, large_airport\n",
      "2307, FI-ES, Helsinki Vantaa Airport, 60.317199707031, 24.963300704956, EU, FI, Helsinki, large_airport\n",
      "2385, GB-NIR, Belfast International Airport, 54.6575012207, -6.2158298492399995, EU, GB, Belfast, large_airport\n",
      "2387, GB-NIR, George Best Belfast City Airport, 54.618099212646484, -5.872499942779541, EU, GB, Belfast, large_airport\n",
      "2389, GB-ENG, Birmingham International Airport, 52.453899383499994, -1.74802994728, EU, GB, Birmingham, large_airport\n",
      "2398, GB-ENG, Manchester Airport, 53.35369873046875, -2.2749500274658203, EU, GB, Manchester, large_airport\n",
      "2401, GB-ENG, Robin Hood Doncaster Sheffield Airport, 53.4805378105, -1.01065635681, EU, GB, Doncaster, large_airport\n",
      "2415, GB-WLS, Cardiff International Airport, 51.39670181274414, -3.343329906463623, EU, GB, Cardiff, large_airport\n",
      "2417, GB-ENG, Bristol International Airport, 51.3827018737793, -2.719089984893799, EU, GB, Bristol, large_airport\n",
      "2418, GB-ENG, Liverpool John Lennon Airport, 53.33359909057617, -2.849720001220703, EU, GB, Liverpool, large_airport\n",
      "2419, GB-ENG, London Luton Airport, 51.874698638916016, -0.36833301186561584, EU, GB, London, large_airport\n",
      "2421, GB-ENG, Bournemouth Airport, 50.779998779296875, -1.8424999713897705, EU, GB, Bournemouth, large_airport\n",
      "2422, GB-ENG, Southampton Airport, 50.95029830932617, -1.3567999601364136, EU, GB, Southampton, large_airport\n",
      "2429, GB-ENG, London Gatwick Airport, 51.148101806640625, -0.19027799367904663, EU, GB, London, large_airport\n",
      "2434, GB-ENG, London Heathrow Airport, 51.4706, -0.461941, EU, GB, London, large_airport\n",
      "2444, GB-ENG, Leeds Bradford Airport, 53.86589813232422, -1.6605700254440308, EU, GB, Leeds, large_airport\n",
      "2448, GB-ENG, Newcastle Airport, 55.037498474121094, -1.6916699409484863, EU, GB, Newcastle, large_airport\n",
      "2450, GB-ENG, East Midlands Airport, 52.8311004639, -1.32806003094, EU, GB, Nottingham, large_airport\n",
      "2459, GB-SCT, Aberdeen Dyce Airport, 57.201900482177734, -2.197779893875122, EU, GB, Aberdeen, large_airport\n",
      "2461, GB-SCT, Glasgow International Airport, 55.8718986511, -4.43306016922, EU, GB, Glasgow, large_airport\n",
      "2462, GB-SCT, Edinburgh Airport, 55.95000076293945, -3.372499942779541, EU, GB, Edinburgh, large_airport\n",
      "2475, GB-ENG, Norwich International Airport, 52.6758003235, 1.28278005123, EU, GB, Norwich, large_airport\n",
      "2476, GB-ENG, London Stansted Airport, 51.8849983215, 0.234999999404, EU, GB, London, large_airport\n",
      "2481, GB-ENG, Exeter International Airport, 50.73440170288086, -3.4138898849487305, EU, GB, Exeter, large_airport\n",
      "2493, GB-ENG, RAF Brize Norton, 51.75, -1.58362, EU, GB, Brize Norton, large_airport\n",
      "2513, NL-NH, Amsterdam Airport Schiphol, 52.3086013794, 4.763889789579999, EU, NL, Amsterdam, large_airport\n",
      "2515, NL-LI, Maastricht Aachen Airport, 50.9117012024, 5.77014017105, EU, NL, Maastricht, large_airport\n",
      "2518, NL-NB, Eindhoven Airport, 51.4500999451, 5.37452983856, EU, NL, Eindhoven, large_airport\n",
      "2530, IE-C, Cork Airport, 51.84130096435547, -8.491109848022461, EU, IE, Cork, large_airport\n",
      "2533, IE-D, Dublin Airport, 53.42129898071289, -6.2700700759887695, EU, IE, Dublin, large_airport\n",
      "2537, IE-CE, Shannon Airport, 52.701999664307, -8.9248199462891, EU, IE, Limerick, large_airport\n",
      "2541, DK-83, Billund Airport, 55.7402992249, 9.15178012848, EU, DK, Billund, large_airport\n",
      "2542, DK-84, Copenhagen Kastrup Airport, 55.617900848389, 12.656000137329, EU, DK, Copenhagen, large_airport\n",
      "2562, DK-81, Aalborg Airport, 57.0927589138, 9.84924316406, EU, DK, Aalborg, large_airport\n",
      "2563, LU-L, Luxembourg-Findel International Airport, 49.626598358154, 6.2115201950073, EU, LU, Luxembourg, large_airport\n",
      "2569, NO-18, Bodø Airport, 67.26920318603516, 14.365300178527832, EU, NO, Bodø, large_airport\n",
      "2570, NO-12, Bergen Airport Flesland, 60.29339981, 5.218140125, EU, NO, Bergen, large_airport\n",
      "2578, NO-02, Oslo Gardermoen Airport, 60.193901062012, 11.100399971008, EU, NO, Oslo, large_airport\n",
      "2599, NO-19, Tromsø Airport, 69.68329620361328, 18.918899536132812, EU, NO, Tromsø, large_airport\n",
      "2601, NO-17, Trondheim Airport Værnes, 63.4578018, 10.9239998, EU, NO, Trondheim, large_airport\n",
      "2602, NO-11, Stavanger Airport Sola, 58.876701354, 5.6377801895, EU, NO, Stavanger, large_airport\n",
      "2608, PL-PM, Gdańsk Lech Wałęsa Airport, 54.377601623535156, 18.46619987487793, EU, PL, Gdańsk, large_airport\n",
      "2609, PL-MA, John Paul II International Airport Kraków-Balice Airport, 50.077701568603516, 19.784799575805664, EU, PL, Kraków, large_airport\n",
      "2613, PL-SL, Katowice International Airport, 50.4743003845, 19.079999923699997, EU, PL, Katowice, large_airport\n",
      "2622, PL-MZ, Modlin Airport, 52.4510993958, 20.6518001556, EU, PL, Warsaw, large_airport\n",
      "2625, PL-WP, Poznań-Ławica Airport, 52.421001434299995, 16.8262996674, EU, PL, Poznań, large_airport\n",
      "2637, PL-MZ, Warsaw Chopin Airport, 52.1656990051, 20.967100143399996, EU, PL, Warsaw, large_airport\n",
      "2638, PL-DS, Copernicus Wrocław Airport, 51.1026992798, 16.885799408, EU, PL, Wrocław, large_airport\n",
      "2648, SE-Q, Gothenburg-Landvetter Airport, 57.662799835205, 12.279800415039, EU, SE, Gothenburg, large_airport\n",
      "2669, SE-M, Malmö Sturup Airport, 55.536305364, 13.376197814900001, EU, SE, Malmö, large_airport\n",
      "2697, SE-BD, Luleå Airport, 65.543800354004, 22.121999740601, EU, SE, Luleå, large_airport\n",
      "2701, SE-AB, Stockholm-Arlanda Airport, 59.651901245117, 17.918600082397, EU, SE, Stockholm, large_airport\n",
      "2758, LV-RIX, Riga International Airport, 56.92359924316406, 23.971099853515625, EU, LV, Riga, large_airport\n",
      "2766, LT-VL, Vilnius International Airport, 54.63410186767578, 25.28580093383789, EU, LT, Vilnius, large_airport\n",
      "3081, ES-CN, Gran Canaria Airport, 27.931900024414062, -15.38659954071045, EU, ES, Gran Canaria Island, large_airport\n",
      "3083, ES-CN, Tenerife South Airport, 28.044500351, -16.5725002289, EU, ES, Tenerife Island, large_airport\n",
      "3084, ES-CN, Tenerife Norte Airport, 28.4827003479, -16.3414993286, EU, ES, Tenerife Island, large_airport\n",
      "3972, AL-11, Tirana International Airport Mother Teresa, 41.4146995544, 19.7206001282, EU, AL, Tirana, large_airport\n",
      "3974, BG-02, Burgas Airport, 42.56959915161133, 27.515199661254883, EU, BG, Burgas, large_airport\n",
      "3977, BG-23, Sofia Airport, 42.696693420410156, 23.411436080932617, EU, BG, Sofia, large_airport\n",
      "3979, BG-03, Varna Airport, 43.232101, 27.8251, EU, BG, Varna, large_airport\n",
      "3982, GB-U-A, RAF Akrotiri, 34.590401, 32.9879, EU, GB, Akrotiri, large_airport\n",
      "3993, HR-21, Zagreb Airport, 45.7429008484, 16.0687999725, EU, HR, Zagreb, large_airport\n",
      "3997, ES-V, Alicante International Airport, 38.28219985961914, -0.5581560134887695, EU, ES, Alicante, large_airport\n",
      "4004, ES-CT, Barcelona International Airport, 41.297100067139, 2.0784599781036, EU, ES, Barcelona, large_airport\n",
      "4019, ES-M, Adolfo Suárez Madrid–Barajas Airport, 40.4936, -3.56676, EU, ES, Madrid, large_airport\n",
      "4020, ES-AN, Málaga Airport, 36.67490005493164, -4.499110221862793, EU, ES, Málaga, large_airport\n",
      "4035, ES-PM, Palma De Mallorca Airport, 39.551700592, 2.73881006241, EU, ES, Palma De Mallorca, large_airport\n",
      "4038, ES-GA, Santiago de Compostela Airport, 42.89630126953125, -8.415140151977539, EU, ES, Santiago de Compostela, large_airport\n",
      "4060, FR-B, Bordeaux-Mérignac Airport, 44.828300476100004, -0.715556025505, EU, FR, Bordeaux/Mérignac, large_airport\n",
      "4070, FR-N, Toulouse-Blagnac Airport, 43.629101, 1.36382, EU, FR, Toulouse/Blagnac, large_airport\n",
      "4155, FR-U, Marseille Provence Airport, 43.439271922, 5.22142410278, EU, FR, Marseille, large_airport\n",
      "4156, FR-U, Nice-Côte d'Azur Airport, 43.6584014893, 7.215869903560001, EU, FR, Nice, large_airport\n",
      "4185, FR-J, Charles de Gaulle International Airport, 49.0127983093, 2.54999995232, EU, FR, Paris, large_airport\n",
      "4189, FR-J, Paris-Orly Airport, 48.7252998352, 2.35944008827, EU, FR, Paris, large_airport\n",
      "4226, FR-A, EuroAirport Basel-Mulhouse-Freiburg Airport, 47.59, 7.5291667, EU, FR, Bâle/Mulhouse, large_airport\n",
      "4251, GR-A1, Eleftherios Venizelos International Airport, 37.9364013672, 23.9444999695, EU, GR, Athens, large_airport\n",
      "4258, GR-91, Heraklion International Nikos Kazantzakis Airport, 35.3396987915, 25.180299758900002, EU, GR, Heraklion, large_airport\n",
      "4293, GR-54, Thessaloniki Macedonia International Airport, 40.51969909667969, 22.97089958190918, EU, GR, Thessaloniki, large_airport\n",
      "4296, HU-PE, Budapest Ferenc Liszt International Airport, 47.436901092499994, 19.255599975599996, EU, HU, Budapest, large_airport\n",
      "4310, IT-75, Bari Karol Wojtyła Airport, 41.1389007568, 16.7605991364, EU, IT, Bari, large_airport\n",
      "4318, IT-82, Catania-Fontanarossa Airport, 37.466800689699994, 15.0663995743, EU, IT, Catania, large_airport\n",
      "4321, IT-82, Falcone–Borsellino Airport, 38.1759986877, 13.0909996033, EU, IT, Palermo, large_airport\n",
      "4332, IT-88, Cagliari Elmas Airport, 39.251499176, 9.05428028107, EU, IT, Cagliari, large_airport\n",
      "4340, IT-25, Malpensa International Airport, 45.6305999756, 8.728110313419998, EU, IT, Milan, large_airport\n",
      "4341, IT-25, Il Caravaggio International Airport, 45.6739006042, 9.70417022705, EU, IT, Bergamo, large_airport\n",
      "4342, IT-21, Turin Airport, 45.2008018494, 7.64963006973, EU, IT, Torino, large_airport\n"
     ]
    },
    {
     "name": "stderr",
     "output_type": "stream",
     "text": [
      "Exception KeyError: (u'http://localhost:7474/db/data/relationship/319697',) in <function remove at 0x00000000086E9828> ignored\n",
      "Exception KeyError: (u'http://localhost:7474/db/data/relationship/319698',) in <function remove at 0x00000000086E9828> ignored\n",
      "Exception KeyError: (u'http://localhost:7474/db/data/relationship/319699',) in <function remove at 0x00000000086E9828> ignored\n",
      "Exception KeyError: (u'http://localhost:7474/db/data/relationship/319700',) in <function remove at 0x00000000086E9828> ignored\n",
      "Exception KeyError: (u'http://localhost:7474/db/data/relationship/319701',) in <function remove at 0x00000000086E9828> ignored\n",
      "Exception KeyError: (u'http://localhost:7474/db/data/relationship/319702',) in <function remove at 0x00000000086E9828> ignored\n",
      "Exception KeyError: (u'http://localhost:7474/db/data/relationship/319703',) in <function remove at 0x00000000086E9828> ignored\n"
     ]
    },
    {
     "name": "stdout",
     "output_type": "stream",
     "text": [
      "4344, IT-42, Genoa Cristoforo Colombo Airport, 44.41329956049999, 8.83749961853, EU, IT, Genova, large_airport\n",
      "4345, IT-25, Linate Airport, 45.445098877, 9.27674007416, EU, IT, Milan, large_airport\n",
      "4350, IT-21, Cuneo International Airport, 44.547000885, 7.623219966890001, EU, IT, Cuneo, large_airport\n",
      "4354, IT-45, Bologna Guglielmo Marconi Airport, 44.5354, 11.2887, EU, IT, Bologna, large_airport\n",
      "4355, IT-34, Treviso-Sant'Angelo Airport, 45.648399353, 12.1943998337, EU, IT, Treviso, large_airport\n",
      "4366, IT-34, Verona Villafranca Airport, 45.395699, 10.8885, EU, IT, Verona, large_airport\n",
      "4368, IT-34, Venice Marco Polo Airport, 45.505299, 12.3519, EU, IT, Venice, large_airport\n",
      "4370, IT-62, Ciampino–G. B. Pastine International Airport, 41.7994003296, 12.5949001312, EU, IT, Roma, large_airport\n",
      "4372, IT-62, Leonardo da Vinci–Fiumicino Airport, 41.8045005798, 12.2508001328, EU, IT, Rome, large_airport\n",
      "4378, IT-72, Naples International Airport, 40.8860015869, 14.290800094600002, EU, IT, Nápoli, large_airport\n",
      "4379, IT-52, Pisa International Airport, 43.683898925799994, 10.3927001953, EU, IT, Pisa, large_airport\n",
      "4386, SI-061, Ljubljana Jože Pučnik Airport, 46.22370147705078, 14.457599639892578, EU, SI, Ljubljana, large_airport\n",
      "4408, CZ-PR, Václav Havel Airport Prague, 50.100799560547, 14.260000228882, EU, CZ, Prague, large_airport\n",
      "4427, MT-25, Malta International Airport, 35.857498, 14.4775, EU, MT, Luqa, large_airport\n",
      "4434, AT-9, Vienna International Airport, 48.110298156738, 16.569700241089, EU, AT, Vienna, large_airport\n",
      "4448, PT-08, Faro Airport, 37.0144004822, -7.96590995789, EU, PT, Faro, large_airport\n",
      "4451, PT-20, Lajes Field, 38.761798858599995, -27.090799331699998, EU, PT, Lajes, large_airport\n",
      "4456, PT-20, João Paulo II Airport, 37.7411994934, -25.6979007721, EU, PT, Ponta Delgada, large_airport\n",
      "4459, PT-13, Francisco de Sá Carneiro Airport, 41.2481002808, -8.68138980865, EU, PT, Porto, large_airport\n",
      "4461, PT-11, Lisbon Portela Airport, 38.7812995911, -9.13591957092, EU, PT, Lisbon, large_airport\n",
      "4469, BA-BIH, Sarajevo International Airport, 43.82460021972656, 18.331499099731445, EU, BA, Sarajevo, large_airport\n",
      "4482, RO-B, Henri Coandă International Airport, 44.572200775146, 26.102199554443, EU, RO, Bucharest, large_airport\n",
      "4490, CH-GE, Geneva Cointrin International Airport, 46.23809814453125, 6.108950138092041, EU, CH, Geneva, large_airport\n",
      "4505, CH-ZH, Zürich Airport, 47.464698791504, 8.5491695404053, EU, CH, Zurich, large_airport\n",
      "4528, TR-34, Atatürk International Airport, 40.9768981934, 28.814599990799998, EU, TR, Istanbul, large_airport\n",
      "4610, RS-00, Belgrade Nikola Tesla Airport, 44.8184013367, 20.3090991974, EU, RS, Belgrade, large_airport\n",
      "4613, ME-16, Podgorica Airport, 42.35940170288086, 19.25189971923828, EU, ME, Podgorica, large_airport\n",
      "4617, SK-BL, M. R. Štefánik Airport, 48.17020034790039, 17.21269989013672, EU, SK, Bratislava, large_airport\n",
      "42924, RU-CE, Grozny North Airport, 43.388302, 45.698601, EU, RU, Grozny, large_airport\n",
      "6467, UA-32, Boryspil International Airport, 50.345001220703125, 30.894699096679688, EU, UA, Kiev, large_airport\n",
      "6468, UA-14, Donetsk International Airport, 48.07360076904297, 37.73970031738281, EU, UA, Donetsk, large_airport\n",
      "6474, UA-43, Simferopol International Airport, 45.05220031738281, 33.975101470947266, EU, UA, Simferopol, large_airport\n",
      "6476, UA-63, Kharkiv International Airport, 49.924800872802734, 36.290000915527344, EU, UA, Kharkiv, large_airport\n",
      "6487, UA-51, Odessa International Airport, 46.42679977416992, 30.67650032043457, EU, UA, Odessa, large_airport\n",
      "6489, RU-SPE, Pulkovo Airport, 59.80030059814453, 30.262500762939453, EU, RU, St. Petersburg, large_airport\n",
      "6501, BY-MI, Minsk National Airport, 53.882499694824, 28.030700683594, EU, BY, Minsk, large_airport\n",
      "6518, RU-ROS, Rostov-on-Don Airport, 47.2582015991, 39.8180999756, EU, RU, Rostov-on-Don, large_airport\n",
      "6519, RU-KDA, Sochi International Airport, 43.449901580811, 39.956600189209, EU, RU, Sochi, large_airport\n",
      "42967, RU-MOS, Zhukovsky International Airport, 55.553299, 38.150002, EU, RU, Zhukovsky, large_airport\n",
      "26394, RU-MOS, Domodedovo International Airport, 55.40879821777344, 37.90629959106445, EU, RU, Moscow, large_airport\n",
      "26396, RU-MOS, Sheremetyevo International Airport, 55.972599029541, 37.414600372314, EU, RU, Moscow, large_airport\n",
      "26401, RU-MOS, Vnukovo International Airport, 55.5914993286, 37.2615013123, EU, RU, Moscow, large_airport\n",
      "26404, RU-TA, Kazan International Airport, 55.606201171875, 49.278701782227, EU, RU, Kazan, large_airport\n",
      "26411, RU-BA, Ufa International Airport, 54.557498931885, 55.874401092529, EU, RU, Ufa, large_airport\n",
      "26412, RU-SAM, Kurumoch International Airport, 53.504901885986, 50.16429901123, EU, RU, Samara, large_airport\n",
      "Wall time: 2min 51s\n"
     ]
    }
   ],
   "source": [
    "%%time\n",
    "regions, countries, continents, cities = {}, {}, {}, {}\n",
    "\n",
    "tx = graph.begin()\n",
    "\n",
    "current_id = 1000\n",
    "\n",
    "for index,row in enumerate(reader[1:]):\n",
    "    #if index % 2000 == 0:\n",
    "       # print row[3], row[8]\n",
    "        \n",
    "    if row[7] == 'EU' and row[2] == 'large_airport' and row[11] == 'yes':\n",
    "        print ( \", \".join ( row[x] for x in [0,9,3,4,5,7,8,10,2]) )\n",
    "        region_name = row[9]\n",
    "        region = regions.get(region_name, None)\n",
    "        if not region:\n",
    "            region = Node(\"Region\", region = region_name)\n",
    "            regions[region_name] = region\n",
    "            tx.create(region)\n",
    "        \n",
    "        country_name = row[8]\n",
    "        country = countries.get(country_name, None)\n",
    "        if not country:\n",
    "            country = Node(\"Country\", country = country_name)\n",
    "            countries[country_name] = country\n",
    "            tx.create(country)\n",
    "            \n",
    "        continent_name = row[7]\n",
    "        continent = continents.get(continent_name, None)\n",
    "        if not continent:\n",
    "            continent = Node(\"Continent\", continent = continent_name)\n",
    "            continents[continent_name] = continent\n",
    "            tx.create(continent)\n",
    "            \n",
    "        city_name = row[10].split(\"/\")[0]\n",
    "        city = cities.get(city_name, None)\n",
    "        if not city:\n",
    "            city = Node(\"City\", city = city_name)\n",
    "            cities[city_name] = city\n",
    "            tx.create(city)\n",
    "        \n",
    "        airport_name = row[3]\n",
    "        airport = Node(\"Airport\", airport=airport_name)\n",
    "        \n",
    "        #ADD PROPERTIES\n",
    "        airport['id'] = current_id\n",
    "        airport['continent'] = continent_name\n",
    "        airport['country'] = country_name\n",
    "        airport['region'] = region_name\n",
    "        airport['city'] = city_name\n",
    "        \n",
    "        tx.create(airport)\n",
    "        tx.create(Relationship(airport, \"IN_REGION\", region))\n",
    "        tx.create(Relationship(airport, \"IN_COUNTRY\", country))\n",
    "        tx.create(Relationship(airport, \"IN_CONTINENT\", continent))\n",
    "        tx.create(Relationship(airport, \"IN_CITY\", city))\n",
    "        \n",
    "        airport_days = []\n",
    "        \n",
    "        for day in days:\n",
    "            number = day['date']\n",
    "            airport_day = Node(\"AirportDay\", airport = airport_name, day = number)\n",
    "            \n",
    "            for day in days[number:]:\n",
    "                gap = day['date'] - number\n",
    "                if gap > 0:\n",
    "                    raise ValueError(\"Going Wrong Way!\")\n",
    "                    \n",
    "                next_market = Relationship (airport_day, \"NEXT_MARKET\", day )\n",
    "                next_market['days'] = days_betwee\n",
    "                tx.create( )\n",
    "                \n",
    "            tx.create(airport_day)\n",
    "            airport_rel = Relationship( airport_day, \"HAS_AIRPORT\", airport)\n",
    "            day_rel = Relationship( airport_day, \"HAS_DAY\", day)\n",
    "            tx.create(airport_rel)\n",
    "            tx.create(day_rel)\n",
    "            \n",
    "            airport_days.append(airport_day)\n",
    "            \n",
    "        from itertools import combinations\n",
    "        \n",
    "        # moving in time\n",
    "        for early, late in combinations(airport_days,2):\n",
    "            days_between =   late ['day'] - early['day']\n",
    "            if days_between < 0:\n",
    "                early, late = late, early\n",
    "                days_between = -days_between\n",
    "                \n",
    "            next_market = Relationship(early, \"NEXT_MARKET\", late)\n",
    "            next_market['days'] = days_between\n",
    "            tx.create(next_market)\n",
    "            \n",
    "        tx.process()\n",
    "        \n",
    "        current_id += 10\n",
    "        \n",
    "tx.commit()"
   ]
  },
  {
   "cell_type": "code",
   "execution_count": 6,
   "metadata": {
    "collapsed": false
   },
   "outputs": [
    {
     "name": "stdout",
     "output_type": "stream",
     "text": [
      "Wall time: 348 ms\n"
     ]
    }
   ],
   "source": [
    "%%time\n",
    "# cre\n",
    "t = graph.run(\"MATCH (d:Date {date:1}) <- [:HAS_DAY] - (ad:AirportDay) RETURN ad\")\n",
    "t = list(t)"
   ]
  },
  {
   "cell_type": "code",
   "execution_count": 8,
   "metadata": {
    "collapsed": false
   },
   "outputs": [
    {
     "name": "stdout",
     "output_type": "stream",
     "text": [
      "\n",
      "===============\n",
      "\n",
      "\n",
      "===============\n",
      "\n",
      "\n",
      "===============\n",
      "\n",
      "\n",
      "===============\n",
      "\n",
      "\n",
      "===============\n",
      "\n",
      "\n",
      "===============\n",
      "\n",
      "\n",
      "===============\n",
      "\n",
      "\n",
      "===============\n",
      "\n",
      "\n",
      "===============\n",
      "\n",
      "\n",
      "===============\n",
      "\n",
      "\n",
      "===============\n",
      "\n",
      "\n",
      "===============\n",
      "\n",
      "\n",
      "===============\n",
      "\n",
      "\n",
      "===============\n",
      "\n",
      "\n",
      "===============\n",
      "\n"
     ]
    }
   ],
   "source": [
    "\n",
    "\n",
    "\n",
    "\n",
    "for number in range(1, NO_OF_DAYS+1):\n",
    "    \n",
    "    tx = graph.begin()\n",
    "    query = \"MATCH (d:Date {{date:{date}}}) <- [:HAS_DAY] - (ad:AirportDay) RETURN ad\".format(date=number)\n",
    "    ad_on_given_day = [item['ad'] for item in graph.run(query)]\n",
    "    \n",
    "    combs = combinations(ad_on_given_day, 2)\n",
    "    \n",
    "    # create flight\n",
    "    # cost\n",
    "    # home airport\n",
    "    \n",
    "    for origin, destination in combs:\n",
    "        import random\n",
    "        cost = random.randint(20,500)\n",
    "        o,d = origin,destination\n",
    "        return_cost = max(cost + random.randint(-50,50), random.randint(20,100))\n",
    "        flight_out = Relationship(o,\"FLIGHT\", d, cost=cost, market=o['airport'], day=o['day'], destination=d['airport'])\n",
    "        flight_in = Relationship(d, \"FLIGHT\", o, cost=return_cost, market=d['airport'], day=d['day'], destination=o['airport'])\n",
    "        tx.create(flight_out)\n",
    "        tx.create(flight_in)\n",
    "        tx.process()\n",
    "        \n",
    "    print \"\\n===============\\n\"\n",
    "    \n",
    "    \n",
    "\n",
    "    tx.commit()\n",
    "\n",
    "\n",
    "# "
   ]
  },
  {
   "cell_type": "code",
   "execution_count": 9,
   "metadata": {
    "collapsed": false
   },
   "outputs": [
    {
     "name": "stdout",
     "output_type": "stream",
     "text": [
      "(u'ad1': (a23f322:AirportDay {airport:\"Shannon Airport\",day:10}))\n",
      "(u'ad1': (c4721ed:AirportDay {airport:\"Shannon Airport\",day:11}))\n",
      "(u'ad1': (a404972:AirportDay {airport:\"Shannon Airport\",day:8}))\n",
      "(u'ad1': (ba5766d:AirportDay {airport:\"Shannon Airport\",day:9}))\n",
      "(u'ad1': (c13b585:AirportDay {airport:\"Shannon Airport\",day:14}))\n",
      "(u'ad1': (e0dc98f:AirportDay {airport:\"Shannon Airport\",day:15}))\n",
      "(u'ad1': (e60b54c:AirportDay {airport:\"Shannon Airport\",day:12}))\n",
      "(u'ad1': (aa20506:AirportDay {airport:\"Shannon Airport\",day:13}))\n",
      "(u'ad1': (efc82e6:AirportDay {airport:\"Shannon Airport\",day:2}))\n",
      "(u'ad1': (d1b5b2a:AirportDay {airport:\"Shannon Airport\",day:3}))\n",
      "(u'ad1': (a271104:AirportDay {airport:\"Shannon Airport\",day:1}))\n",
      "(u'ad1': (a36160d:AirportDay {airport:\"Shannon Airport\",day:6}))\n",
      "(u'ad1': (cb5c6ba:AirportDay {airport:\"Shannon Airport\",day:7}))\n",
      "(u'ad1': (d0365cf:AirportDay {airport:\"Shannon Airport\",day:4}))\n",
      "(u'ad1': (e3a4500:AirportDay {airport:\"Shannon Airport\",day:5}))\n",
      "(u'ad1': (d26803f:AirportDay {airport:\"Dublin Airport\",day:11}))\n",
      "(u'ad1': (a4fe418:AirportDay {airport:\"Dublin Airport\",day:10}))\n",
      "(u'ad1': (f97d7ff:AirportDay {airport:\"Dublin Airport\",day:13}))\n",
      "(u'ad1': (eccf857:AirportDay {airport:\"Dublin Airport\",day:12}))\n",
      "(u'ad1': (bfb6b13:AirportDay {airport:\"Dublin Airport\",day:7}))\n",
      "(u'ad1': (c4f79fe:AirportDay {airport:\"Dublin Airport\",day:6}))\n",
      "(u'ad1': (b58a7c6:AirportDay {airport:\"Dublin Airport\",day:9}))\n",
      "(u'ad1': (e94a60e:AirportDay {airport:\"Dublin Airport\",day:8}))\n",
      "(u'ad1': (c2c0cef:AirportDay {airport:\"Dublin Airport\",day:15}))\n",
      "(u'ad1': (f9bac71:AirportDay {airport:\"Dublin Airport\",day:14}))\n",
      "(u'ad1': (f1308e1:AirportDay {airport:\"Dublin Airport\",day:2}))\n",
      "(u'ad1': (bc9cbb7:AirportDay {airport:\"Dublin Airport\",day:3}))\n",
      "(u'ad1': (ac6ef98:AirportDay {airport:\"Dublin Airport\",day:4}))\n",
      "(u'ad1': (c378b84:AirportDay {airport:\"Dublin Airport\",day:5}))\n",
      "(u'ad1': (e201f10:AirportDay {airport:\"Dublin Airport\",day:1}))\n",
      "(u'ad1': (ced0aa4:AirportDay {airport:\"Cork Airport\",day:12}))\n",
      "(u'ad1': (bfab7b3:AirportDay {airport:\"Cork Airport\",day:11}))\n",
      "(u'ad1': (f6f36a2:AirportDay {airport:\"Cork Airport\",day:14}))\n",
      "(u'ad1': (ce6f0f5:AirportDay {airport:\"Cork Airport\",day:13}))\n",
      "(u'ad1': (f3b8ecc:AirportDay {airport:\"Cork Airport\",day:15}))\n",
      "(u'ad1': (df50904:AirportDay {airport:\"Cork Airport\",day:1}))\n",
      "(u'ad1': (b905c57:AirportDay {airport:\"Cork Airport\",day:2}))\n",
      "(u'ad1': (e8b301d:AirportDay {airport:\"Cork Airport\",day:3}))\n",
      "(u'ad1': (e33b699:AirportDay {airport:\"Cork Airport\",day:4}))\n",
      "(u'ad1': (d76c2c1:AirportDay {airport:\"Cork Airport\",day:5}))\n",
      "(u'ad1': (ec8ceb9:AirportDay {airport:\"Cork Airport\",day:6}))\n",
      "(u'ad1': (ab31a5d:AirportDay {airport:\"Cork Airport\",day:7}))\n",
      "(u'ad1': (dc768f7:AirportDay {airport:\"Cork Airport\",day:8}))\n",
      "(u'ad1': (da81364:AirportDay {airport:\"Cork Airport\",day:9}))\n",
      "(u'ad1': (e7dc646:AirportDay {airport:\"Cork Airport\",day:10}))\n"
     ]
    }
   ],
   "source": [
    "query = \"\"\"\n",
    "MATCH (airport1: Airport {country : 'IE'} ) <- [:HAS_AIRPORT] - (ad1:AirportDay)\n",
    "RETURN ad1\n",
    "\"\"\"\n",
    "for it in graph.run(query):\n",
    "    print it"
   ]
  },
  {
   "cell_type": "code",
   "execution_count": 10,
   "metadata": {
    "collapsed": false
   },
   "outputs": [
    {
     "name": "stdout",
     "output_type": "stream",
     "text": [
      "6840\n",
      "Wall time: 39.8 s\n"
     ]
    }
   ],
   "source": [
    "%%time\n",
    "query = \"\"\"\n",
    "MATCH (airport1: Airport {country : 'IE'} ) <- [:HAS_AIRPORT] - (ad1:AirportDay),\n",
    "(airport2: Airport {continent : 'EU'} ) <- [:HAS_AIRPORT] - (ad2:AirportDay) <- [f1:FLIGHT] - (ad1)\n",
    "RETURN ad1, ad2\n",
    "\"\"\"\n",
    "\n",
    "t = list(graph.run(query))\n",
    "print len(t)"
   ]
  },
  {
   "cell_type": "code",
   "execution_count": 11,
   "metadata": {
    "collapsed": false
   },
   "outputs": [
    {
     "name": "stdout",
     "output_type": "stream",
     "text": [
      "6840\n",
      "Wall time: 28 s\n"
     ]
    }
   ],
   "source": [
    "%%time\n",
    "query = \"\"\"\n",
    "MATCH (airport1: Airport {country : 'IE'} ) <- [:HAS_AIRPORT] - (ad1:AirportDay),\n",
    "(ad1) - [:FLIGHT] - > (ad2:AirportDay) - [:HAS_AIRPORT] -> (airport2: Airport {continent : 'EU'} )\n",
    "RETURN ad1, ad2 \n",
    "\"\"\"\n",
    "\n",
    "t = list(graph.run(query))\n",
    "print len(t)"
   ]
  },
  {
   "cell_type": "code",
   "execution_count": 12,
   "metadata": {
    "collapsed": false
   },
   "outputs": [
    {
     "name": "stdout",
     "output_type": "stream",
     "text": [
      "6840\n",
      "Wall time: 22.1 s\n"
     ]
    }
   ],
   "source": [
    "%%time\n",
    "query = \"\"\"\n",
    "MATCH (airport1: Airport {country : 'IE'} ) <- [:HAS_AIRPORT] - (ad1:AirportDay)- \n",
    "[f:FLIGHT] - > (ad2:AirportDay) - [:HAS_AIRPORT] -> (airport2: Airport {continent : 'EU'} )\n",
    "RETURN ad1, ad2 \n",
    "\"\"\"\n",
    "\n",
    "t = list(graph.run(query))\n",
    "print len(t)"
   ]
  },
  {
   "cell_type": "code",
   "execution_count": 13,
   "metadata": {
    "collapsed": false
   },
   "outputs": [
    {
     "name": "stdout",
     "output_type": "stream",
     "text": [
      "6840\n",
      "(u'f': (a23f322)-[:FLIGHT {cost:224,day:10,destination:\"Adolfo Suárez Madrid–Barajas Airport\",market:\"Shannon Airport\"}]->(fd907aa))\n",
      "(u'f': (c4721ed)-[:FLIGHT {cost:26,day:11,destination:11,market:\"Shannon Airport\"}]->(f648794))\n",
      "(u'f': (ba5766d)-[:FLIGHT {cost:303,day:9,destination:9,market:\"Shannon Airport\"}]->(f80796f))\n",
      "(u'f': (c13b585)-[:FLIGHT {cost:377,day:14,destination:14,market:\"Shannon Airport\"}]->(e4278a2))\n",
      "(u'f': (e0dc98f)-[:FLIGHT {cost:455,day:15,destination:15,market:\"Shannon Airport\"}]->(c9a8e51))\n",
      "(u'f': (f298560)-[:FLIGHT {cost:200,day:13,destination:13,market:\"Shannon Airport\"}]->(c3ce0c2))\n",
      "(u'f': (c1529a6)-[:FLIGHT {cost:194,day:2,destination:2,market:\"Shannon Airport\"}]->(ce3defa))\n",
      "(u'f': (e49af67)-[:FLIGHT {cost:251,day:3,destination:3,market:\"Shannon Airport\"}]->(f21f956))\n",
      "(u'f': (d61100a)-[:FLIGHT {cost:267,day:6,destination:6,market:\"Shannon Airport\"}]->(fe6fe24))\n",
      "(u'f': (fe487d3)-[:FLIGHT {cost:446,day:7,destination:7,market:\"Shannon Airport\"}]->(bdad39d))\n",
      "(u'f': (a00537d)-[:FLIGHT {cost:378,day:4,destination:4,market:\"Shannon Airport\"}]->(bb2caa9))\n",
      "(u'f': (d26803f)-[:FLIGHT {cost:111,day:11,destination:11,market:\"Dublin Airport\"}]->(d102a4c))\n",
      "(u'f': (a4fe418)-[:FLIGHT {cost:459,day:10,destination:10,market:\"Dublin Airport\"}]->(e2d54a7))\n",
      "(u'f': (b9a574d)-[:FLIGHT {cost:356,day:13,destination:\"Málaga Airport\",market:\"Dublin Airport\"}]->(a2782ec))\n",
      "(u'f': (c281e73)-[:FLIGHT {cost:274,day:7,destination:7,market:\"Dublin Airport\"}]->(d704db7))\n",
      "(u'f': (b86d813)-[:FLIGHT {cost:283,day:6,destination:6,market:\"Dublin Airport\"}]->(d0d6ce0))\n",
      "(u'f': (b58a7c6)-[:FLIGHT {cost:478,day:9,destination:9,market:\"Dublin Airport\"}]->(b73390a))\n",
      "(u'f': (c2c0cef)-[:FLIGHT {cost:417,day:15,destination:15,market:\"Dublin Airport\"}]->(c59324e))\n",
      "(u'f': (f9bac71)-[:FLIGHT {cost:95,day:14,destination:14,market:\"Dublin Airport\"}]->(fbe242f))\n",
      "(u'f': (bd4e1d9)-[:FLIGHT {cost:68,day:2,destination:\"Malmö Sturup Airport\",market:\"Dublin Airport\"}]->(dc2e9ab))\n",
      "(u'f': (acd8eb9)-[:FLIGHT {cost:413,day:3,destination:3,market:\"Dublin Airport\"}]->(bc1e51b))\n",
      "(u'f': (b09236e)-[:FLIGHT {cost:271,day:5,destination:5,market:\"Dublin Airport\"}]->(f38070c))\n",
      "(u'f': (e201f10)-[:FLIGHT {cost:93,day:1,destination:1,market:\"Dublin Airport\"}]->(ff682d0))\n",
      "(u'f': (ced0aa4)-[:FLIGHT {cost:72,day:12,destination:12,market:\"Cork Airport\"}]->(b0ae87b))\n",
      "(u'f': (fd640e9)-[:FLIGHT {cost:33,day:14,destination:14,market:\"Cork Airport\"}]->(f9ac394))\n",
      "(u'f': (de74a84)-[:FLIGHT {cost:233,day:13,destination:13,market:\"Cork Airport\"}]->(ce64dc3))\n",
      "(u'f': (f3b8ecc)-[:FLIGHT {cost:148,day:15,destination:15,market:\"Cork Airport\"}]->(c73169f))\n",
      "(u'f': (f5702c9)-[:FLIGHT {cost:307,day:2,destination:2,market:\"Cork Airport\"}]->(e06d827))\n",
      "(u'f': (fd218ab)-[:FLIGHT {cost:512,day:3,destination:3,market:\"Cork Airport\"}]->(b92c2cb))\n",
      "(u'f': (d68b92b)-[:FLIGHT {cost:492,day:4,destination:4,market:\"Cork Airport\"}]->(bb2caa9))\n",
      "(u'f': (c8f34ac)-[:FLIGHT {cost:120,day:6,destination:6,market:\"Cork Airport\"}]->(d4ee83f))\n",
      "(u'f': (a1d25dc)-[:FLIGHT {cost:438,day:7,destination:7,market:\"Cork Airport\"}]->(ec62c27))\n",
      "(u'f': (fc8d891)-[:FLIGHT {cost:513,day:8,destination:8,market:\"Cork Airport\"}]->(dd53b10))\n",
      "(u'f': (e7dc646)-[:FLIGHT {cost:277,day:10,destination:10,market:\"Cork Airport\"}]->(a0ff2d0))\n",
      "Wall time: 57 s\n"
     ]
    }
   ],
   "source": [
    "%%time\n",
    "query = \"\"\"\n",
    "MATCH (airport1: Airport {country : 'IE'} ) <- [:HAS_AIRPORT] - (ad1:AirportDay),\n",
    "(airport2: Airport {continent : 'EU'} ) <- [:HAS_AIRPORT] - (ad2:AirportDay) <- [f:FLIGHT] - (ad1)\n",
    "RETURN f\n",
    "\"\"\"\n",
    "\n",
    "t = list(graph.run(query))\n",
    "print len(t)\n",
    "\n",
    "for i,a in enumerate(t):\n",
    "    if i % 200 == 100:\n",
    "        print a"
   ]
  },
  {
   "cell_type": "code",
   "execution_count": 14,
   "metadata": {
    "collapsed": false
   },
   "outputs": [
    {
     "name": "stdout",
     "output_type": "stream",
     "text": [
      "6840\n",
      "Wall time: 29.6 s\n"
     ]
    }
   ],
   "source": [
    "%%time\n",
    "query = \"\"\"\n",
    "MATCH (airport1: Airport {country : 'IE'} ) <- [:HAS_AIRPORT] - (ad1:AirportDay)\n",
    "WITH ad1\n",
    "MATCH (ad1) - [f:FLIGHT] - > (ad2:AirportDay)  - [:HAS_AIRPORT] -> (airport2: Airport {continent : 'EU'} )\n",
    "RETURN f \n",
    "\"\"\"\n",
    "\n",
    "t = list(graph.run(query))\n",
    "print len(t)"
   ]
  },
  {
   "cell_type": "code",
   "execution_count": 16,
   "metadata": {
    "collapsed": false
   },
   "outputs": [
    {
     "name": "stdout",
     "output_type": "stream",
     "text": [
      "6384\n",
      "Wall time: 2min 38s\n"
     ]
    }
   ],
   "source": [
    "%%time\n",
    "query = \"\"\"\n",
    "MATCH (airport1: Airport {country : 'IE'} ) <- [:HAS_AIRPORT] - (ad1:AirportDay)\n",
    "WITH ad1,airport1\n",
    "MATCH (ad1) - [f1:FLIGHT] - > (ad2:AirportDay)  - [:HAS_AIRPORT] -> (airport2: Airport {continent : 'EU'} ),\n",
    "(ad2) - [nm:NEXT_MARKET {days: 8}] - (ad3),\n",
    "(ad3) - [f2:FLIGHT] -> (ad4) - [:HAS_AIRPORT] -> (airport1: Airport {country : 'IE'} )\n",
    "RETURN f1,f2\n",
    "\"\"\"\n",
    "\n",
    "t = list(graph.run(query))\n",
    "print len(t)\n"
   ]
  },
  {
   "cell_type": "code",
   "execution_count": 1,
   "metadata": {
    "collapsed": false
   },
   "outputs": [
    {
     "ename": "NameError",
     "evalue": "name 'graph' is not defined",
     "output_type": "error",
     "traceback": [
      "\u001b[1;31m---------------------------------------------------------------------------\u001b[0m",
      "\u001b[1;31mNameError\u001b[0m                                 Traceback (most recent call last)",
      "\u001b[1;32m<ipython-input-1-a5c0d9da6a33>\u001b[0m in \u001b[0;36m<module>\u001b[1;34m()\u001b[0m\n\u001b[0;32m      9\u001b[0m \u001b[0mRETURN\u001b[0m \u001b[0mf1\u001b[0m\u001b[1;33m,\u001b[0m\u001b[0mf2\u001b[0m\u001b[1;33m\u001b[0m\u001b[0m\n\u001b[0;32m     10\u001b[0m \"\"\"\n\u001b[1;32m---> 11\u001b[1;33m \u001b[0mresults\u001b[0m \u001b[1;33m=\u001b[0m \u001b[0mlist\u001b[0m\u001b[1;33m(\u001b[0m\u001b[0mgraph\u001b[0m\u001b[1;33m.\u001b[0m\u001b[0mrun\u001b[0m\u001b[1;33m(\u001b[0m\u001b[0mquery\u001b[0m\u001b[1;33m)\u001b[0m\u001b[1;33m)\u001b[0m\u001b[1;33m\u001b[0m\u001b[0m\n\u001b[0m\u001b[0;32m     12\u001b[0m \u001b[0mdf\u001b[0m \u001b[1;33m=\u001b[0m \u001b[0mpd\u001b[0m\u001b[1;33m.\u001b[0m\u001b[0mDataFrame\u001b[0m\u001b[1;33m(\u001b[0m\u001b[0mresults\u001b[0m\u001b[1;33m)\u001b[0m\u001b[1;33m\u001b[0m\u001b[0m\n\u001b[0;32m     13\u001b[0m \u001b[0mdf\u001b[0m\u001b[1;33m.\u001b[0m\u001b[0mhead\u001b[0m\u001b[1;33m(\u001b[0m\u001b[1;33m)\u001b[0m\u001b[1;33m\u001b[0m\u001b[0m\n",
      "\u001b[1;31mNameError\u001b[0m: name 'graph' is not defined"
     ]
    }
   ],
   "source": [
    "import pandas as pd\n",
    "\n",
    "query = \"\"\"\n",
    "MATCH (airport1: Airport {country : 'IE'} ) <- [:HAS_AIRPORT] - (ad1:AirportDay)\n",
    "WITH ad1,airport1\n",
    "MATCH (ad1) - [f1:FLIGHT] - > (ad2:AirportDay)  - [:HAS_AIRPORT] -> (airport2: Airport {country : 'FR'} ),\n",
    "(ad2) - [nm:NEXT_MARKET {days: 12}] - (ad3),\n",
    "(ad3) - [f2:FLIGHT] -> (ad4) - [:HAS_AIRPORT] -> (airport1: Airport {country : 'IE'} )\n",
    "RETURN f1,f2\n",
    "\"\"\"\n",
    "results = list(graph.run(query))\n",
    "df = pd.DataFrame(results)\n",
    "df.head()"
   ]
  },
  {
   "cell_type": "code",
   "execution_count": 4,
   "metadata": {
    "collapsed": false
   },
   "outputs": [
    {
     "name": "stdout",
     "output_type": "stream",
     "text": [
      "5 [5, None]\n",
      "7+ ['7', '>=']\n",
      "9- ['9', '<=']\n",
      "3 7 ['3', '7']\n"
     ]
    }
   ],
   "source": [
    "test =['5','7+','9-','3 7']\n",
    "\n",
    "def date_to_list(date):\n",
    "    try:\n",
    "        d = int(date)\n",
    "        return [d, None]\n",
    "    except:\n",
    "        pass\n",
    "    if '-' in date: return [date.split('-')[0], '<=']\n",
    "    if '+' in date: return [date.split('+')[0], '>=']\n",
    "    \n",
    "    return date.split()\n",
    "    \n",
    "for t in test:\n",
    "    print t, date_to_list(t)"
   ]
  }
 ],
 "metadata": {
  "kernelspec": {
   "display_name": "Python 2",
   "language": "python",
   "name": "python2"
  },
  "language_info": {
   "codemirror_mode": {
    "name": "ipython",
    "version": 2
   },
   "file_extension": ".py",
   "mimetype": "text/x-python",
   "name": "python",
   "nbconvert_exporter": "python",
   "pygments_lexer": "ipython2",
   "version": "2.7.11"
  }
 },
 "nbformat": 4,
 "nbformat_minor": 0
}
