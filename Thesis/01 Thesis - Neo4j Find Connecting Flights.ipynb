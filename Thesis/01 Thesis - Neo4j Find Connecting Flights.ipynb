{
 "cells": [
  {
   "cell_type": "code",
   "execution_count": 7,
   "metadata": {
    "collapsed": false
   },
   "outputs": [
    {
     "name": "stdout",
     "output_type": "stream",
     "text": [
      "CREATE (Dublin:Airport {name:\"Dublin\"}),(Paris:Airport {name:\"Paris\"}),(London:Airport {name:\"London\"}),(Malaga:Airport {name:\"Malaga\"})\n"
     ]
    }
   ],
   "source": [
    "import py2neo\n",
    "\n",
    "airport_names = [\"Dublin\", \"Paris\", \"London\", \"Malaga\"]\n",
    "\n",
    "# visual check\n",
    "print \"CREATE\", \",\".join ( [ '({name}:Airport {{name:\"{name}\"}})'.format(name=a) for a in airport_names])"
   ]
  },
  {
   "cell_type": "code",
   "execution_count": 8,
   "metadata": {
    "collapsed": false
   },
   "outputs": [],
   "source": [
    "from py2neo import Graph, Relationship\n",
    "g = Graph(\"http://localhost:7474/db/data/\")\n",
    "g.delete_all()"
   ]
  },
  {
   "cell_type": "code",
   "execution_count": 9,
   "metadata": {
    "collapsed": true
   },
   "outputs": [],
   "source": [
    "from py2neo import Node\n",
    "try:\n",
    "    #create index and ensure no duplicates\n",
    "    # not actually neessary because write is a one-time operation\n",
    "    g.schema.create_uniqueness_constraint(\"Airport\", \"name\")\n",
    "except:\n",
    "    pass\n",
    "\n",
    "nodes = [g.create(Node(\"Airport\", name=a)) for a in airport_names]"
   ]
  },
  {
   "cell_type": "code",
   "execution_count": 10,
   "metadata": {
    "collapsed": false
   },
   "outputs": [],
   "source": [
    "# could have used the nodes above but tinkering with API\n",
    "airports = list(g.find(\"Airport\"))"
   ]
  },
  {
   "cell_type": "code",
   "execution_count": 13,
   "metadata": {
    "collapsed": false
   },
   "outputs": [
    {
     "name": "stdout",
     "output_type": "stream",
     "text": [
      "(dublin:Airport {name:\"Dublin\"}) (malaga:Airport {name:\"Malaga\"})\n",
      "(dublin:Airport {name:\"Dublin\"}) (london:Airport {name:\"London\"})\n",
      "(paris:Airport {name:\"Paris\"}) (london:Airport {name:\"London\"})\n",
      "(dublin:Airport {name:\"Dublin\"}) (london:Airport {name:\"London\"})\n",
      "(paris:Airport {name:\"Paris\"}) (london:Airport {name:\"London\"})\n",
      "(dublin:Airport {name:\"Dublin\"}) (london:Airport {name:\"London\"})\n",
      "(london:Airport {name:\"London\"}) (dublin:Airport {name:\"Dublin\"})\n",
      "(london:Airport {name:\"London\"}) (dublin:Airport {name:\"Dublin\"})\n",
      "(paris:Airport {name:\"Paris\"}) (london:Airport {name:\"London\"})\n",
      "(malaga:Airport {name:\"Malaga\"}) (dublin:Airport {name:\"Dublin\"})\n",
      "(dublin:Airport {name:\"Dublin\"}) (paris:Airport {name:\"Paris\"})\n",
      "(malaga:Airport {name:\"Malaga\"}) (london:Airport {name:\"London\"})\n",
      "(paris:Airport {name:\"Paris\"}) (malaga:Airport {name:\"Malaga\"})\n",
      "(dublin:Airport {name:\"Dublin\"}) (london:Airport {name:\"London\"})\n",
      "(paris:Airport {name:\"Paris\"}) (london:Airport {name:\"London\"})\n",
      "(paris:Airport {name:\"Paris\"}) (malaga:Airport {name:\"Malaga\"})\n"
     ]
    }
   ],
   "source": [
    "import itertools, random\n",
    "\n",
    "#permutations not combinations because flights can start at either Airport\n",
    "potential_flights = list ( itertools.permutations ( airports, 2) )\n",
    "r = random.Random(117)\n",
    "\n",
    "for i in range(16):\n",
    "    to, dest = r.choice(potential_flights)\n",
    "    print to, dest\n",
    "    g.create(Relationship(to, \"Flies_To\", dest))"
   ]
  },
  {
   "cell_type": "code",
   "execution_count": 12,
   "metadata": {
    "collapsed": false
   },
   "outputs": [
    {
     "name": "stdout",
     "output_type": "stream",
     "text": [
      "(malaga:Airport {name:\"Malaga\"})\n",
      "(london:Airport {name:\"London\"})\n"
     ]
    }
   ],
   "source": [
    "connecting_flights_paris_to_dublin = \"\"\"\n",
    "MATCH (paris:Airport) - [:Flies_To] -> (an:Airport) - [:Flies_To]-> (dublin:Airport)\n",
    "WHERE paris.name='Paris' AND dublin.name = \"Dublin\"\n",
    "RETURN paris, an, dublin\n",
    "\"\"\"\n",
    "results = g.run(connecting_flights_paris_to_dublin)\n",
    "for r in results:\n",
    "    print r['an']"
   ]
  }
 ],
 "metadata": {
  "kernelspec": {
   "display_name": "Python 2",
   "language": "python",
   "name": "python2"
  },
  "language_info": {
   "codemirror_mode": {
    "name": "ipython",
    "version": 2
   },
   "file_extension": ".py",
   "mimetype": "text/x-python",
   "name": "python",
   "nbconvert_exporter": "python",
   "pygments_lexer": "ipython2",
   "version": "2.7.11"
  }
 },
 "nbformat": 4,
 "nbformat_minor": 0
}
