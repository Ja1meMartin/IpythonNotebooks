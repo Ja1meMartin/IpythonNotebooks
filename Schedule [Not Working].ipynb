{
 "metadata": {
  "name": "",
  "signature": "sha256:4eb625626482b7753e58c93c7e3c726421c079e0942debd3f29b148f4959a80f"
 },
 "nbformat": 3,
 "nbformat_minor": 0,
 "worksheets": [
  {
   "cells": [
    {
     "cell_type": "code",
     "collapsed": false,
     "input": [
      "import schedule\n",
      "import time\n",
      "\n",
      "def job():\n",
      "    print(\"I'm working...\")\n",
      "\n",
      "l = schedule.every(1).minutes.do(job)\n",
      "time.sleep(70)\n",
      "print l"
     ],
     "language": "python",
     "metadata": {},
     "outputs": [
      {
       "output_type": "stream",
       "stream": "stdout",
       "text": [
        "Every 1 minute do job() (last run: [never], next run: 2015-01-13 22:10:49)\n"
       ]
      }
     ],
     "prompt_number": 1
    },
    {
     "cell_type": "code",
     "collapsed": false,
     "input": [
      "print l"
     ],
     "language": "python",
     "metadata": {},
     "outputs": [
      {
       "output_type": "stream",
       "stream": "stdout",
       "text": [
        "Every 1 minute do job() (last run: [never], next run: 2015-01-13 22:10:49)\n"
       ]
      }
     ],
     "prompt_number": 2
    },
    {
     "cell_type": "code",
     "collapsed": false,
     "input": [
      "help(l)"
     ],
     "language": "python",
     "metadata": {},
     "outputs": [
      {
       "output_type": "stream",
       "stream": "stdout",
       "text": [
        "Help on Job in module schedule object:\n",
        "\n",
        "class Job(__builtin__.object)\n",
        " |  A periodic job as used by `Scheduler`.\n",
        " |  \n",
        " |  Methods defined here:\n",
        " |  \n",
        " |  __init__(self, interval)\n",
        " |  \n",
        " |  __lt__(self, other)\n",
        " |      PeriodicJobs are sortable based on the scheduled time\n",
        " |      they run next.\n",
        " |  \n",
        " |  __repr__(self)\n",
        " |  \n",
        " |  at(self, time_str)\n",
        " |      Schedule the job every day at a specific time.\n",
        " |      \n",
        " |      Calling this is only valid for jobs scheduled to run every\n",
        " |      N day(s).\n",
        " |  \n",
        " |  do(self, job_func, *args, **kwargs)\n",
        " |      Specifies the job_func that should be called every time the\n",
        " |      job runs.\n",
        " |      \n",
        " |      Any additional arguments are passed on to job_func when\n",
        " |      the job runs.\n",
        " |  \n",
        " |  run(self)\n",
        " |      Run the job and immediately reschedule it.\n",
        " |  \n",
        " |  ----------------------------------------------------------------------\n",
        " |  Data descriptors defined here:\n",
        " |  \n",
        " |  __dict__\n",
        " |      dictionary for instance variables (if defined)\n",
        " |  \n",
        " |  __weakref__\n",
        " |      list of weak references to the object (if defined)\n",
        " |  \n",
        " |  day\n",
        " |  \n",
        " |  days\n",
        " |  \n",
        " |  friday\n",
        " |  \n",
        " |  hour\n",
        " |  \n",
        " |  hours\n",
        " |  \n",
        " |  minute\n",
        " |  \n",
        " |  minutes\n",
        " |  \n",
        " |  monday\n",
        " |  \n",
        " |  saturday\n",
        " |  \n",
        " |  second\n",
        " |  \n",
        " |  seconds\n",
        " |  \n",
        " |  should_run\n",
        " |      True if the job should be run now.\n",
        " |  \n",
        " |  sunday\n",
        " |  \n",
        " |  thursday\n",
        " |  \n",
        " |  tuesday\n",
        " |  \n",
        " |  wednesday\n",
        " |  \n",
        " |  week\n",
        " |  \n",
        " |  weeks\n",
        "\n"
       ]
      }
     ],
     "prompt_number": 3
    }
   ],
   "metadata": {}
  }
 ]
}