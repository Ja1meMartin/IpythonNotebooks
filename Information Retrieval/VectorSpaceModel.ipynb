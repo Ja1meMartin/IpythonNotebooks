{
 "cells": [
  {
   "cell_type": "code",
   "execution_count": 1,
   "metadata": {
    "collapsed": false
   },
   "outputs": [],
   "source": [
    "from ipy_table import * # to display calculations\n",
    "\n",
    "def remove_all_punctuation_and_numbers(word):\n",
    "    '''\n",
    "        If the last digit is not alpha then remove it\n",
    "    '''\n",
    "\n",
    "    if not word[-1].isalpha():\n",
    "        word = word[:-1]\n",
    "\n",
    "    return word"
   ]
  },
  {
   "cell_type": "code",
   "execution_count": 2,
   "metadata": {
    "collapsed": false
   },
   "outputs": [],
   "source": [
    "from __future__ import division # means division can return decimals\n",
    "from collections import defaultdict # a dict where you can set a default value\n",
    "from collections import namedtuple # much more efficient than objects\n",
    "from collections import Counter # creates automatically key:frequency dictionary\n",
    "import math\n",
    "\n",
    "corpus = \"\"\"\n",
    "d1: for English model retrieval have a relevance model while vector space\n",
    "model retrieval do not;\n",
    "d2: The R-precision measure is relevant to average precision measure.;\n",
    "d3: The most efficient retrieval models are language model and vector space\n",
    "model.;\n",
    "d4: The English language is the most efficient language.;\n",
    "d5: Retrieval efficiency is measured by the average precision of the\n",
    "retrieval model.\n",
    "\"\"\"\n",
    "\n",
    "stems = {\n",
    "    \"models\":\"model\",\n",
    "    \"r-precision\":\"precis\",\n",
    "    \"precision\":\"precis\",\n",
    "    \"precise\":\"precis\",\n",
    "    \"efficient\":\"effic\",\n",
    "    \"efficiency\":\"effic\",\n",
    "    #\"recall\":\"retrieval\",\n",
    "    \"relevant\":\"relevan\",\n",
    "    \"relevance\":\"relevan\",\n",
    "    \"measured\":\"measure\",\n",
    "}\n",
    "\n",
    "string = \"\"\"a , at, are, for, of, I , is, there, then, many, do, to, and, by, the, not, have, with, while\"\"\"\n",
    "\n",
    "stop_words = [s.strip() for s in string.split(',')]\n",
    "\n",
    "\n",
    "\n",
    "class VectorSpaceModel(object):\n",
    "    \"\"\"\n",
    "        Preprocessing:\n",
    "        1. Gathering\n",
    "        2. Stemming\n",
    "        3. Stopword Removal\n",
    "        4. Indexing\n",
    "    \n",
    "        1a. Read in documents use doc_sep to seperate docs (default \";\") done in constructor\n",
    "        1b. Seperate each doc into name and contentsusing title_sep (default = \":\") \n",
    "        1c. Break into constituent parts if TF-IDF we need to count occurrences\n",
    "        \n",
    "        2a. lowercase\n",
    "        2b. remove punctuation #NEED DEFAULT PUNCTUATION LIST\n",
    "        2c. use stemming dictionary (deafault = None) \n",
    "        ??  Check for hyphens\n",
    "        \n",
    "        3a. Remove stopwords (default in __stopwords__)\n",
    "\n",
    "        4a. Create index\n",
    "        \n",
    "        \n",
    "        inverse document frequency:\n",
    "        for each document\n",
    "        - \n",
    "    \"\"\"\n",
    "    \n",
    "\n",
    "    \"\"\"\n",
    "        If we are going to have a lot of documents then the overhead of objet creation will slow us down\n",
    "        'title' is the name of the document\n",
    "        'string' is the original string\n",
    "        keywords' are the words in a document\n",
    "    \"\"\"\n",
    "    Document = namedtuple('Document',['title', 'string', 'keywords'])\n",
    "\n",
    "    \n",
    "    def __init__(self, model_corpus, stopwords, **kwargs):\n",
    "        # kwargs.get(foo, default) searches for named arguments e.g doc-sep='\\n' but provides a default if not found\n",
    "        self.doc_sep = kwargs.get('doc_sep', ';') # seperates documents in corpus\n",
    "        self.title_sep = kwargs.get('title_sep', ':') # seperates document title from comments\n",
    "        self.remove_punctuation = kwargs.get('punctuation', None) # default function to remove punctuation\n",
    "        self.stopwords = stopwords\n",
    "      \n",
    "        # dictionary to store how many documents a word was in\n",
    "        self.document_frequencies = defaultdict(lambda: 0)   \n",
    "        \n",
    "        # default function to remove punctuation\n",
    "        if not self.remove_punctuation:\n",
    "            self.remove_punctuation = remove_all_punctuation_and_numbers\n",
    "            \n",
    "        self.stemming_dict = kwargs.get('stemming_dict', None)\n",
    "        \n",
    "        self.number_of_documents = 0\n",
    "        self.idf_squared = {} # key = document frequency : value = idf**2 to speed up calculations\n",
    "        self.ipy_table = [] # for displaying calculations\n",
    "        self.ipy_table_headers = [] # to know which rows to style in output\n",
    "        \n",
    "        \n",
    "        # Needs to be split into doc and contents\n",
    "        self._preprocess(model_corpus)\n",
    "        \n",
    "        \n",
    "        \n",
    "    def _preprocess(self, model_corpus):\n",
    "        self._read_documents(model_corpus)\n",
    "        self.tf_idf()\n",
    "    \n",
    "    def _read_documents(self, model_corpus):\n",
    "        \"\"\"\n",
    "            self.corpus.split(self.doc_sep) creates individual document strings (1a)\n",
    "            Each document performs:\n",
    "                - speration of document string into title and contents using self.title_sep\n",
    "                - transition to lower case\n",
    "                - removal of punctuation\n",
    "                - stemming\n",
    "                - stopword removal\n",
    "        \"\"\"\n",
    "       \n",
    "        self.documents = [self.create_document_tuples(self, doc) for doc in model_corpus.split(self.doc_sep) if doc]\n",
    "        \n",
    "    def stem(self, word):\n",
    "        word = self.remove_punctuation(word.strip().lower()) # remove punctuation and change to lower case\n",
    "        if word not in self.stopwords:\n",
    "            return self.stemming_dict.get(word, word) # find a stem else return the word as is\n",
    "        else:\n",
    "            return None # this is a stopword so we ignore it\n",
    "    \n",
    "    def inverse_document_frequency(self, doc_frequency):\n",
    "        if doc_frequency:\n",
    "            return math.log10(self.number_of_documents/doc_frequency)\n",
    "        else: return 0 # to avoid divison by zero\n",
    "        \n",
    "    def tf_idf(self):\n",
    "\n",
    "        tf_idf = defaultdict(lambda: [])\n",
    "        set_of_df = set(self.document_frequencies.values()) \n",
    "        self.number_of_documents = len(self.documents)\n",
    "\n",
    "        # cache the values of idf^2 for a given document frequency\n",
    "        # assumes document idf = query idf\n",
    "        self.idf_squared = {df : (self.inverse_document_frequency(df)**2) for df in set_of_df}\n",
    "        self.idf_squared.update({0:0})\n",
    "        # Get the lengths of vectors\n",
    "        self.document_lengths = {document.title: self.get_vector_length(document) for document in self.documents}\n",
    "         \n",
    "    \n",
    "    def get_vector_length(self,document):\n",
    "        \n",
    "        \"\"\"\n",
    "            Vector length is math.sqrt(sum(tf_idf**2))\n",
    "            tf_idf**2 = tf*idf*tf*idf = tf**2 * idf**2\n",
    "            \n",
    "            idf_squared already calculated\n",
    "            tf is frequency divide by most frequent word\n",
    "            \n",
    "        \"\"\"\n",
    "        tf_dict = document.keywords\n",
    "    \n",
    "        total = 0 # not used in fact\n",
    "        \n",
    "        header_row = [document.title,'tf', 'df','idf', 'tfidf','tfidf**2']\n",
    "        \n",
    "        header_row_number = len(self.ipy_table)\n",
    "        self.ipy_table_headers.append(header_row_number)\n",
    "        self.ipy_table.append(header_row)\n",
    "         \n",
    "        \n",
    "        \n",
    "        \n",
    "        \n",
    "        for key, tf in tf_dict.items():\n",
    "            \n",
    "            \"\"\"\n",
    "                Only used for display purposes\n",
    "            \"\"\"\n",
    "            \n",
    "            #print \"KEY, DF\", key, self.document_frequencies[key]\n",
    "            #print \"IDF SQUARED\", self.idf_squared [self.document_frequencies[key]]\n",
    "            \n",
    "            idf2 = self.idf_squared [self.document_frequencies[key]]\n",
    "            \n",
    "            idf = self.inverse_document_frequency(self.document_frequencies [key])\n",
    "            tfbyidf = (idf * tf)**2\n",
    "            total += tfbyidf\n",
    "            #print key, \"-> tf=\", round(tf,2), \"df=\", self.document_frequencies [key], \"idf\", round(idf,2), \"tfidf=\", \n",
    "            #print round(math.log10(self.number_of_documents/self.document_frequencies [key]) * tf_dict[key],2),\n",
    "            #print \"tfidf**2=\", round(tfbyidf,5)\n",
    "            row = [key, round(tf,2), self.document_frequencies [key],\n",
    "                   self.inverse_document_frequency(self.document_frequencies [key]), \n",
    "                   round(idf,2)*round(tf,2), tfbyidf]\n",
    "            #print len(row), row\n",
    "            #self.document_lengths_table.append(row)\n",
    "            self.ipy_table.append(row)\n",
    "\n",
    "    \n",
    "        \n",
    "        # Actual calculation\n",
    "        query_length_squared = sum(self.idf_squared[self.document_frequencies [kw]] * (tf_dict [kw]**2) for kw in tf_dict.keys())\n",
    "        \n",
    "\n",
    "        vector_length = math.sqrt(query_length_squared)\n",
    "        \n",
    "        self.ipy_table.append([\"\", \"\", \"\", \"\", \"Total\", query_length_squared ])\n",
    "        self.ipy_table.append([\"\", \"\", \"\", \"\", \"Length\", vector_length ])\n",
    "        \n",
    "        make_table(self.ipy_table, interactive=False)\n",
    "        \n",
    "        for row_number in self.ipy_table_headers:\n",
    "            set_row_style(row_number,color=\"blue\")\n",
    "            \n",
    "        return vector_length\n",
    "        \n",
    "    \n",
    "    def query(self, string):\n",
    "          \n",
    "        self.ipy_table = [] # New table so reset\n",
    "        self.ipy_table_headers = []\n",
    "\n",
    "        \n",
    "        keywords = filter (None, (self.stem(word) for word in string.split())) # Stemming\n",
    "        \n",
    "        counter = Counter(keywords) # Count frequencies\n",
    "        most_frequent = counter.most_common(1)[0][1] # returns list of tuples hence long access line\n",
    "        query_tf_dict = {key: value/most_frequent for key, value in counter.items()}\n",
    "        \n",
    "        # get_vector_length expects a document so turn query into document\n",
    "        query = self.Document(title=\"query\", string=string, keywords=query_tf_dict)\n",
    "        query_length = self.get_vector_length(query)\n",
    "        \n",
    "        \n",
    "        \"\"\"\n",
    "            Dot product:\n",
    "            \n",
    "            sum of\n",
    "            for key value in tf_dict:\n",
    "                \n",
    "                (query tf * term idf) * (document tf * term idf)\n",
    "                = query tf * document tf * term idf squared \n",
    "        \"\"\"\n",
    "        \n",
    "        query_table = []\n",
    "        row_headers = []\n",
    "        \n",
    "        for document in self.documents:\n",
    "            \n",
    "            self.ipy_table_headers.append(len(self.ipy_table)+len(query_table))\n",
    "            \n",
    "            query_table.append( [document.title + \".q\", \"dtf\", \"didf\", \"qtf\",\"qidf\", \"product\"] )\n",
    "          \n",
    "            \n",
    "            for term, tf in query_tf_dict.items():\n",
    "                qidf = self.inverse_document_frequency(self.document_frequencies[term])\n",
    "                dtf = document.keywords.get(term, 0)\n",
    "                didf = self.inverse_document_frequency(self.document_frequencies[term])\n",
    "                #totalA += tf*qidf*dtf*didf\n",
    "                \n",
    "                query_table.append([term, dtf, didf, tf, qidf, tf*qidf*dtf*didf])\n",
    "                                  \n",
    "                #print term, \"-> qtf=\", round(tf,2) , \"qidf=\", round(qidf,2),\n",
    "                #print \"dtf=\", round(dtf,2),\n",
    "                #print \"didf=\", round(didf,2),\n",
    "                #print \"q.tfidf=\", tf*qidf, \"d.tfidf=\",dtf*didf, \"=>\", tf*qidf*dtf*didf\n",
    "                \n",
    "                                                                    \n",
    "            dot_product = sum(document.keywords.get(key, 0) * query_tf * \n",
    "                                      self.idf_squared[self.document_frequencies[key]] \\\n",
    "                                      for key, query_tf in query_tf_dict.items())\n",
    "      \n",
    "            \n",
    "            document_length = self.document_lengths[document.title]\n",
    "            \n",
    "            cos = dot_product/(document_length * query_length)\n",
    "            \n",
    "            # Add cos calculations to table for display\n",
    "            query_table.append([\"\",\"\",\"\",\"\", \"d.q\", dot_product])\n",
    "            query_table.append([\"\",\"\",\"\",\"\", \"|d|*|q|\", document_length*query_length])\n",
    "            query_table.append([\"\",\"\",\"\",\"\", \"cos\", cos])\n",
    "            \n",
    "            #print document.title, \"cos=\", cos, \"||d||=\", document_length, \"||q||=\",query_length,  \"d.q=\", dot_product, \\\n",
    "            #\"||d||*||q||=\", document_length*query_length\n",
    "         \n",
    "        self.ipy_table.extend(query_table)\n",
    "        \n",
    "        make_table(self.ipy_table, interactive=False)\n",
    "        \n",
    "        \n",
    "        \n",
    "        for row_number in self.ipy_table_headers:\n",
    "            set_row_style(row_number,color=\"red\")\n",
    "        \n",
    "        \n",
    "            \n",
    "    def create_document_tuples(self, model, string):\n",
    "        \n",
    "        title, contents = string.split(self.title_sep)\n",
    "        \n",
    "        string = contents.strip()\n",
    "        \n",
    "        title=title.strip()\n",
    "\n",
    "        tf = {}\n",
    "        \n",
    "        contents = filter(None,(self.stem(word) for word in contents.split()))\n",
    "    \n",
    "        counter = Counter(contents)\n",
    "        \n",
    "        keywords = set( counter.keys())\n",
    "    \n",
    "        most_frequent = counter.most_common(1)[0][1]\n",
    "        \n",
    "        for kw in counter.keys():\n",
    "            \n",
    "            tf[kw] = counter[kw]/most_frequent\n",
    "            self.document_frequencies[kw] += 1 # increment the document frequencies dictionary\n",
    "            \n",
    "            \n",
    "        doc_tuple = VectorSpaceModel.Document(title = title, string = string, keywords =tf)\n",
    "        \n",
    "        \n",
    "        \n",
    "        return doc_tuple   "
   ]
  },
  {
   "cell_type": "code",
   "execution_count": 3,
   "metadata": {
    "collapsed": false
   },
   "outputs": [
    {
     "data": {
      "text/html": [
       "<table border=\"1\" cellpadding=\"3\" cellspacing=\"0\"  style=\"border:1px solid black;border-collapse:collapse;\"><tr><td  style=\"background-color:blue;\">d1</td><td  style=\"background-color:blue;\">tf</td><td  style=\"background-color:blue;\">df</td><td  style=\"background-color:blue;\">idf</td><td  style=\"background-color:blue;\">tfidf</td><td  style=\"background-color:blue;\">tfidf**2</td></tr><tr><td>space</td><td>0.3300</td><td>2</td><td>0.3979</td><td>0.1320</td><td>0.0176</td></tr><tr><td>relevan</td><td>0.3300</td><td>2</td><td>0.3979</td><td>0.1320</td><td>0.0176</td></tr><tr><td>vector</td><td>0.3300</td><td>2</td><td>0.3979</td><td>0.1320</td><td>0.0176</td></tr><tr><td>english</td><td>0.3300</td><td>2</td><td>0.3979</td><td>0.1320</td><td>0.0176</td></tr><tr><td>model</td><td>1.0000</td><td>3</td><td>0.2218</td><td>0.2200</td><td>0.0492</td></tr><tr><td>retrieval</td><td>0.6700</td><td>3</td><td>0.2218</td><td>0.1474</td><td>0.0219</td></tr><tr><td></td><td></td><td></td><td></td><td>Total</td><td>0.1415</td></tr><tr><td></td><td></td><td></td><td></td><td>Length</td><td>0.3761</td></tr><tr><td  style=\"background-color:blue;\">d2</td><td  style=\"background-color:blue;\">tf</td><td  style=\"background-color:blue;\">df</td><td  style=\"background-color:blue;\">idf</td><td  style=\"background-color:blue;\">tfidf</td><td  style=\"background-color:blue;\">tfidf**2</td></tr><tr><td>precis</td><td>1.0000</td><td>2</td><td>0.3979</td><td>0.4000</td><td>0.1584</td></tr><tr><td>relevan</td><td>0.5000</td><td>2</td><td>0.3979</td><td>0.2000</td><td>0.0396</td></tr><tr><td>average</td><td>0.5000</td><td>2</td><td>0.3979</td><td>0.2000</td><td>0.0396</td></tr><tr><td>measure</td><td>1.0000</td><td>2</td><td>0.3979</td><td>0.4000</td><td>0.1584</td></tr><tr><td></td><td></td><td></td><td></td><td>Total</td><td>0.3959</td></tr><tr><td></td><td></td><td></td><td></td><td>Length</td><td>0.6292</td></tr><tr><td  style=\"background-color:blue;\">d3</td><td  style=\"background-color:blue;\">tf</td><td  style=\"background-color:blue;\">df</td><td  style=\"background-color:blue;\">idf</td><td  style=\"background-color:blue;\">tfidf</td><td  style=\"background-color:blue;\">tfidf**2</td></tr><tr><td>language</td><td>0.3300</td><td>2</td><td>0.3979</td><td>0.1320</td><td>0.0176</td></tr><tr><td>space</td><td>0.3300</td><td>2</td><td>0.3979</td><td>0.1320</td><td>0.0176</td></tr><tr><td>most</td><td>0.3300</td><td>2</td><td>0.3979</td><td>0.1320</td><td>0.0176</td></tr><tr><td>vector</td><td>0.3300</td><td>2</td><td>0.3979</td><td>0.1320</td><td>0.0176</td></tr><tr><td>model</td><td>1.0000</td><td>3</td><td>0.2218</td><td>0.2200</td><td>0.0492</td></tr><tr><td>effic</td><td>0.3300</td><td>3</td><td>0.2218</td><td>0.0726</td><td>0.0055</td></tr><tr><td>retrieval</td><td>0.3300</td><td>3</td><td>0.2218</td><td>0.0726</td><td>0.0055</td></tr><tr><td></td><td></td><td></td><td></td><td>Total</td><td>0.1305</td></tr><tr><td></td><td></td><td></td><td></td><td>Length</td><td>0.3613</td></tr><tr><td  style=\"background-color:blue;\">d4</td><td  style=\"background-color:blue;\">tf</td><td  style=\"background-color:blue;\">df</td><td  style=\"background-color:blue;\">idf</td><td  style=\"background-color:blue;\">tfidf</td><td  style=\"background-color:blue;\">tfidf**2</td></tr><tr><td>most</td><td>0.5000</td><td>2</td><td>0.3979</td><td>0.2000</td><td>0.0396</td></tr><tr><td>effic</td><td>0.5000</td><td>3</td><td>0.2218</td><td>0.1100</td><td>0.0123</td></tr><tr><td>language</td><td>1.0000</td><td>2</td><td>0.3979</td><td>0.4000</td><td>0.1584</td></tr><tr><td>english</td><td>0.5000</td><td>2</td><td>0.3979</td><td>0.2000</td><td>0.0396</td></tr><tr><td></td><td></td><td></td><td></td><td>Total</td><td>0.2498</td></tr><tr><td></td><td></td><td></td><td></td><td>Length</td><td>0.4998</td></tr><tr><td  style=\"background-color:blue;\">d5</td><td  style=\"background-color:blue;\">tf</td><td  style=\"background-color:blue;\">df</td><td  style=\"background-color:blue;\">idf</td><td  style=\"background-color:blue;\">tfidf</td><td  style=\"background-color:blue;\">tfidf**2</td></tr><tr><td>average</td><td>0.5000</td><td>2</td><td>0.3979</td><td>0.2000</td><td>0.0396</td></tr><tr><td>precis</td><td>0.5000</td><td>2</td><td>0.3979</td><td>0.2000</td><td>0.0396</td></tr><tr><td>measure</td><td>0.5000</td><td>2</td><td>0.3979</td><td>0.2000</td><td>0.0396</td></tr><tr><td>model</td><td>0.5000</td><td>3</td><td>0.2218</td><td>0.1100</td><td>0.0123</td></tr><tr><td>effic</td><td>0.5000</td><td>3</td><td>0.2218</td><td>0.1100</td><td>0.0123</td></tr><tr><td>retrieval</td><td>1.0000</td><td>3</td><td>0.2218</td><td>0.2200</td><td>0.0492</td></tr><tr><td></td><td></td><td></td><td></td><td>Total</td><td>0.1926</td></tr><tr><td></td><td></td><td></td><td></td><td>Length</td><td>0.4389</td></tr></table>"
      ],
      "text/plain": [
       "<ipy_table.IpyTable at 0x2d58ef0>"
      ]
     },
     "execution_count": 3,
     "metadata": {},
     "output_type": "execute_result"
    }
   ],
   "source": [
    "        \n",
    "vsm = VectorSpaceModel(corpus, stop_words, stemming_dict=stems) \n",
    "render()"
   ]
  },
  {
   "cell_type": "markdown",
   "metadata": {},
   "source": [
    "### Q1: relevant retrieval "
   ]
  },
  {
   "cell_type": "code",
   "execution_count": 4,
   "metadata": {
    "collapsed": false
   },
   "outputs": [
    {
     "data": {
      "text/html": [
       "<table border=\"1\" cellpadding=\"3\" cellspacing=\"0\"  style=\"border:1px solid black;border-collapse:collapse;\"><tr><td  style=\"background-color:red;\">query</td><td  style=\"background-color:red;\">tf</td><td  style=\"background-color:red;\">df</td><td  style=\"background-color:red;\">idf</td><td  style=\"background-color:red;\">tfidf</td><td  style=\"background-color:red;\">tfidf**2</td></tr><tr><td>relevan</td><td>1.0000</td><td>2</td><td>0.3979</td><td>0.4000</td><td>0.1584</td></tr><tr><td>retrieval</td><td>1.0000</td><td>3</td><td>0.2218</td><td>0.2200</td><td>0.0492</td></tr><tr><td></td><td></td><td></td><td></td><td>Total</td><td>0.2076</td></tr><tr><td></td><td></td><td></td><td></td><td>Length</td><td>0.4556</td></tr><tr><td  style=\"background-color:red;\">d1.q</td><td  style=\"background-color:red;\">dtf</td><td  style=\"background-color:red;\">didf</td><td  style=\"background-color:red;\">qtf</td><td  style=\"background-color:red;\">qidf</td><td  style=\"background-color:red;\">product</td></tr><tr><td>relevan</td><td>0.3333</td><td>0.3979</td><td>1.0000</td><td>0.3979</td><td>0.0528</td></tr><tr><td>retrieval</td><td>0.6667</td><td>0.2218</td><td>1.0000</td><td>0.2218</td><td>0.0328</td></tr><tr><td></td><td></td><td></td><td></td><td>d.q</td><td>0.0856</td></tr><tr><td></td><td></td><td></td><td></td><td>|d|*|q|</td><td>0.1714</td></tr><tr><td></td><td></td><td></td><td></td><td>cos</td><td>0.4995</td></tr><tr><td  style=\"background-color:red;\">d2.q</td><td  style=\"background-color:red;\">dtf</td><td  style=\"background-color:red;\">didf</td><td  style=\"background-color:red;\">qtf</td><td  style=\"background-color:red;\">qidf</td><td  style=\"background-color:red;\">product</td></tr><tr><td>relevan</td><td>0.5000</td><td>0.3979</td><td>1.0000</td><td>0.3979</td><td>0.0792</td></tr><tr><td>retrieval</td><td>0</td><td>0.2218</td><td>1.0000</td><td>0.2218</td><td>0.0000</td></tr><tr><td></td><td></td><td></td><td></td><td>d.q</td><td>0.0792</td></tr><tr><td></td><td></td><td></td><td></td><td>|d|*|q|</td><td>0.2867</td></tr><tr><td></td><td></td><td></td><td></td><td>cos</td><td>0.2762</td></tr><tr><td  style=\"background-color:red;\">d3.q</td><td  style=\"background-color:red;\">dtf</td><td  style=\"background-color:red;\">didf</td><td  style=\"background-color:red;\">qtf</td><td  style=\"background-color:red;\">qidf</td><td  style=\"background-color:red;\">product</td></tr><tr><td>relevan</td><td>0</td><td>0.3979</td><td>1.0000</td><td>0.3979</td><td>0.0000</td></tr><tr><td>retrieval</td><td>0.3333</td><td>0.2218</td><td>1.0000</td><td>0.2218</td><td>0.0164</td></tr><tr><td></td><td></td><td></td><td></td><td>d.q</td><td>0.0164</td></tr><tr><td></td><td></td><td></td><td></td><td>|d|*|q|</td><td>0.1646</td></tr><tr><td></td><td></td><td></td><td></td><td>cos</td><td>0.0997</td></tr><tr><td  style=\"background-color:red;\">d4.q</td><td  style=\"background-color:red;\">dtf</td><td  style=\"background-color:red;\">didf</td><td  style=\"background-color:red;\">qtf</td><td  style=\"background-color:red;\">qidf</td><td  style=\"background-color:red;\">product</td></tr><tr><td>relevan</td><td>0</td><td>0.3979</td><td>1.0000</td><td>0.3979</td><td>0.0000</td></tr><tr><td>retrieval</td><td>0</td><td>0.2218</td><td>1.0000</td><td>0.2218</td><td>0.0000</td></tr><tr><td></td><td></td><td></td><td></td><td>d.q</td><td>0.0000</td></tr><tr><td></td><td></td><td></td><td></td><td>|d|*|q|</td><td>0.2277</td></tr><tr><td></td><td></td><td></td><td></td><td>cos</td><td>0.0000</td></tr><tr><td  style=\"background-color:red;\">d5.q</td><td  style=\"background-color:red;\">dtf</td><td  style=\"background-color:red;\">didf</td><td  style=\"background-color:red;\">qtf</td><td  style=\"background-color:red;\">qidf</td><td  style=\"background-color:red;\">product</td></tr><tr><td>relevan</td><td>0</td><td>0.3979</td><td>1.0000</td><td>0.3979</td><td>0.0000</td></tr><tr><td>retrieval</td><td>1.0000</td><td>0.2218</td><td>1.0000</td><td>0.2218</td><td>0.0492</td></tr><tr><td></td><td></td><td></td><td></td><td>d.q</td><td>0.0492</td></tr><tr><td></td><td></td><td></td><td></td><td>|d|*|q|</td><td>0.1999</td></tr><tr><td></td><td></td><td></td><td></td><td>cos</td><td>0.2462</td></tr></table>"
      ],
      "text/plain": [
       "<ipy_table.IpyTable at 0x3790208>"
      ]
     },
     "execution_count": 4,
     "metadata": {},
     "output_type": "execute_result"
    }
   ],
   "source": [
    "vsm.query(\"relevant retrieval\")\n",
    "render()"
   ]
  },
  {
   "cell_type": "markdown",
   "metadata": {},
   "source": [
    "### Q2: efficient model efficient retrieval"
   ]
  },
  {
   "cell_type": "code",
   "execution_count": 5,
   "metadata": {
    "collapsed": false
   },
   "outputs": [
    {
     "data": {
      "text/html": [
       "<table border=\"1\" cellpadding=\"3\" cellspacing=\"0\"  style=\"border:1px solid black;border-collapse:collapse;\"><tr><td  style=\"background-color:red;\">query</td><td  style=\"background-color:red;\">tf</td><td  style=\"background-color:red;\">df</td><td  style=\"background-color:red;\">idf</td><td  style=\"background-color:red;\">tfidf</td><td  style=\"background-color:red;\">tfidf**2</td></tr><tr><td>model</td><td>0.5000</td><td>3</td><td>0.2218</td><td>0.1100</td><td>0.0123</td></tr><tr><td>effic</td><td>1.0000</td><td>3</td><td>0.2218</td><td>0.2200</td><td>0.0492</td></tr><tr><td>retrieval</td><td>0.5000</td><td>3</td><td>0.2218</td><td>0.1100</td><td>0.0123</td></tr><tr><td></td><td></td><td></td><td></td><td>Total</td><td>0.0738</td></tr><tr><td></td><td></td><td></td><td></td><td>Length</td><td>0.2717</td></tr><tr><td  style=\"background-color:red;\">d1.q</td><td  style=\"background-color:red;\">dtf</td><td  style=\"background-color:red;\">didf</td><td  style=\"background-color:red;\">qtf</td><td  style=\"background-color:red;\">qidf</td><td  style=\"background-color:red;\">product</td></tr><tr><td>model</td><td>1.0000</td><td>0.2218</td><td>0.5000</td><td>0.2218</td><td>0.0246</td></tr><tr><td>effic</td><td>0</td><td>0.2218</td><td>1.0000</td><td>0.2218</td><td>0.0000</td></tr><tr><td>retrieval</td><td>0.6667</td><td>0.2218</td><td>0.5000</td><td>0.2218</td><td>0.0164</td></tr><tr><td></td><td></td><td></td><td></td><td>d.q</td><td>0.0410</td></tr><tr><td></td><td></td><td></td><td></td><td>|d|*|q|</td><td>0.1022</td></tr><tr><td></td><td></td><td></td><td></td><td>cos</td><td>0.4013</td></tr><tr><td  style=\"background-color:red;\">d2.q</td><td  style=\"background-color:red;\">dtf</td><td  style=\"background-color:red;\">didf</td><td  style=\"background-color:red;\">qtf</td><td  style=\"background-color:red;\">qidf</td><td  style=\"background-color:red;\">product</td></tr><tr><td>model</td><td>0</td><td>0.2218</td><td>0.5000</td><td>0.2218</td><td>0.0000</td></tr><tr><td>effic</td><td>0</td><td>0.2218</td><td>1.0000</td><td>0.2218</td><td>0.0000</td></tr><tr><td>retrieval</td><td>0</td><td>0.2218</td><td>0.5000</td><td>0.2218</td><td>0.0000</td></tr><tr><td></td><td></td><td></td><td></td><td>d.q</td><td>0.0000</td></tr><tr><td></td><td></td><td></td><td></td><td>|d|*|q|</td><td>0.1710</td></tr><tr><td></td><td></td><td></td><td></td><td>cos</td><td>0.0000</td></tr><tr><td  style=\"background-color:red;\">d3.q</td><td  style=\"background-color:red;\">dtf</td><td  style=\"background-color:red;\">didf</td><td  style=\"background-color:red;\">qtf</td><td  style=\"background-color:red;\">qidf</td><td  style=\"background-color:red;\">product</td></tr><tr><td>model</td><td>1.0000</td><td>0.2218</td><td>0.5000</td><td>0.2218</td><td>0.0246</td></tr><tr><td>effic</td><td>0.3333</td><td>0.2218</td><td>1.0000</td><td>0.2218</td><td>0.0164</td></tr><tr><td>retrieval</td><td>0.3333</td><td>0.2218</td><td>0.5000</td><td>0.2218</td><td>0.0082</td></tr><tr><td></td><td></td><td></td><td></td><td>d.q</td><td>0.0492</td></tr><tr><td></td><td></td><td></td><td></td><td>|d|*|q|</td><td>0.0982</td></tr><tr><td></td><td></td><td></td><td></td><td>cos</td><td>0.5014</td></tr><tr><td  style=\"background-color:red;\">d4.q</td><td  style=\"background-color:red;\">dtf</td><td  style=\"background-color:red;\">didf</td><td  style=\"background-color:red;\">qtf</td><td  style=\"background-color:red;\">qidf</td><td  style=\"background-color:red;\">product</td></tr><tr><td>model</td><td>0</td><td>0.2218</td><td>0.5000</td><td>0.2218</td><td>0.0000</td></tr><tr><td>effic</td><td>0.5000</td><td>0.2218</td><td>1.0000</td><td>0.2218</td><td>0.0246</td></tr><tr><td>retrieval</td><td>0</td><td>0.2218</td><td>0.5000</td><td>0.2218</td><td>0.0000</td></tr><tr><td></td><td></td><td></td><td></td><td>d.q</td><td>0.0246</td></tr><tr><td></td><td></td><td></td><td></td><td>|d|*|q|</td><td>0.1358</td></tr><tr><td></td><td></td><td></td><td></td><td>cos</td><td>0.1812</td></tr><tr><td  style=\"background-color:red;\">d5.q</td><td  style=\"background-color:red;\">dtf</td><td  style=\"background-color:red;\">didf</td><td  style=\"background-color:red;\">qtf</td><td  style=\"background-color:red;\">qidf</td><td  style=\"background-color:red;\">product</td></tr><tr><td>model</td><td>0.5000</td><td>0.2218</td><td>0.5000</td><td>0.2218</td><td>0.0123</td></tr><tr><td>effic</td><td>0.5000</td><td>0.2218</td><td>1.0000</td><td>0.2218</td><td>0.0246</td></tr><tr><td>retrieval</td><td>1.0000</td><td>0.2218</td><td>0.5000</td><td>0.2218</td><td>0.0246</td></tr><tr><td></td><td></td><td></td><td></td><td>d.q</td><td>0.0615</td></tr><tr><td></td><td></td><td></td><td></td><td>|d|*|q|</td><td>0.1192</td></tr><tr><td></td><td></td><td></td><td></td><td>cos</td><td>0.5159</td></tr></table>"
      ],
      "text/plain": [
       "<ipy_table.IpyTable at 0x39a49b0>"
      ]
     },
     "execution_count": 5,
     "metadata": {},
     "output_type": "execute_result"
    }
   ],
   "source": [
    "vsm.query(\"efficient model efficient retrieval\")\n",
    "render()"
   ]
  },
  {
   "cell_type": "markdown",
   "metadata": {},
   "source": [
    "### Q3: precise precision with average recall"
   ]
  },
  {
   "cell_type": "code",
   "execution_count": 6,
   "metadata": {
    "collapsed": false
   },
   "outputs": [
    {
     "data": {
      "text/html": [
       "<table border=\"1\" cellpadding=\"3\" cellspacing=\"0\"  style=\"border:1px solid black;border-collapse:collapse;\"><tr><td  style=\"background-color:red;\">query</td><td  style=\"background-color:red;\">tf</td><td  style=\"background-color:red;\">df</td><td  style=\"background-color:red;\">idf</td><td  style=\"background-color:red;\">tfidf</td><td  style=\"background-color:red;\">tfidf**2</td></tr><tr><td>precis</td><td>1.0000</td><td>2</td><td>0.3979</td><td>0.4000</td><td>0.1584</td></tr><tr><td>recall</td><td>0.5000</td><td>0</td><td>0</td><td>0.0000</td><td>0.0000</td></tr><tr><td>average</td><td>0.5000</td><td>2</td><td>0.3979</td><td>0.2000</td><td>0.0396</td></tr><tr><td></td><td></td><td></td><td></td><td>Total</td><td>0.1979</td></tr><tr><td></td><td></td><td></td><td></td><td>Length</td><td>0.4449</td></tr><tr><td  style=\"background-color:red;\">d1.q</td><td  style=\"background-color:red;\">dtf</td><td  style=\"background-color:red;\">didf</td><td  style=\"background-color:red;\">qtf</td><td  style=\"background-color:red;\">qidf</td><td  style=\"background-color:red;\">product</td></tr><tr><td>precis</td><td>0</td><td>0.3979</td><td>1.0000</td><td>0.3979</td><td>0.0000</td></tr><tr><td>recall</td><td>0</td><td>0</td><td>0.5000</td><td>0</td><td>0.0000</td></tr><tr><td>average</td><td>0</td><td>0.3979</td><td>0.5000</td><td>0.3979</td><td>0.0000</td></tr><tr><td></td><td></td><td></td><td></td><td>d.q</td><td>0.0000</td></tr><tr><td></td><td></td><td></td><td></td><td>|d|*|q|</td><td>0.1673</td></tr><tr><td></td><td></td><td></td><td></td><td>cos</td><td>0.0000</td></tr><tr><td  style=\"background-color:red;\">d2.q</td><td  style=\"background-color:red;\">dtf</td><td  style=\"background-color:red;\">didf</td><td  style=\"background-color:red;\">qtf</td><td  style=\"background-color:red;\">qidf</td><td  style=\"background-color:red;\">product</td></tr><tr><td>precis</td><td>1.0000</td><td>0.3979</td><td>1.0000</td><td>0.3979</td><td>0.1584</td></tr><tr><td>recall</td><td>0</td><td>0</td><td>0.5000</td><td>0</td><td>0.0000</td></tr><tr><td>average</td><td>0.5000</td><td>0.3979</td><td>0.5000</td><td>0.3979</td><td>0.0396</td></tr><tr><td></td><td></td><td></td><td></td><td>d.q</td><td>0.1979</td></tr><tr><td></td><td></td><td></td><td></td><td>|d|*|q|</td><td>0.2799</td></tr><tr><td></td><td></td><td></td><td></td><td>cos</td><td>0.7071</td></tr><tr><td  style=\"background-color:red;\">d3.q</td><td  style=\"background-color:red;\">dtf</td><td  style=\"background-color:red;\">didf</td><td  style=\"background-color:red;\">qtf</td><td  style=\"background-color:red;\">qidf</td><td  style=\"background-color:red;\">product</td></tr><tr><td>precis</td><td>0</td><td>0.3979</td><td>1.0000</td><td>0.3979</td><td>0.0000</td></tr><tr><td>recall</td><td>0</td><td>0</td><td>0.5000</td><td>0</td><td>0.0000</td></tr><tr><td>average</td><td>0</td><td>0.3979</td><td>0.5000</td><td>0.3979</td><td>0.0000</td></tr><tr><td></td><td></td><td></td><td></td><td>d.q</td><td>0.0000</td></tr><tr><td></td><td></td><td></td><td></td><td>|d|*|q|</td><td>0.1607</td></tr><tr><td></td><td></td><td></td><td></td><td>cos</td><td>0.0000</td></tr><tr><td  style=\"background-color:red;\">d4.q</td><td  style=\"background-color:red;\">dtf</td><td  style=\"background-color:red;\">didf</td><td  style=\"background-color:red;\">qtf</td><td  style=\"background-color:red;\">qidf</td><td  style=\"background-color:red;\">product</td></tr><tr><td>precis</td><td>0</td><td>0.3979</td><td>1.0000</td><td>0.3979</td><td>0.0000</td></tr><tr><td>recall</td><td>0</td><td>0</td><td>0.5000</td><td>0</td><td>0.0000</td></tr><tr><td>average</td><td>0</td><td>0.3979</td><td>0.5000</td><td>0.3979</td><td>0.0000</td></tr><tr><td></td><td></td><td></td><td></td><td>d.q</td><td>0.0000</td></tr><tr><td></td><td></td><td></td><td></td><td>|d|*|q|</td><td>0.2224</td></tr><tr><td></td><td></td><td></td><td></td><td>cos</td><td>0.0000</td></tr><tr><td  style=\"background-color:red;\">d5.q</td><td  style=\"background-color:red;\">dtf</td><td  style=\"background-color:red;\">didf</td><td  style=\"background-color:red;\">qtf</td><td  style=\"background-color:red;\">qidf</td><td  style=\"background-color:red;\">product</td></tr><tr><td>precis</td><td>0.5000</td><td>0.3979</td><td>1.0000</td><td>0.3979</td><td>0.0792</td></tr><tr><td>recall</td><td>0</td><td>0</td><td>0.5000</td><td>0</td><td>0.0000</td></tr><tr><td>average</td><td>0.5000</td><td>0.3979</td><td>0.5000</td><td>0.3979</td><td>0.0396</td></tr><tr><td></td><td></td><td></td><td></td><td>d.q</td><td>0.1188</td></tr><tr><td></td><td></td><td></td><td></td><td>|d|*|q|</td><td>0.1953</td></tr><tr><td></td><td></td><td></td><td></td><td>cos</td><td>0.6083</td></tr></table>"
      ],
      "text/plain": [
       "<ipy_table.IpyTable at 0x39a4518>"
      ]
     },
     "execution_count": 6,
     "metadata": {},
     "output_type": "execute_result"
    }
   ],
   "source": [
    "vsm.query(\"precise precision with average recall\")\n",
    "render()"
   ]
  }
 ],
 "metadata": {
  "kernelspec": {
   "display_name": "Python 2",
   "language": "python",
   "name": "python2"
  },
  "language_info": {
   "codemirror_mode": {
    "name": "ipython",
    "version": 2
   },
   "file_extension": ".py",
   "mimetype": "text/x-python",
   "name": "python",
   "nbconvert_exporter": "python",
   "pygments_lexer": "ipython2",
   "version": "2.7.11"
  }
 },
 "nbformat": 4,
 "nbformat_minor": 0
}
