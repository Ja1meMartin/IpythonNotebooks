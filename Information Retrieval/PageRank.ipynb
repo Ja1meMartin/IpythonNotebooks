{
 "cells": [
  {
   "cell_type": "code",
   "execution_count": null,
   "metadata": {
    "collapsed": true
   },
   "outputs": [],
   "source": [
    "from __future__ import division\n",
    "from collections import OrderedDict \n",
    "import pickle\n",
    "\n",
    "seed = \"literature.offline/authors/carroll-lewis/index.html\"\n",
    "visited_pages = pickle.load(open('vp.p', 'r'))\n",
    "visited_pages_list = pickle.load(open('vpl.p', 'r'))\n",
    "\n",
    "page_rank_old = {}\n",
    "\n",
    "def page_rank(page_rank_old = None, damping_factor = 0.8, i = 0):\n",
    "    \n",
    "    # Dictionary that we will return\n",
    "    # Key will be a page that we have crawled\n",
    "    # Value will be a list of pagerank/influence passed on from other pages\n",
    "    page_rank_new = {} \n",
    "    \n",
    "    # if not provided with a dictionary\n",
    "    # create a new one and set the value of seed to 1 (i.e 100%)\n",
    "    if not page_rank_old:\n",
    "        page_rank_old = {}\n",
    "        page_rank_old[seed] = 1\n",
    "\n",
    "    # for each page pass on its influence equally amongst its links\n",
    "    # i.e. influence/number of links\n",
    "    for page in visited_pages_list:\n",
    "        number_of_links = len(visited_pages[page])\n",
    "        influence = page_rank_old.get(page, 1-damping_factor)\n",
    "        influence_per_page = damping_factor*influence/number_of_links\n",
    "        \n",
    "        for link in visited_pages[page]:\n",
    "            try:\n",
    "                page_rank_new[link].append(influence_per_page)\n",
    "            except:\n",
    "                page_rank_new[link] = []\n",
    "                page_rank_new[link].append(influence_per_page)\n",
    "    \n",
    "    # Now that all influence has been passed on sum the lists in the page_rank_new dictionary\n",
    "    # and add 1-damping_factor\n",
    "    for page in visited_pages_list:\n",
    "        try:\n",
    "            page_rank_new[page] = sum(page_rank_new.get(page, 0)) + (1-damping_factor)\n",
    "        except:\n",
    "            print \"ERROR ON\", page\n",
    "            \n",
    "        \n",
    "    return page_rank_new"
   ]
  },
  {
   "cell_type": "code",
   "execution_count": 22,
   "metadata": {
    "collapsed": false
   },
   "outputs": [],
   "source": [
    "dic = None\n",
    "\n",
    "# This prints out the top 10 results for the first five rounds\n",
    "with open(\"PageRank/pagerank.txt\", \"w\") as f:\n",
    "    for i in xrange (1,6):\n",
    "        dic = page_rank(dic)\n",
    "        f.write (\" \".join([\"PAGE RANK ROUND\", str(i), \"\\n\"]))\n",
    "        for index, value in enumerate(OrderedDict(sorted(dic.iteritems(), key=lambda item: -item[1])).items()[:10], start=1):\n",
    "            k,v = value \n",
    "            f.write( \"{0}: {1} {2}\\n\".format(index, k, v) )\n",
    "\n",
    "        f.write(\"\\n\")"
   ]
  }
 ],
 "metadata": {
  "kernelspec": {
   "display_name": "Python 2",
   "language": "python",
   "name": "python2"
  },
  "language_info": {
   "codemirror_mode": {
    "name": "ipython",
    "version": 2
   },
   "file_extension": ".py",
   "mimetype": "text/x-python",
   "name": "python",
   "nbconvert_exporter": "python",
   "pygments_lexer": "ipython2",
   "version": "2.7.11"
  }
 },
 "nbformat": 4,
 "nbformat_minor": 0
}
