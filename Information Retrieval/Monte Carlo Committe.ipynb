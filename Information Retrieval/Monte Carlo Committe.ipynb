{
 "cells": [
  {
   "cell_type": "markdown",
   "metadata": {},
   "source": [
    "A committe of 12 is to be formed by randomly selecting from 100 candidates\n",
    "\n",
    "What is the probability that two specific people will be on the committee?\n",
    "\n",
    "(98!/(88!*10!))/(100!/(88!*12!)) = 0.0133333"
   ]
  },
  {
   "cell_type": "code",
   "execution_count": null,
   "metadata": {
    "collapsed": false
   },
   "outputs": [
    {
     "name": "stdout",
     "output_type": "stream",
     "text": [
      "0 1 0.0\n",
      "668 49333 0.0133597328053\n",
      "1345 98656 0.0134498655013\n",
      "2016 147985 0.0134399104006\n",
      "2660 197341 0.0132999335003\n",
      "3288 246713 0.0131519473922\n",
      "3927 296074 0.0130899563668\n",
      "4574 345427 0.0130685340899\n",
      "5263 394738 0.0131574671063\n",
      "5931 444070 0.0131799707112\n",
      "6543 493458 0.0130859738281\n",
      "7254 542747 0.013189066929\n",
      "7934 592067 0.0132233112945\n",
      "8591 641410 0.0132169027432\n",
      "9279 690722 0.013255695349\n",
      "9916 740085 0.0132213157049\n",
      "10616 789385 0.0132699834125\n",
      "11306 838695 0.0133011608222\n"
     ]
    }
   ],
   "source": [
    "import random\n",
    "\n",
    "success, failure = 0,0\n",
    "\n",
    "\n",
    "\n",
    "for i in range (1000000):\n",
    "    \n",
    "    candidates = range(100)\n",
    "    committee = []\n",
    "\n",
    "    def next_candidate(cand, comm):  \n",
    "        number = random.randint(0,len(cand)-1)\n",
    "        item = cand.pop(number)\n",
    "        comm.append(item)\n",
    "\n",
    "    while (len(committee) < 12):\n",
    "        next_candidate(candidates,committee)\n",
    "\n",
    "    if 0 in committee and 1 in committee:\n",
    "        success+=1\n",
    "    else:\n",
    "        failure+=1\n",
    "        \n",
    "    if i%50000 ==0:\n",
    "        print success,failure, success*1.0/(failure+success)\n",
    "        \n",
    "print \"Finished\""
   ]
  },
  {
   "cell_type": "code",
   "execution_count": null,
   "metadata": {
    "collapsed": false
   },
   "outputs": [],
   "source": [
    "n = [0,1]\n",
    "\n",
    "print 0 in n and 1 in n"
   ]
  }
 ],
 "metadata": {
  "kernelspec": {
   "display_name": "Python 2",
   "language": "python",
   "name": "python2"
  },
  "language_info": {
   "codemirror_mode": {
    "name": "ipython",
    "version": 2
   },
   "file_extension": ".py",
   "mimetype": "text/x-python",
   "name": "python",
   "nbconvert_exporter": "python",
   "pygments_lexer": "ipython2",
   "version": "2.7.11"
  }
 },
 "nbformat": 4,
 "nbformat_minor": 0
}
