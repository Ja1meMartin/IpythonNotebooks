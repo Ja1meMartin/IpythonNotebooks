{
 "metadata": {
  "name": "",
  "signature": "sha256:9274523a1a5f758252a800bff1f2554f942a292eb9048d5d385ec719c6e284fa"
 },
 "nbformat": 3,
 "nbformat_minor": 0,
 "worksheets": [
  {
   "cells": [
    {
     "cell_type": "markdown",
     "metadata": {},
     "source": [
      "# Player\n",
      "- Twitter [1]\n",
      "- Youtube\n",
      "- Bio\n",
      "\n",
      "\n",
      "# Team\n",
      "- Twitter [1]\n",
      "- Youtube\n",
      "- Prospect Ranking\n",
      "- Articles\n",
      "- Age Advancement\n",
      "\n"
     ]
    },
    {
     "cell_type": "markdown",
     "metadata": {},
     "source": [
      "# Todo List\n",
      "- Choose a site name [academyanthology.com]\n",
      "- Choose a Twitter account that is amenable to the site name [@academyanthology]\n",
      "- Start adding lists to [@academyanthology]\n",
      "- Get FM 2014/15 and add players to site\n",
      "\n",
      "\n",
      "# Wish List\n",
      "- Set up Flask BB"
     ]
    },
    {
     "cell_type": "markdown",
     "metadata": {},
     "source": [
      "#Notebooks\n",
      "1. Get all of a users followers to intersect\n",
      "2. Use of [Summarizer](https://github.com/lekhakpadmanabh/Summarizer) module\n",
      "3. [GoogleScraper](V)"
     ]
    }
   ],
   "metadata": {}
  }
 ]
}