{
 "cells": [
  {
   "cell_type": "code",
   "execution_count": 10,
   "metadata": {
    "collapsed": true
   },
   "outputs": [],
   "source": [
    "relation = \"battingNumeric\"\n",
    "\n",
    "heading = \"\"\"@RELATION {0}\n",
    " \n",
    "\"\"\".format( relation )\n",
    "\n",
    "with open( relation + \".arff\", \"a\" ) as arff:\n",
    "    arff.write( heading )"
   ]
  },
  {
   "cell_type": "code",
   "execution_count": 11,
   "metadata": {
    "collapsed": false
   },
   "outputs": [
    {
     "name": "stdout",
     "output_type": "stream",
     "text": [
      "['\\xef\\xbb\\xbf\"Season\"', 'Name', 'Team', 'BB%', 'K%', 'ISO', 'BABIP', 'LD%', 'GB%', 'FB%', 'IFH%', 'IFFB%', 'WAR', 'playerid']\n",
      "['\\xef\\xbb\\xbf\"Season\"', 'WAR', 'playerid']\n"
     ]
    }
   ],
   "source": [
    "import csv\n",
    "\n",
    "\n",
    "rows = []\n",
    "headers = None\n",
    "partition = slice(3,-2) # this year's relevant stats\n",
    "\n",
    "# add war-1\n",
    "combined = {}\n",
    "\n",
    "\n",
    "with open(\"batting.csv\") as filename:\n",
    "    reader = csv.reader(filename)\n",
    "    \n",
    "    for row in reader:\n",
    "        if headers:\n",
    "            \n",
    "            present_key, old_key = (row[-1], int(row[0])), (row[-1], int(row[0]) -1)\n",
    "            \n",
    "            \n",
    "            try:\n",
    "                war = combined.pop(present_key)\n",
    "                rows.append( row [partition]  + [war] )\n",
    "            except:\n",
    "                pass\n",
    "            \n",
    "            combined [old_key] = row[-2]\n",
    "        else:\n",
    "            print row\n",
    "            print [row [0]] + row[ -2:]\n",
    "            \n",
    "            headers = row [partition] + ['FutureWAR']\n",
    "            \n",
    "#print headers\n",
    "#print combined\n",
    "            \n",
    "            "
   ]
  },
  {
   "cell_type": "code",
   "execution_count": 12,
   "metadata": {
    "collapsed": false
   },
   "outputs": [
    {
     "name": "stdout",
     "output_type": "stream",
     "text": [
      "\n",
      "@attribute {0} numeric\n"
     ]
    }
   ],
   "source": [
    "\n",
    "weka_attributes_string = \"\\n@attribute {0} numeric\"\n",
    "\n",
    "def get_category(breakpoints, value, categories = None):\n",
    "    index = 0\n",
    "    \n",
    "    if not categories:\n",
    "        categories = [\"Low\", \"Average\", \"High\"]\n",
    "    \n",
    "    for b in breakpoints:\n",
    "        if value > b: index += 1\n",
    "            \n",
    "    return categories[index]\n",
    "\n",
    "\n",
    "print weka_attributes_string"
   ]
  },
  {
   "cell_type": "code",
   "execution_count": null,
   "metadata": {
    "collapsed": false
   },
   "outputs": [],
   "source": []
  },
  {
   "cell_type": "code",
   "execution_count": 13,
   "metadata": {
    "collapsed": false
   },
   "outputs": [
    {
     "name": "stdout",
     "output_type": "stream",
     "text": [
      "BB%\n",
      "Header AGAI BB%\n",
      "K%\n",
      "Header AGAI K%\n",
      "ISO\n",
      "Header AGAI ISO\n",
      "BABIP\n",
      "Header AGAI BABIP\n",
      "LD%\n",
      "Header AGAI LD%\n",
      "GB%\n",
      "Header AGAI GB%\n",
      "FB%\n",
      "Header AGAI FB%\n",
      "IFH%\n",
      "Header AGAI IFH%\n",
      "IFFB%\n",
      "Header AGAI IFFB%\n",
      "FutureWAR\n",
      "Header AGAI FutureWAR\n"
     ]
    }
   ],
   "source": [
    "%matplotlib notebook\n",
    "\n",
    "import numpy as np\n",
    "\n",
    "columns = zip( * rows ) \n",
    "transformed_columns = []\n",
    "column_breakpoints = []\n",
    "\n",
    "\n",
    "\"\"\"s = list(np.random.normal(0, 1, 1000))\n",
    "print s[:5]\n",
    "xy\"\"\"\n",
    "\n",
    "\n",
    "def percent( value):\n",
    "    num, _ = value.split()\n",
    "    return float (num)\n",
    "\n",
    "with open( relation + \".arff\", \"a\" ) as arff:  \n",
    "\n",
    "    for header, c in zip(headers, columns):\n",
    "        try:\n",
    "            transform = None\n",
    "            test = c[0]\n",
    "\n",
    "            if test[-1] is '%':\n",
    "                transform = percent\n",
    "            else:\n",
    "                transform = float\n",
    "\n",
    "            transformed = [ transform (x) for x in c ]\n",
    "            \n",
    "            \n",
    "\n",
    "\n",
    "            ordered = sorted( transformed )\n",
    "            print header\n",
    "            arff.write ( weka_attributes_string.format( header.replace ( '%', 'perc' )  ) )\n",
    "            print \"Header AGAI\",header\n",
    "            transformed_columns.append ([ str(item) for item in transformed ])\n",
    "\n",
    "\n",
    "            \"\"\"\n",
    "\n",
    "            import matplotlib.pyplot as plt\n",
    "            plt.figure()\n",
    "            plt.plot(s, ordered, 'ro')\n",
    "            print \"PLOT MADE\"\n",
    "            plt.show()\n",
    "\n",
    "            \"\"\"\n",
    "\n",
    "        except :\n",
    "            print \"Error\", c[:5]\n",
    "        \n",
    "    arff.write(\"\\n\\n@DATA\\n\")\n",
    "    # write the data\n",
    "    for tc in zip ( * transformed_columns ):\n",
    "        arff.write ( \",\".join ( tc )  + \"\\n\" )"
   ]
  }
 ],
 "metadata": {
  "kernelspec": {
   "display_name": "Python 2",
   "language": "python",
   "name": "python2"
  },
  "language_info": {
   "codemirror_mode": {
    "name": "ipython",
    "version": 2
   },
   "file_extension": ".py",
   "mimetype": "text/x-python",
   "name": "python",
   "nbconvert_exporter": "python",
   "pygments_lexer": "ipython2",
   "version": "2.7.11"
  }
 },
 "nbformat": 4,
 "nbformat_minor": 0
}
