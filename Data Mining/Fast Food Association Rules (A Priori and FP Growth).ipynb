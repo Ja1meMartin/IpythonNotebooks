{
 "cells": [
  {
   "cell_type": "markdown",
   "metadata": {},
   "source": [
    "# A Priori Algorithm"
   ]
  },
  {
   "cell_type": "code",
   "execution_count": 1,
   "metadata": {
    "collapsed": false
   },
   "outputs": [
    {
     "name": "stdout",
     "output_type": "stream",
     "text": [
      "T [set(['Buns', 'Ketchup', 'HotDogs']), set(['Buns', 'HotDogs']), set(['Coke', 'Chips', 'HotDogs']), set(['Coke', 'Chips']), set(['Chips', 'Ketchup']), set(['Coke', 'Chips', 'HotDogs'])]\n",
      "I {'Buns': ['1', '2'], 'Chips': ['3', '4', '5', '6'], 'Ketchup': ['1', '5'], 'Coke': ['3', '4', '6'], 'HotDogs': ['1', '2', '3', '6']}\n",
      "Buns,Chips,Ketchup,Coke,HotDogs\n",
      "Buns,?,Ketchup,?,HotDogs\n",
      "Buns,?,?,?,HotDogs\n",
      "?,Chips,?,Coke,HotDogs\n",
      "?,Chips,?,Coke,?\n",
      "?,Chips,Ketchup,?,?\n",
      "?,Chips,?,Coke,HotDogs\n"
     ]
    }
   ],
   "source": [
    "SUPPORT_THRESHOLD = 1.9 # To avoid the mistake of using > instead of >=\n",
    "CONFIDENCE_THRESHOLD = 0.599999\n",
    "\n",
    "dataset = \"\"\"HotDogs,\tBuns,\tKetchup\t\n",
    "HotDogs,\tBuns\t\n",
    "HotDogs,\tCoke,\tChips\t\n",
    "Chips,\tCoke\t\n",
    "Chips,\tKetchup\t\n",
    "HotDogs,\tCoke,\tChips\t\"\"\".replace(\"\\t\", \"\")\n",
    "\n",
    "transactions = []\n",
    "items = {} # dictionary of itesm and a list of  transactions they a p\n",
    "\n",
    "# Problem would have been easier if I'd ised objects\n",
    "from collections import namedtuple\n",
    "Itemset = namedtuple('Itemset', 'items transactions hv support')\n",
    "\n",
    "# Output for cell in CSV file\n",
    "def symbol(transaction):\n",
    "    return [item if item in transaction else '?' for item in items.keys()]\n",
    "    \n",
    "\n",
    "for i, line in enumerate(dataset.split(\"\\n\"),start=1):\n",
    "    transaction = set(line.split(',')) # items in each line\n",
    "    for item in transaction:\n",
    "        l = items.get(item,[])\n",
    "        l.append(str(i))\n",
    "        items[item] = l\n",
    "        \n",
    "    transactions.append(transaction)\n",
    "    \n",
    "print \"T\", transactions\n",
    "print \"I\", items\n",
    " \n",
    "# Create CSV\n",
    "print \",\".join(items.keys())\n",
    "for t in transactions:\n",
    "    print \",\".join(symbol(t))\n"
   ]
  },
  {
   "cell_type": "markdown",
   "metadata": {},
   "source": [
    "Create candidates, "
   ]
  },
  {
   "cell_type": "code",
   "execution_count": 2,
   "metadata": {
    "collapsed": false
   },
   "outputs": [],
   "source": [
    "def join_items(A, B):\n",
    "    # find the new items\n",
    "    diff = A.items.symmetric_difference(B.items)\n",
    "    \n",
    "    # should be 2 new items e. {1,2,3,4} + {2,3,4,5}\n",
    "    # {2,3,4} is common and {1,5} is difference\n",
    "    if not len(diff) == 2: return None\n",
    "    \n",
    "    # find common transactions\n",
    "    transactions = A.transactions & B.transactions\n",
    "    \n",
    "    # check the Itemset has enough support\n",
    "    # this replaces pruning where we would have had to\n",
    "    # check each proper subset of both A and B\n",
    "    # we can do this either by carrying the transactions\n",
    "    # or creating a dictionary but I chose this way\n",
    "    # because from Big Data Management this would count\n",
    "    if not len(transactions) >= SUPPORT_THRESHOLD: return None\n",
    "    \n",
    "    items = A.items | B.items\n",
    "    \n",
    "    # sort the items so that they can be hashed\n",
    "    values = list(items)\n",
    "    values.sort()\n",
    "    \n",
    "    return Itemset(items = items, transactions = transactions, hv = \"\".join(values), support=len(transactions) )"
   ]
  },
  {
   "cell_type": "code",
   "execution_count": 3,
   "metadata": {
    "collapsed": false
   },
   "outputs": [
    {
     "name": "stdout",
     "output_type": "stream",
     "text": [
      "Itemset(items=set(['Buns']), transactions=set(['1', '2']), hv='Buns', support=2)\n",
      "Itemset(items=set(['Chips']), transactions=set(['3', '5', '4', '6']), hv='Chips', support=4)\n",
      "Itemset(items=set(['Ketchup']), transactions=set(['1', '5']), hv='Ketchup', support=2)\n",
      "Itemset(items=set(['Coke']), transactions=set(['3', '4', '6']), hv='Coke', support=3)\n",
      "Itemset(items=set(['HotDogs']), transactions=set(['1', '3', '2', '6']), hv='HotDogs', support=4)\n",
      "{'Coke': 2, 'Ketchup': 4, 'Chips': 1, 'Buns': 3, 'HotDogs': 0}\n",
      "NEW ACCEPTED ITEMSET Itemset(items=set(['Buns', 'HotDogs']), transactions=set(['1', '2']), hv='BunsHotDogs', support=2)\n",
      "NEW ACCEPTED ITEMSET Itemset(items=set(['Chips', 'HotDogs']), transactions=set(['3', '6']), hv='ChipsHotDogs', support=2)\n",
      "NEW ACCEPTED ITEMSET Itemset(items=set(['Coke', 'HotDogs']), transactions=set(['3', '6']), hv='CokeHotDogs', support=2)\n",
      "NEW ACCEPTED ITEMSET Itemset(items=set(['Coke', 'Chips']), transactions=set(['3', '4', '6']), hv='ChipsCoke', support=3)\n",
      "NEW ACCEPTED ITEMSET Itemset(items=set(['Coke', 'Chips', 'HotDogs']), transactions=set(['3', '6']), hv='ChipsCokeHotDogs', support=2)\n",
      "NEW ACCEPTED ITEMSET Itemset(items=set(['Coke', 'Chips', 'HotDogs']), transactions=set(['3', '6']), hv='ChipsCokeHotDogs', support=2)\n",
      "NEW ACCEPTED ITEMSET Itemset(items=set(['Coke', 'Chips', 'HotDogs']), transactions=set(['3', '6']), hv='ChipsCokeHotDogs', support=2)\n"
     ]
    }
   ],
   "source": [
    "all_supported_itemsets = {}\n",
    "current_itemsets = {}\n",
    "\n",
    "# These will all be single itemsets\n",
    "# item will be one item\n",
    "# trans will be the transactions that item is in\n",
    "for item, trans in items.items():\n",
    "    if len(trans) >= SUPPORT_THRESHOLD:\n",
    "        hv = \"\".join(item) # sets are unhashable, could make custom set\n",
    "        support = len(trans) # is it better to store than call len(transactions)?\n",
    "        itemset = Itemset(items = {item}, transactions = set(trans), hv=hv, support=support)\n",
    "        current_itemsets[hv] = itemset\n",
    "        print itemset\n",
    "    \n",
    "all_supported_itemsets.update(current_itemsets)\n",
    "\n",
    "# Create comparison order\n",
    "\"\"\"for a,b,c,d in current_itemsets.values():\n",
    "    print a,b,c,d\"\"\"\n",
    "\n",
    "# This is for FP\n",
    "# values is all 1-itemsets\n",
    "# ordered is a dictioanry of item, rank pairs\n",
    "# so you can search for items by hash\n",
    "# rather than look through a list\n",
    "values = sorted(current_itemsets.values(), key=lambda itemset: -itemset.support)\n",
    "ordered = {list(k.items)[-1] :v for v,k in enumerate(values)}\n",
    "\n",
    "print ordered\n",
    "        \n",
    "while current_itemsets:\n",
    "    from itertools import combinations\n",
    "    combs = combinations(current_itemsets.values(), 2) # Self Join\n",
    "    \n",
    "    current_itemsets = {} # clear\n",
    "    \n",
    "    for c,d in combs: # for each candidate\n",
    "        itemset = join_items(c,d)\n",
    "        if itemset:   # rejected candidates will have returned None\n",
    "            current_itemsets[itemset.hv] = itemset\n",
    "            print \"NEW ACCEPTED ITEMSET\", itemset\n",
    "        \n",
    "    all_supported_itemsets.update(current_itemsets)"
   ]
  },
  {
   "cell_type": "code",
   "execution_count": 8,
   "metadata": {
    "collapsed": false
   },
   "outputs": [
    {
     "name": "stdout",
     "output_type": "stream",
     "text": [
      "Buns =>  HotDogs confidence = 1.0 support = 0.5\n",
      "Chips =>  Coke confidence = 0.75 support = 0.666666666667\n",
      "Coke =>  Chips confidence = 1.0 support = 0.5\n",
      "Coke =>  HotDogs confidence = 0.666666666667 support = 0.5\n",
      "Chips, HotDogs =>  Coke confidence = 1.0 support = 1.0\n",
      "Coke, HotDogs =>  Chips confidence = 1.0 support = 0.75\n",
      "Chips, Coke =>  HotDogs confidence = 0.666666666667 support = 0.75\n"
     ]
    }
   ],
   "source": [
    "def write_line(ev, it):\n",
    "    consequent = list(ev.items - it.items) # LOL this should be antecedend\n",
    "    consequent.sort()\n",
    "    confidence = ev.support*1.0/all_supported_itemsets[\"\".join(consequent)].support\n",
    "    support = len(ev.items)*1.0/it.support\n",
    "    if confidence > CONFIDENCE_THRESHOLD:\n",
    "        print \", \".join(consequent),\"=> \", it.hv, \"confidence =\", confidence, \"support =\",support \n",
    "\n",
    "for ev in all_supported_itemsets.values():\n",
    "    if len(ev.items) == 1:\n",
    "        continue \n",
    "        \n",
    "    for ite in ev.items:\n",
    "        it = all_supported_itemsets[ite]\n",
    "        write_line(ev,it)"
   ]
  },
  {
   "cell_type": "markdown",
   "metadata": {},
   "source": [
    "# FP Growth"
   ]
  },
  {
   "cell_type": "code",
   "execution_count": 5,
   "metadata": {
    "collapsed": false
   },
   "outputs": [
    {
     "name": "stdout",
     "output_type": "stream",
     "text": [
      "['HotDogs', 'Buns', 'Ketchup']\n",
      "\n",
      "\n",
      "\n",
      "\n",
      "Node(item=None, support={}, children={'HotDogs': Node(item='HotDogs', support={'s': 1}, children={'Buns': Node(item='Buns', support={'s': 1}, children={'Ketchup': Node(item='Ketchup', support={'s': 1}, children={})})})})\n",
      "['HotDogs', 'Buns']\n",
      "\n",
      "\n",
      "\n",
      "\n",
      "Node(item=None, support={}, children={'HotDogs': Node(item='HotDogs', support={'s': 2}, children={'Buns': Node(item='Buns', support={'s': 2}, children={'Ketchup': Node(item='Ketchup', support={'s': 1}, children={})})})})\n",
      "['HotDogs', 'Chips', 'Coke']\n",
      "\n",
      "\n",
      "\n",
      "\n",
      "Node(item=None, support={}, children={'HotDogs': Node(item='HotDogs', support={'s': 3}, children={'Buns': Node(item='Buns', support={'s': 2}, children={'Ketchup': Node(item='Ketchup', support={'s': 1}, children={})}), 'Chips': Node(item='Chips', support={'s': 1}, children={'Coke': Node(item='Coke', support={'s': 1}, children={})})})})\n",
      "['Chips', 'Coke']\n",
      "\n",
      "\n",
      "\n",
      "\n",
      "Node(item=None, support={}, children={'Chips': Node(item='Chips', support={'s': 1}, children={'Coke': Node(item='Coke', support={'s': 1}, children={})}), 'HotDogs': Node(item='HotDogs', support={'s': 3}, children={'Buns': Node(item='Buns', support={'s': 2}, children={'Ketchup': Node(item='Ketchup', support={'s': 1}, children={})}), 'Chips': Node(item='Chips', support={'s': 1}, children={'Coke': Node(item='Coke', support={'s': 1}, children={})})})})\n",
      "['Chips', 'Ketchup']\n",
      "\n",
      "\n",
      "\n",
      "\n",
      "Node(item=None, support={}, children={'Chips': Node(item='Chips', support={'s': 2}, children={'Coke': Node(item='Coke', support={'s': 1}, children={}), 'Ketchup': Node(item='Ketchup', support={'s': 1}, children={})}), 'HotDogs': Node(item='HotDogs', support={'s': 3}, children={'Buns': Node(item='Buns', support={'s': 2}, children={'Ketchup': Node(item='Ketchup', support={'s': 1}, children={})}), 'Chips': Node(item='Chips', support={'s': 1}, children={'Coke': Node(item='Coke', support={'s': 1}, children={})})})})\n",
      "['HotDogs', 'Chips', 'Coke']\n",
      "\n",
      "\n",
      "\n",
      "\n",
      "Node(item=None, support={}, children={'Chips': Node(item='Chips', support={'s': 2}, children={'Coke': Node(item='Coke', support={'s': 1}, children={}), 'Ketchup': Node(item='Ketchup', support={'s': 1}, children={})}), 'HotDogs': Node(item='HotDogs', support={'s': 4}, children={'Buns': Node(item='Buns', support={'s': 2}, children={'Ketchup': Node(item='Ketchup', support={'s': 1}, children={})}), 'Chips': Node(item='Chips', support={'s': 2}, children={'Coke': Node(item='Coke', support={'s': 2}, children={})})})})\n"
     ]
    }
   ],
   "source": [
    "#from recordclass import recordclass\n",
    "\n",
    "Node = namedtuple('Node', 'item support children')\n",
    "head = Node(item=None, support={}, children = {}) \n",
    "\n",
    "\n",
    "for t in transactions:\n",
    "    # Sort the items in each transaction\n",
    "    ordered_transaction = sorted(t, key=lambda x: ordered[x]) \n",
    "    print ordered_transaction\n",
    "    parent = head\n",
    "    \n",
    "    # Iterate through the items in each transaction\n",
    "    # The first item will be a child of the head node\n",
    "    # Then it will become parent so that\n",
    "    # the next item adds itself as a child of\n",
    "    # the preceding item in the transaction\n",
    "    for item in ordered_transaction:\n",
    "        \n",
    "        child = parent.children.get(item, None)\n",
    "        \n",
    "        if child:\n",
    "            child.support['s'] += 1\n",
    "        else:\n",
    "            new_item = Node(item = item, support = {'s':1}, children = {})\n",
    "            parent.children[item] = new_item\n",
    "            child = new_item\n",
    "            \n",
    "        parent = child\n",
    "\n",
    "    print \"\\n\\n\\n\\n\", head\n"
   ]
  },
  {
   "cell_type": "code",
   "execution_count": 6,
   "metadata": {
    "collapsed": false
   },
   "outputs": [
    {
     "name": "stdout",
     "output_type": "stream",
     "text": [
      "HotDogs Support = 4\n",
      "HotDogs-> Chips Support = 2\n",
      "HotDogs-> Chips-> Coke Support = 2\n",
      "HotDogs-> Buns Support = 2\n",
      "HotDogs-> Buns-> Ketchup Support = 1\n",
      "Chips Support = 2\n",
      "Chips-> Ketchup Support = 1\n",
      "Chips-> Coke Support = 1\n"
     ]
    }
   ],
   "source": [
    "from graphviz import Digraph\n",
    "\n",
    "# Was going to visualize this but graphs need unique node names\n",
    "# So became more trouble than worth\n",
    "dot = Digraph(comment='FP Tree')\n",
    "\n",
    "#Depth-First Traversal\n",
    "nodes = []\n",
    "\n",
    "for n in head.children.values():\n",
    "        nodes.append([n])\n",
    "\n",
    "while nodes:\n",
    "    node_list = nodes.pop()\n",
    "    print \"-> \".join([x.item for x in node_list]), \"Support =\", node_list[-1].support['s']\n",
    "    node = node_list[-1]\n",
    "    for n in node.children.values():\n",
    "        nodes.append(node_list + [n])\n",
    "        "
   ]
  },
  {
   "cell_type": "code",
   "execution_count": 7,
   "metadata": {
    "collapsed": false
   },
   "outputs": [
    {
     "name": "stdout",
     "output_type": "stream",
     "text": [
      "[1, 2, 3]\n"
     ]
    }
   ],
   "source": [
    "n = [1,2] + [3]\n",
    "print n"
   ]
  }
 ],
 "metadata": {
  "kernelspec": {
   "display_name": "Python 2",
   "language": "python",
   "name": "python2"
  },
  "language_info": {
   "codemirror_mode": {
    "name": "ipython",
    "version": 2
   },
   "file_extension": ".py",
   "mimetype": "text/x-python",
   "name": "python",
   "nbconvert_exporter": "python",
   "pygments_lexer": "ipython2",
   "version": "2.7.11"
  }
 },
 "nbformat": 4,
 "nbformat_minor": 0
}
