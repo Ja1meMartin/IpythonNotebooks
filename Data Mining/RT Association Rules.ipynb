{
 "cells": [
  {
   "cell_type": "code",
   "execution_count": 15,
   "metadata": {
    "collapsed": false
   },
   "outputs": [
    {
     "name": "stdout",
     "output_type": "stream",
     "text": [
      "A,C,B,E,D,G,F,I,H,K,J\n",
      "A,C,B,E,D,?,F,?,?,?,?\n",
      "?,C,B,E,D,G,F,?,?,?,?\n",
      "A,?,?,E,D,?,?,?,H,?,?\n",
      "A,?,?,?,D,?,F,I,?,?,J\n",
      "?,?,B,E,D,?,?,?,?,K,?\n"
     ]
    }
   ],
   "source": [
    "SUPPORT_THRESHOLD = 2.9 # To avoid the mistake of using > instead of >=\n",
    "\n",
    "\n",
    "dataset = \"\"\"T1\t\t A,\tB,\tC,\tD,\tE,\tF\n",
    "T2\t\t B,\tC,\tD,\tE,\tF,\tG\n",
    "T3\t\t A,\tD,\tE,\tH\n",
    "T4\t\t A,\tD,\tF,\tI,\tJ\n",
    "T5\t\t B,\tD,\tE,\tK\"\"\".replace(\"\\t\",\"\")\n",
    "\n",
    "transactions = []\n",
    "items = {}\n",
    "\n",
    "from collections import namedtuple\n",
    "Itemset = namedtuple('Itemset', 'items transactions hv support')\n",
    "\n",
    "def symbol(transaction):\n",
    "    return [item if item in transaction else '?' for item in items.keys()]\n",
    "    \n",
    "\n",
    "for line in dataset.split(\"\\n\"):\n",
    "    i, stuff = line.split()\n",
    "    transaction = set(stuff.split(','))\n",
    "    for item in transaction:\n",
    "        l = items.get(item,[])\n",
    "        l.append(str(i))\n",
    "        items[item] = l\n",
    "        \n",
    "    transactions.append(transaction)\n",
    " \n",
    "# Create CSV\n",
    "print \",\".join(items.keys())\n",
    "for t in transactions:\n",
    "    print \",\".join(symbol(t))\n"
   ]
  },
  {
   "cell_type": "markdown",
   "metadata": {},
   "source": [
    "Create candidates, "
   ]
  },
  {
   "cell_type": "code",
   "execution_count": null,
   "metadata": {
    "collapsed": false
   },
   "outputs": [],
   "source": []
  },
  {
   "cell_type": "code",
   "execution_count": 16,
   "metadata": {
    "collapsed": false
   },
   "outputs": [
    {
     "name": "stdout",
     "output_type": "stream",
     "text": [
      "{'A': 2, 'B': 3, 'E': 1, 'D': 0, 'F': 4}\n"
     ]
    }
   ],
   "source": [
    "\n",
    "all_single_itemsets = {}\n",
    "\n",
    "for item, trans in items.items():\n",
    "    support = len(trans) # cheaper to store than call len(transactions?)\n",
    "    \n",
    "    if support > SUPPORT_THRESHOLD:\n",
    "\n",
    "        hv = \"\".join(item) # sets are unhashable, could make custom set\n",
    "\n",
    "        itemset = Itemset(items = {item}, transactions = set(trans), hv=hv, support=support)\n",
    "        all_single_itemsets[hv] = itemset\n",
    "    \n",
    "    \n",
    " \n",
    "\n",
    "values = sorted(all_single_itemsets.values(), key=lambda itemset: -itemset.support)\n",
    "ordered = {k.items.pop() :v for v,k in enumerate(values)}\n",
    "\n",
    "print ordered"
   ]
  },
  {
   "cell_type": "code",
   "execution_count": 21,
   "metadata": {
    "collapsed": false
   },
   "outputs": [
    {
     "name": "stdout",
     "output_type": "stream",
     "text": [
      "{'A': None, 'B': None, 'E': None, 'D': None, 'F': None}\n",
      "set(['A', 'C', 'B', 'E', 'D', 'F'])\n",
      "['E', 'A', 'B', 'F']\n",
      "\n",
      "\n",
      "\n",
      "\n",
      "Node(item=None, support={}, children={'E': Node(item='E', support={'s': 1}, children={'A': Node(item='A', support={'s': 1}, children={'B': Node(item='B', support={'s': 1}, children={'F': Node(item='F', support={'s': 1}, children={}, next_item=None)}, next_item=None)}, next_item=None)}, next_item=None)}, next_item=None)\n",
      "set(['C', 'B', 'E', 'D', 'G', 'F'])\n",
      "['E', 'B', 'F']\n",
      "\n",
      "\n",
      "\n",
      "\n",
      "Node(item=None, support={}, children={'E': Node(item='E', support={'s': 2}, children={'A': Node(item='A', support={'s': 1}, children={'B': Node(item='B', support={'s': 1}, children={'F': Node(item='F', support={'s': 1}, children={}, next_item=None)}, next_item=None)}, next_item=None), 'B': Node(item='B', support={'s': 1}, children={'F': Node(item='F', support={'s': 1}, children={}, next_item=None)}, next_item=None)}, next_item=None)}, next_item=None)\n",
      "set(['A', 'H', 'E', 'D'])\n",
      "['E', 'A']\n",
      "\n",
      "\n",
      "\n",
      "\n",
      "Node(item=None, support={}, children={'E': Node(item='E', support={'s': 3}, children={'A': Node(item='A', support={'s': 2}, children={'B': Node(item='B', support={'s': 1}, children={'F': Node(item='F', support={'s': 1}, children={}, next_item=None)}, next_item=None)}, next_item=None), 'B': Node(item='B', support={'s': 1}, children={'F': Node(item='F', support={'s': 1}, children={}, next_item=None)}, next_item=None)}, next_item=None)}, next_item=None)\n",
      "set(['A', 'I', 'J', 'D', 'F'])\n",
      "['A', 'F']\n",
      "\n",
      "\n",
      "\n",
      "\n",
      "Node(item=None, support={}, children={'A': Node(item='A', support={'s': 1}, children={'F': Node(item='F', support={'s': 1}, children={}, next_item=None)}, next_item=None), 'E': Node(item='E', support={'s': 3}, children={'A': Node(item='A', support={'s': 2}, children={'B': Node(item='B', support={'s': 1}, children={'F': Node(item='F', support={'s': 1}, children={}, next_item=None)}, next_item=None)}, next_item=None), 'B': Node(item='B', support={'s': 1}, children={'F': Node(item='F', support={'s': 1}, children={}, next_item=None)}, next_item=None)}, next_item=None)}, next_item=None)\n",
      "set(['K', 'B', 'E', 'D'])\n",
      "['E', 'B']\n",
      "\n",
      "\n",
      "\n",
      "\n",
      "Node(item=None, support={}, children={'A': Node(item='A', support={'s': 1}, children={'F': Node(item='F', support={'s': 1}, children={}, next_item=None)}, next_item=None), 'E': Node(item='E', support={'s': 4}, children={'A': Node(item='A', support={'s': 2}, children={'B': Node(item='B', support={'s': 1}, children={'F': Node(item='F', support={'s': 1}, children={}, next_item=None)}, next_item=None)}, next_item=None), 'B': Node(item='B', support={'s': 2}, children={'F': Node(item='F', support={'s': 1}, children={}, next_item=None)}, next_item=None)}, next_item=None)}, next_item=None)\n"
     ]
    }
   ],
   "source": [
    "Node = namedtuple('Node', 'item support children next_item')\n",
    "head = Node(item=None, support={}, children = {}, next_item=None)\n",
    "\n",
    "table = {k:None for k in ordered.keys()}\n",
    "\n",
    "print table\n",
    "\n",
    "for t in transactions:\n",
    "    # FILTER THOSE BELOW SUPPORT\n",
    "    print t\n",
    "    t = [x for x in t if ordered.get(x, False)]\n",
    "    ordered_transaction = sorted(t, key=lambda x: ordered[x])\n",
    "    print ordered_transaction\n",
    "    parent = head\n",
    "    \n",
    "    \n",
    "    for item in ordered_transaction:\n",
    "        \n",
    "        child = parent.children.get(item, None)\n",
    "        \n",
    "        if child:\n",
    "            child.support['s'] += 1\n",
    "        else:\n",
    "            new_item = Node(item = item, support = {'s':1}, children = {}, next_item=None)\n",
    "            parent.children[item] = new_item\n",
    "            child = new_item\n",
    "            \n",
    "            ref = table[item]\n",
    "            prev = None\n",
    "            if not ref:\n",
    "                table[item] = ref\n",
    "            else:\n",
    "                while ref:\n",
    "                    prev = ref\n",
    "                    ref = ref.next_item\n",
    "            \n",
    "            \n",
    "            \n",
    "        parent = child\n",
    "\n",
    "    print \"\\n\\n\\n\\n\", head"
   ]
  },
  {
   "cell_type": "markdown",
   "metadata": {},
   "source": [
    "# I messed UP!\n",
    "I combined a top down with a bottum-up approach. It seem to get the support you should use the table that links nodes to traverse (done) but I don't have access to parents. If you did have access to parents you could get the powerset of all ancestors and for each set in the powerset get the hash value (by joining items). In python collections there is a counter collection that can be created from a dictionary. So at each node creat a hash value-support counter and sum all of these together.\n"
   ]
  },
  {
   "cell_type": "code",
   "execution_count": 18,
   "metadata": {
    "collapsed": false
   },
   "outputs": [
    {
     "name": "stdout",
     "output_type": "stream",
     "text": [
      " => E Support = 4\n",
      "E => B Support = 2\n",
      "E,B => F Support = 1\n",
      "E => A Support = 2\n",
      "E,A => B Support = 1\n",
      "E,A,B => F Support = 1\n",
      " => A Support = 1\n",
      "A => F Support = 1\n",
      "\n",
      "\n",
      "With Support and Confidence\n",
      "\n",
      "\n",
      "LEN 2\n",
      "('E', '=>', 'B', 'Support =', 2) ('Confidence = ', 0.6666666666666666)\n",
      "('E', '=>', 'A', 'Support =', 2) ('Confidence = ', 0.6666666666666666)\n"
     ]
    }
   ],
   "source": [
    "#Depth-First Traversal\n",
    "nodes = []\n",
    "\n",
    "for n in head.children.values():\n",
    "        nodes.append([n])\n",
    "\n",
    "while nodes:\n",
    "    node_list = nodes.pop()\n",
    "    print \",\".join([x.item for x in node_list[:-1]]),\"=>\",node_list[-1].item, \"Support =\", node_list[-1].support['s']\n",
    "    node = node_list[-1]\n",
    "    for n in node.children.values():\n",
    "        nodes.append(node_list + [n])\n",
    "        \n",
    "print \"\\n\\nWith Support and Confidence\\n\\n\"\n",
    "\n",
    "SUPPORT_THRESHOLD = 1.9\n",
    "\n",
    "for n in head.children.values():\n",
    "        nodes.append(([n], None))\n",
    "        0\n",
    "print \"LEN\", len(nodes)\n",
    "\n",
    "while nodes:\n",
    "    node_list, parent_support = nodes.pop()\n",
    "    end_node = node_list[-1]\n",
    "    if parent_support and end_node.support['s'] > SUPPORT_THRESHOLD:\n",
    "        lineA = \",\".join([x.item for x in node_list[:-1]]),\"=>\",node_list[-1].item, \"Support =\", node_list[-1].support['s']\n",
    "        lineB = \"Confidence = \", 1.0*node_list[-1].support['s']/all_single_itemsets[end_node.item].support\n",
    "        print lineA, lineB\n",
    "    node = node_list[-1]\n",
    "    for n in node.children.values():\n",
    "        nodes.append((node_list + [n], end_node.support))"
   ]
  }
 ],
 "metadata": {
  "kernelspec": {
   "display_name": "Python 2",
   "language": "python",
   "name": "python2"
  },
  "language_info": {
   "codemirror_mode": {
    "name": "ipython",
    "version": 2
   },
   "file_extension": ".py",
   "mimetype": "text/x-python",
   "name": "python",
   "nbconvert_exporter": "python",
   "pygments_lexer": "ipython2",
   "version": "2.7.11"
  }
 },
 "nbformat": 4,
 "nbformat_minor": 0
}
