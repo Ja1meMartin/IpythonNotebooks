{
 "cells": [
  {
   "cell_type": "code",
   "execution_count": 8,
   "metadata": {
    "collapsed": false
   },
   "outputs": [],
   "source": [
    "with( open('NearlySorted/input06.txt')) as fname:\n",
    "    N = int(fname.readline())\n",
    "    a = [int(x) for x in fname.readline().split()]"
   ]
  },
  {
   "cell_type": "code",
   "execution_count": 10,
   "metadata": {
    "collapsed": false
   },
   "outputs": [
    {
     "name": "stdout",
     "output_type": "stream",
     "text": [
      "[(8231, 8232), (17916, 17917), (67455, 67456), (94897, 94898)]\n",
      "no\n"
     ]
    }
   ],
   "source": [
    "\n",
    "m = []\n",
    "\n",
    "mistakes = 0\n",
    "\n",
    "for i in range(N-1):\n",
    "    if a[i] > a[i+1]:\n",
    "        m.append((i,i+1))\n",
    "        \n",
    "def fix(mistakes, array):\n",
    "    \n",
    "    print(mistakes)\n",
    "    \n",
    "    if len(mistakes) == 0:\n",
    "        print ('yes')\n",
    "        return\n",
    "    \n",
    "    if len(mistakes) == 1:\n",
    "        i,j = mistakes[0]\n",
    "        array[i], array[j] = array[j], array[i]\n",
    "        move = \"swap \" + str(j) + \" \" + str(j + 1)\n",
    "        \n",
    "        low = i\n",
    "        high = len(a)-1\n",
    "        \n",
    "        for index in range(high):\n",
    "            \n",
    "            if array[index] > array[index+1]:\n",
    "                print('no')\n",
    "                return\n",
    "        else:\n",
    "            print('yes')\n",
    "            print (move)\n",
    "    else:\n",
    "        for i in range(len(mistakes)-1):\n",
    "            if mistakes[i][1] != mistakes [i+1][0]:\n",
    "                break\n",
    "        else:\n",
    "            print ('yes')\n",
    "            print ('reverse ' + str(mistakes[0][1]) + \" \" + str(mistakes[-1][1] + 1))\n",
    "            \n",
    "        if len(mistakes) == 2:\n",
    "            #print('mistakes = 2')\n",
    "            i,j = mistakes[0][0], mistakes[1][1]\n",
    "            #print(i,j)\n",
    "            array[i], array[j] = array[j], array[i]\n",
    "            move = \"swap \" + str(i+1) + \" \" + str(j + 1)\n",
    "\n",
    "            low = i\n",
    "            high = len(a)-1\n",
    "\n",
    "            for index in range(high):\n",
    "\n",
    "                if array[index] > array[index+1]:\n",
    "                    print('no')\n",
    "                    return\n",
    "            print('yes')\n",
    "            print(move)\n",
    "        else:\n",
    "            print ('no')\n",
    "\n",
    "        \n",
    "fix(m,a)"
   ]
  }
 ],
 "metadata": {
  "kernelspec": {
   "display_name": "Python 2",
   "language": "python",
   "name": "python2"
  },
  "language_info": {
   "codemirror_mode": {
    "name": "ipython",
    "version": 2
   },
   "file_extension": ".py",
   "mimetype": "text/x-python",
   "name": "python",
   "nbconvert_exporter": "python",
   "pygments_lexer": "ipython2",
   "version": "2.7.11"
  }
 },
 "nbformat": 4,
 "nbformat_minor": 0
}
