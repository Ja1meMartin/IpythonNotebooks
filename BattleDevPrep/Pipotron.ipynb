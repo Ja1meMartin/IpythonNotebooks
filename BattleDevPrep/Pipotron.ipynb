{
 "cells": [
  {
   "cell_type": "markdown",
   "metadata": {},
   "source": [
    "You're given 'parts of speech' (POS). For each POS you are given legal options. You are then given phrase\n",
    "\n",
    "- for each phrase check if it starts"
   ]
  },
  {
   "cell_type": "code",
   "execution_count": 33,
   "metadata": {
    "collapsed": false
   },
   "outputs": [
    {
     "name": "stdout",
     "output_type": "stream",
     "text": [
      "['3\\n', '3 3 3\\n', 'do\\n', 'do do\\n', 'do do do\\n', 'do\\n', 're\\n', 'mi\\n', 'sol\\n', 'sol\\n', 'sol\\n', '3\\n', 'do do do mi sol\\n', 'do do re sol\\n', 'do do do do re sol']\n",
      "3\n",
      "[3, 3, 3]\n",
      "[['do', 'do do', 'do do do'], ['do', 're', 'mi'], ['sol', 'sol', 'sol']]\n",
      "3\n",
      "['do do do mi sol\\n', 'do do re sol\\n', 'do do do do re sol']\n",
      "->>> 3\n",
      "\n",
      "->>> 3 3 3\n",
      "\n",
      "->>> do\n",
      "\n",
      "->>> do do\n",
      "\n",
      "->>> do do do\n",
      "\n",
      "->>> do\n",
      "\n",
      "->>> re\n",
      "\n",
      "->>> mi\n",
      "\n",
      "->>> sol\n",
      "\n",
      "->>> sol\n",
      "\n",
      "->>> sol\n",
      "\n",
      "->>> 3\n",
      "\n",
      "->>> do do do mi sol\n",
      "\n",
      "->>> do do re sol\n",
      "\n",
      "->>> do do do do re sol\n",
      "[2]\n"
     ]
    }
   ],
   "source": [
    "folder = 'Pipotron'\n",
    "number = 2\n",
    "\n",
    "def read_input(folder, file_number=1):\n",
    "    filename = folder + \"/input\" + str(file_number) + '.txt'\n",
    "    with (open (filename) ) as name:\n",
    "        lines = name.readlines()\n",
    "        \n",
    "    return [x for x in lines]\n",
    "    \n",
    "def read_output(folder, file_number=1):\n",
    "    filename = folder + \"/output\" + str(file_number) + '.txt'\n",
    "    with (open (filename) ) as name:\n",
    "        return [int(token)  for token in name.readline() if token != ' ']\n",
    "    \n",
    "def convert_input(folder, file_number=1):\n",
    "    filename = folder + \"/input\" + str(file_number) + '.txt'\n",
    "    with (open (filename) ) as name:\n",
    "        \n",
    "        lines = name.readlines()\n",
    "        \n",
    "      \n",
    "    print lines\n",
    "    mini_pippos = int(lines[0])\n",
    "    print mini_pippos\n",
    "    nums = [int(x) for x in lines[1].split() if x != ' ']\n",
    "    print nums\n",
    "\n",
    "    rest = iter(lines[2:])\n",
    "    pippo_choices = [[rest.next().strip() for _ in range(num)]  for num in nums]\n",
    "\n",
    "    print pippo_choices\n",
    "    num = int(rest.next())\n",
    "    print num\n",
    "\n",
    "    pippotrons = list(rest)#[name.readline() for _ in range(num)]\n",
    "\n",
    "    #print pippo_choices\n",
    "    print pippotrons\n",
    "\n",
    "convert_input(folder, number)\n",
    "for x in read_input(folder, number):\n",
    "    print \"->>>\", x\n",
    "\n",
    "\n",
    "\n",
    "print read_output(folder,number)"
   ]
  },
  {
   "cell_type": "code",
   "execution_count": 38,
   "metadata": {
    "collapsed": false
   },
   "outputs": [
    {
     "name": "stdout",
     "output_type": "stream",
     "text": [
      "1 2 F 4 B F 7 8 F B 11 F 13 14 FB 16 17 F 19 B\n"
     ]
    }
   ],
   "source": [
    "a = \"3 5 20\"\n",
    "\n",
    "fizz, buzz, end = [int(token) for token in a.split()]\n",
    "\n",
    "\n",
    "factors = [(fizz,'F'), (buzz,'B')]\n",
    "\n",
    "def fb(number):\n",
    "    val = number\n",
    "    \n",
    "    string = \"\".join(value for factor,value in factors if number % factor == 0)\n",
    "    \n",
    "    if string:\n",
    "        val = string\n",
    "        \n",
    "    return str(val)\n",
    "\n",
    "print \" \".join(fb(n) for n in range(1,end+1))"
   ]
  },
  {
   "cell_type": "code",
   "execution_count": 49,
   "metadata": {
    "collapsed": false
   },
   "outputs": [
    {
     "name": "stdout",
     "output_type": "stream",
     "text": [
      "False\n",
      "[9, 8, 7, 5, 3]\n"
     ]
    }
   ],
   "source": [
    "def is_leap(year):\n",
    "    leap = False\n",
    "    \n",
    "    # Write your logic here\n",
    "    if year % 100 == 0:\n",
    "        leap = year % 400 == 0\n",
    "    else:\n",
    "        leap = year % 4 == 0\n",
    "    \n",
    "    return leap\n",
    "\n",
    "print (is_leap(2100))\n",
    "\n",
    "\n",
    "students = sorted([7,5,3,8,9], key=lambda x: -x)\n",
    "print(students)"
   ]
  },
  {
   "cell_type": "code",
   "execution_count": 53,
   "metadata": {
    "collapsed": false
   },
   "outputs": [
    {
     "name": "stdout",
     "output_type": "stream",
     "text": [
      "a 0\n",
      "B 1\n",
      "1 2\n",
      "2 3\n"
     ]
    }
   ],
   "source": [
    "def convert(c):\n",
    "    if c.islower():\n",
    "        return 0\n",
    "    \n",
    "    if c.isalpha():\n",
    "        return 1\n",
    "    \n",
    "    c = int(c)\n",
    "    \n",
    "    if c % 2 == 1:\n",
    "        return 2\n",
    "    \n",
    "    return 3\n",
    "for x in 'aB12':\n",
    "    print x, convert(x)\n",
    "    "
   ]
  },
  {
   "cell_type": "code",
   "execution_count": 57,
   "metadata": {
    "collapsed": false
   },
   "outputs": [
    {
     "name": "stdout",
     "output_type": "stream",
     "text": [
      "YES\n"
     ]
    }
   ],
   "source": [
    "a = '0 3 4 2'\n",
    "x1,v1,x2,v2 = a.strip().split(' ')\n",
    "x1,v1,x2,v2 = [int(x1),int(v1),int(x2),int(v2)]\n",
    "\n",
    "meet = 'NO'\n",
    "gap = x1 - x2\n",
    "gain = v1 - v2\n",
    "\n",
    "if gap*gain < 0 and gap/gain % 1 == 0:\n",
    "        \n",
    "     meet = 'YES'\n",
    "        \n",
    "print(meet)\n"
   ]
  }
 ],
 "metadata": {
  "kernelspec": {
   "display_name": "Python 2",
   "language": "python",
   "name": "python2"
  },
  "language_info": {
   "codemirror_mode": {
    "name": "ipython",
    "version": 2
   },
   "file_extension": ".py",
   "mimetype": "text/x-python",
   "name": "python",
   "nbconvert_exporter": "python",
   "pygments_lexer": "ipython2",
   "version": "2.7.11"
  }
 },
 "nbformat": 4,
 "nbformat_minor": 0
}
