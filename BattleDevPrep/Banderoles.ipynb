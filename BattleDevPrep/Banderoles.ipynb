{
 "cells": [
  {
   "cell_type": "markdown",
   "metadata": {},
   "source": [
    "Given a list of pole hights 1m apart. Tie bunting between poles of equal height but only if no taller pole in between.\n",
    "\n",
    "- put heights in list\n",
    "- for each entry traverse right until taller pole\n",
    "- as you traverse add 1 to width\n",
    "- if you hit a pole of equal height buntin = width"
   ]
  },
  {
   "cell_type": "code",
   "execution_count": 1,
   "metadata": {
    "collapsed": false
   },
   "outputs": [
    {
     "name": "stdout",
     "output_type": "stream",
     "text": [
      "[8, 100, 8, 87, 96, 100, 87, 100, 7, 100]\n",
      "<---- 8\n"
     ]
    }
   ],
   "source": [
    "file_number = '2'\n",
    "with open('Banderoles/input'+file_number+'.txt') as file1:\n",
    "    lines = file1.readlines()\n",
    "    \n",
    "heights = [int(x) for x in lines[1:]]\n",
    "print heights\n",
    "    \n",
    "with open('Banderoles/output'+file_number+'.txt') as file1:\n",
    "    lines = file1.readlines()\n",
    "    \n",
    "for l in lines:\n",
    "    print \"<----\",l"
   ]
  },
  {
   "cell_type": "code",
   "execution_count": 2,
   "metadata": {
    "collapsed": false
   },
   "outputs": [
    {
     "name": "stdout",
     "output_type": "stream",
     "text": [
      "3\n",
      "3\n",
      "0\n"
     ]
    }
   ],
   "source": [
    "def bunting_from_pole(values):\n",
    "    pole_height = values[0]\n",
    "    width = 0\n",
    "    bunting_used = 0\n",
    "    \n",
    "    for value in values[1:]:\n",
    "        width += 1\n",
    "        \n",
    "        if value == pole_height:\n",
    "            bunting_used = width\n",
    "            \n",
    "        if value > pole_height:\n",
    "            break\n",
    "            \n",
    "    return bunting_used\n",
    "    \n",
    "print bunting_from_pole([7,7,7,7,8,7])\n",
    "print bunting_from_pole([7,7,5,7,8,7])\n",
    "print bunting_from_pole([7,8,7,7,8,7])"
   ]
  },
  {
   "cell_type": "code",
   "execution_count": 3,
   "metadata": {
    "collapsed": false
   },
   "outputs": [
    {
     "name": "stdout",
     "output_type": "stream",
     "text": [
      "[8, 100, 8, 87, 96, 100, 87, 100, 7, 100] 0\n",
      "[100, 8, 87, 96, 100, 87, 100, 7, 100] 8\n",
      "[8, 87, 96, 100, 87, 100, 7, 100] 0\n",
      "[87, 96, 100, 87, 100, 7, 100] 0\n",
      "[96, 100, 87, 100, 7, 100] 0\n",
      "[100, 87, 100, 7, 100] 4\n",
      "[87, 100, 7, 100] 0\n",
      "[100, 7, 100] 2\n",
      "[7, 100] 0\n",
      "[100] 0\n"
     ]
    },
    {
     "data": {
      "text/plain": [
       "14"
      ]
     },
     "execution_count": 3,
     "metadata": {},
     "output_type": "execute_result"
    }
   ],
   "source": [
    "for n in range(len(heights)):\n",
    "    print heights[n:], bunting_from_pole(heights[n:])\n",
    "\n",
    "sum(bunting_from_pole(heights[n:]) for n in range(len(heights)))"
   ]
  },
  {
   "cell_type": "code",
   "execution_count": 4,
   "metadata": {
    "collapsed": false
   },
   "outputs": [
    {
     "data": {
      "text/plain": [
       "8"
      ]
     },
     "execution_count": 4,
     "metadata": {},
     "output_type": "execute_result"
    }
   ],
   "source": [
    "def bunting_from_pole(values):\n",
    "    pole_height = values[0]\n",
    "    width = 0\n",
    "    bunting_used = 0\n",
    "    \n",
    "    for value in values[1:]:\n",
    "        width += 1\n",
    "        \n",
    "        if value == pole_height:\n",
    "            bunting_used = width\n",
    "            break\n",
    "            \n",
    "        if value > pole_height:\n",
    "            break\n",
    "            \n",
    "    return bunting_used\n",
    "\n",
    "sum(bunting_from_pole(heights[n:]) for n in range(len(heights)))"
   ]
  },
  {
   "cell_type": "code",
   "execution_count": 5,
   "metadata": {
    "collapsed": false
   },
   "outputs": [
    {
     "name": "stdout",
     "output_type": "stream",
     "text": [
      "4 4\n",
      "8 8\n",
      "129 129\n"
     ]
    }
   ],
   "source": [
    "def all_bunting(values):\n",
    "    return sum(bunting_from_pole(values[n:]) for n in range(len(values)))\n",
    "\n",
    "def read_input(folder, file_number):\n",
    "    filename = folder + \"/input\" + str(file_number) + '.txt'\n",
    "    with (open (filename) ) as name:\n",
    "        lines = name.readlines()\n",
    "        \n",
    "    return [int(x) for x in lines[1:]]\n",
    "    \n",
    "def read_output(folder, file_number):\n",
    "    filename = folder + \"/output\" + str(file_number) + '.txt'\n",
    "    with (open (filename) ) as name:\n",
    "        return int( name.readline() )\n",
    "\n",
    "def test(folder):   \n",
    "    for n in [1,2,3]:\n",
    "        print all_bunting(read_input(folder, n)), read_output(folder, n)\n",
    "        \n",
    "test('Banderoles')"
   ]
  }
 ],
 "metadata": {
  "kernelspec": {
   "display_name": "Python 2",
   "language": "python",
   "name": "python2"
  },
  "language_info": {
   "codemirror_mode": {
    "name": "ipython",
    "version": 2
   },
   "file_extension": ".py",
   "mimetype": "text/x-python",
   "name": "python",
   "nbconvert_exporter": "python",
   "pygments_lexer": "ipython2",
   "version": "2.7.11"
  }
 },
 "nbformat": 4,
 "nbformat_minor": 0
}
