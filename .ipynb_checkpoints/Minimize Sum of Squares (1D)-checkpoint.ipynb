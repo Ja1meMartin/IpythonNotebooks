{
 "cells": [
  {
   "cell_type": "markdown",
   "metadata": {},
   "source": [
    "I always remember the linear regression formula as X.Y/X.X where a capital letter means the residuals of the values and the . stands for dot product.  \n",
    "  \n",
    "I had a thought that residual should be distance to a line which led me to the question 'Is the mean the point that that minimizes the sum of squares?'  \n",
    "  \n",
    "Turns out it is and mathematically we can prove it by minimizing (a-x)^2 + (b-x)^2 +..+ (n-x)^2  \n",
    "Differentiating this gives us (-1)(2)(a-x)  + ... (-1)(2)(n-x)   \n",
    "The -1 wouldn't be there if we reversed order inside the brackets but we can to drop all constants when it equals 0\n",
    "We end up with:  \n",
    "-nx + a + b + ... + n    = 0   \n",
    "      a + b + ... + n    = nx  \n",
    "     (a + b + ... + n)/n = x  \n",
    "  \n",
    "  \n",
    "Also, when we differentiate (-2a + 2x) we get 2 for each term so we are dealing with a local minimum"
   ]
  },
  {
   "cell_type": "code",
   "execution_count": null,
   "metadata": {
    "collapsed": false
   },
   "outputs": [],
   "source": [
    "%matplotlib inline\n",
    "import random\n",
    "start, end, step = 0,10,0.05\n",
    "\n",
    "def sample_choices(n=5, choices=range(end + 1)) :\n",
    "    return [random.choice(choices) for _ in range(n)]\n",
    "\n",
    "def mean(l):\n",
    "    numerator = 1.0*sum(l)\n",
    "    return numerator/len(l)\n",
    "\n",
    "\n",
    "\n",
    "sample = sample_choices()\n",
    "sample_mean = mean(sample)\n",
    "print sample, sample_mean\n",
    "\n",
    "import numpy as np\n",
    "\n",
    "x = np.arange(start, end, step)\n",
    "\n",
    "def sum_of_squares(point, values):\n",
    "    return sum ( (point - value)**2  for value in values )\n",
    "\n",
    "y = [sum_of_squares(a, sample) for a in x ]\n",
    "\n",
    "\n",
    "import matplotlib.pyplot as plt\n",
    "plt.plot(x,y)\n",
    "plt.axvline(x=sample_mean,c='r')\n",
    "plt.show()"
   ]
  }
 ],
 "metadata": {
  "kernelspec": {
   "display_name": "Python 2",
   "language": "python",
   "name": "python2"
  },
  "language_info": {
   "codemirror_mode": {
    "name": "ipython",
    "version": 2
   },
   "file_extension": ".py",
   "mimetype": "text/x-python",
   "name": "python",
   "nbconvert_exporter": "python",
   "pygments_lexer": "ipython2",
   "version": "2.7.11"
  }
 },
 "nbformat": 4,
 "nbformat_minor": 0
}
