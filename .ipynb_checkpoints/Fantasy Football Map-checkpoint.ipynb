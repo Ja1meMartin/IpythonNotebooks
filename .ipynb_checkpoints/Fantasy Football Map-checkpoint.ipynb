{
 "metadata": {
  "name": "",
  "signature": "sha256:2be3ee9618cf8e5006206b7ac62e36fc1c0902ff6a7477b93c78e7430d2fe22c"
 },
 "nbformat": 3,
 "nbformat_minor": 0,
 "worksheets": [
  {
   "cells": [
    {
     "cell_type": "markdown",
     "metadata": {},
     "source": [
      "# Dashboard\n",
      "- Leagues you run\n",
      "- Leagues you are in\n",
      "- Leagues you are invited to\n",
      "\n",
      "# Leagues\n",
      "- Your Squad\n",
      "- Other Squads\n",
      "- Schedule\n",
      "- Draft\n",
      "- News Feed\n",
      "- Admin\n"
     ]
    },
    {
     "cell_type": "markdown",
     "metadata": {},
     "source": [
      "## League Admin"
     ]
    },
    {
     "cell_type": "markdown",
     "metadata": {},
     "source": [
      "# Todo List\n",
      "- \n",
      "\n",
      "# Incorporation List\n",
      "- Get ESPN Gamecast Number: returns the matches on any given day"
     ]
    }
   ],
   "metadata": {}
  }
 ]
}