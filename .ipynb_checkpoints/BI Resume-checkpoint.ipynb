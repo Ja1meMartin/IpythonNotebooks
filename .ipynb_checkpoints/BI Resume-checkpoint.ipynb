{
 "cells": [
  {
   "cell_type": "markdown",
   "metadata": {},
   "source": [
    "### [Races to PDF](https://github.com/Ja1meMartin/WebScraping/tree/master/Races%20To%20Pdf)\n",
    "Webscraping (RacingPost.com) -> Neo4j Graph Database -> PDF using iText\n",
    "\n",
    "In the image below the colours are the horses the stalls are drawn in. '10 runners' is in green here, although many colour schemes were tried. This uses text analysis of the comments to judge if the first four were more likely to have raced prominently or not. For example, here although the winner was 'held up' the next three raced prominently.\n",
    "\n",
    "![R](Images/RacesToPDF.png)\n",
    "\n",
    "The above was done in Java but I also converted the code to  [Python](https://github.com/Ja1meMartin/IpythonNotebooks/blob/master/Horse%20Racing/Race%20Filter%20Webpage.ipynb) in an attempt to find the best way to visualize the data. Highly-dimensional data does not get as much attention from a visualization perspective. Below you can see I had added size and colour to a scatterplot but abandoned it as I realised I was a long way from an intuitive interface with many dimensions still to be added.\n",
    "\n",
    "![Race Scatter Plot](Images/race filter.png)\n",
    "\n",
    "After some research I discovered Paralell Co-ordinates in D3.js (the scatter plot above is also D3.js so the data had already been converted to JSON). Each of the axes represents a dimension. Filtering can be done on each axis by clicking and dragging.  \n",
    "  \n",
    "    \n",
    "    \n",
    "![ParaCoords](Images/ParaCoords.png)"
   ]
  },
  {
   "cell_type": "markdown",
   "metadata": {},
   "source": [
    "### Draw Analser\n",
    "\n",
    "The Races To PDF program came from this program - the data was downloaded by running a query for all races at each course that held flat races. The program took the following steps:  \n",
    "\n",
    "1. Get user input (query such as races at Pontefract over 6f in 2011)\n",
    "2. Log into racing post (queries now member-only) and load html into html unit\n",
    "3. Run query and wait for the Racing Post page to refresh (you need to allow ajax time to load the query results)\n",
    "4. Load each race into html unit\n",
    "5. Decompose each race into individual results for each stall\n",
    "6. Pass to JFreeChart for rendering\n",
    "\n",
    "![Draw](Images/draw.jpg)\n",
    "  \n",
    "  \n",
    "- LSP: level-stakes profit\n",
    "- lbs: pounds beaten using the formula lengths beaten * 16 / furlongs\n",
    "- omp: odds (decimal) minus pounds beaten, which is my own stat. In horse racing, as in all sports betting and the stock market, you are only trying to be more accurate than market expectation. If stalls with low numbers are best but everybody knows this and overbets them then they are not the best for betting purposes. LSP measures this to an extent but it only gets positives for winners. With omp I am attempting to increase the sample size.\n",
    "  \n",
    "  \n",
    "Here is the program using a line chart:\n",
    "  \n",
    "  \n",
    "![Draw Analyser Line Chart](Images/line.jpg)"
   ]
  },
  {
   "cell_type": "markdown",
   "metadata": {},
   "source": [
    "### [NFL Match Reports to PDF](https://github.com/Ja1meMartin/WebScraping/tree/master/NFL)\n",
    "\n",
    "Webscraping (Sports Illustrated NFL Schedule from 2011) -> PDF using iText\n",
    "\n",
    "Select the teams\n",
    "\n",
    "![Swing Menu](Images/NFL Java Swing.png)\n",
    "\n",
    "Nothing fancy in the PDFs except for links from menu to individual match reports and from title of individual match reports back to the menu.\n",
    "\n",
    "[Broncos Results PDF](https://github.com/Ja1meMartin/WebScraping/blob/master/NFL/nfl%202011%20results%20Broncos.pdf)\n",
    "\n",
    "![Broncos PDF Menu](Images/NFL Broncos Menu.png)"
   ]
  },
  {
   "cell_type": "markdown",
   "metadata": {},
   "source": [
    "### [Concern Debates](https://github.com/Ja1meMartin/IpythonNotebooks/blob/master/Concern%20Debate%20Links.ipynb)\n",
    "\n",
    "I mentor a local secondary school debate team that reached the All-Ireland Semi-Finals this year. This was a Notebook I wrote to generate a HTML page from a set of links. Each link appears in a Selection Box. When selected the page is loaded and under neath their are three boxes:\n",
    "  \n",
    "  1. An auto-generated summary using the python module newspaper\n",
    "  2. An editable to write notes on that article\n",
    "  3. An uneditable text area that collates all the notes (usually copy this to Notepad for printing)\n",
    "  \n",
    "Local Storage is used for storage.\n",
    "\n",
    "![Urban Rural](Images/Urban Rural.png)"
   ]
  },
  {
   "cell_type": "markdown",
   "metadata": {},
   "source": [
    "### [Visualising Football Stats](https://github.com/Ja1meMartin/IpythonNotebooks/blob/master/Football/League%20One.ipynb)\n",
    "\n",
    "Parse [Live-Text Reports](http://www.bbc.com/sport/football/37458907) from BBC Sport (or ESPN)\n",
    "\n",
    "![Live Text](Images/League One.png)\n",
    "\n",
    "Below is an example of a temporal 8-game window for Shot-On-Target Percentage (SOT%) - scaled frm 0 to 1. SOT% is the percentage of shots on target a team has taken in a sample. The second line is adjusted for opponent quality. If your opponent gives up four shots a game but you only take two then you score 0.5. At the time I did this per game but now think it should be done per sample. Plotted using matplotlib.\n",
    "\n",
    "![SOT%](Images/sot.png)\n",
    "\n",
    "\n"
   ]
  },
  {
   "cell_type": "markdown",
   "metadata": {},
   "source": [
    "### [Information Retrieval](https://github.com/Ja1meMartin/IpythonNotebooks/tree/master/Information%20Retrieval)\n",
    "\n",
    "- [Web Crawler](https://github.com/Ja1meMartin/IpythonNotebooks/blob/master/Information%20Retrieval/Part1%20-%20WebCrawler.ipynb)\n",
    "- [Search Enginge](https://github.com/Ja1meMartin/IpythonNotebooks/blob/master/Information%20Retrieval/Rank.py.ipynb) uses [Vector Space Model](https://github.com/Ja1meMartin/IpythonNotebooks/blob/master/Information%20Retrieval/VectorSpaceModel.ipynb) also have implemented [Extended Boolean Model](https://github.com/Ja1meMartin/IpythonNotebooks/blob/master/Information%20Retrieval/Extended%20Boolean%20Model.ipynb)\n",
    "- [Page Rank Algorithm](https://github.com/Ja1meMartin/IpythonNotebooks/blob/master/Information%20Retrieval/PageRank.ipynb)"
   ]
  },
  {
   "cell_type": "markdown",
   "metadata": {},
   "source": [
    "### [Pandas Analysis](https://github.com/Ja1meMartin/IpythonNotebooks/blob/master/Pandas%20Analysis.ipynb)\n",
    "Pandas is useful for automating the cleaning of data sets: fixing text values, replacing missing data, transforming data...  \n",
    "  \n",
    "  \n",
    "Can also recreate most Excel features such as Pivot Tables\n",
    "![Pandas Pivot](Images/Pandas Pivot.png)\n",
    "  \n",
    "  \n",
    "Can be combined with Jupyter Widgets for Interactive Dashboards. Here picking a different subgroup will change the chart.\n",
    "![Pandas Widget](Images/Pandas Widget.png)\n",
    "![Pandas Widget](Images/Pandas Widget 2.png)"
   ]
  },
  {
   "cell_type": "markdown",
   "metadata": {},
   "source": [
    "### [Harry Potter to Flashcards](https://github.com/Ja1meMartin/IpythonNotebooks/blob/master/Translation%20and%20Text/Translate%20PDF.ipynb)\n",
    "\n",
    "Flashcards have been very useful to me in my quest to learn French. Starting off with the most common words, verbs etc. Then you move to sentences. After a while you move on to sentences but then there is a large gap between sentences and reading a book/newspaper. Even just missing a few words can completely lose the meaning of an article.  \n",
    "  \n",
    "My solution was to download a PDF and parse it into sentences. Then these sentences would be translated using Google Translate and turned into Flashcards. The problem was there are too many sentences and it gives away the ending.  \n",
    "  \n",
    "What is needed is some feature engineering to find the most difficult words:\n",
    "- Length is not a good indicator. Nobody is confusing 'comfortable' and 'confortable'. However 'turnip' and 'navet' is a hard one to guess. Therefore edit distance is a more appropriate metric.\n",
    "- Scrabble score\n",
    "- Frequency of word or even peak density in a chapter. I remember being very confused by frappe in 'Le bizarre incident du chien pendant la nuit' where the main character had done something worthy of being arrested but it could have been a punch, a kick, a bite etc. The word appeared over and over in that chapter and greatly reduced my enjoyment of reading that part.\n"
   ]
  },
  {
   "cell_type": "markdown",
   "metadata": {},
   "source": [
    "### Reports and Exercises\n",
    "\n",
    "- [Exploring Goals scored in English Football League using R](https://github.com/Ja1meMartin/IpythonNotebooks/tree/master/Hadoop%20R%20and%20Spark/R/Football%20part%202): [Part 1](https://github.com/Ja1meMartin/IpythonNotebooks/blob/master/Hadoop%20R%20and%20Spark/R/Football%20part%202/Report%201.pdf) [Part 2](https://github.com/Ja1meMartin/IpythonNotebooks/blob/master/Hadoop%20R%20and%20Spark/R/Football%20part%202/Report%202.pdf)\n",
    "- [Exploring Statistical Distributions using R](https://github.com/Ja1meMartin/IpythonNotebooks/tree/master/Hadoop%20R%20and%20Spark/R): [Part 1](https://github.com/Ja1meMartin/IpythonNotebooks/blob/master/Hadoop%20R%20and%20Spark/R/Distributions%20Report.pdf) [Part 2](https://github.com/Ja1meMartin/IpythonNotebooks/blob/master/Hadoop%20R%20and%20Spark/R/Distributions%20Report%202.pdf)\n",
    "- [Probability Questions](https://github.com/Ja1meMartin/IpythonNotebooks/blob/master/Hadoop%20R%20and%20Spark/R/Probability%20Lab.pdf)\n",
    "- [Review of Research Paper on Autoencoder](https://github.com/Ja1meMartin/IpythonNotebooks/blob/master/Data%20Mining/Research%20Paper%202%20Autoencoder.pdf)\n",
    "- [Review of Research Paper on Clustering NBA Players](https://github.com/Ja1meMartin/IpythonNotebooks/blob/master/Data%20Mining/Research%20Paper%201%20Cluster%20Analysis%20NBA.pdf)"
   ]
  }
 ],
 "metadata": {
  "kernelspec": {
   "display_name": "Python 2",
   "language": "python",
   "name": "python2"
  },
  "language_info": {
   "codemirror_mode": {
    "name": "ipython",
    "version": 2
   },
   "file_extension": ".py",
   "mimetype": "text/x-python",
   "name": "python",
   "nbconvert_exporter": "python",
   "pygments_lexer": "ipython2",
   "version": "2.7.11"
  }
 },
 "nbformat": 4,
 "nbformat_minor": 0
}
