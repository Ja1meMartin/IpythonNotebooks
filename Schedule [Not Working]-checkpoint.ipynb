{
 "metadata": {
  "name": "",
  "signature": "sha256:87ceabdae5cdb1435d6f59d1b75e7aa001770d476239225ade6aa691fd42d157"
 },
 "nbformat": 3,
 "nbformat_minor": 0,
 "worksheets": [
  {
   "cells": [
    {
     "cell_type": "code",
     "collapsed": false,
     "input": [
      "import schedule\n",
      "import time\n",
      "\n",
      "def job():\n",
      "    print(\"I'm working...\")\n",
      "\n",
      "schedule.every(1).minutes.do(job)"
     ],
     "language": "python",
     "metadata": {},
     "outputs": [
      {
       "metadata": {},
       "output_type": "pyout",
       "prompt_number": 1,
       "text": [
        "Every 1 minute do job() (last run: [never], next run: 2014-11-12 22:54:07)"
       ]
      }
     ],
     "prompt_number": 1
    }
   ],
   "metadata": {}
  }
 ]
}