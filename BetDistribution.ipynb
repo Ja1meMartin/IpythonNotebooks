{
 "cells": [
  {
   "cell_type": "code",
   "execution_count": 1,
   "metadata": {
    "collapsed": true
   },
   "outputs": [],
   "source": [
    "import random\n",
    "from collections import Counter"
   ]
  },
  {
   "cell_type": "code",
   "execution_count": 25,
   "metadata": {
    "collapsed": false
   },
   "outputs": [
    {
     "name": "stdout",
     "output_type": "stream",
     "text": [
      "{0: 0.5098039215686274, 1: 0.49019607843137253}\n",
      "{0: 0.64349376114082, 1: 0.35650623885918004}\n",
      "{0: 1.326797385620915, 1: 0.326797385620915}\n"
     ]
    }
   ],
   "source": [
    "odds_string = \"\"\"5/2 7/4 evens\"\"\"\n",
    "\n",
    "def to_decimal_odds(odds):\n",
    "    OVERROUND = 1.02\n",
    "    \n",
    "    decimal_odds = odds.replace(\"\\\\\", \"\\\\\\\\\")\n",
    "    \n",
    "    win, lose = 0.0, 0.0\n",
    "    \n",
    "    numerator, denominator =  None, None\n",
    "\n",
    "    try:\n",
    "        numerator, denominator = odds.split('/')\n",
    "    except:\n",
    "        try:\n",
    "            numerator, denominator = odds.split('\\\\')\n",
    "        except:\n",
    "            pass\n",
    "\n",
    "    if numerator and denominator:\n",
    "        numerator, denominator = float(numerator), float(denominator)\n",
    "        win = denominator/(numerator+denominator)/OVERROUND\n",
    "        lose = 1-win\n",
    "\n",
    "    else:\n",
    "        try:\n",
    "            win = 1/(1+float(odds))/OVERROUND\n",
    "            lose = 1--win\n",
    "        except:\n",
    "            win = 0.5/OVERROUND\n",
    "            lose = 1 -win\n",
    "            \n",
    "        \n",
    "            \n",
    "    return {1:win, 0:lose}\n",
    "            \n",
    "print to_decimal_odds('evens')\n",
    "print to_decimal_odds('7/4')\n",
    "print to_decimal_odds('2')"
   ]
  },
  {
   "cell_type": "code",
   "execution_count": 26,
   "metadata": {
    "collapsed": false
   },
   "outputs": [
    {
     "name": "stdout",
     "output_type": "stream",
     "text": [
      "[{0: 0.7198879551820728, 1: 0.2801120448179272}, {0: 0.64349376114082, 1: 0.35650623885918004}, {0: 0.5098039215686274, 1: 0.49019607843137253}]\n"
     ]
    }
   ],
   "source": [
    "odds = [to_decimal_odds(value) for value in odds_string.split()]\n",
    "print odds"
   ]
  },
  {
   "cell_type": "code",
   "execution_count": 37,
   "metadata": {
    "collapsed": false
   },
   "outputs": [
    {
     "name": "stdout",
     "output_type": "stream",
     "text": [
      "3\n",
      "0 0.236163305978\n",
      "1 0.449810835522\n",
      "2 0.265074048913\n",
      "3 0.0489518095869\n"
     ]
    }
   ],
   "source": [
    "import itertools\n",
    "print len(odds)\n",
    "\n",
    "odds_string = \"\"\"5/2 7/4 evens\"\"\"\n",
    "\n",
    "odds = [to_decimal_odds(value) for value in odds_string.split()]\n",
    "\n",
    "probs = {x:0.0 for x in range(len (odds) + 1)}\n",
    "\n",
    "for item in itertools.product((1, 0), repeat=len(odds)):\n",
    "    from operator import mul\n",
    "    chance = reduce( mul, (o[i] for i,o in zip(item,odds)), 1)\n",
    "    wins = sum(item)\n",
    "    probs[wins] += chance\n",
    "    \n",
    "    \n",
    "for key, value in probs.items():\n",
    "    print key,value"
   ]
  }
 ],
 "metadata": {
  "kernelspec": {
   "display_name": "Python 2",
   "language": "python",
   "name": "python2"
  },
  "language_info": {
   "codemirror_mode": {
    "name": "ipython",
    "version": 2
   },
   "file_extension": ".py",
   "mimetype": "text/x-python",
   "name": "python",
   "nbconvert_exporter": "python",
   "pygments_lexer": "ipython2",
   "version": "2.7.11"
  }
 },
 "nbformat": 4,
 "nbformat_minor": 0
}
