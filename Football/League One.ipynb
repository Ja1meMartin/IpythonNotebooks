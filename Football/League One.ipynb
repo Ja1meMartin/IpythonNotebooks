{
 "metadata": {
  "name": "",
  "signature": "sha256:56c01a04e28d95433d80efce416f5ceacb919169c4acee2064eee356027f44f3"
 },
 "nbformat": 3,
 "nbformat_minor": 0,
 "worksheets": [
  {
   "cells": [
    {
     "cell_type": "code",
     "collapsed": false,
     "input": [
      "import urllib2\n",
      "from bs4 import BeautifulSoup\n",
      "\n",
      "\n",
      "\n",
      "def get_soup(address):\n",
      "    \n",
      "    url = urllib2.urlopen(address)\n",
      "    content = url.read()\n",
      "    return  BeautifulSoup(content)\n",
      "\n",
      "soup = get_soup(\"http://www.bbc.com/sport/football/teams\")"
     ],
     "language": "python",
     "metadata": {},
     "outputs": [],
     "prompt_number": 1
    },
    {
     "cell_type": "code",
     "collapsed": false,
     "input": [
      "team_links = soup.find('h2', {'id':\"aleagueone\"}).parent.find_all('a')"
     ],
     "language": "python",
     "metadata": {},
     "outputs": [],
     "prompt_number": 2
    },
    {
     "cell_type": "code",
     "collapsed": false,
     "input": [
      "team = team_links[0]\n",
      "print team.text, team['href']\n",
      "team_name = team.text.strip()\n",
      "team_soup = get_soup(\"http://www.bbc.com\" + team['href'])"
     ],
     "language": "python",
     "metadata": {},
     "outputs": [
      {
       "output_type": "stream",
       "stream": "stdout",
       "text": [
        "Barnsley /sport/football/teams/barnsley\n"
       ]
      }
     ],
     "prompt_number": 3
    },
    {
     "cell_type": "markdown",
     "metadata": {},
     "source": [
      "#Get Squad"
     ]
    },
    {
     "cell_type": "code",
     "collapsed": false,
     "input": [
      "positions = [\"GK\",\"D\",\"M\",\"F\"]\n",
      "\n",
      "def get_squad_dict(soup):\n",
      "    return [i.text.strip() for i in team_soup.find_all('ol', {\"class\":\"blq-clearfix\"})]"
     ],
     "language": "python",
     "metadata": {},
     "outputs": [],
     "prompt_number": 4
    },
    {
     "cell_type": "code",
     "collapsed": false,
     "input": [
      "for i in team_soup.find_all('ol', {\"class\":\"blq-clearfix\"}):\n",
      "    print i.text"
     ],
     "language": "python",
     "metadata": {},
     "outputs": [
      {
       "output_type": "stream",
       "stream": "stdout",
       "text": [
        "    1   Turnbull     12   Davies  \n",
        "    2   Brown     5   Nyatanga     6   Cranie     15   Mvoto     16   Ramage     20   Smith     22   Williams     28   Cowgill  \n",
        "    4   Berry     8   Hourihane     11   Jennings     14   Digby     21   McKnight     27   Holgate     29   Bree     32   Bailey     Pearson     Scowen     Lalkovic  \n",
        "    9   Winnall     10   Hemmings     18   Oates     23   Boakye-Yiadom     25   Phenix     26   Maris     33   Lita     Waring     Kiwomya  \n"
       ]
      }
     ],
     "prompt_number": 5
    },
    {
     "cell_type": "code",
     "collapsed": false,
     "input": [
      "print get_squad_dict(team_soup)"
     ],
     "language": "python",
     "metadata": {},
     "outputs": [
      {
       "output_type": "stream",
       "stream": "stdout",
       "text": [
        "[u'1   Turnbull     12   Davies', u'2   Brown     5   Nyatanga     6   Cranie     15   Mvoto     16   Ramage     20   Smith     22   Williams     28   Cowgill', u'4   Berry     8   Hourihane     11   Jennings     14   Digby     21   McKnight     27   Holgate     29   Bree     32   Bailey     Pearson     Scowen     Lalkovic', u'9   Winnall     10   Hemmings     18   Oates     23   Boakye-Yiadom     25   Phenix     26   Maris     33   Lita     Waring     Kiwomya']\n"
       ]
      }
     ],
     "prompt_number": 6
    },
    {
     "cell_type": "code",
     "collapsed": false,
     "input": [
      "team_flash = []\n",
      "\n",
      "for team in team_links:\n",
      "    print team.text, team['href']\n",
      "    team_name = team.text.strip()\n",
      "    team_soup = get_soup(\"http://www.bbc.com\" + team['href'])\n",
      "    \n",
      "    pos = [team_name + \" \" + position for position in positions]\n",
      "    team_flash.extend(zip(pos, get_squad_dict(team_soup)))\n",
      "    \n",
      "    "
     ],
     "language": "python",
     "metadata": {},
     "outputs": [
      {
       "output_type": "stream",
       "stream": "stdout",
       "text": [
        "Barnsley /sport/football/teams/barnsley\n",
        "Bradford City"
       ]
      },
      {
       "output_type": "stream",
       "stream": "stdout",
       "text": [
        " /sport/football/teams/bradford-city\n",
        "Bristol City"
       ]
      },
      {
       "output_type": "stream",
       "stream": "stdout",
       "text": [
        " /sport/football/teams/bristol-city\n",
        "Chesterfield"
       ]
      },
      {
       "output_type": "stream",
       "stream": "stdout",
       "text": [
        " /sport/football/teams/chesterfield\n",
        "Colchester United"
       ]
      },
      {
       "output_type": "stream",
       "stream": "stdout",
       "text": [
        " /sport/football/teams/colchester-united\n",
        "Coventry City"
       ]
      },
      {
       "output_type": "stream",
       "stream": "stdout",
       "text": [
        " /sport/football/teams/coventry-city\n",
        "Crawley Town"
       ]
      },
      {
       "output_type": "stream",
       "stream": "stdout",
       "text": [
        " /sport/football/teams/crawley-town\n",
        "Crewe Alexandra"
       ]
      },
      {
       "output_type": "stream",
       "stream": "stdout",
       "text": [
        " /sport/football/teams/crewe-alexandra\n",
        "Doncaster Rovers"
       ]
      },
      {
       "output_type": "stream",
       "stream": "stdout",
       "text": [
        " /sport/football/teams/doncaster-rovers\n",
        "Fleetwood Town"
       ]
      },
      {
       "output_type": "stream",
       "stream": "stdout",
       "text": [
        " /sport/football/teams/fleetwood-town\n",
        "Gillingham"
       ]
      },
      {
       "output_type": "stream",
       "stream": "stdout",
       "text": [
        " /sport/football/teams/gillingham\n",
        "Leyton Orient"
       ]
      },
      {
       "output_type": "stream",
       "stream": "stdout",
       "text": [
        " /sport/football/teams/leyton-orient\n",
        "Milton Keynes Dons"
       ]
      },
      {
       "output_type": "stream",
       "stream": "stdout",
       "text": [
        " /sport/football/teams/milton-keynes-dons\n",
        "Notts County"
       ]
      },
      {
       "output_type": "stream",
       "stream": "stdout",
       "text": [
        " /sport/football/teams/notts-county\n",
        "Oldham Athletic"
       ]
      },
      {
       "output_type": "stream",
       "stream": "stdout",
       "text": [
        " /sport/football/teams/oldham-athletic\n",
        "Peterborough United"
       ]
      },
      {
       "output_type": "stream",
       "stream": "stdout",
       "text": [
        " /sport/football/teams/peterborough-united\n",
        "Port Vale"
       ]
      },
      {
       "output_type": "stream",
       "stream": "stdout",
       "text": [
        " /sport/football/teams/port-vale\n",
        "Preston North End"
       ]
      },
      {
       "output_type": "stream",
       "stream": "stdout",
       "text": [
        " /sport/football/teams/preston-north-end\n",
        "Rochdale"
       ]
      },
      {
       "output_type": "stream",
       "stream": "stdout",
       "text": [
        " /sport/football/teams/rochdale\n",
        "Scunthorpe United"
       ]
      },
      {
       "output_type": "stream",
       "stream": "stdout",
       "text": [
        " /sport/football/teams/scunthorpe-united\n",
        "Sheffield United"
       ]
      },
      {
       "output_type": "stream",
       "stream": "stdout",
       "text": [
        " /sport/football/teams/sheffield-united\n",
        "Swindon Town"
       ]
      },
      {
       "output_type": "stream",
       "stream": "stdout",
       "text": [
        " /sport/football/teams/swindon-town\n",
        "Walsall"
       ]
      },
      {
       "output_type": "stream",
       "stream": "stdout",
       "text": [
        " /sport/football/teams/walsall\n",
        "Yeovil Town"
       ]
      },
      {
       "output_type": "stream",
       "stream": "stdout",
       "text": [
        " /sport/football/teams/yeovil-town\n"
       ]
      }
     ],
     "prompt_number": 7
    },
    {
     "cell_type": "markdown",
     "metadata": {},
     "source": [
      "#Flashcards for League One Squads\n",
      "On the front team + GK/D/M/F  \n",
      "On the back players with squad number"
     ]
    },
    {
     "cell_type": "code",
     "collapsed": false,
     "input": [
      "for tf1, tf2 in team_flash:\n",
      "    print tf1 + \",\" + tf2 + \";\"\n",
      "    #or reversed\n",
      "    #print tf2 + \",\" + tf1 + \";\""
     ],
     "language": "python",
     "metadata": {},
     "outputs": [
      {
       "output_type": "stream",
       "stream": "stdout",
       "text": [
        "Barnsley GK,1   Turnbull     12   Davies;\n",
        "Barnsley D,2   Brown     5   Nyatanga     6   Cranie     15   Mvoto     16   Ramage     20   Smith     22   Williams     28   Cowgill;\n",
        "Barnsley M,4   Berry     8   Hourihane     11   Jennings     14   Digby     21   McKnight     27   Holgate     29   Bree     32   Bailey     Pearson     Scowen     Lalkovic;\n",
        "Barnsley F,9   Winnall     10   Hemmings     18   Oates     23   Boakye-Yiadom     25   Phenix     26   Maris     33   Lita     Waring     Kiwomya;\n",
        "Bradford City GK,1   Pickford     12   Williams     22   Urwin     41   Hallwood;\n",
        "Bradford City D,2   Darby     3   Meredith     5   Davies     6   Sheehan     18   Routis     23   McArdle     24   Heaton     31   Pollard     33   King;\n",
        "Bradford City M,4   Dolan     8   Liddle     11   Knott     14   Yeates     17   Kennedy     20   Morais     32   Wright     36   Mottley Henry;\n",
        "Bradford City F,9   Hanson     10   Clarke     15   Clarkson     16   Stead     19   McBurnie     34   Webb-Foster;\n",
        "Bristol City GK,1   Fielding     13   Richards;\n",
        "Bristol City D,2   Little     3   Williams     4   Flint     5   Osborne     17   Cunningham     22   Ayling     23   Bryan     24   Tavernier;\n",
        "Bristol City M,7   Smith     8   Elliott     10   Emmanuel-Thomas     11   Wagstaff     12   Saville     16   Wynter     21   Pack     Gilabert Badal     Hunter;\n",
        "Bristol City F,9   Smith     15   Freeman     18   Wilbraham     19   Agard;\n",
        "Chesterfield GK,1   Lee     20   Chapman     31   Wright;\n",
        "Chesterfield D,3   Jones     4   Hird     16   Raglan     22   Broadhead     23   Evatt     38   Maguire;\n",
        "Chesterfield M,2   Darikwa     5   Morsy     8   Ryan     10   O'Shea     11   Roberts     12   Clucas     15   Humphreys     21   Onovwigun     24   Banks     28   Ariyibi     30   Beresford     33   Massey;\n",
        "Chesterfield F,7   Gardner     9   Gnanduillet     17   Doyle     19   Dawes     25   Talbot     26   Dieseruvwe     27   Lamb     50   Beesley;\n",
        "Colchester United GK,1   Walker     12   Lewington     29   Bransgrove;\n",
        "Colchester United D,2   Wynter     3   Gordon     4   Okuonghae     13   Gorkss     18   Eastman     20   Clohessy     22   Lokko     23   Vincent-Young     26   Kent     33   Roast     35   O'Donoghue     40   Harney     41   Hewitt;\n",
        "Colchester United M,6   Eastmond     8   Gilbey     14   Olufemi     16   Lawrence     17   Wright     24   Moncur     28   Szmodics     30   Curtis     31   Hubble     32   Lapslie     38   Fox;\n",
        "Colchester United F,7   Watt     9   Ibehre     10   Holman     21   Massey     27   Bonne     34   Nwachuku     36   Smith     37   Sembie-Ferris     Marriott;\n",
        "Coventry City GK,1   Burge     33   Charles-Cook     43   Richards;\n",
        "Coventry City D,2   Willis     3   Pugh     4   Webster     5   Johnson     18   Phillips     21   Martin     22   Pennington     26   Haynes     35   Kelly-Evans;\n",
        "Coventry City M,6   Thomas     7   Fleck     10   Swanson     11   O'Brien     14   Coulibaly     16   Barton     27   Finch     28   Lawton     38   Spence;\n",
        "Coventry City F,8   Madine     12   Jackson     15   Miller     19   Nouble     20   Tudgay     36   Maddison     37   Thomas;\n",
        "Crawley Town GK,1   Jensen     27   De Lima     30   Price;\n",
        "Crawley Town D,2   Oyebanjo     3   Dickson     5   Leacock     6   Bradley     12   Walsh     23   Richefond     25   Ward;\n",
        "Crawley Town M,4   Henderson     7   Edwards     8   Smith     11   Simpson     14   Young     15   Banya     17   Anderson     20   Bawling     22   O'Connor     24   Isaacs     26   Wordsworth     33   Elliott;\n",
        "Crawley Town F,9   McLeod     18   Harrold     21   Tomlin;\n",
        "Crewe Alexandra GK,13   Garratt;\n",
        "Crewe Alexandra D,2   Tootle     3   Guthrie     4   Davis     5   Ray     6   Dugdale     7   Turton     15   Audel     18   Nolan     23   Ng     24   Leigh     30   Tate     33   Stewart;\n",
        "Crewe Alexandra M,8   Atkinson     10   Inman     11   Cooper     17   Waters     19   Baillie     20   Jones     26   Prichard-Ellis     28   Ness     32   Ainley     42   Grant;\n",
        "Crewe Alexandra F,12   Dalla Valle     14   Saunders     22   Murdoch     25   Haber     27   Colclough     34   Ikpeazu     35   Ajose;\n",
        "Doncaster Rovers GK,13   Marosi     40   McLaren     Bywater;\n",
        "Doncaster Rovers D,3   Evina     5   Jones     6   McCombe     12   McCullough     15   Wakefield     16   Butler     17   Stevens     22   Wabara     24   McKay     30   Askins     31   Lund     34   Brown;\n",
        "Doncaster Rovers M,4   Furman     18   Keegan     19   Wellens     21   De Val     23   Bennett     26   Coppinger     29   Middleton     32   Whitehouse     35   Ferguson     Razak;\n",
        "Doncaster Rovers F,9   Robinson     10   Forrester     11   Main     14   Tyson     25   Peterson     36   McKay;\n",
        "Fleetwood Town GK,1   Davies     13   Lucas     28   Maxwell     31   Bleeker     38   Springthorpe;\n",
        "Fleetwood Town D,2   McLaughlin     3   Andrew     5   Roberts     6   Pond     25   Jordan     26   Davies     33   Crainey;\n",
        "Fleetwood Town M,4   Murdoch     7   Evans     8   Schumacher     11   Hughes     12   Morris     18   Sarcevic     20   Hornby-Forbes     27   Haughton     35   Deacon     Hodd;\n",
        "Fleetwood Town F,9   Dobbie     10   Matt     19   Proctor     21   Allen     23   Ball     29   McAlinden     32   Cartwright     Hunter;\n",
        "Gillingham GK,1   Nelson     12   Morris     27   Hadler;\n",
        "Gillingham D,3   Martin     4   Egan     5   Ehmer     6   Legge     15   Morris     20   Davies     25   McKain     31   Hoyte     32   Staunton     Garmston;\n",
        "Gillingham M,7   Loft     8   Hessenthaler     11   McGlashan     13   Galbraith     16   Linganzi     18   Pritchard     21   Doughty     22   Hare     23   Dack     29   Romeo;\n",
        "Gillingham F,9   Marquis     10   McDonald     14   German     17   Millbank     19   Norris     24   Dickenson;\n",
        "Leyton Orient GK,1   Legzdins     21   Grainger     33   Woods;\n",
        "Leyton Orient D,2   Omozusi     3   Sawyer     4   Vincelot     5   Cuthbert     6   Baudry     12   Lowry     15   Clarke     22   Nikolaou     25   Ling     32   Dossena;\n",
        "Leyton Orient M,7   Cox     8   James     11   McAnuff     16   Lee     17   Wright     18   Pritchard     19   Kashket     20   Bartley     26   Lundstram;\n",
        "Leyton Orient F,9   Lisbie     10   Mooney     14   Batt     23   Dagnall     24   Henderson     27   Simpson     28   Agyemang     29   Adeboyejo     30   Plasmati     Hedges;\n",
        "Milton Keynes Dons GK,1   Martin     16   McLoughlin     29   Burns;\n",
        "Milton Keynes Dons D,2   Hodson     3   Lewington     5   McFadzean     6   Kay     12   Spence;\n",
        "Milton Keynes Dons M,7   Green     8   Potter     10   Reeves     13   Baker     14   Alli     15   Randall     17   Powell     18   Baldock     20   Rasulo     22   Carruthers     26   Summerfield;\n",
        "Milton Keynes Dons F,9   Bowditch     11   Grigg     19   Hitchcock     24   Tilney     27   Tshimanga     Clarke-Harris;\n",
        "Notts County GK,1   Carroll     23   Speiss     35   Pilkington;\n",
        "Notts County D,2   Dumbuya     3   Adams     6   Hollis     14   McKenzie     17   White     21   Keane     22   McGowan     28   Edwards     33   Cranston;\n",
        "Notts County M,4   Smith     5   Mullins     7   Hayhurst     8   Wroe     11   Thompson     13   Jones     15   Thompson     16   Noble     25   Traore     26   Whitehouse     30   Derry     38   Santos;\n",
        "Notts County F,9   Spencer     10   Murray     12   Thomas     20   Daniels     24   Balmy     27   Bajner     29   Bishop     31   Harrad;\n",
        "Oldham Athletic GK,1   Rachubka     13   Coleman     30   Tyson;\n",
        "Oldham Athletic D,2   Brown     3   Mills     4   Dieng     5   Elokobi     15   Winchester     16   Wilson     18   Lockwood     20   Wilson     21   Kusunga     28   Truelove;\n",
        "Oldham Athletic M,6   Kelly     7   Dayton     8   Jones     12   Mellor     31   Tuohy;\n",
        "Oldham Athletic F,9   Poleon     10   Philliskirk     11   Forte     23   Turner     27   Morgan-Smith     32   Jacobs;\n",
        "Peterborough United GK,27   Alnwick     32   Henry     Loach;\n",
        "Peterborough United D,2   Smith     3   Ntlhe     4   Brisley     5   Baldwin     21   Burgess     22   Almeida Santos     25   Zakuani;\n",
        "Peterborough United M,6   Bostwick     7   Taylor     8   Payne     10   Oztumer     15   Anderson     17   Newell     19   Mendez-Laing     26   Luto     28   Anderson     35   Beautyman;\n",
        "Peterborough United F,9   James     12   Vassell     14   Washington     20   McLean     23   Barnett     29   Edwards     30   Maddison     37   Da Silva Lopes;\n",
        "Port Vale GK,1   Neal     12   Johnson     23   Boot;\n",
        "Port Vale D,2   Yates     3   Dickinson     4   Robertson     5   McGivern     6   Duffy     21   Veseli     Deen Conteh;\n",
        "Port Vale M,7   Birchall     10   Lines     14   Daniel     15   O'Connor     17   Brown     20   Marshall     22   Lloyd     27   Andoh     33   N'Guessan;\n",
        "Port Vale F,8   Dodds     9   Williamson     11   Pope     19   Moore     26   Nimely     28   Campion;\n",
        "Preston North End GK,1   Jones     21   Stuckmann     26   James     34   Johnstone;\n",
        "Preston North End D,3   Laird     4   Wiseman     5   Clarke     6   Wright     15   Woods     16   Buchanan     20   Davies     23   Huntington;\n",
        "Preston North End M,2   Keane     7   Humphrey     8   Kilkenny     11   Holmes     17   Reid     19   Welsh     22   King     30   Brownhill     31   Browne;\n",
        "Preston North End F,9   Davies     10   Beckford     12   Gallagher     14   Garner     18   Little     25   Hugill     29   Fewster     40   Ebanks-Blake;\n",
        "Rochdale GK,1   Lillis     21   Musangu     23   Collis;\n",
        "Rochdale D,2   Rafferty     3   Bennett     4   McGinty     5   Eastham     6   Lancashire     17   Tanser     25   Rose     30   Kisimba     33   Kennedy;\n",
        "Rochdale M,7   Vincenti     8   Lund     12   Dawson     14   Hery     16   Done     20   Barry-Murphy     24   Allen     26   Logan     27   Cannon     28   Camps     32   Hasler-Cregg;\n",
        "Rochdale F,9   Andrew     10   Brandy     11   Noble-Lazarus     18   Muldoon     31   Bell     39   Bunney     40   Henderson;\n",
        "Scunthorpe United GK,1   Slocombe     13   Severn     21   Weaver;\n",
        "Scunthorpe United D,2   Nolan     3   Dawson     5   Mirfin     6   Canavan     22   O'Neil     25   Boyce     30   Williams     32   Llera     33   Clarke     37   Davey     38   Mosanya;\n",
        "Scunthorpe United M,4   McAllister     7   Sparrow     8   Syers     12   Bishop     14   Hawkridge     24   Murphy     29   Wootton     31   Sutton     35   Osbourne;\n",
        "Scunthorpe United F,9   Madden     10   Burton     16   Adelakun     19   Taylor     23   Burdett     28   McSheffrey     34   Hopper;\n",
        "Sheffield United GK,1   Howard     24   Turner     25   Long;\n",
        "Sheffield United D,2   Alcock     3   Harris     15   Collins     17   McGahey     19   McEveley     27   Kennedy;\n",
        "Sheffield United M,4   Wallace     6   Basham     7   Flynn     8   Doyle     10   Scougall     14   McGinn     16   Davies     20   Campbell-Ryce     22   Reed     26   McFadzean     28   Dimaio     30   Whiteman     31   Khan     33   Wallace     34   Cuvelier;\n",
        "Sheffield United F,9   Murphy     11   Baxter     12   McNulty     18   Porter     21   Higdon     23   De Girolamo     29   Adams;\n",
        "Swindon Town GK,1   Foderingham     25   Belford;\n",
        "Swindon Town D,2   Thompson     3   Byrne     5   Stephens     6   Turnbull     15   Toffolo     23   Barthram     29   Branco     33   Holland;\n",
        "Swindon Town M,4   Luongo     7   Gladwin     8   Kasim     14   Swift     19   Thompson     26   Rodgers     28   Smith     30   Agombar     31   Randall-Hurran     32   Marshall;\n",
        "Swindon Town F,9   Smith     10   Williams     16   Waldon     18   Barker     20   Obika     24   Hylton     Storey;\n",
        "Walsall GK,1   O'Donnell     13   MacGillivray     23   Roberts;\n",
        "Walsall D,2   Purkiss     3   Taylor     4   O'Connor     5   Holden     6   Downing     14   Benning     15   Chambers     16   Preston     25   Henry     28   Rowley;\n",
        "Walsall M,7   Chambers     8   Mantom     10   Sawyers     11   Baxendale     12   Cain     17   Flanagan     18   Morris     19   Heath     22   Kinsella     24   Grimes     27   Forde;\n",
        "Walsall F,9   Bradshaw     21   Cook     37   Manset;\n",
        "Yeovil Town GK,1   Weale     12   Krysiak     22   Stewart     30   Steer;\n",
        "Yeovil Town D,3   Smith     6   Sokolik     15   Ofori-Twumasi     19   Davis     20   Nugent     21   Brooks     26   Arthurworrey     28   Smith     32   Shephard;\n",
        "Yeovil Town M,4   Edwards     7   Dawson     8   Berrett     11   Foley     17   Grant     23   Gillett;\n",
        "Yeovil Town F,9   Hayter     10   Leitch-Smith     13   Moore     14   Hoskins     16   Ralph     18   Loza     25   Ugwu     Morgan;\n"
       ]
      }
     ],
     "prompt_number": 8
    },
    {
     "cell_type": "code",
     "collapsed": false,
     "input": [],
     "language": "python",
     "metadata": {},
     "outputs": []
    },
    {
     "cell_type": "code",
     "collapsed": false,
     "input": [
      "from py2neo import Graph, Node\n",
      "from py2neo.ext.ogm import Store\n",
      "from py2neo import watch\n",
      "\n",
      "watch(\"httpstream\")\n",
      "\n",
      "class Team(object):\n",
      "\n",
      "    def __init__(self, node):\n",
      "        \n",
      "        self.name = node['name']\n",
      "\n",
      "    def __str__(self):\n",
      "        return self.name\n",
      "    \n",
      "#help(authenticate)\n",
      "\n",
      "graph = Graph()\n",
      "graph.delete_all()\n",
      "store = Store(graph)\n",
      "\n",
      "team_nodes = []\n",
      "\n",
      "for team in team_links:\n",
      "    t = Node(\"Team\", name=team.text.strip())\n",
      "    graph.create(t)\n",
      "    team_nodes.append(Team(t))\n",
      "    \n",
      "\n",
      "\n",
      "\n",
      "\n",
      "\n",
      "\n"
     ],
     "language": "python",
     "metadata": {},
     "outputs": [
      {
       "output_type": "stream",
       "stream": "stdout",
       "text": [
        "\u001b[36m> POST http://localhost:7474/db/data/batch [168]\u001b[0m\n"
       ]
      },
      {
       "output_type": "stream",
       "stream": "stdout",
       "text": [
        "\u001b[36m< 200 OK [141]\u001b[0m\n"
       ]
      },
      {
       "output_type": "stream",
       "stream": "stdout",
       "text": [
        "\u001b[36m> POST http://localhost:7474/db/data/cypher [80]\u001b[0m\n"
       ]
      },
      {
       "output_type": "stream",
       "stream": "stdout",
       "text": [
        "\u001b[36m< 200 OK [1357]\u001b[0m\n"
       ]
      },
      {
       "output_type": "stream",
       "stream": "stdout",
       "text": [
        "\u001b[36m> POST http://localhost:7474/db/data/cypher [85]\u001b[0m\n"
       ]
      },
      {
       "output_type": "stream",
       "stream": "stdout",
       "text": [
        "\u001b[36m< 200 OK [1362]\u001b[0m\n"
       ]
      },
      {
       "output_type": "stream",
       "stream": "stdout",
       "text": [
        "\u001b[36m> POST http://localhost:7474/db/data/cypher [84]\u001b[0m\n"
       ]
      },
      {
       "output_type": "stream",
       "stream": "stdout",
       "text": [
        "\u001b[36m< 200 OK [1361]\u001b[0m\n"
       ]
      },
      {
       "output_type": "stream",
       "stream": "stdout",
       "text": [
        "\u001b[36m> POST http://localhost:7474/db/data/cypher [84]\u001b[0m\n"
       ]
      },
      {
       "output_type": "stream",
       "stream": "stdout",
       "text": [
        "\u001b[36m< 200 OK [1361]\u001b[0m\n"
       ]
      },
      {
       "output_type": "stream",
       "stream": "stdout",
       "text": [
        "\u001b[36m> POST http://localhost:7474/db/data/cypher [89]\u001b[0m\n"
       ]
      },
      {
       "output_type": "stream",
       "stream": "stdout",
       "text": [
        "\u001b[36m< 200 OK [1366]\u001b[0m\n"
       ]
      },
      {
       "output_type": "stream",
       "stream": "stdout",
       "text": [
        "\u001b[36m> POST http://localhost:7474/db/data/cypher [85]\u001b[0m\n"
       ]
      },
      {
       "output_type": "stream",
       "stream": "stdout",
       "text": [
        "\u001b[36m< 200 OK [1362]\u001b[0m\n"
       ]
      },
      {
       "output_type": "stream",
       "stream": "stdout",
       "text": [
        "\u001b[36m> POST http://localhost:7474/db/data/cypher [84]\u001b[0m\n"
       ]
      },
      {
       "output_type": "stream",
       "stream": "stdout",
       "text": [
        "\u001b[36m< 200 OK [1361]\u001b[0m\n"
       ]
      },
      {
       "output_type": "stream",
       "stream": "stdout",
       "text": [
        "\u001b[36m> POST http://localhost:7474/db/data/cypher [87]\u001b[0m\n"
       ]
      },
      {
       "output_type": "stream",
       "stream": "stdout",
       "text": [
        "\u001b[36m< 200 OK [1364]\u001b[0m\n"
       ]
      },
      {
       "output_type": "stream",
       "stream": "stdout",
       "text": [
        "\u001b[36m> POST http://localhost:7474/db/data/cypher [88]\u001b[0m\n"
       ]
      },
      {
       "output_type": "stream",
       "stream": "stdout",
       "text": [
        "\u001b[36m< 200 OK [1365]\u001b[0m\n"
       ]
      },
      {
       "output_type": "stream",
       "stream": "stdout",
       "text": [
        "\u001b[36m> POST http://localhost:7474/db/data/cypher [86]\u001b[0m\n"
       ]
      },
      {
       "output_type": "stream",
       "stream": "stdout",
       "text": [
        "\u001b[36m< 200 OK [1363]\u001b[0m\n"
       ]
      },
      {
       "output_type": "stream",
       "stream": "stdout",
       "text": [
        "\u001b[36m> POST http://localhost:7474/db/data/cypher [82]\u001b[0m\n"
       ]
      },
      {
       "output_type": "stream",
       "stream": "stdout",
       "text": [
        "\u001b[36m< 200 OK [1359]\u001b[0m\n"
       ]
      },
      {
       "output_type": "stream",
       "stream": "stdout",
       "text": [
        "\u001b[36m> POST http://localhost:7474/db/data/cypher [85]\u001b[0m\n"
       ]
      },
      {
       "output_type": "stream",
       "stream": "stdout",
       "text": [
        "\u001b[36m< 200 OK [1362]\u001b[0m\n"
       ]
      },
      {
       "output_type": "stream",
       "stream": "stdout",
       "text": [
        "\u001b[36m> POST http://localhost:7474/db/data/cypher [90]\u001b[0m\n"
       ]
      },
      {
       "output_type": "stream",
       "stream": "stdout",
       "text": [
        "\u001b[36m< 200 OK [1367]\u001b[0m\n"
       ]
      },
      {
       "output_type": "stream",
       "stream": "stdout",
       "text": [
        "\u001b[36m> POST http://localhost:7474/db/data/cypher [84]\u001b[0m\n"
       ]
      },
      {
       "output_type": "stream",
       "stream": "stdout",
       "text": [
        "\u001b[36m< 200 OK [1361]\u001b[0m\n"
       ]
      },
      {
       "output_type": "stream",
       "stream": "stdout",
       "text": [
        "\u001b[36m> POST http://localhost:7474/db/data/cypher [87]\u001b[0m\n"
       ]
      },
      {
       "output_type": "stream",
       "stream": "stdout",
       "text": [
        "\u001b[36m< 200 OK [1364]\u001b[0m\n"
       ]
      },
      {
       "output_type": "stream",
       "stream": "stdout",
       "text": [
        "\u001b[36m> POST http://localhost:7474/db/data/cypher [91]\u001b[0m\n"
       ]
      },
      {
       "output_type": "stream",
       "stream": "stdout",
       "text": [
        "\u001b[36m< 200 OK [1368]\u001b[0m\n"
       ]
      },
      {
       "output_type": "stream",
       "stream": "stdout",
       "text": [
        "\u001b[36m> POST http://localhost:7474/db/data/cypher [81]\u001b[0m\n"
       ]
      },
      {
       "output_type": "stream",
       "stream": "stdout",
       "text": [
        "\u001b[36m< 200 OK [1358]\u001b[0m\n"
       ]
      },
      {
       "output_type": "stream",
       "stream": "stdout",
       "text": [
        "\u001b[36m> POST http://localhost:7474/db/data/cypher [89]\u001b[0m\n"
       ]
      },
      {
       "output_type": "stream",
       "stream": "stdout",
       "text": [
        "\u001b[36m< 200 OK [1366]\u001b[0m\n"
       ]
      },
      {
       "output_type": "stream",
       "stream": "stdout",
       "text": [
        "\u001b[36m> POST http://localhost:7474/db/data/cypher [80]\u001b[0m\n"
       ]
      },
      {
       "output_type": "stream",
       "stream": "stdout",
       "text": [
        "\u001b[36m< 200 OK [1357]\u001b[0m\n"
       ]
      },
      {
       "output_type": "stream",
       "stream": "stdout",
       "text": [
        "\u001b[36m> POST http://localhost:7474/db/data/cypher [89]\u001b[0m\n"
       ]
      },
      {
       "output_type": "stream",
       "stream": "stdout",
       "text": [
        "\u001b[36m< 200 OK [1366]\u001b[0m\n"
       ]
      },
      {
       "output_type": "stream",
       "stream": "stdout",
       "text": [
        "\u001b[36m> POST http://localhost:7474/db/data/cypher [88]\u001b[0m\n"
       ]
      },
      {
       "output_type": "stream",
       "stream": "stdout",
       "text": [
        "\u001b[36m< 200 OK [1365]\u001b[0m\n"
       ]
      },
      {
       "output_type": "stream",
       "stream": "stdout",
       "text": [
        "\u001b[36m> POST http://localhost:7474/db/data/cypher [84]\u001b[0m\n"
       ]
      },
      {
       "output_type": "stream",
       "stream": "stdout",
       "text": [
        "\u001b[36m< 200 OK [1361]\u001b[0m\n"
       ]
      },
      {
       "output_type": "stream",
       "stream": "stdout",
       "text": [
        "\u001b[36m> POST http://localhost:7474/db/data/cypher [79]\u001b[0m\n"
       ]
      },
      {
       "output_type": "stream",
       "stream": "stdout",
       "text": [
        "\u001b[36m< 200 OK [1356]\u001b[0m\n"
       ]
      },
      {
       "output_type": "stream",
       "stream": "stdout",
       "text": [
        "\u001b[36m> POST http://localhost:7474/db/data/cypher [83]\u001b[0m\n"
       ]
      },
      {
       "output_type": "stream",
       "stream": "stdout",
       "text": [
        "\u001b[36m< 200 OK [1360]\u001b[0m\n"
       ]
      }
     ],
     "prompt_number": 63
    },
    {
     "cell_type": "markdown",
     "metadata": {},
     "source": [
      "#Get More Headlines"
     ]
    },
    {
     "cell_type": "code",
     "collapsed": false,
     "input": [
      "def get_headlines(soup):\n",
      "    div = team_soup.find('div', {\"id\":\"more-headlines\"})\n",
      "    \n",
      "    for b in div.find_all('a'):\n",
      "        print b['href'], b.text\n",
      "\n",
      "get_headlines(team_soup)\n"
     ],
     "language": "python",
     "metadata": {},
     "outputs": [
      {
       "output_type": "stream",
       "stream": "stdout",
       "text": [
        "/sport/football/30884094 Striker Moore 'brave in defence'\n",
        "/sport/football/30758842 Yeovil Town 1-0 Bradford City\n",
        "/sport/football/30865140 Yeovil sign Swans defender Shephard\n",
        "/sport/football/30832828 Ugwu earns short-term Yeovil deal\n",
        "/sport/football/30817577 Yeovil sign Norwich's Loza on loan\n",
        "/sport/football/30778775 Injury blow for Yeovil midfield pair\n",
        "/sport/football/30663548 Barnsley 2-0 Yeovil Town\n",
        "/sport/football/30746017 Coventry sign Nouble and Martin\n",
        "/sport/football/30725887 Ralph earns extended Yeovil deal\n",
        "http://www.bbc.co.uk/news/mobile/uk-england-lancashire-30693600 Sell-out for game that never was\n",
        "/sport/football/30700563 Inniss's Yeovil loan ended by Palace\n",
        "/sport/football/30686349 Yeovil keep Cardiff's Nugent on loan\n"
       ]
      }
     ],
     "prompt_number": 9
    },
    {
     "cell_type": "markdown",
     "metadata": {},
     "source": [
      "#Get Team Results/Reports"
     ]
    },
    {
     "cell_type": "code",
     "collapsed": false,
     "input": [
      "team_url = \"http://www.bbc.com/sport/football/teams/\" + team_name.lower().replace(' ','-') + \"/results\"\n",
      "\n",
      "print team_url\n",
      "\n",
      "rep_soup = get_soup(team_url)"
     ],
     "language": "python",
     "metadata": {},
     "outputs": [
      {
       "output_type": "stream",
       "stream": "stdout",
       "text": [
        "http://www.bbc.com/sport/football/teams/yeovil-town/results\n"
       ]
      }
     ],
     "prompt_number": 10
    },
    {
     "cell_type": "code",
     "collapsed": false,
     "input": [
      "reports = rep_soup.find_all('tr', {\"class\":\"report\"})\n",
      "\n",
      "for rep in reports:\n",
      "    pass\n",
      "    #print rep.text, \"http://www.bbc.com\" + rep.find_all('a')[-1]['href']\n",
      "    \n",
      "rep = (reports[0].text, \"http://www.bbc.com\" + reports[0].find_all('a')[-1]['href'])"
     ],
     "language": "python",
     "metadata": {},
     "outputs": [],
     "prompt_number": 11
    },
    {
     "cell_type": "code",
     "collapsed": false,
     "input": [
      "print rep\n",
      "result_soup = get_soup(rep[1])"
     ],
     "language": "python",
     "metadata": {},
     "outputs": [
      {
       "output_type": "stream",
       "stream": "stdout",
       "text": [
        "(u'  Show   League One      Preston    1-1    Yeovil     Tue 20 Jan    Full time    Report\\n ', 'http://www.bbc.com/sport/football/30608835')\n"
       ]
      }
     ],
     "prompt_number": 12
    },
    {
     "cell_type": "markdown",
     "metadata": {},
     "source": [
      "#Get match data"
     ]
    },
    {
     "cell_type": "code",
     "collapsed": false,
     "input": [
      "l1_index = rep[0].find('League One ')\n",
      "if l1_index > 0:\n",
      "    print rep[0][ l1_index + 10 : ]\n",
      "    home,away = [x.split() for x in rep[0][ l1_index + 10 : ].split('-')]\n",
      "    print home, away\n",
      "    home_team = \" \".join(home[:-1])\n",
      "    home_score = int (home[-1])\n",
      "    away_team = \" \".join(away[1:-5])\n",
      "    away_score = int (away[0])\n",
      "    \n",
      "print home_score"
     ],
     "language": "python",
     "metadata": {},
     "outputs": [
      {
       "output_type": "stream",
       "stream": "stdout",
       "text": [
        "      Preston    1-1    Yeovil     Tue 20 Jan    Full time    Report\n",
        " \n",
        "[u'Preston', u'1'] [u'1', u'Yeovil', u'Tue', u'20', u'Jan', u'Full', u'time', u'Report']\n",
        "1\n"
       ]
      }
     ],
     "prompt_number": 13
    },
    {
     "cell_type": "code",
     "collapsed": false,
     "input": [
      "graph.cypher.execute(\"Match (a:Team) RETURN a\", {\"N\": home_team})"
     ],
     "language": "python",
     "metadata": {},
     "outputs": [
      {
       "output_type": "stream",
       "stream": "stdout",
       "text": [
        "\u001b[36m> POST http://localhost:7474/db/data/transaction/commit [115]\u001b[0m\n"
       ]
      },
      {
       "output_type": "stream",
       "stream": "stdout",
       "text": [
        "\u001b[36m< 200 OK [chunked]\u001b[0m\n"
       ]
      },
      {
       "metadata": {},
       "output_type": "pyout",
       "prompt_number": 64,
       "text": [
        "    | a                                      \n",
        "----+-----------------------------------------\n",
        "  1 | (n49:Team {name:\"Barnsley\"})           \n",
        "  2 | (n50:Team {name:\"Bradford City\"})      \n",
        "  3 | (n51:Team {name:\"Bristol City\"})       \n",
        "  4 | (n52:Team {name:\"Chesterfield\"})       \n",
        "  5 | (n53:Team {name:\"Colchester United\"})  \n",
        "  6 | (n54:Team {name:\"Coventry City\"})      \n",
        "  7 | (n55:Team {name:\"Crawley Town\"})       \n",
        "  8 | (n56:Team {name:\"Crewe Alexandra\"})    \n",
        "  9 | (n57:Team {name:\"Doncaster Rovers\"})   \n",
        " 10 | (n58:Team {name:\"Fleetwood Town\"})     \n",
        " 11 | (n59:Team {name:\"Gillingham\"})         \n",
        " 12 | (n60:Team {name:\"Leyton Orient\"})      \n",
        " 13 | (n61:Team {name:\"Milton Keynes Dons\"}) \n",
        " 14 | (n62:Team {name:\"Notts County\"})       \n",
        " 15 | (n63:Team {name:\"Oldham Athletic\"})    \n",
        " 16 | (n64:Team {name:\"Peterborough United\"})\n",
        " 17 | (n65:Team {name:\"Port Vale\"})          \n",
        " 18 | (n66:Team {name:\"Preston North End\"})  \n",
        " 19 | (n67:Team {name:\"Rochdale\"})           \n",
        " 20 | (n68:Team {name:\"Scunthorpe United\"})  \n",
        " 21 | (n69:Team {name:\"Sheffield United\"})   \n",
        " 22 | (n70:Team {name:\"Swindon Town\"})       \n",
        " 23 | (n71:Team {name:\"Walsall\"})            \n",
        " 24 | (n72:Team {name:\"Yeovil Town\"})        "
       ]
      }
     ],
     "prompt_number": 64
    },
    {
     "cell_type": "code",
     "collapsed": false,
     "input": [
      "graph.cypher.execute(\"Match (a:Teams) RETURN a\", {\"N\": home_team})"
     ],
     "language": "python",
     "metadata": {},
     "outputs": [
      {
       "output_type": "stream",
       "stream": "stdout",
       "text": [
        "\u001b[36m> POST http://localhost:7474/db/data/transaction/commit [116]\u001b[0m\n"
       ]
      },
      {
       "output_type": "stream",
       "stream": "stdout",
       "text": [
        "\u001b[36m< 200 OK [chunked]\u001b[0m\n"
       ]
      },
      {
       "metadata": {},
       "output_type": "pyout",
       "prompt_number": 57,
       "text": [
        "  | a\n",
        "--+---"
       ]
      }
     ],
     "prompt_number": 57
    },
    {
     "cell_type": "markdown",
     "metadata": {},
     "source": [
      "Text of result_div is showing the JS. Find headers and append paragraphs.  \n",
      "  \n",
      "For now get the match events"
     ]
    },
    {
     "cell_type": "code",
     "collapsed": false,
     "input": [
      "#print result_soup.find('div', {'class':'article'}).text\n",
      "\n",
      "result_div = result_soup.find('div', {'class':'article'})\n",
      "\n",
      "event_tags = result_div.find('div',{'id':'live-text-commentary-wrapper'}).find_all('p')\n",
      "\n",
      "events = [e.text for e in event_tags]"
     ],
     "language": "python",
     "metadata": {},
     "outputs": [],
     "prompt_number": 14
    },
    {
     "cell_type": "markdown",
     "metadata": {},
     "source": [
      "- Comments are not tuples \n",
      "- Live stats provided... is the first comment\n"
     ]
    },
    {
     "cell_type": "code",
     "collapsed": false,
     "input": [
      "incidents = []\n",
      "\n",
      "def incident(comment, inList, outList):\n",
      "    #print \"comment\", comment\n",
      "    \n",
      "    if comment.startswith(\"Live \"):\n",
      "        return\n",
      "    \n",
      "    if comment.startswith(\"Foul\"):\n",
      "        outList.append( (\"Foul\", comment))\n",
      "        return\n",
      "\n",
      "    \n",
      "    if comment.startswith(\"Hand \"):\n",
      "        outList.append( (\"Hand Ball\", comment))\n",
      "        return\n",
      "    \n",
      "    if comment.startswith(\"Corner\"):\n",
      "        outList.append( (\"Corner\", comment))\n",
      "        return\n",
      "    \n",
      "    if comment.startswith(\"Attempt\"):\n",
      "        outList.append( (\"Attempt\", comment))\n",
      "        return\n",
      "    \n",
      "    if comment.startswith(\"Goal\"):\n",
      "        outList.append( (\"Goal\", comment))\n",
      "        return\n",
      "    \n",
      "    if comment.startswith(\"Offside\"):\n",
      "        outList.append( (\"Offside\", comment))\n",
      "        return\n",
      "    \n",
      "    if comment.startswith(\"Substitution\"):\n",
      "        outList.append( (\"Sub\", comment))\n",
      "        return\n",
      "    \n",
      "    if comment.startswith(\"Delay\"):\n",
      "        outList.append( (\"Delay\", comment))\n",
      "        return\n",
      "    \n",
      "    if comment.startswith(\"Penalty\"):\n",
      "        outList.append( (\"Penalty\", comment))\n",
      "        return\n",
      "    \n",
      "    if comment.startswith(\"First\") or comment.startswith(\"Second\"):\n",
      "        return\n",
      "    \n",
      "    if comment.startswith(\"Own G\"):\n",
      "        outList.append( (\"OG\", comment))\n",
      "        return\n",
      "    \n",
      "    if \"wins a fr\" in comment:\n",
      "        outList.append( (\"Fouled\", comment))\n",
      "        return\n",
      "    \n",
      "    if \"yellow card\" in comment:\n",
      "        outList.append((\"Yellow\", comment))\n",
      "        return\n",
      "        \n",
      "    if \"red card\" in comment:\n",
      "        outList.append((\"Red\", comment))\n",
      "        return\n",
      "        \n",
      "    if \"hits the\" in comment:\n",
      "        outList.append((\"Woodwork\", comment))\n",
      "        return\n",
      "    \n",
      "    \n",
      "    \n",
      "        \n",
      "        \n",
      "    print comment[0:9], \"comment ??\", comment\n",
      "    \n",
      "    \n",
      "while events:\n",
      "    comment = events.pop().strip()\n",
      "    print comment\n",
      "    incident(comment, events, incidents) \n"
     ],
     "language": "python",
     "metadata": {},
     "outputs": [
      {
       "output_type": "stream",
       "stream": "stdout",
       "text": [
        "Live data and text provided by our data suppliers\n",
        "Lineups are announced and players are warming up.\n",
        "Lineups a comment ?? Lineups are announced and players are warming up.\n",
        "First Half begins.\n",
        "Attempt missed. Paul Gallagher (Preston North End) right footed shot from outside the box is too high.\n",
        "Foul by Liam Shephard (Yeovil Town).\n",
        "Scott Laird (Preston North End) wins a free kick on the left wing.\n",
        "Attempt missed. Jermaine Beckford (Preston North End) right footed shot from the centre of the box is too high.\n",
        "Liam Shephard (Yeovil Town) wins a free kick in the defensive half.\n",
        "Foul by Paul Gallagher (Preston North End).\n",
        "Attempt missed. Alex Smith (Yeovil Town) left footed shot from outside the box misses to the right.\n",
        "Kevin Davies (Preston North End) wins a free kick in the defensive half.\n",
        "Foul by Stephen Arthurworrey (Yeovil Town).\n",
        "Attempt missed. Jermaine Beckford (Preston North End) header from the centre of the box is too high from a direct free kick.\n",
        "Attempt missed. Kevin Davies (Preston North End) header from the centre of the box is close, but misses to the left.\n",
        "Foul by Stephen Arthurworrey (Yeovil Town).\n",
        "Jermaine Beckford (Preston North End) wins a free kick in the defensive half.\n",
        "Foul by Sam Foley (Yeovil Town).\n",
        "Tom Clarke (Preston North End) wins a free kick in the attacking half.\n",
        "Attempt missed. Paul Gallagher (Preston North End) right footed shot from outside the box misses to the left.\n",
        "Attempt missed. Sam Foley (Yeovil Town) left footed shot from outside the box is too high.\n",
        "Alex Smith (Yeovil Town) wins a free kick in the defensive half.\n",
        "Foul by Kevin Davies (Preston North End).\n",
        "Attempt missed. Kieffer Moore (Yeovil Town) right footed shot from outside the box is close, but misses to the left.\n",
        "Attempt missed. Josh Brownhill (Preston North End) right footed shot from outside the box misses to the right.\n",
        "Attempt saved. Stephen Arthurworrey (Yeovil Town) right footed shot from the centre of the box is saved in the centre of the goal.\n",
        "Foul by Jamar Loza (Yeovil Town).\n",
        "Josh Brownhill (Preston North End) wins a free kick in the attacking half.\n",
        "Attempt missed. Liam Shephard (Yeovil Town) left footed shot from long range on the right misses to the right.\n",
        "Liam Shephard (Yeovil Town) wins a free kick in the defensive half.\n",
        "Foul by Paul Gallagher (Preston North End).\n",
        "Foul by Sam Foley (Yeovil Town).\n",
        "Paul Gallagher (Preston North End) wins a free kick in the attacking half.\n",
        "Attempt missed. Jermaine Beckford (Preston North End) left footed shot from outside the box misses to the right.\n",
        "Attempt saved. Sam Foley (Yeovil Town) right footed shot from outside the box is saved in the bottom right corner.\n",
        "Kieffer Moore (Yeovil Town) wins a free kick in the defensive half.\n",
        "Foul by Scott Laird (Preston North End).\n",
        "Goal!     Goal!  Preston North End 0, Yeovil Town 1. Gozie Ugwu (Yeovil Town) right footed shot from the centre of the box to the bottom left corner.\n",
        "Half Time    First Half ends, Preston North End 0, Yeovil Town 1.\n",
        "Half Time comment ?? Half Time    First Half ends, Preston North End 0, Yeovil Town 1.\n",
        "Substitution     Substitution, Preston North End. Scott Wiseman replaces Bailey Wright.\n",
        "Second Half begins Preston North End 0, Yeovil Town 1.\n",
        "Gozie Ugwu (Yeovil Town) wins a free kick in the defensive half.\n",
        "Foul by Scott Wiseman (Preston North End).\n",
        "Corner,  Yeovil Town. Conceded by John Welsh.\n",
        "Attempt missed. Gozie Ugwu (Yeovil Town) right footed shot from outside the box is close, but misses to the right.\n",
        "Attempt blocked. Scott Wiseman (Preston North End) right footed shot from the centre of the box is blocked.\n",
        "Attempt missed. John Welsh (Preston North End) right footed shot from outside the box is close, but misses to the left.\n",
        "Substitution     Substitution, Yeovil Town. James Hayter replaces Gozie Ugwu because of an injury.\n",
        "Attempt saved. Josh Brownhill (Preston North End) right footed shot from outside the box is saved in the top centre of the goal.\n",
        "Corner,  Preston North End. Conceded by Jed Steer.\n",
        "Attempt blocked. Scott Laird (Preston North End) left footed shot from outside the box is blocked.\n",
        "Corner,  Preston North End. Conceded by Sam Foley.\n",
        "Alex Smith (Yeovil Town) wins a free kick in the defensive half.\n",
        "Foul by Scott Wiseman (Preston North End).\n",
        "Attempt saved. Scott Laird (Preston North End) left footed shot from outside the box is saved in the top centre of the goal.\n",
        "Corner,  Preston North End. Conceded by Stephen Arthurworrey.\n",
        "Attempt blocked. Scott Wiseman (Preston North End) right footed shot from the right side of the box is blocked.\n",
        "Corner,  Preston North End. Conceded by Sam Foley.\n",
        "Corner,  Preston North End. Conceded by Sam Foley.\n",
        "Corner,  Preston North End. Conceded by Liam Shephard.\n",
        "Substitution     Substitution, Preston North End. Sylvain Ebanks-Blake replaces Jermaine Beckford.\n",
        "Substitution     Substitution, Preston North End. Kyel Reid replaces Josh Brownhill.\n",
        "Substitution     Substitution, Yeovil Town. Sam Hoskins replaces Jamar Loza because of an injury.\n",
        "Corner,  Preston North End. Conceded by Kieffer Moore.\n",
        "Attempt missed. Tom Clarke (Preston North End) header from the centre of the box is close, but misses to the left.\n",
        "Foul by John Welsh (Preston North End).\n",
        "James Hayter (Yeovil Town) wins a free kick in the attacking half.\n",
        "Corner,  Yeovil Town. Conceded by Scott Wiseman.\n",
        "Corner,  Yeovil Town. Conceded by Kevin Davies.\n",
        "Attempt missed. Stephen Arthurworrey (Yeovil Town) header from very close range is close, but misses to the left following a corner.\n",
        "Foul by Kieffer Moore (Yeovil Town).\n",
        "Kevin Davies (Preston North End) wins a free kick in the attacking half.\n",
        "Goal!     Goal!  Preston North End 1, Yeovil Town 1. Sylvain Ebanks-Blake (Preston North End) right footed shot from the left side of the six yard box to the centre of the goal. Assisted by Kevin Davies.\n",
        "Corner,  Preston North End. Conceded by Kieffer Moore.\n",
        "Foul by Sam Hoskins (Yeovil Town).\n",
        "Paul Huntington (Preston North End) wins a free kick on the right wing.\n",
        "Foul by Kieffer Moore (Yeovil Town).\n",
        "Kevin Davies (Preston North End) wins a free kick in the defensive half.\n",
        "Booking     Kieffer Moore (Yeovil Town) is shown the yellow card.\n",
        "Substitution     Substitution, Yeovil Town. James Berrett replaces Alex Smith.\n",
        "Corner,  Preston North End. Conceded by Sam Foley.\n",
        "Attempt missed. Sylvain Ebanks-Blake (Preston North End) right footed shot from the centre of the box is just a bit too high.\n",
        "Kieffer Moore (Yeovil Town) wins a free kick in the defensive half.\n",
        "Foul by Kevin Davies (Preston North End).\n",
        "Foul by James Hayter (Yeovil Town).\n",
        "Sylvain Ebanks-Blake (Preston North End) wins a free kick in the defensive half.\n",
        "Foul by Nathan Smith (Yeovil Town).\n",
        "Scott Wiseman (Preston North End) wins a free kick on the right wing.\n",
        "Booking     Nathan Smith (Yeovil Town) is shown the yellow card.\n",
        "(Yeovil Town) wins a free kick in the attacking half.\n",
        "Foul by Tom Clarke (Preston North End).\n",
        "Full Time   Second Half ends, Preston North End 1, Yeovil Town 1.\n",
        "Full Time comment ?? Full Time   Second Half ends, Preston North End 1, Yeovil Town 1.\n",
        "Full Time   Match ends, Preston North End 1, Yeovil Town 1.\n",
        "Full Time comment ?? Full Time   Match ends, Preston North End 1, Yeovil Town 1.\n"
       ]
      }
     ],
     "prompt_number": 15
    },
    {
     "cell_type": "markdown",
     "metadata": {},
     "source": [
      "*Type of attempt:* split on '.' [0] split on ' ' [1]  \n",
      "*Player involved:* split on '.' [1] [0: index of '('] Could use -1 or strip  \n",
      "*Team:* split on '.' [1] [index of '(' + 1 : index of ']']  \n",
      "*Shot type:* split on '.' [1] [index of ']' + 1 : index of 'from']  \n",
      "\n",
      "### Find the zone  \n",
      "if type is 'missed' from 'from' to 'is' _\n",
      "  \n",
      "### Are all saves in the cehtre of the goal?"
     ]
    },
    {
     "cell_type": "code",
     "collapsed": false,
     "input": [
      "#incidents.reverse() \n",
      "for i in incidents:\n",
      "    if i[0] in['Attempt','Goal']:\n",
      "        first = i[1].split('.')\n",
      "        attempt_type = first[0].split(' ')[1]\n",
      "        \n",
      "        # important indices\n",
      "        left_paren = first[1].index('(')\n",
      "        right_paren = first[1].index(')')\n",
      "        \n",
      "        player = first[1][ : left_paren ].strip()\n",
      "        team = first[1][ left_paren+1 : right_paren ]\n",
      "        shot_type = first[1][ right_paren + 1 : first[1].index('from')]\n",
      "        \n",
      "        zone = 'zone'\n",
      "        outcome = 'outcome'\n",
      "        shot_string = first[1].split(' from ')[1]\n",
      "        splits = [' is ', ' misses ', ' saved ']\n",
      "        \n",
      "        # Now split on ' is ', ' misses ', or ' saved '\n",
      "        for split in splits:\n",
      "            if shot_string.find(split) > 0:\n",
      "                zone, outcome = shot_string.split(split)\n",
      "        \n",
      "        \n",
      "        #print i[1]\n",
      "        print shot_string\n",
      "        #print attempt_type, player, team, shot_type\n",
      "        print zone , \" ++ \", outcome"
     ],
     "language": "python",
     "metadata": {},
     "outputs": [
      {
       "output_type": "stream",
       "stream": "stdout",
       "text": [
        "outside the box is too high\n",
        "outside the box  ++  too high\n",
        "the centre of the box is too high\n",
        "the centre of the box  ++  too high\n",
        "outside the box misses to the right\n",
        "outside the box  ++  to the right\n",
        "the centre of the box is too high\n",
        "the centre of the box  ++  too high\n",
        "the centre of the box is close, but misses to the left\n",
        "the centre of the box is close, but  ++  to the left\n",
        "outside the box misses to the left\n",
        "outside the box  ++  to the left\n",
        "outside the box is too high\n",
        "outside the box  ++  too high\n",
        "outside the box is close, but misses to the left\n",
        "outside the box is close, but  ++  to the left\n",
        "outside the box misses to the right\n",
        "outside the box  ++  to the right\n",
        "the centre of the box is saved in the centre of the goal\n",
        "the centre of the box is  ++  in the centre of the goal\n",
        "long range on the right misses to the right\n",
        "long range on the right  ++  to the right\n",
        "outside the box misses to the right\n",
        "outside the box  ++  to the right\n",
        "outside the box is saved in the bottom right corner\n",
        "outside the box is  ++  in the bottom right corner\n",
        "the centre of the box to the bottom left corner\n",
        "zone  ++  outcome\n",
        "outside the box is close, but misses to the right\n",
        "outside the box is close, but  ++  to the right\n",
        "the centre of the box is blocked\n",
        "the centre of the box  ++  blocked\n",
        "outside the box is close, but misses to the left\n",
        "outside the box is close, but  ++  to the left\n",
        "outside the box is saved in the top centre of the goal\n",
        "outside the box is  ++  in the top centre of the goal\n",
        "outside the box is blocked\n",
        "outside the box  ++  blocked\n",
        "outside the box is saved in the top centre of the goal\n",
        "outside the box is  ++  in the top centre of the goal\n",
        "the right side of the box is blocked\n",
        "the right side of the box  ++  blocked\n",
        "the centre of the box is close, but misses to the left\n",
        "the centre of the box is close, but  ++  to the left\n",
        "very close range is close, but misses to the left following a corner\n",
        "very close range is close, but  ++  to the left following a corner\n",
        "the left side of the six yard box to the centre of the goal\n",
        "zone  ++  outcome\n",
        "the centre of the box is just a bit too high\n",
        "the centre of the box  ++  just a bit too high\n"
       ]
      }
     ],
     "prompt_number": 16
    },
    {
     "cell_type": "code",
     "collapsed": false,
     "input": [
      "print \" \".join([p.text for p in result_div.find_all('p') if not 'JavaS' in p.text])"
     ],
     "language": "python",
     "metadata": {},
     "outputs": [
      {
       "output_type": "stream",
       "stream": "stdout",
       "text": [
        "    Preston came from behind to draw with bottom club Yeovil Town, but missed the chance to move third in League One.\n",
        "     Gozie Ugwu netted his second goal in as many games to put the Glovers ahead just before half-time, much to the delight of their 73 travelling fans.\n",
        "     But the hosts drew level when substitute Sylvan Ebanks-Blake rounded goalkeeper Jed Steer.\n",
        "     Preston are now without a league win since Boxing Day and are seven points off the automatic promotion spots.\n",
        "     Yeovil, meanwhile, remain at the foot of the table but are only two points from safety.\n",
        "      Yeovil Town manager Gary Johnson told BBC Somerset:\n",
        "\n",
        " Johnson on Preston v Yeovil Town     \"I enjoyed the first half as I think we took the game to them. We deserved the goal.\n",
        "     \"In the second half, Preston showed their Championship qualities - getting in cross after cross.\n",
        "     \"We dealt with most of them but didn't deal with one, but then we saw the game out well.\n",
        "     \"We'd have taken 1-1 but we were disappointed as we were 1-0 up.\"\n",
        "     Full Time   Match ends, Preston North End 1, Yeovil Town 1.      Full Time   Second Half ends, Preston North End 1, Yeovil Town 1.      Foul by Tom Clarke (Preston North End).      (Yeovil Town) wins a free kick in the attacking half.    Booking     Nathan Smith (Yeovil Town) is shown the yellow card.      Scott Wiseman (Preston North End) wins a free kick on the right wing.      Foul by Nathan Smith (Yeovil Town).      Sylvain Ebanks-Blake (Preston North End) wins a free kick in the defensive half.      Foul by James Hayter (Yeovil Town).      Foul by Kevin Davies (Preston North End).      Kieffer Moore (Yeovil Town) wins a free kick in the defensive half.      Attempt missed. Sylvain Ebanks-Blake (Preston North End) right footed shot from the centre of the box is just a bit too high.      Corner,  Preston North End. Conceded by Sam Foley.    Substitution     Substitution, Yeovil Town. James Berrett replaces Alex Smith.    Booking     Kieffer Moore (Yeovil Town) is shown the yellow card.      Kevin Davies (Preston North End) wins a free kick in the defensive half.      Foul by Kieffer Moore (Yeovil Town).      Paul Huntington (Preston North End) wins a free kick on the right wing.      Foul by Sam Hoskins (Yeovil Town).      Corner,  Preston North End. Conceded by Kieffer Moore.    Goal!     Goal!  Preston North End 1, Yeovil Town 1. Sylvain Ebanks-Blake (Preston North End) right footed shot from the left side of the six yard box to the centre of the goal. Assisted by Kevin Davies.      Kevin Davies (Preston North End) wins a free kick in the attacking half.      Foul by Kieffer Moore (Yeovil Town).      Attempt missed. Stephen Arthurworrey (Yeovil Town) header from very close range is close, but misses to the left following a corner.      Corner,  Yeovil Town. Conceded by Kevin Davies.      Corner,  Yeovil Town. Conceded by Scott Wiseman.      James Hayter (Yeovil Town) wins a free kick in the attacking half.      Foul by John Welsh (Preston North End).      Attempt missed. Tom Clarke (Preston North End) header from the centre of the box is close, but misses to the left.      Corner,  Preston North End. Conceded by Kieffer Moore.    Substitution     Substitution, Yeovil Town. Sam Hoskins replaces Jamar Loza because of an injury.    Substitution     Substitution, Preston North End. Kyel Reid replaces Josh Brownhill.    Substitution     Substitution, Preston North End. Sylvain Ebanks-Blake replaces Jermaine Beckford.      Corner,  Preston North End. Conceded by Liam Shephard.      Corner,  Preston North End. Conceded by Sam Foley.      Corner,  Preston North End. Conceded by Sam Foley.      Attempt blocked. Scott Wiseman (Preston North End) right footed shot from the right side of the box is blocked.      Corner,  Preston North End. Conceded by Stephen Arthurworrey.      Attempt saved. Scott Laird (Preston North End) left footed shot from outside the box is saved in the top centre of the goal.      Foul by Scott Wiseman (Preston North End).      Alex Smith (Yeovil Town) wins a free kick in the defensive half.      Corner,  Preston North End. Conceded by Sam Foley.      Attempt blocked. Scott Laird (Preston North End) left footed shot from outside the box is blocked.      Corner,  Preston North End. Conceded by Jed Steer.      Attempt saved. Josh Brownhill (Preston North End) right footed shot from outside the box is saved in the top centre of the goal.    Substitution     Substitution, Yeovil Town. James Hayter replaces Gozie Ugwu because of an injury.      Attempt missed. John Welsh (Preston North End) right footed shot from outside the box is close, but misses to the left.      Attempt blocked. Scott Wiseman (Preston North End) right footed shot from the centre of the box is blocked.      Attempt missed. Gozie Ugwu (Yeovil Town) right footed shot from outside the box is close, but misses to the right.      Corner,  Yeovil Town. Conceded by John Welsh.      Foul by Scott Wiseman (Preston North End).      Gozie Ugwu (Yeovil Town) wins a free kick in the defensive half.        Second Half begins Preston North End 0, Yeovil Town 1.    Substitution     Substitution, Preston North End. Scott Wiseman replaces Bailey Wright.      Half Time    First Half ends, Preston North End 0, Yeovil Town 1.    Goal!     Goal!  Preston North End 0, Yeovil Town 1. Gozie Ugwu (Yeovil Town) right footed shot from the centre of the box to the bottom left corner.      Foul by Scott Laird (Preston North End).      Kieffer Moore (Yeovil Town) wins a free kick in the defensive half.      Attempt saved. Sam Foley (Yeovil Town) right footed shot from outside the box is saved in the bottom right corner.      Attempt missed. Jermaine Beckford (Preston North End) left footed shot from outside the box misses to the right.      Paul Gallagher (Preston North End) wins a free kick in the attacking half.      Foul by Sam Foley (Yeovil Town).      Foul by Paul Gallagher (Preston North End).      Liam Shephard (Yeovil Town) wins a free kick in the defensive half.      Attempt missed. Liam Shephard (Yeovil Town) left footed shot from long range on the right misses to the right.      Josh Brownhill (Preston North End) wins a free kick in the attacking half.      Foul by Jamar Loza (Yeovil Town).      Attempt saved. Stephen Arthurworrey (Yeovil Town) right footed shot from the centre of the box is saved in the centre of the goal.      Attempt missed. Josh Brownhill (Preston North End) right footed shot from outside the box misses to the right.      Attempt missed. Kieffer Moore (Yeovil Town) right footed shot from outside the box is close, but misses to the left.      Foul by Kevin Davies (Preston North End).      Alex Smith (Yeovil Town) wins a free kick in the defensive half.      Attempt missed. Sam Foley (Yeovil Town) left footed shot from outside the box is too high.      Attempt missed. Paul Gallagher (Preston North End) right footed shot from outside the box misses to the left.      Tom Clarke (Preston North End) wins a free kick in the attacking half.      Foul by Sam Foley (Yeovil Town).      Jermaine Beckford (Preston North End) wins a free kick in the defensive half.      Foul by Stephen Arthurworrey (Yeovil Town).      Attempt missed. Kevin Davies (Preston North End) header from the centre of the box is close, but misses to the left.      Attempt missed. Jermaine Beckford (Preston North End) header from the centre of the box is too high from a direct free kick.      Foul by Stephen Arthurworrey (Yeovil Town).      Kevin Davies (Preston North End) wins a free kick in the defensive half.      Attempt missed. Alex Smith (Yeovil Town) left footed shot from outside the box misses to the right.      Foul by Paul Gallagher (Preston North End).      Liam Shephard (Yeovil Town) wins a free kick in the defensive half.      Attempt missed. Jermaine Beckford (Preston North End) right footed shot from the centre of the box is too high.      Scott Laird (Preston North End) wins a free kick on the left wing.      Foul by Liam Shephard (Yeovil Town).      Attempt missed. Paul Gallagher (Preston North End) right footed shot from outside the box is too high.        First Half begins.      Lineups are announced and players are warming up.  Live data and text provided by our data suppliers\n"
       ]
      }
     ],
     "prompt_number": 17
    },
    {
     "cell_type": "code",
     "collapsed": false,
     "input": [
      "\n",
      "print result_soup.find('div', {'id':'line-up-wrapper'}).text"
     ],
     "language": "python",
     "metadata": {},
     "outputs": [
      {
       "output_type": "stream",
       "stream": "stdout",
       "text": [
        "    Lineup, Bookings (2) & Substitutions (6)    Preston North End     34  Johnstone      05  Clarke      23  Huntington      06  Wright      (Wiseman - 45'  )      07  Humphrey      30  Brownhill      (Reid - 66'  )      12  Gallagher      19  Welsh      03  Laird      09  Davies      10  Beckford      (Ebanks-Blake - 66'  )    Substitutes     04  Wiseman      08  Kilkenny      17  Reid      21  Stuckmann      22  King      31  Browne      40  Ebanks-Blake      Yeovil Town     30  Steer      03  Smith  Booked     13  Moore  Booked     26  Arthurworrey      15  Ofori-Twumasi      28  Smith      (Berrett - 85'  )      04  Edwards      32  Shephard      11  Foley      25  Ugwu      (Hayter - 53'  )      18  Loza      (Hoskins - 67'  )    Substitutes     08  Berrett      09  Hayter      12  Krysiak      14  Hoskins      22  Stewart       Ref: Chris Sarginson   Att: 7,491    \n"
       ]
      }
     ],
     "prompt_number": 18
    },
    {
     "cell_type": "code",
     "collapsed": false,
     "input": [
      "def fib(index, prev=1, list=[]):\n",
      "    if index == 0:\n",
      "        return list\n",
      "    \n",
      "    if not list:\n",
      "        return fib(index-1, prev, [1])\n",
      "    else:\n",
      "        #prev = 1 list=\n",
      "        list.append(prev)\n",
      "        return fib(index-1, list[-1]+list[-2], list )\n",
      "    \n",
      "    \n",
      "# 1 []\n",
      "# 1 [1]\n",
      "# 2 [1,1]\n",
      "\n",
      "print fib(12)"
     ],
     "language": "python",
     "metadata": {},
     "outputs": [
      {
       "output_type": "stream",
       "stream": "stdout",
       "text": [
        "[1, 1, 2, 3, 5, 8, 13, 21, 34, 55, 89, 144]\n"
       ]
      }
     ],
     "prompt_number": 35
    }
   ],
   "metadata": {}
  }
 ]
}