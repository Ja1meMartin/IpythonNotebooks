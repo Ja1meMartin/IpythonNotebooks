{
 "metadata": {
  "name": "",
  "signature": "sha256:b79d728f2669c9221be804df9a78cda8751ba0ae74e418b22bc09c01f73cffca"
 },
 "nbformat": 3,
 "nbformat_minor": 0,
 "worksheets": [
  {
   "cells": [
    {
     "cell_type": "code",
     "collapsed": false,
     "input": [
      "import urllib2\n",
      "from bs4 import BeautifulSoup\n",
      "\n",
      "\n",
      "\n",
      "def get_soup(end = \"/academy/players\", base = \"http://www.arsenal.com\"):\n",
      "    address = base + end\n",
      "    url = urllib2.urlopen(address)\n",
      "    content = url.read()\n",
      "    return  BeautifulSoup(content)\n",
      "\n",
      "soup = get_soup()"
     ],
     "language": "python",
     "metadata": {},
     "outputs": [],
     "prompt_number": 10
    },
    {
     "cell_type": "code",
     "collapsed": false,
     "input": [
      "figures = soup.findAll(\"figure\")\n",
      "print len(figures)"
     ],
     "language": "python",
     "metadata": {},
     "outputs": [
      {
       "output_type": "stream",
       "stream": "stdout",
       "text": [
        "40\n"
       ]
      }
     ],
     "prompt_number": 2
    },
    {
     "cell_type": "code",
     "collapsed": false,
     "input": [
      "f = figures[33]\n",
      "link = f.find(\"a\")['href']\n",
      "s = get_soup(link)\n",
      "print 5"
     ],
     "language": "python",
     "metadata": {},
     "outputs": [
      {
       "output_type": "stream",
       "stream": "stdout",
       "text": [
        "5\n"
       ]
      }
     ],
     "prompt_number": 18
    },
    {
     "cell_type": "code",
     "collapsed": false,
     "input": [
      "print s.find(\"table\").text"
     ],
     "language": "python",
     "metadata": {},
     "outputs": [
      {
       "output_type": "stream",
       "stream": "stdout",
       "text": [
        "Jon Toral Profile\n",
        "Born\n",
        "\n",
        "                February 05, 1995Reus, Spain            \n",
        "Position:\n",
        "Midfielder\n",
        "Squad Number:\n",
        "56\n",
        "Previous Club(s)\n",
        "\n",
        "\n"
       ]
      }
     ],
     "prompt_number": 19
    },
    {
     "cell_type": "code",
     "collapsed": false,
     "input": [
      "from calendar import month_name\n",
      "\n",
      "n = range(1,10)\n",
      "print n\n",
      "n = [\"0\" + str(i) for i in n]\n",
      "print n\n",
      "n = n +[\"10\",\"11\",\"12\"]\n",
      "print n\n",
      "print month_name[1]"
     ],
     "language": "python",
     "metadata": {},
     "outputs": [
      {
       "output_type": "stream",
       "stream": "stdout",
       "text": [
        "[1, 2, 3, 4, 5, 6, 7, 8, 9]\n",
        "['01', '02', '03', '04', '05', '06', '07', '08', '09']\n",
        "['01', '02', '03', '04', '05', '06', '07', '08', '09', '10', '11', '12']\n",
        "January\n"
       ]
      }
     ],
     "prompt_number": 27
    }
   ],
   "metadata": {}
  }
 ]
}