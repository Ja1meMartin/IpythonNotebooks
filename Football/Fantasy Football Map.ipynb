{
 "metadata": {
  "name": "",
  "signature": "sha256:314ff3512e9d8ab19e602d0cb487c2189cea9163884eb3060f203cc105a7a53e"
 },
 "nbformat": 3,
 "nbformat_minor": 0,
 "worksheets": [
  {
   "cells": [
    {
     "cell_type": "markdown",
     "metadata": {},
     "source": [
      "# Dashboard\n",
      "- Leagues you run\n",
      "- Leagues you are in\n",
      "- Leagues you are invited to\n",
      "\n",
      "# Leagues\n",
      "- Your Squad\n",
      "- Other Squads\n",
      "- Schedule\n",
      "- Draft\n",
      "- News Feed\n",
      "- Admin\n"
     ]
    },
    {
     "cell_type": "markdown",
     "metadata": {},
     "source": [
      "## League Admin"
     ]
    },
    {
     "cell_type": "markdown",
     "metadata": {},
     "source": [
      "# Todo List\n",
      "- Find out how to schedule\n",
      "- [Web Sockets](http://blog.miguelgrinberg.com/post/easy-websockets-with-flask-and-gevent): \n",
      "maybe to  add real-time updates of players scores\n",
      "-\n",
      "\n",
      "# Incorporation List\n",
      "- Get ESPN Gamecast Number: returns the matches on any given day"
     ]
    }
   ],
   "metadata": {}
  }
 ]
}