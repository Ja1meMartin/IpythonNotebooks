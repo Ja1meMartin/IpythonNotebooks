{
 "metadata": {
  "name": "",
  "signature": "sha256:123e149ea17365505f5c790143a0152b33e60ff654e9df475540c055001ca199"
 },
 "nbformat": 3,
 "nbformat_minor": 0,
 "worksheets": [
  {
   "cells": [
    {
     "cell_type": "code",
     "collapsed": false,
     "input": [
      "def increment_date(date):\n",
      "    year, month, day = date\n",
      "    \n",
      "    if day < 28 or day==29:\n",
      "        return ( day+1, month , year )\n",
      "    \n",
      "    if day == 28: \n",
      "        if month == 2:\n",
      "            return ( 1, 3, 2015 )\n",
      "        else:\n",
      "            return ( day+1, month , year )\n",
      "    \n",
      "    if day == 30:\n",
      "        if month in [4,6,9,11]:\n",
      "            return ( 1, month+1, year)\n",
      "        else:\n",
      "            return ( day+1, month , year )\n",
      "    \n",
      "    if day == 31:\n",
      "        if month == 12:\n",
      "            return (1,1,15)\n",
      "        else:\n",
      "            return (1, month+1, year)"
     ],
     "language": "python",
     "metadata": {},
     "outputs": [],
     "prompt_number": 19
    },
    {
     "cell_type": "code",
     "collapsed": false,
     "input": [
      "def datestring(date):\n",
      "    year, month, day = date\n",
      "    \n",
      "    year = str(year)\n",
      "    \n",
      "    if month < 10:\n",
      "        month = \"0\"+str(month)\n",
      "    else:\n",
      "        month = str(month)\n",
      "        \n",
      "    if day < 10:\n",
      "        day = \"0\"+str(day)\n",
      "    else:\n",
      "        day = str(day)\n",
      "        \n",
      "    print year+month+day\n",
      "    return year+month+day"
     ],
     "language": "python",
     "metadata": {},
     "outputs": [],
     "prompt_number": 20
    },
    {
     "cell_type": "markdown",
     "metadata": {},
     "source": [
      "# Need to get the date back ot after adding time delta"
     ]
    },
    {
     "cell_type": "code",
     "collapsed": false,
     "input": [
      "import datetime\n",
      "# Get a date object\n",
      "today = datetime.date.today() + datetime.timedelta(days=12)\n",
      " \n",
      "# General functions \n",
      "print \"Year: %d\" % today.year\n",
      "print \"Month: %d\" % today.month\n",
      "print \"Day: %d\" % today.day\n",
      "print \"Weekday: %d\" % today.weekday() # Day of week Monday = 0, Sunday = 6"
     ],
     "language": "python",
     "metadata": {},
     "outputs": [
      {
       "output_type": "stream",
       "stream": "stdout",
       "text": [
        "Year: 2014\n",
        "Month: 11\n",
        "Day: 22\n",
        "Weekday: 5\n"
       ]
      }
     ],
     "prompt_number": 21
    },
    {
     "cell_type": "code",
     "collapsed": false,
     "input": [
      "import urllib2\n",
      "from bs4 import BeautifulSoup\n",
      "\n",
      "date =(today.year,today.month, today.day)\n",
      "ds = datestring(date)\n",
      "address = \"http://www.espnfc.com/barclays-premier-league/23/scores?date=\"+ ds\n",
      "print address\n",
      "\n",
      "url = urllib2.urlopen(address)\n",
      "content = url.read()\n",
      "soup = BeautifulSoup(content)\n",
      "\n"
     ],
     "language": "python",
     "metadata": {},
     "outputs": [
      {
       "output_type": "stream",
       "stream": "stdout",
       "text": [
        "20141122\n",
        "http://www.espnfc.com/barclays-premier-league/23/scores?date=20141122\n"
       ]
      }
     ],
     "prompt_number": 22
    },
    {
     "cell_type": "code",
     "collapsed": false,
     "input": [
      "scoredivs = soup.findAll(\"div\", { \"class\":\"score full\" })\n",
      "\n"
     ],
     "language": "python",
     "metadata": {},
     "outputs": [],
     "prompt_number": 23
    },
    {
     "cell_type": "code",
     "collapsed": false,
     "input": [
      "lines = str(scoredivs[0]).split(\"\\n\")\n",
      "\n",
      "\n",
      "def get_match_id(line):\n",
      "    start=line.index(\"id\")+4\n",
      "    end = -2\n",
      "    \n",
      "    match_id = line[start:end]\n",
      "    print line, match_id\n",
      "    \n",
      "get_match_id(lines[0])"
     ],
     "language": "python",
     "metadata": {},
     "outputs": [
      {
       "output_type": "stream",
       "stream": "stdout",
       "text": [
        "<div class=\"score full\" data-gameid=\"395659\"> 395659\n"
       ]
      }
     ],
     "prompt_number": 24
    },
    {
     "cell_type": "code",
     "collapsed": false,
     "input": [
      "for s in scoredivs:\n",
      "    l = str(s).split(\"\\n\")\n",
      "    get_match_id(l[0])\n",
      "    "
     ],
     "language": "python",
     "metadata": {},
     "outputs": [
      {
       "output_type": "stream",
       "stream": "stdout",
       "text": [
        "<div class=\"score full\" data-gameid=\"395659\"> 395659\n",
        "<div class=\"score full\" data-gameid=\"395660\"> 395660\n",
        "<div class=\"score full\" data-gameid=\"395786\"> 395786\n",
        "<div class=\"score full\" data-gameid=\"395657\"> 395657\n",
        "<div class=\"score full\" data-gameid=\"395655\"> 395655\n",
        "<div class=\"score full\" data-gameid=\"395652\"> 395652\n",
        "<div class=\"score full\" data-gameid=\"395654\"> 395654\n"
       ]
      }
     ],
     "prompt_number": 25
    },
    {
     "cell_type": "code",
     "collapsed": false,
     "input": [
      "for s in scoredivs:\n",
      "    i = s.findAll(\"div\", {'class':'team-name'})\n",
      "    \n",
      "    \n",
      "    #print \"\\n\\n\\n\"\n",
      "    \n",
      "    print [im.text.strip() for im in i]\n",
      "        \n",
      "    print \"\\n\\n\\n\""
     ],
     "language": "python",
     "metadata": {},
     "outputs": [
      {
       "output_type": "stream",
       "stream": "stdout",
       "text": [
        "[u'Chelsea', u'West Bromwich Albion']\n",
        "\n",
        "\n",
        "\n",
        "\n",
        "[u'Everton', u'West Ham United']\n",
        "\n",
        "\n",
        "\n",
        "\n",
        "[u'Leicester City', u'Sunderland']\n",
        "\n",
        "\n",
        "\n",
        "\n",
        "[u'Manchester City', u'Swansea City']\n",
        "\n",
        "\n",
        "\n",
        "\n",
        "[u'Newcastle United', u'Queens Park Rangers']\n",
        "\n",
        "\n",
        "\n",
        "\n",
        "[u'Stoke City', u'Burnley']\n",
        "\n",
        "\n",
        "\n",
        "\n",
        "[u'Arsenal', u'Manchester United']\n",
        "\n",
        "\n",
        "\n",
        "\n"
       ]
      }
     ],
     "prompt_number": 26
    },
    {
     "cell_type": "raw",
     "metadata": {},
     "source": []
    }
   ],
   "metadata": {}
  }
 ]
}