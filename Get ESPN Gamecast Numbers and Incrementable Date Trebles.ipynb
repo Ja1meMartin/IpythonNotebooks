{
 "metadata": {
  "name": "",
  "signature": "sha256:fe2f4021bcad81c1e594d57f30dc06638ddd810d9806f7346d1d7cf734d6cd47"
 },
 "nbformat": 3,
 "nbformat_minor": 0,
 "worksheets": [
  {
   "cells": [
    {
     "cell_type": "markdown",
     "metadata": {},
     "source": [
      "Given a treble (x,y,z) representing (year, month, day) what should we get back when we increment day?"
     ]
    },
    {
     "cell_type": "code",
     "collapsed": false,
     "input": [
      "def increment_date(date):\n",
      "    year, month, day = date\n",
      "    \n",
      "    if day < 28 or day==29:\n",
      "        return ( day+1, month , year )\n",
      "    \n",
      "    if day == 28: \n",
      "        if month == 2:\n",
      "            return ( 1, 3, 2015 )\n",
      "        else:\n",
      "            return ( day+1, month , year )\n",
      "    \n",
      "    if day == 30:\n",
      "        if month in [4,6,9,11]:\n",
      "            return ( 1, month+1, year)\n",
      "        else:\n",
      "            return ( day+1, month , year )\n",
      "    \n",
      "    if day == 31:\n",
      "        if month == 12:\n",
      "            return (1,1,15)\n",
      "        else:\n",
      "            return (1, month+1, year)"
     ],
     "language": "python",
     "metadata": {},
     "outputs": [],
     "prompt_number": 5
    },
    {
     "cell_type": "markdown",
     "metadata": {},
     "source": [
      "Convert date treble from above to a string (adding a leading 0 to dingle-figure numbers)"
     ]
    },
    {
     "cell_type": "code",
     "collapsed": false,
     "input": [
      "def datestring(date):\n",
      "    year, month, day = date\n",
      "    \n",
      "    year = str(year)\n",
      "    \n",
      "    if month < 10:\n",
      "        month = \"0\"+str(month)\n",
      "    else:\n",
      "        month = str(month)\n",
      "        \n",
      "    if day < 10:\n",
      "        day = \"0\"+str(day)\n",
      "    else:\n",
      "        day = str(day)\n",
      "        \n",
      "    print year+month+day\n",
      "    return year+month+day"
     ],
     "language": "python",
     "metadata": {},
     "outputs": [],
     "prompt_number": 6
    },
    {
     "cell_type": "code",
     "collapsed": false,
     "input": [
      "import urllib2\n",
      "from bs4 import BeautifulSoup\n",
      "\n",
      "date =(2014,11,1)\n",
      "ds = datestring(date)\n",
      "address = \"http://www.espnfc.com/barclays-premier-league/23/scores?date=\"+ ds\n",
      "print address\n",
      "\n",
      "url = urllib2.urlopen(address)\n",
      "content = url.read()\n",
      "soup = BeautifulSoup(content)\n",
      "\n"
     ],
     "language": "python",
     "metadata": {},
     "outputs": [
      {
       "output_type": "stream",
       "stream": "stdout",
       "text": [
        "20141101\n",
        "http://www.espnfc.com/barclays-premier-league/23/scores?date=20141101\n"
       ]
      }
     ],
     "prompt_number": 7
    },
    {
     "cell_type": "code",
     "collapsed": false,
     "input": [
      "scoredivs = soup.findAll(\"div\", { \"class\":\"score full\" })\n",
      "\n"
     ],
     "language": "python",
     "metadata": {},
     "outputs": [],
     "prompt_number": 8
    },
    {
     "cell_type": "code",
     "collapsed": false,
     "input": [
      "lines = str(scoredivs[0]).split(\"\\n\")\n",
      "\n",
      "\n",
      "def get_match_id(line):\n",
      "    start=line.index(\"id\")+4\n",
      "    end = -2\n",
      "    \n",
      "    match_id = line[start:end]\n",
      "    print line, match_id\n",
      "    \n",
      "get_match_id(lines[0])"
     ],
     "language": "python",
     "metadata": {},
     "outputs": [
      {
       "output_type": "stream",
       "stream": "stdout",
       "text": [
        "<div class=\"score full\" data-gameid=\"395671\"> 395671\n"
       ]
      }
     ],
     "prompt_number": 9
    },
    {
     "cell_type": "code",
     "collapsed": false,
     "input": [
      "for s in scoredivs:\n",
      "    l = str(s).split(\"\\n\")\n",
      "    get_match_id(l[0])\n",
      "    "
     ],
     "language": "python",
     "metadata": {},
     "outputs": [
      {
       "output_type": "stream",
       "stream": "stdout",
       "text": [
        "<div class=\"score full\" data-gameid=\"395671\"> 395671\n",
        "<div class=\"score full\" data-gameid=\"395670\"> 395670\n",
        "<div class=\"score full\" data-gameid=\"395673\"> 395673\n",
        "<div class=\"score full\" data-gameid=\"395676\"> 395676\n",
        "<div class=\"score full\" data-gameid=\"395674\"> 395674\n",
        "<div class=\"score full\" data-gameid=\"395788\"> 395788\n",
        "<div class=\"score full\" data-gameid=\"395678\"> 395678\n"
       ]
      }
     ],
     "prompt_number": 10
    },
    {
     "cell_type": "code",
     "collapsed": false,
     "input": [
      "for s in scoredivs:\n",
      "    i = s.findAll(\"div\", {'class':'team-name'})\n",
      "    \n",
      "    \n",
      "    #print \"\\n\\n\\n\"\n",
      "    \n",
      "    print [im.text.strip() for im in i]"
     ],
     "language": "python",
     "metadata": {},
     "outputs": [
      {
       "output_type": "stream",
       "stream": "stdout",
       "text": [
        "[u'Newcastle United', u'Liverpool']\n",
        "[u'Arsenal', u'Burnley']\n",
        "[u'Chelsea', u'Queens Park Rangers']\n",
        "[u'Everton', u'Swansea City']\n",
        "[u'Hull City', u'Southampton']\n",
        "[u'Leicester City', u'West Bromwich Albion']\n",
        "[u'Stoke City', u'West Ham United']\n"
       ]
      }
     ],
     "prompt_number": 11
    },
    {
     "cell_type": "raw",
     "metadata": {},
     "source": []
    }
   ],
   "metadata": {}
  }
 ]
}