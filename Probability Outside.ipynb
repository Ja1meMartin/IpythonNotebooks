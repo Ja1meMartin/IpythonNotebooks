{
 "metadata": {
  "name": "",
  "signature": "sha256:74d42b94e2425b3735d3307e3323dee99416613a8dbd35d1fa3c9f4371376fb2"
 },
 "nbformat": 3,
 "nbformat_minor": 0,
 "worksheets": [
  {
   "cells": [
    {
     "cell_type": "code",
     "collapsed": false,
     "input": [
      "%pylab inline\n",
      "from probability import *\n"
     ],
     "language": "python",
     "metadata": {},
     "outputs": [
      {
       "output_type": "stream",
       "stream": "stdout",
       "text": [
        "Populating the interactive namespace from numpy and matplotlib\n"
       ]
      },
      {
       "output_type": "stream",
       "stream": "stderr",
       "text": [
        "WARNING: pylab import has clobbered these variables: ['mpl', 'plot', 'pylab', 'show', 'colors']\n",
        "`%matplotlib` prevents importing * from pylab and numpy\n"
       ]
      }
     ],
     "prompt_number": 8
    },
    {
     "cell_type": "code",
     "collapsed": false,
     "input": [
      "import probability\n",
      "probability?"
     ],
     "language": "python",
     "metadata": {},
     "outputs": [],
     "prompt_number": 12
    },
    {
     "cell_type": "code",
     "collapsed": false,
     "input": [
      "d = Dice()\n",
      "d12 = Dice(12)\n",
      "c = Coin()\n",
      "\n",
      "\n",
      "c = Coin() # created in above cell\n",
      "head_rule = c.heads()\n",
      "\n",
      "print \"Heads is\", head_rule('Heads')\n",
      "print \"Tails is\", head_rule('Tails')\n",
      "\n",
      "t = (c, head_rule)\n",
      "combs(d,d12)"
     ],
     "language": "python",
     "metadata": {},
     "outputs": [
      {
       "output_type": "stream",
       "stream": "stdout",
       "text": [
        "Heads is True\n",
        "Tails is False\n"
       ]
      },
      {
       "metadata": {},
       "output_type": "pyout",
       "prompt_number": 13,
       "text": [
        "[(1, 1),\n",
        " (1, 2),\n",
        " (1, 3),\n",
        " (1, 4),\n",
        " (1, 5),\n",
        " (1, 6),\n",
        " (1, 7),\n",
        " (1, 8),\n",
        " (1, 9),\n",
        " (1, 10),\n",
        " (1, 11),\n",
        " (1, 12),\n",
        " (2, 1),\n",
        " (2, 2),\n",
        " (2, 3),\n",
        " (2, 4),\n",
        " (2, 5),\n",
        " (2, 6),\n",
        " (2, 7),\n",
        " (2, 8),\n",
        " (2, 9),\n",
        " (2, 10),\n",
        " (2, 11),\n",
        " (2, 12),\n",
        " (3, 1),\n",
        " (3, 2),\n",
        " (3, 3),\n",
        " (3, 4),\n",
        " (3, 5),\n",
        " (3, 6),\n",
        " (3, 7),\n",
        " (3, 8),\n",
        " (3, 9),\n",
        " (3, 10),\n",
        " (3, 11),\n",
        " (3, 12),\n",
        " (4, 1),\n",
        " (4, 2),\n",
        " (4, 3),\n",
        " (4, 4),\n",
        " (4, 5),\n",
        " (4, 6),\n",
        " (4, 7),\n",
        " (4, 8),\n",
        " (4, 9),\n",
        " (4, 10),\n",
        " (4, 11),\n",
        " (4, 12),\n",
        " (5, 1),\n",
        " (5, 2),\n",
        " (5, 3),\n",
        " (5, 4),\n",
        " (5, 5),\n",
        " (5, 6),\n",
        " (5, 7),\n",
        " (5, 8),\n",
        " (5, 9),\n",
        " (5, 10),\n",
        " (5, 11),\n",
        " (5, 12),\n",
        " (6, 1),\n",
        " (6, 2),\n",
        " (6, 3),\n",
        " (6, 4),\n",
        " (6, 5),\n",
        " (6, 6),\n",
        " (6, 7),\n",
        " (6, 8),\n",
        " (6, 9),\n",
        " (6, 10),\n",
        " (6, 11),\n",
        " (6, 12)]"
       ]
      }
     ],
     "prompt_number": 13
    },
    {
     "cell_type": "code",
     "collapsed": false,
     "input": [
      "t1 = (d, Dice.function('x<3'))\n",
      "t2 = (c, Coin.heads())\n",
      "t3 = (d, Dice.odd())\n",
      "t4 =(d12, Dice.odd())\n",
      "\n",
      "show(t1,t2, AND)"
     ],
     "language": "python",
     "metadata": {},
     "outputs": [
      {
       "metadata": {},
       "output_type": "display_data",
       "png": "[encoded data removed]",
       "text": [
        "<matplotlib.figure.Figure at 0x99daa20>"
       ]
      }
     ],
     "prompt_number": 10
    }
   ],
   "metadata": {}
  }
 ]
}