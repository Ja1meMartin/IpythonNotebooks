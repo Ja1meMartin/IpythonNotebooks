{
 "metadata": {
  "name": "",
  "signature": "sha256:4f9a48e0c37051f1502aaf0fae1343f313348342a776145460af34f312398aa3"
 },
 "nbformat": 3,
 "nbformat_minor": 0,
 "worksheets": [
  {
   "cells": [
    {
     "cell_type": "code",
     "collapsed": false,
     "input": [
      "from IPython.display import HTML"
     ],
     "language": "python",
     "metadata": {},
     "outputs": [],
     "prompt_number": 9
    },
    {
     "cell_type": "code",
     "collapsed": true,
     "input": [
      "\n",
      "\n",
      "\n",
      "i = \"\"\"\n",
      "\n",
      "<iframe scrolling=\"no\" src=\"http://www.geogebratube.org/material/iframe/id/3723/width/1100/height/878/border/888888/rc/true/ai/true/sdz/true/smb/true/stb/true/stbh/true/ld/true/sri/true/at/preferhtml5\" width=\"1100px\" height=\"878px\" style=\"border:0px;\"\n",
      "data-param-showMenuBar=\"false\"> </iframe>\n",
      "\"\"\"\n",
      "\n",
      "h = HTML(i);h\n",
      "\n"
     ],
     "language": "python",
     "metadata": {},
     "outputs": [
      {
       "html": [
        "\n",
        "\n",
        "<iframe scrolling=\"no\" src=\"http://www.geogebratube.org/material/iframe/id/3723/width/1100/height/878/border/888888/rc/true/ai/true/sdz/true/smb/true/stb/true/stbh/true/ld/true/sri/true/at/preferhtml5\" width=\"1100px\" height=\"878px\" style=\"border:0px;\"\n",
        "data-param-showMenuBar=\"false\"> </iframe>\n"
       ],
       "metadata": {},
       "output_type": "pyout",
       "prompt_number": 10,
       "text": [
        "<IPython.core.display.HTML at 0x38ef2b0>"
       ]
      }
     ],
     "prompt_number": 10
    },
    {
     "cell_type": "code",
     "collapsed": false,
     "input": [
      "i = \"\"\"\n",
      "\n",
      "<iframe src=\"http://www.bbc.co.uk\" width=\"1100px\" height=\"878px\" style=\"border:0px;\"\n",
      "data-param-showMenuBar=\"false\"> </iframe>\n",
      "\"\"\"\n",
      "\n",
      "h = HTML(i);h"
     ],
     "language": "python",
     "metadata": {},
     "outputs": [
      {
       "html": [
        "\n",
        "\n",
        "<iframe src=\"http://www.bbc.co.uk\" width=\"1100px\" height=\"878px\" style=\"border:0px;\"\n",
        "data-param-showMenuBar=\"false\"> </iframe>\n"
       ],
       "metadata": {},
       "output_type": "pyout",
       "prompt_number": 11,
       "text": [
        "<IPython.core.display.HTML at 0x38ef208>"
       ]
      }
     ],
     "prompt_number": 11
    },
    {
     "cell_type": "code",
     "collapsed": false,
     "input": [
      "gta = \"\"\"\n",
      "<iframe src=\"http://davidwees.com/javascript/venndiagrams/\" width =\"800\" height=\"400\">\n",
      "</iframe>\n",
      "\n",
      "\"\"\"\n",
      "\n",
      "g = HTML(gta)\n",
      "g"
     ],
     "language": "python",
     "metadata": {},
     "outputs": [
      {
       "html": [
        "\n",
        "<iframe src=\"http://davidwees.com/javascript/venndiagrams/\" width =\"800\" height=\"400\">\n",
        "</iframe>\n",
        "\n"
       ],
       "metadata": {},
       "output_type": "pyout",
       "prompt_number": 12,
       "text": [
        "<IPython.core.display.HTML at 0x38ef390>"
       ]
      }
     ],
     "prompt_number": 12
    },
    {
     "cell_type": "markdown",
     "metadata": {},
     "source": [
      "#Exercise 1\n",
      "####Remember to begin and end your answers with two dollar signs\n",
      "####Use \\cup and \\cap to get the desired symbols\n",
      "1. How do we find the middle section shared by all elements?\n",
      "$$A \\cap B \\cap C $$"
     ]
    },
    {
     "cell_type": "code",
     "collapsed": false,
     "input": [
      "twitter = \"\"\"\n",
      "<a class=\"twitter-timeline\" href=\"https://twitter.com/search?q=%23edchatie\" data-widget-id=\"393730221423095808\">Tweets about \"#edchatie\"</a>\n",
      "<script>!function(d,s,id){var js,fjs=d.getElementsByTagName(s)[0],p=/^http:/.test(d.location)?'http':'https';if(!d.getElementById(id)){js=d.createElement(s);js.id=id;js.src=p+\"://platform.twitter.com/widgets.js\";fjs.parentNode.insertBefore(js,fjs);}}(document,\"script\",\"twitter-wjs\");</script>\n",
      "\"\"\"\n",
      "\n",
      "t = HTML(twitter)\n"
     ],
     "language": "python",
     "metadata": {},
     "outputs": [],
     "prompt_number": 15
    },
    {
     "cell_type": "code",
     "collapsed": false,
     "input": [
      "youtube = \"\"\"\n",
      "<iframe width=\"640\" height=\"480\" src=\"//www.youtube.com/embed/t_TzRaK9kpU\" frameborder=\"0\" allowfullscreen></iframe>\n",
      "\"\"\"\n",
      "\n",
      "y = HTML(youtube); y"
     ],
     "language": "python",
     "metadata": {},
     "outputs": [
      {
       "html": [
        "\n",
        "<iframe width=\"640\" height=\"480\" src=\"//www.youtube.com/embed/t_TzRaK9kpU\" frameborder=\"0\" allowfullscreen></iframe>\n"
       ],
       "metadata": {},
       "output_type": "pyout",
       "prompt_number": 14,
       "text": [
        "<IPython.core.display.HTML at 0x38ef470>"
       ]
      }
     ],
     "prompt_number": 14
    }
   ],
   "metadata": {}
  }
 ]
}