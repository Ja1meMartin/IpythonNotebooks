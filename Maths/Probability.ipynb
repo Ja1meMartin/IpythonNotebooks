{
 "metadata": {
  "name": "",
  "signature": "sha256:896b51e0210d687429a9f40dfc984452a201894d5314692aba3e78db9747cec4"
 },
 "nbformat": 3,
 "nbformat_minor": 0,
 "worksheets": [
  {
   "cells": [
    {
     "cell_type": "code",
     "collapsed": false,
     "input": [
      "%pylab inline\n",
      "%autocall\n",
      "from matplotlib import mpl,pyplot,colors\n",
      "import numpy as np\n",
      "import itertools"
     ],
     "language": "python",
     "metadata": {},
     "outputs": [
      {
       "output_type": "stream",
       "stream": "stdout",
       "text": [
        "Populating the interactive namespace from numpy and matplotlib\n",
        "Automatic calling is: Smart\n"
       ]
      },
      {
       "output_type": "stream",
       "stream": "stderr",
       "text": [
        "C:\\Anaconda\\lib\\site-packages\\matplotlib\\cbook.py:122: MatplotlibDeprecationWarning: The matplotlib.mpl module was deprecated in version 1.3. Use `import matplotlib as mpl` instead.\n",
        "  warnings.warn(message, mplDeprecation, stacklevel=1)\n"
       ]
      }
     ],
     "prompt_number": 1
    },
    {
     "cell_type": "markdown",
     "metadata": {},
     "source": [
      "The next cell imports the or and and operators. We then give these more convenient names for when we call them in the future."
     ]
    },
    {
     "cell_type": "code",
     "collapsed": false,
     "input": [
      "import operator\n",
      "\n",
      "OR = operator.__or__\n",
      "AND =operator.__and__"
     ],
     "language": "python",
     "metadata": {},
     "outputs": [],
     "prompt_number": 2
    },
    {
     "cell_type": "code",
     "collapsed": false,
     "input": [
      "# list\n",
      "class Prob(object):\n",
      "    def __init__(self, vals):\n",
      "        self.vals = vals\n",
      "        \n",
      "    def values(self):\n",
      "        return self.vals\n",
      "    \n",
      "    def size(self):\n",
      "        return len(self.vals)\n",
      "    \n",
      "    @staticmethod\n",
      "    def function(string):\n",
      "        def f(x):\n",
      "            return eval (string)\n",
      "        return f\n",
      "    \n",
      "    \n",
      "\n",
      "def combs(a,b):\n",
      "    \"\"\"returns all combinations of two probability objects\"\"\"\n",
      "    return list(itertools.product(*[a.values(),b.values()]))   \n",
      "        \n",
      "    \n",
      "class Dice(Prob):\n",
      "    def __init__(self, sides = 6):\n",
      "        Prob.__init__(self, arange(1,sides+1))\n",
      "    \n",
      "    # check if a value is odd\n",
      "    @staticmethod\n",
      "    def odd():\n",
      "        def isOdd(n):\n",
      "            return n % 2 == 1\n",
      "        return isOdd\n",
      "    \n",
      "    # check if a value is even\n",
      "    @staticmethod\n",
      "    def even():\n",
      "        def isEven(n):\n",
      "            return n % 2 == 0\n",
      "        return isEven\n",
      "    \n",
      "    \n",
      "        \n",
      "        \n",
      "class Coin(Prob):\n",
      "    vals = ['Heads', 'Tails']\n",
      "    def __init__(self):\n",
      "        Prob.__init__(self,Coin.vals)\n",
      "    \n",
      "    # check if a coin came up 'Heads'\n",
      "    @staticmethod\n",
      "    def heads():\n",
      "        def isHead(side):\n",
      "            return side == 'Heads'\n",
      "        return isHead\n",
      "    \n",
      "    # check if a coin came up 'Tails'\n",
      "    @staticmethod   \n",
      "    def tails():\n",
      "        def isTail(side):\n",
      "            return side == 'Tails'\n",
      "        return isTail\n",
      "            \n",
      "\n",
      "def evaluate(t1,t2, op):\n",
      "    # get all combinations of the probability objects\n",
      "    each = combs(t1[0], t2[0])\n",
      "    \n",
      "    # turns true or false into +/-5 for Colour Map\n",
      "    def g(x):\n",
      "        if x:\n",
      "            return 5 \n",
      "        else:\n",
      "            return -5\n",
      "    \n",
      "    # run the rules on the elements of each and use op to combine them\n",
      "    bools = [op(t1[1](element[0]) , t2[1](element[1])) for element in each]\n",
      "    \n",
      "    # use g to convert to number\n",
      "    # convert list to numpy array so it can be reshaped\n",
      "    zvals = np.array([g(boolean) for boolean in bools])\n",
      "    \n",
      "    return zvals.reshape(t1[0].size(), t2[0].size())"
     ],
     "language": "python",
     "metadata": {},
     "outputs": [],
     "prompt_number": 3
    },
    {
     "cell_type": "code",
     "collapsed": false,
     "input": [
      "def show(a,b,op):\n",
      "    zvals = evaluate(a,b,op)\n",
      "    plot(a[0],b[0], zvals)\n",
      "    \n",
      "def compare(d1, d2, rule):\n",
      "        c = combs(d1, d2) \n",
      "        print [(x,y, eval(rule)) for x,y in c]\n",
      "        \n",
      "        \n",
      "        def g(x):\n",
      "            if x:\n",
      "                return 5 \n",
      "            else:\n",
      "                return -5\n",
      "            \n",
      "        zvals = np.array([g(eval(rule)) for x,y in c]).reshape(d1.size(), d2.size())\n",
      "        \n",
      "        plot(d1,d2, zvals)\n",
      "    \n",
      "\n",
      "\n",
      "def plot(p2,p1,zvals):\n",
      "    fig, ax = pyplot.subplots()\n",
      "    \n",
      "    # make a color map of fixed colors\n",
      "    cmap = mpl.colors.ListedColormap(['blue','red'])\n",
      "    bounds=[2,6,2,6]\n",
      "    norm = mpl.colors.BoundaryNorm(bounds, cmap.N)\n",
      "\n",
      "\n",
      "    # tell imshow about color map so that only set colors are used\n",
      "    img = pyplot.pcolormesh(zvals, cmap = cmap,norm=norm)\n",
      "\n",
      "    #pyplot.grid(b=True, which='major', color='black', linestyle='-')\n",
      "    \n",
      "    m = max(p1.size(), p2.size())\n",
      "\n",
      "    pyplot.axis([0,m,0,m])\n",
      "    \n",
      "    \n",
      "    ax.tick_params(axis='x',which='minor',bottom='off') \n",
      "    ax.tick_params(axis='y',which='minor',bottom='off')  \n",
      "   \n",
      "    \n",
      "    px = p1.size()\n",
      "    xlocations = np.array(range(px))\n",
      "    xminorlocations = np.array(range(px))+0.5\n",
      "    \n",
      "    py = p2.size()\n",
      "    ylocations = np.array(range(py))\n",
      "    yminorlocations = np.array(range(py))+0.5\n",
      "    \n",
      "    pyplot.xticks(xminorlocations, p1.values(), rotation=0, size=15)\n",
      "    ax.set_xticks(xlocations, minor=True)\n",
      "    \n",
      "    pyplot.yticks(yminorlocations, p2.values(), rotation=0, size=15)\n",
      "    ax.set_yticks(ylocations, minor=True)\n",
      "    grid(True, which='minor', linestyle='-')\n",
      "\n",
      "    pyplot.show()\n",
      "    \n",
      "    \n",
      "    \n"
     ],
     "language": "python",
     "metadata": {},
     "outputs": [],
     "prompt_number": 4
    },
    {
     "cell_type": "markdown",
     "metadata": {},
     "source": [
      "#Creating Our Probability Objects  \n",
      "A coin or dice can be created by calling Coin() or Dice() respectively. A different-sided dice can be created by pass ing a number to Dice(). Here we will create a 12-sided dice."
     ]
    },
    {
     "cell_type": "code",
     "collapsed": false,
     "input": [
      "d = Dice()\n",
      "d12 = Dice(12)\n",
      "c = Coin()"
     ],
     "language": "python",
     "metadata": {},
     "outputs": [],
     "prompt_number": 5
    },
    {
     "cell_type": "markdown",
     "metadata": {},
     "source": [
      "# Creating (Probability Object, Rule) 2-Tuples\n",
      "An n-tuple is similar to a list with n objects in it. We are going to create 2-tuples so we can pair a Probability Object with a rule for evaluating it."
     ]
    },
    {
     "cell_type": "code",
     "collapsed": false,
     "input": [
      "c = Coin() # created in above cell\n",
      "head_rule = c.heads()\n",
      "\n",
      "print \"Heads is\", head_rule('Heads')\n",
      "print \"Tails is\", head_rule('Tails')\n",
      "\n",
      "t = (c, head_rule)"
     ],
     "language": "python",
     "metadata": {},
     "outputs": [
      {
       "output_type": "stream",
       "stream": "stdout",
       "text": [
        "Heads is True\n",
        "Tails is False\n"
       ]
      }
     ],
     "prompt_number": 6
    },
    {
     "cell_type": "markdown",
     "metadata": {},
     "source": [
      "  \n",
      "For dice we call Dice.function and pass it a string such as 'x < 3'.   \n",
      "\n",
      "We can use '<', '<=', '>', '>=', '=', and '!='. The last meaning not equal.   \n",
      "\n",
      "To use specific numbers we could pass 'x in [1,4]' or alternatively to avoid those numbers we could use 'x not in [1,4]'"
     ]
    },
    {
     "cell_type": "code",
     "collapsed": false,
     "input": [
      "r = Dice.function('x not in [1,4]')\n",
      "\n",
      "print \"One is\", r(1)\n",
      "print \"Two is\", r(2)"
     ],
     "language": "python",
     "metadata": {},
     "outputs": [
      {
       "output_type": "stream",
       "stream": "stdout",
       "text": [
        "One is False\n",
        "Two is True\n"
       ]
      }
     ],
     "prompt_number": 7
    },
    {
     "cell_type": "markdown",
     "metadata": {},
     "source": [
      "#Getting Combinations  \n",
      "\n",
      "We can use combs(a,b) to get all the combinations of two probability objects."
     ]
    },
    {
     "cell_type": "code",
     "collapsed": false,
     "input": [
      "# Coin and Coin\n",
      "combs(Coin(),Coin())"
     ],
     "language": "python",
     "metadata": {},
     "outputs": [
      {
       "metadata": {},
       "output_type": "pyout",
       "prompt_number": 8,
       "text": [
        "[('Heads', 'Heads'),\n",
        " ('Heads', 'Tails'),\n",
        " ('Tails', 'Heads'),\n",
        " ('Tails', 'Tails')]"
       ]
      }
     ],
     "prompt_number": 8
    },
    {
     "cell_type": "code",
     "collapsed": false,
     "input": [
      "# Coin and Dice\n",
      "combs(Coin(), Dice())"
     ],
     "language": "python",
     "metadata": {},
     "outputs": [
      {
       "metadata": {},
       "output_type": "pyout",
       "prompt_number": 9,
       "text": [
        "[('Heads', 1),\n",
        " ('Heads', 2),\n",
        " ('Heads', 3),\n",
        " ('Heads', 4),\n",
        " ('Heads', 5),\n",
        " ('Heads', 6),\n",
        " ('Tails', 1),\n",
        " ('Tails', 2),\n",
        " ('Tails', 3),\n",
        " ('Tails', 4),\n",
        " ('Tails', 5),\n",
        " ('Tails', 6)]"
       ]
      }
     ],
     "prompt_number": 9
    },
    {
     "cell_type": "code",
     "collapsed": false,
     "input": [
      "# D4 and D6\n",
      "combs(Dice(4), Dice(6))"
     ],
     "language": "python",
     "metadata": {},
     "outputs": [
      {
       "metadata": {},
       "output_type": "pyout",
       "prompt_number": 10,
       "text": [
        "[(1, 1),\n",
        " (1, 2),\n",
        " (1, 3),\n",
        " (1, 4),\n",
        " (1, 5),\n",
        " (1, 6),\n",
        " (2, 1),\n",
        " (2, 2),\n",
        " (2, 3),\n",
        " (2, 4),\n",
        " (2, 5),\n",
        " (2, 6),\n",
        " (3, 1),\n",
        " (3, 2),\n",
        " (3, 3),\n",
        " (3, 4),\n",
        " (3, 5),\n",
        " (3, 6),\n",
        " (4, 1),\n",
        " (4, 2),\n",
        " (4, 3),\n",
        " (4, 4),\n",
        " (4, 5),\n",
        " (4, 6)]"
       ]
      }
     ],
     "prompt_number": 10
    },
    {
     "cell_type": "markdown",
     "metadata": {},
     "source": [
      "#Visualise It  \n",
      "  \n",
      "First we need to ste up some tuples. Then we call show(a,b, operation) to see the chart.  \n",
      "  \n",
      "Remember that operation can be AND or OR"
     ]
    },
    {
     "cell_type": "code",
     "collapsed": false,
     "input": [
      "t1 = (d, Dice.function('x<3'))\n",
      "t2 = (c, Coin.heads())\n",
      "t3 = (d, Dice.odd())\n",
      "t4 =(d12, Dice.odd())\n",
      "\n",
      "show(t1,t2, OR)"
     ],
     "language": "python",
     "metadata": {},
     "outputs": [
      {
       "metadata": {},
       "output_type": "display_data",
       "png": "[encoded data removed]",
       "text": [
        "<matplotlib.figure.Figure at 0x984c9b0>"
       ]
      }
     ],
     "prompt_number": 11
    },
    {
     "cell_type": "code",
     "collapsed": false,
     "input": [
      "show(t1,t2, AND)"
     ],
     "language": "python",
     "metadata": {},
     "outputs": [
      {
       "metadata": {},
       "output_type": "display_data",
       "png": "[encoded data removed]",
       "text": [
        "<matplotlib.figure.Figure at 0x98d1b00>"
       ]
      }
     ],
     "prompt_number": 12
    },
    {
     "cell_type": "code",
     "collapsed": false,
     "input": [
      "# D6 odd or D12 odd\n",
      "show(t3,t4,OR)"
     ],
     "language": "python",
     "metadata": {},
     "outputs": [
      {
       "metadata": {},
       "output_type": "display_data",
       "png": "[encoded data removed]",
       "text": [
        "<matplotlib.figure.Figure at 0x98d6048>"
       ]
      }
     ],
     "prompt_number": 13
    },
    {
     "cell_type": "code",
     "collapsed": false,
     "input": [
      "# D6 odd and D12 odd\n",
      "show(t3,t4,AND)"
     ],
     "language": "python",
     "metadata": {},
     "outputs": [
      {
       "metadata": {},
       "output_type": "display_data",
       "png": "[encoded data removed]",
       "text": [
        "<matplotlib.figure.Figure at 0x98b5d30>"
       ]
      }
     ],
     "prompt_number": 14
    },
    {
     "cell_type": "markdown",
     "metadata": {},
     "source": [
      "#Comparing Probability Objects   \n",
      "\n",
      "The compare method takes two probability objects and a mathematical statement involving x and y\n",
      "  \n",
      "I will produce the following:  \n",
      "  \n",
      "+ The sum of x and y is not 3 or 4\n",
      "+ x times y is divisible by 3\n",
      "+ The sum of x andy is greather than 4 but less than or eaual to 8\n",
      "+ x is more than one smaller than y\n"
     ]
    },
    {
     "cell_type": "code",
     "collapsed": false,
     "input": [
      "compare(Dice(),Dice(),'x+y not in [3,4] ')"
     ],
     "language": "python",
     "metadata": {},
     "outputs": [
      {
       "output_type": "stream",
       "stream": "stdout",
       "text": [
        "[(1, 1, True), (1, 2, False), (1, 3, False), (1, 4, True), (1, 5, True), (1, 6, True), (2, 1, False), (2, 2, False), (2, 3, True), (2, 4, True), (2, 5, True), (2, 6, True), (3, 1, False), (3, 2, True), (3, 3, True), (3, 4, True), (3, 5, True), (3, 6, True), (4, 1, True), (4, 2, True), (4, 3, True), (4, 4, True), (4, 5, True), (4, 6, True), (5, 1, True), (5, 2, True), (5, 3, True), (5, 4, True), (5, 5, True), (5, 6, True), (6, 1, True), (6, 2, True), (6, 3, True), (6, 4, True), (6, 5, True), (6, 6, True)]\n"
       ]
      },
      {
       "metadata": {},
       "output_type": "display_data",
       "png": "[encoded data removed]",
       "text": [
        "<matplotlib.figure.Figure at 0x98cb7b8>"
       ]
      }
     ],
     "prompt_number": 15
    },
    {
     "cell_type": "code",
     "collapsed": false,
     "input": [
      "compare(Dice(),Dice(),'x +2 < y')"
     ],
     "language": "python",
     "metadata": {},
     "outputs": [
      {
       "output_type": "stream",
       "stream": "stdout",
       "text": [
        "[(1, 1, False), (1, 2, False), (1, 3, False), (1, 4, True), (1, 5, True), (1, 6, True), (2, 1, False), (2, 2, False), (2, 3, False), (2, 4, False), (2, 5, True), (2, 6, True), (3, 1, False), (3, 2, False), (3, 3, False), (3, 4, False), (3, 5, False), (3, 6, True), (4, 1, False), (4, 2, False), (4, 3, False), (4, 4, False), (4, 5, False), (4, 6, False), (5, 1, False), (5, 2, False), (5, 3, False), (5, 4, False), (5, 5, False), (5, 6, False), (6, 1, False), (6, 2, False), (6, 3, False), (6, 4, False), (6, 5, False), (6, 6, False)]\n"
       ]
      },
      {
       "metadata": {},
       "output_type": "display_data",
       "png": "[encoded data removed]",
       "text": [
        "<matplotlib.figure.Figure at 0x98c8978>"
       ]
      }
     ],
     "prompt_number": 19
    },
    {
     "cell_type": "code",
     "collapsed": false,
     "input": [
      "compare(Dice(),Dice(),' 4 < x+y <= 8  ')"
     ],
     "language": "python",
     "metadata": {},
     "outputs": [
      {
       "output_type": "stream",
       "stream": "stdout",
       "text": [
        "[(1, 1, False), (1, 2, False), (1, 3, False), (1, 4, True), (1, 5, True), (1, 6, True), (2, 1, False), (2, 2, False), (2, 3, True), (2, 4, True), (2, 5, True), (2, 6, True), (3, 1, False), (3, 2, True), (3, 3, True), (3, 4, True), (3, 5, True), (3, 6, False), (4, 1, True), (4, 2, True), (4, 3, True), (4, 4, True), (4, 5, False), (4, 6, False), (5, 1, True), (5, 2, True), (5, 3, True), (5, 4, False), (5, 5, False), (5, 6, False), (6, 1, True), (6, 2, True), (6, 3, False), (6, 4, False), (6, 5, False), (6, 6, False)]\n"
       ]
      },
      {
       "metadata": {},
       "output_type": "display_data",
       "png": "[encoded data removed]",
       "text": [
        "<matplotlib.figure.Figure at 0x98cbeb8>"
       ]
      }
     ],
     "prompt_number": 17
    },
    {
     "cell_type": "code",
     "collapsed": false,
     "input": [
      "compare(Dice(),Dice(),'x == y+1')"
     ],
     "language": "python",
     "metadata": {},
     "outputs": [
      {
       "output_type": "stream",
       "stream": "stdout",
       "text": [
        "[(1, 1, False), (1, 2, False), (1, 3, False), (1, 4, False), (1, 5, False), (1, 6, False), (2, 1, True), (2, 2, False), (2, 3, False), (2, 4, False), (2, 5, False), (2, 6, False), (3, 1, False), (3, 2, True), (3, 3, False), (3, 4, False), (3, 5, False), (3, 6, False), (4, 1, False), (4, 2, False), (4, 3, True), (4, 4, False), (4, 5, False), (4, 6, False), (5, 1, False), (5, 2, False), (5, 3, False), (5, 4, True), (5, 5, False), (5, 6, False), (6, 1, False), (6, 2, False), (6, 3, False), (6, 4, False), (6, 5, True), (6, 6, False)]\n"
       ]
      },
      {
       "metadata": {},
       "output_type": "display_data",
       "png": "[encoded data removed]",
       "text": [
        "<matplotlib.figure.Figure at 0x984a390>"
       ]
      }
     ],
     "prompt_number": 20
    }
   ],
   "metadata": {}
  }
 ]
}