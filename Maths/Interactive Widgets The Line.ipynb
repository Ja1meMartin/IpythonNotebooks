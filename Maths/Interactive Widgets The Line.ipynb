{
 "metadata": {
  "name": "",
  "signature": "sha256:4b496ddc0df54ac567936522b86e67f51ae94d9539675908371929e4733d6a89"
 },
 "nbformat": 3,
 "nbformat_minor": 0,
 "worksheets": [
  {
   "cells": [
    {
     "cell_type": "code",
     "collapsed": false,
     "input": [
      "from __future__ import division\n",
      "import pylab\n",
      "\n",
      "from matplotlib.pylab import *\n",
      "import numpy as np\n",
      "from sympy import *\n",
      "from sympy.interactive import printing\n",
      "import functools\n",
      "from sympy.solvers import solve"
     ],
     "language": "python",
     "metadata": {},
     "outputs": [],
     "prompt_number": 8
    },
    {
     "cell_type": "code",
     "collapsed": false,
     "input": [
      "%pylab inline\n",
      "from IPython.html.widgets import interact, interactive, fixed\n",
      "from IPython.html import widgets"
     ],
     "language": "python",
     "metadata": {},
     "outputs": [
      {
       "output_type": "stream",
       "stream": "stdout",
       "text": [
        "Populating the interactive namespace from numpy and matplotlib\n"
       ]
      },
      {
       "output_type": "stream",
       "stream": "stderr",
       "text": [
        "WARNING: pylab import has clobbered these variables: ['prod', 'plotting', 'Circle', 'power', 'diag', 'sinh', 'trunc', 'binomial', 'plot', 'eye', 'det', 'tan', 'product', 'roots', 'vectorize', 'sin', 'zeros', 'cosh', 'conjugate', 'linalg', 'take', 'solve', 'trace', 'beta', 'pylab', 'random', 'ones', 'cos', 'interactive', 'transpose', 'diff', 'invert', 'tanh', 'Polygon', 'reshape', 'sqrt', 'floor', 'source', 'add', 'multinomial', 'test', 'poly', 'mod', 'sign', 'fft', 'gamma', 'log', 'var', 'info', 'seterr', 'flatten', 'nan', 'pi', 'exp']\n",
        "`%matplotlib` prevents importing * from pylab and numpy\n"
       ]
      }
     ],
     "prompt_number": 9
    },
    {
     "cell_type": "code",
     "collapsed": false,
     "input": [
      "def plot_line( m = 2, c = 5):\n",
      "    plt.figure(figsize=(10,6))\n",
      "    start = -6\n",
      "    end = 6\n",
      "    points =int((end-start)* 12)\n",
      "    \n",
      "    X = np.linspace(start, end, points)\n",
      "    Y = [x*m + c for x in X]\n",
      "    l = \"y = (\" + str(m) + \")x + (\" + str(c) +\")\"\n",
      "    print l\n",
      "    pylab.plot(X,Y, label =\"mc\")\n",
      "    plt.axhline(color='k')\n",
      "    pylab.grid(which='both')\n",
      "    ax = pylab.gca()\n",
      "    ax.spines['top'].set_visible(False)\n",
      "    ax.xaxis.set_ticks_position('bottom')  # no ticklines at the top\n",
      "    ax.spines['right'].set_visible(False)\n",
      "    ax.yaxis.set_ticks_position('left')\n",
      "    ax.spines['bottom'].set_position(('data', 0))\n",
      "    ax.spines['left'].set_position(('data', 0))\n",
      "    \n",
      "    pylab.ylim([-15,15])\n",
      "\n",
      "    pylab.show()\n",
      "    \n",
      "    "
     ],
     "language": "python",
     "metadata": {},
     "outputs": [],
     "prompt_number": 18
    },
    {
     "cell_type": "code",
     "collapsed": false,
     "input": [
      "interact(plot_line, m=(-10,10,0.5), c=(-12,12,1))"
     ],
     "language": "python",
     "metadata": {},
     "outputs": [
      {
       "output_type": "stream",
       "stream": "stdout",
       "text": [
        "y = (2.0)x + (5)\n"
       ]
      },
      {
       "metadata": {},
       "output_type": "display_data",
       "png": "[encoded data removed]",
       "text": [
        "<matplotlib.figure.Figure at 0xbcd9518>"
       ]
      },
      {
       "metadata": {},
       "output_type": "pyout",
       "prompt_number": 19,
       "text": [
        "<function __main__.plot_line>"
       ]
      }
     ],
     "prompt_number": 19
    },
    {
     "cell_type": "markdown",
     "metadata": {},
     "source": [
      "**At what point does the line cross the y-axis?**  "
     ]
    },
    {
     "cell_type": "markdown",
     "metadata": {},
     "source": [
      "**If a point is below the line in which two directions (up,down, left, right) can you move to reach the line?**\n",
      "\n",
      "\n"
     ]
    },
    {
     "cell_type": "markdown",
     "metadata": {},
     "source": [
      "**Increase the c value to 10.**  \n",
      "  \n",
      "**1) Which two directions (up,down, left, right) do you think the line will move?**\n",
      "\n"
     ]
    },
    {
     "cell_type": "markdown",
     "metadata": {},
     "source": [
      "**Why do you think the movement can be described by two directions?**\n",
      "\n",
      "\n"
     ]
    },
    {
     "cell_type": "code",
     "collapsed": false,
     "input": [
      "def plot_curve( a = 1, b=3, c = 2):\n",
      "    #replace self.x and self.y\n",
      "    start = -6\n",
      "    end = 6\n",
      "    points =int((end-start)* 12)\n",
      "    \n",
      "    X = np.linspace(start, end, points)\n",
      "    Y = [a*x**2 +b*+ c for x in X]\n",
      "    \n",
      "   \n",
      "    pylab.plot(X,Y, label =\"mc\")\n",
      "    plt.axhline(color='k')\n",
      "    pylab.grid(which='both')\n",
      "    \n",
      "    ax = pylab.gca()\n",
      "    ax.spines['top'].set_visible(False)\n",
      "    ax.xaxis.set_ticks_position('bottom')  # no ticklines at the top\n",
      "    ax.spines['right'].set_visible(False)\n",
      "    ax.yaxis.set_ticks_position('left')\n",
      "    ax.spines['bottom'].set_position(('data', 0))\n",
      "    ax.spines['left'].set_position(('data', 0))\n",
      "    \n",
      "    pylab.ylim([-40,40])\n",
      "\n",
      "    pylab.show()"
     ],
     "language": "python",
     "metadata": {},
     "outputs": [],
     "prompt_number": 12
    },
    {
     "cell_type": "code",
     "collapsed": false,
     "input": [
      "interact(plot_curve, a=(-4,4,0.2),b=(-10,10,0.2), c=(-10,10,0.5))"
     ],
     "language": "python",
     "metadata": {},
     "outputs": [
      {
       "metadata": {},
       "output_type": "display_data",
       "png": "[encoded data removed]",
       "text": [
        "<matplotlib.figure.Figure at 0xbe06a90>"
       ]
      },
      {
       "metadata": {},
       "output_type": "pyout",
       "prompt_number": 13,
       "text": [
        "<function __main__.plot_curve>"
       ]
      }
     ],
     "prompt_number": 13
    }
   ],
   "metadata": {}
  }
 ]
}