{
 "metadata": {
  "name": "",
  "signature": "sha256:7147942200e7af3dafd13ac6a4b8286058e3b84557d9732058e3aec72f0c38e4"
 },
 "nbformat": 3,
 "nbformat_minor": 0,
 "worksheets": [
  {
   "cells": [
    {
     "cell_type": "code",
     "collapsed": false,
     "input": [
      "from __future__ import division\n",
      "from math import sqrt"
     ],
     "language": "python",
     "metadata": {},
     "outputs": [],
     "prompt_number": 41
    },
    {
     "cell_type": "code",
     "collapsed": false,
     "input": [
      "\n",
      "\n",
      "x1 = [140,138,150,148,135]\n",
      "\n",
      "x2 = [132,135,151,146,130]"
     ],
     "language": "python",
     "metadata": {},
     "outputs": [],
     "prompt_number": 42
    },
    {
     "cell_type": "code",
     "collapsed": false,
     "input": [
      "differences = [a-b for a,b in zip (x1, x2)]\n",
      "\n",
      "#differences = [4,4,1,2,-3,5,3,2,-4,2,1,-1,2,7,0,4,6,3,4,-1]\n",
      "\n",
      "\n",
      "print differences\n",
      "\n",
      "n = len(differences)\n",
      "\n",
      "print sum([(num - mean_of_differences)**2 for num in differences]), n"
     ],
     "language": "python",
     "metadata": {},
     "outputs": [
      {
       "output_type": "stream",
       "stream": "stdout",
       "text": [
        "[8, 3, -1, 2, 5]\n",
        "54.3125 5\n"
       ]
      }
     ],
     "prompt_number": 43
    },
    {
     "cell_type": "code",
     "collapsed": false,
     "input": [
      "mean_of_differences = sum(differences)/len(differences)\n",
      "\n",
      "print mean_of_differences\n",
      "\n",
      "top = sum([(num - mean_of_differences)**2 for num in differences])\n",
      "\n",
      "print top, n\n",
      "\n",
      "sd_of_differences = sqrt(top/(n -1))\n",
      "\n",
      "print sd_of_differences"
     ],
     "language": "python",
     "metadata": {},
     "outputs": [
      {
       "output_type": "stream",
       "stream": "stdout",
       "text": [
        "3.4\n",
        "45.2 5\n",
        "3.36154726279\n"
       ]
      }
     ],
     "prompt_number": 44
    },
    {
     "cell_type": "code",
     "collapsed": false,
     "input": [
      "standard_error = sd_of_differences/sqrt(n)\n",
      "\n",
      "print standard_error\n",
      "\n",
      "t = mean_of_differences/standard_error\n",
      "\n",
      "print t"
     ],
     "language": "python",
     "metadata": {},
     "outputs": [
      {
       "output_type": "stream",
       "stream": "stdout",
       "text": [
        "1.50332963784\n",
        "2.26164635781\n"
       ]
      }
     ],
     "prompt_number": 47
    },
    {
     "cell_type": "code",
     "collapsed": false,
     "input": [
      "from scipy import stats\n",
      "print stats.ttest_rel(x1,x2)\n",
      "\n",
      "stats.ttest_rel??"
     ],
     "language": "python",
     "metadata": {},
     "outputs": [
      {
       "output_type": "stream",
       "stream": "stdout",
       "text": [
        "(array(2.2616463578083135), 0.086522779946011999)\n"
       ]
      }
     ],
     "prompt_number": 50
    },
    {
     "cell_type": "code",
     "collapsed": false,
     "input": [
      "from scipy.stats import t\n",
      "\n",
      "r = t(4)\n",
      "\n",
      "t.ppf(0.99,4)"
     ],
     "language": "python",
     "metadata": {},
     "outputs": [
      {
       "metadata": {},
       "output_type": "pyout",
       "prompt_number": 68,
       "text": [
        "3.7469473879811366"
       ]
      }
     ],
     "prompt_number": 68
    },
    {
     "cell_type": "markdown",
     "metadata": {},
     "source": [
      "A sample of 9 men yielded a sample average brain volume of 1,100cc and a standard deviation of 30cc. For what values of \u03bc0 would a test of H0:\u03bc=\u03bc0 fail to reject the null hypothesis in a two sided 5% Students t-test?"
     ]
    }
   ],
   "metadata": {}
  }
 ]
}