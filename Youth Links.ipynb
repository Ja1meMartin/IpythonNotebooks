{
 "metadata": {
  "name": "",
  "signature": "sha256:42b70e77b483c45cdb9ba4aa4f9fdabdbe203df9cca9f1d99550a633ca9add44"
 },
 "nbformat": 3,
 "nbformat_minor": 0,
 "worksheets": [
  {
   "cells": [
    {
     "cell_type": "markdown",
     "metadata": {},
     "source": [
      "- twitter/instagram feeds  \n",
      "    - by team\n",
      "    - by division\n",
      "- youtube searches\n",
      "    - remove dead videos\n",
      "- google api search"
     ]
    },
    {
     "cell_type": "markdown",
     "metadata": {},
     "source": [
      "#Arsenal\n",
      "[Jeorg Bird's Arsenal Youth](http://arsenalyouth.wordpress.com/)  \n",
      "[The Short Fuse on SB Nation](http://theshortfuse.sbnation.com/arsenal-reserves-and-youth)  \n",
      "[Official](http://www.arsenal.com/academy/players)  \n",
      "[Online Arsenal](http://www.onlinearsenal.com/forumdisplay.php?69-Reserves-Youths-and-Ladies)\n",
      "[Uefa U-19](http://www.uefa.com/uefayouthleague/season=2015/clubs/country/index.html)\n"
     ]
    },
    {
     "cell_type": "code",
     "collapsed": false,
     "input": [
      "import feedparser\n",
      "feed = 'http://arsenalyouth.wordpress.com/feed/'\n",
      "d = feedparser.parse(feed)"
     ],
     "language": "python",
     "metadata": {},
     "outputs": [],
     "prompt_number": 1
    },
    {
     "cell_type": "code",
     "collapsed": false,
     "input": [
      "links = [e.link for e in d['entries']]\n",
      "    \n",
      "for l in links:\n",
      "    print l\n"
     ],
     "language": "python",
     "metadata": {},
     "outputs": [
      {
       "output_type": "stream",
       "stream": "stdout",
       "text": [
        "http://arsenalyouth.wordpress.com/2014/10/08/zelalem-beginning-to-demonstrate-much-needed-consistency/\n",
        "http://arsenalyouth.wordpress.com/2014/10/06/u18s-analysis-vickers-impresses-as-arsenal-struggle-to-find-fluency-against-southampton/\n",
        "http://arsenalyouth.wordpress.com/2014/10/05/loan-report-wellington-impresses-olsson-left-frustrated/\n",
        "http://arsenalyouth.wordpress.com/2014/10/04/maitland-niles-and-hayden-train-with-arsenal-first-team-ahead-of-chelsea-game/\n",
        "http://arsenalyouth.wordpress.com/2014/10/01/match-report-crowley-outstanding-as-arsenal-u19s-thrash-galatasaray/\n",
        "http://arsenalyouth.wordpress.com/2014/09/30/four-young-defenders-join-first-team-training-ahead-of-galatasara%e2%80%8by-game/\n",
        "http://arsenalyouth.wordpress.com/2014/09/29/u18s-analysis-huddart-and-hinds-save-arsenal-against-fulham/\n",
        "http://arsenalyouth.wordpress.com/2014/09/28/loan-report-afobe-enters-double-figures-jenkinson-features-at-old-trafford/\n",
        "http://arsenalyouth.wordpress.com/2014/09/28/hinds-helps-arsenal-u18s-stage-impressive-comeback-against-fulham/\n",
        "http://arsenalyouth.wordpress.com/2014/09/23/bellerin-and-hayden-feature-but-arsenal-struggle-to-cope-with-southampton-in-capital-one-cup/\n"
       ]
      }
     ],
     "prompt_number": 2
    },
    {
     "cell_type": "code",
     "collapsed": false,
     "input": [
      "from newspaper import Article\n",
      "\n",
      "url = 'http://arsenalyouth.wordpress.com/2014/10/08/zelalem-beginning-to-demonstrate-much-needed-consistency/'\n",
      "a = Article(url)\n",
      "a.download()\n",
      "a.parse()\n",
      "print a.text"
     ],
     "language": "python",
     "metadata": {},
     "outputs": [
      {
       "output_type": "stream",
       "stream": "stdout",
       "text": [
        "Arsene Wenger said in the summer that Gedion Zelalem will not be ready to feature for the Arsenal first-team for at least six months.\n",
        "\n",
        "That statement raised eyebrows in some quarters, with fears arising that the 17 year old was struggling to fulfil his vast potential. However, with hindsight, Arsenal\u2019s decision to allow Zelalem to develop in the youth teams, rather than rushing him into first-team action, has been an informed one.\n",
        "\n",
        "When Zelalem made his debut for the Arsenal first-team against Coventry City in the FA Cup last season, his appearance was expected to be the first of many, with some even suggesting that he would feature in the Premier League before the end of the campaign. That didn\u2019t materialise and Zelalem has had to be mightily patient for his opportunity, having not even made the bench for the recent Capital One Cup tie with Southampton.\n",
        "\n",
        "What he has been doing in the interim, however, hasn\u2019t gone unnoticed at London Colney. Having first played in the U21 team as a schoolboy, Zelalem now possesses considerable experience of second-string football, and, at last, is beginning to develop the sort of consistency and ability to influence matches that was so lacking from his game last season.\n",
        "\n",
        "Whereas previously Zelalem could go an entire U21 game without making a notable contribution, he is now, gradually, beginning to become more tactically aware to add to his renowned technical gifts. He scored his first goal for the club with a superb strike for the U19s against Galatasaray in the UEFA Youth League and is starting to play killer passes with the regularity that he has done so when afforded an opportunity in first-team friendlies.\n",
        "\n",
        "Having previously appeared too afraid to go into challenges, Zelalem is now prepared to fight for the ball. His talent has always been obvious, but his all-round game is now improving immensely. He still needs to develop\u00a0physically, which is perhaps why he hasn\u2019t featured in the Premier League yet, but, slowly but surely, he is getting towards the stage where he\u2019ll be ready to represent the first-team regularly.\n",
        "\n",
        "He hasn\u2019t quite developed as quickly as Cesc Fabregas, who slotted into Premier League action as a 17 year old, or Jack Wilshere, who was dominating Carling Cup games in the first year of his scholarship, but Zelalem\u2019s time will come eventually.\n"
       ]
      }
     ],
     "prompt_number": 6
    },
    {
     "cell_type": "code",
     "collapsed": false,
     "input": [
      "import nltk\n",
      "\n",
      "def extract_entities(text):\n",
      "    for sent in nltk.sent_tokenize(text):\n",
      "        for chunk in nltk.ne_chunk(nltk.pos_tag(nltk.word_tokenize(sent))):\n",
      "            \n",
      "            if isinstance(chunk, nltk.tree.Tree):\n",
      "                print chunk.label()\n",
      "                print chunk.leaves()\n",
      "            \n",
      "extract_entities(a.text)"
     ],
     "language": "python",
     "metadata": {},
     "outputs": [
      {
       "output_type": "stream",
       "stream": "stdout",
       "text": [
        "PERSON\n",
        "[(u'Arsene', 'NNP')]\n",
        "PERSON\n",
        "[(u'Wenger', 'NNP')]\n",
        "PERSON\n",
        "[(u'Gedion', 'NNP'), (u'Zelalem', 'NNP')]\n",
        "ORGANIZATION\n",
        "[(u'Arsenal', 'NNP')]\n",
        "PERSON"
       ]
      },
      {
       "output_type": "stream",
       "stream": "stdout",
       "text": [
        "\n",
        "[(u'Zelalem', 'NNP')]\n",
        "PERSON"
       ]
      },
      {
       "output_type": "stream",
       "stream": "stdout",
       "text": [
        "\n",
        "[(u'Zelalem', 'NNP')]\n",
        "ORGANIZATION\n",
        "[(u'Arsenal', 'NNP')]\n",
        "PERSON\n",
        "[(u'Coventry', 'NNP'), (u'City', 'NNP')]\n",
        "PERSON"
       ]
      },
      {
       "output_type": "stream",
       "stream": "stdout",
       "text": [
        "\n",
        "[(u'Zelalem', 'NNP')]\n",
        "GPE\n",
        "[(u'Southampton', 'NNP')]\n",
        "ORGANIZATION\n",
        "[(u'London', 'NNP'), (u'Colney', 'NNP')]\n",
        "ORGANIZATION"
       ]
      },
      {
       "output_type": "stream",
       "stream": "stdout",
       "text": [
        "\n",
        "[(u'U21', 'NNP')]\n",
        "PERSON\n",
        "[(u'Zelalem', 'NNP')]\n",
        "PERSON"
       ]
      },
      {
       "output_type": "stream",
       "stream": "stdout",
       "text": [
        "\n",
        "[(u'Zelalem', 'NNP')]\n",
        "ORGANIZATION"
       ]
      },
      {
       "output_type": "stream",
       "stream": "stdout",
       "text": [
        "\n",
        "[(u'U19s', 'NNP')]\n",
        "GPE\n",
        "[(u'Galatasaray', 'NNP')]\n",
        "ORGANIZATION\n",
        "[(u'UEFA', 'NNP'), (u'Youth', 'NNP'), (u'League', 'NNP')]\n",
        "PERSON"
       ]
      },
      {
       "output_type": "stream",
       "stream": "stdout",
       "text": [
        "\n",
        "[(u'Zelalem', 'NNP')]\n",
        "PERSON"
       ]
      },
      {
       "output_type": "stream",
       "stream": "stdout",
       "text": [
        "\n",
        "[(u'Cesc', 'NNP'), (u'Fabregas', 'NNP')]\n",
        "PERSON\n",
        "[(u'Jack', 'NNP'), (u'Wilshere', 'NNP')]\n"
       ]
      }
     ],
     "prompt_number": 14
    },
    {
     "cell_type": "code",
     "collapsed": false,
     "input": [
      "a.nlp()\n",
      "print a.text\n",
      "print \"-------\\n\\n\"\n",
      "print a.summary\n",
      "print a.keywords"
     ],
     "language": "python",
     "metadata": {},
     "outputs": [
      {
       "output_type": "stream",
       "stream": "stdout",
       "text": [
        "Arsene Wenger said in the summer that Gedion Zelalem will not be ready to feature for the Arsenal first-team for at least six months.\n",
        "\n",
        "That statement raised eyebrows in some quarters, with fears arising that the 17 year old was struggling to fulfil his vast potential. However, with hindsight, Arsenal\u2019s decision to allow Zelalem to develop in the youth teams, rather than rushing him into first-team action, has been an informed one.\n",
        "\n",
        "When Zelalem made his debut for the Arsenal first-team against Coventry City in the FA Cup last season, his appearance was expected to be the first of many, with some even suggesting that he would feature in the Premier League before the end of the campaign. That didn\u2019t materialise and Zelalem has had to be mightily patient for his opportunity, having not even made the bench for the recent Capital One Cup tie with Southampton.\n",
        "\n",
        "What he has been doing in the interim, however, hasn\u2019t gone unnoticed at London Colney. Having first played in the U21 team as a schoolboy, Zelalem now possesses considerable experience of second-string football, and, at last, is beginning to develop the sort of consistency and ability to influence matches that was so lacking from his game last season.\n",
        "\n",
        "Whereas previously Zelalem could go an entire U21 game without making a notable contribution, he is now, gradually, beginning to become more tactically aware to add to his renowned technical gifts. He scored his first goal for the club with a superb strike for the U19s against Galatasaray in the UEFA Youth League and is starting to play killer passes with the regularity that he has done so when afforded an opportunity in first-team friendlies.\n",
        "\n",
        "Having previously appeared too afraid to go into challenges, Zelalem is now prepared to fight for the ball. His talent has always been obvious, but his all-round game is now improving immensely. He still needs to develop\u00a0physically, which is perhaps why he hasn\u2019t featured in the Premier League yet, but, slowly but surely, he is getting towards the stage where he\u2019ll be ready to represent the first-team regularly.\n",
        "\n",
        "He hasn\u2019t quite developed as quickly as Cesc Fabregas, who slotted into Premier League action as a 17 year old, or Jack Wilshere, who was dominating Carling Cup games in the first year of his scholarship, but Zelalem\u2019s time will come eventually.\n",
        "-------\n",
        "\n",
        "\n",
        "However, with hindsight, Arsenal\u2019s decision to allow Zelalem to develop in the youth teams, rather than rushing him into first-team action, has been an informed one.\r\n",
        "Whereas previously Zelalem could go an entire U21 game without making a notable contribution, he is now, gradually, beginning to become more tactically aware to add to his renowned technical gifts.\r\n",
        "Arsene Wenger said in the summer that Gedion Zelalem will not be ready to feature for the Arsenal first-team for at least six months.\r\n",
        "Having previously appeared too afraid to go into challenges, Zelalem is now prepared to fight for the ball.\r\n",
        "That statement raised eyebrows in some quarters, with fears arising that the 17 year old was struggling to fulfil his vast potential.\n",
        "[u'league', u'premier', u'firstteam', u'muchneeded', u'cup', u'previously', u'zelalem', u'arsenal', u'youth', u'game', u'u21', u'consistency', u'action', u'demonstrate', u'beginning', u'birds', u'jeorge']\n"
       ]
      }
     ],
     "prompt_number": 26
    },
    {
     "cell_type": "code",
     "collapsed": false,
     "input": [
      "import newspaper\n",
      "paper = newspaper.build('http://arsenalyouth.wordpress.com/')"
     ],
     "language": "python",
     "metadata": {},
     "outputs": [],
     "prompt_number": 16
    },
    {
     "cell_type": "code",
     "collapsed": false,
     "input": [
      "for article in paper.category_urls():\n",
      "    print article"
     ],
     "language": "python",
     "metadata": {},
     "outputs": [
      {
       "output_type": "stream",
       "stream": "stdout",
       "text": [
        "http://arsenalyouth.wordpress.com/\n",
        "https://arsenalyouth.wordpress.com\n",
        "http://arsenalyouth.wordpress.com\n",
        "https://wordpress.com\n"
       ]
      }
     ],
     "prompt_number": 20
    },
    {
     "cell_type": "code",
     "collapsed": false,
     "input": [
      "import unirest\n",
      "\n",
      "response = unirest.post(\"https://textteaser.p.mashape.com/api\",\n",
      "  headers={\"X-Mashape-Key\": \"NmSAR383hemshzkV3f3oOVfFAY3Lp1TiOhXjsnZcZsDx2lzxk9\"},\n",
      "  params={\"blog\": \"TechCrunch, The Verge, Mashable, Business Insider, etc.\", \"category\": \"Technology, Sports, Entertainment, etc.\", \"url\": \"http://arsenalyouth.wordpress.com/2014/09/29/u18s-analysis-huddart-and-hinds-save-arsenal-against-fulham/\"}\n",
      ")\n",
      "\n",
      "print response"
     ],
     "language": "python",
     "metadata": {},
     "outputs": [
      {
       "output_type": "stream",
       "stream": "stdout",
       "text": [
        "<unirest.UnirestResponse object at 0x000000000387E080>\n"
       ]
      }
     ],
     "prompt_number": 8
    },
    {
     "cell_type": "code",
     "collapsed": false,
     "input": [
      "response.body"
     ],
     "language": "python",
     "metadata": {},
     "outputs": [
      {
       "metadata": {},
       "output_type": "pyout",
       "prompt_number": 9,
       "text": [
        "{u'message': u'You need to subscribe to a plan before consuming the API'}"
       ]
      }
     ],
     "prompt_number": 9
    },
    {
     "cell_type": "code",
     "collapsed": false,
     "input": [
      "from summarize import *\n",
      "\n",
      "url = \"http://arsenalyouth.wordpress.com/2014/10/08/zelalem-beginning-to-demonstrate-much-needed-consistency/\"\n",
      "a = summarize_page(url)"
     ],
     "language": "python",
     "metadata": {},
     "outputs": [
      {
       "ename": "UnicodeEncodeError",
       "evalue": "'ascii' codec can't encode character u'\\u2019' in position 9: ordinal not in range(128)",
       "output_type": "pyerr",
       "traceback": [
        "\u001b[1;31m---------------------------------------------------------------------------\u001b[0m\n\u001b[1;31mUnicodeEncodeError\u001b[0m                        Traceback (most recent call last)",
        "\u001b[1;32m<ipython-input-3-67f573c11935>\u001b[0m in \u001b[0;36m<module>\u001b[1;34m()\u001b[0m\n\u001b[0;32m      2\u001b[0m \u001b[1;33m\u001b[0m\u001b[0m\n\u001b[0;32m      3\u001b[0m \u001b[0murl\u001b[0m \u001b[1;33m=\u001b[0m \u001b[1;34m\"http://arsenalyouth.wordpress.com/2014/10/08/zelalem-beginning-to-demonstrate-much-needed-consistency/\"\u001b[0m\u001b[1;33m\u001b[0m\u001b[0m\n\u001b[1;32m----> 4\u001b[1;33m \u001b[0ma\u001b[0m \u001b[1;33m=\u001b[0m \u001b[0msummarize_page\u001b[0m\u001b[1;33m(\u001b[0m\u001b[0murl\u001b[0m\u001b[1;33m)\u001b[0m\u001b[1;33m\u001b[0m\u001b[0m\n\u001b[0m",
        "\u001b[1;32mC:\\Anaconda\\lib\\site-packages\\summarize-0.0.1-py2.7.egg\\summarize\\summarize.pyc\u001b[0m in \u001b[0;36msummarize_page\u001b[1;34m(url)\u001b[0m\n\u001b[0;32m    117\u001b[0m     \u001b[0mhtml\u001b[0m \u001b[1;33m=\u001b[0m \u001b[0mbs4\u001b[0m\u001b[1;33m.\u001b[0m\u001b[0mBeautifulSoup\u001b[0m\u001b[1;33m(\u001b[0m\u001b[0mrequests\u001b[0m\u001b[1;33m.\u001b[0m\u001b[0mget\u001b[0m\u001b[1;33m(\u001b[0m\u001b[0murl\u001b[0m\u001b[1;33m)\u001b[0m\u001b[1;33m.\u001b[0m\u001b[0mtext\u001b[0m\u001b[1;33m)\u001b[0m\u001b[1;33m\u001b[0m\u001b[0m\n\u001b[0;32m    118\u001b[0m     \u001b[0mb\u001b[0m \u001b[1;33m=\u001b[0m \u001b[0mfind_likely_body\u001b[0m\u001b[1;33m(\u001b[0m\u001b[0mhtml\u001b[0m\u001b[1;33m)\u001b[0m\u001b[1;33m\u001b[0m\u001b[0m\n\u001b[1;32m--> 119\u001b[1;33m     \u001b[0msummaries\u001b[0m \u001b[1;33m=\u001b[0m \u001b[0msummarize_blocks\u001b[0m\u001b[1;33m(\u001b[0m\u001b[0mmap\u001b[0m\u001b[1;33m(\u001b[0m\u001b[1;32mlambda\u001b[0m \u001b[0mp\u001b[0m\u001b[1;33m:\u001b[0m \u001b[0mp\u001b[0m\u001b[1;33m.\u001b[0m\u001b[0mtext\u001b[0m\u001b[1;33m,\u001b[0m \u001b[0mb\u001b[0m\u001b[1;33m.\u001b[0m\u001b[0mfind_all\u001b[0m\u001b[1;33m(\u001b[0m\u001b[1;34m'p'\u001b[0m\u001b[1;33m)\u001b[0m\u001b[1;33m)\u001b[0m\u001b[1;33m)\u001b[0m\u001b[1;33m\u001b[0m\u001b[0m\n\u001b[0m\u001b[0;32m    120\u001b[0m     \u001b[1;32mreturn\u001b[0m \u001b[0mSummary\u001b[0m\u001b[1;33m(\u001b[0m\u001b[0murl\u001b[0m\u001b[1;33m,\u001b[0m \u001b[0mb\u001b[0m\u001b[1;33m,\u001b[0m \u001b[0mhtml\u001b[0m\u001b[1;33m.\u001b[0m\u001b[0mtitle\u001b[0m\u001b[1;33m.\u001b[0m\u001b[0mtext\u001b[0m \u001b[1;32mif\u001b[0m \u001b[0mhtml\u001b[0m\u001b[1;33m.\u001b[0m\u001b[0mtitle\u001b[0m \u001b[1;32melse\u001b[0m \u001b[0mNone\u001b[0m\u001b[1;33m,\u001b[0m \u001b[0msummaries\u001b[0m\u001b[1;33m)\u001b[0m\u001b[1;33m\u001b[0m\u001b[0m\n\u001b[0;32m    121\u001b[0m \u001b[1;33m\u001b[0m\u001b[0m\n",
        "\u001b[1;32mC:\\Anaconda\\lib\\site-packages\\summarize-0.0.1-py2.7.egg\\summarize\\summarize.pyc\u001b[0m in \u001b[0;36msummarize_blocks\u001b[1;34m(blocks)\u001b[0m\n\u001b[0;32m    108\u001b[0m     \u001b[1;31m# deduplicate and preserve order\u001b[0m\u001b[1;33m\u001b[0m\u001b[1;33m\u001b[0m\u001b[0m\n\u001b[0;32m    109\u001b[0m     \u001b[0msummaries\u001b[0m \u001b[1;33m=\u001b[0m \u001b[0msorted\u001b[0m\u001b[1;33m(\u001b[0m\u001b[0mset\u001b[0m\u001b[1;33m(\u001b[0m\u001b[0msummaries\u001b[0m\u001b[1;33m)\u001b[0m\u001b[1;33m,\u001b[0m \u001b[0mkey\u001b[0m\u001b[1;33m=\u001b[0m\u001b[0msummaries\u001b[0m\u001b[1;33m.\u001b[0m\u001b[0mindex\u001b[0m\u001b[1;33m)\u001b[0m\u001b[1;33m\u001b[0m\u001b[0m\n\u001b[1;32m--> 110\u001b[1;33m     \u001b[1;32mreturn\u001b[0m \u001b[1;33m[\u001b[0m\u001b[0mu\u001b[0m\u001b[1;33m(\u001b[0m\u001b[0mre\u001b[0m\u001b[1;33m.\u001b[0m\u001b[0msub\u001b[0m\u001b[1;33m(\u001b[0m\u001b[1;34m'\\s+'\u001b[0m\u001b[1;33m,\u001b[0m \u001b[1;34m' '\u001b[0m\u001b[1;33m,\u001b[0m \u001b[0msummary\u001b[0m\u001b[1;33m.\u001b[0m\u001b[0mstrip\u001b[0m\u001b[1;33m(\u001b[0m\u001b[1;33m)\u001b[0m\u001b[1;33m)\u001b[0m\u001b[1;33m)\u001b[0m \u001b[1;32mfor\u001b[0m \u001b[0msummary\u001b[0m \u001b[1;32min\u001b[0m \u001b[0msummaries\u001b[0m \u001b[1;32mif\u001b[0m \u001b[0many\u001b[0m\u001b[1;33m(\u001b[0m\u001b[0mc\u001b[0m\u001b[1;33m.\u001b[0m\u001b[0mlower\u001b[0m\u001b[1;33m(\u001b[0m\u001b[1;33m)\u001b[0m \u001b[1;32min\u001b[0m \u001b[0mstring\u001b[0m\u001b[1;33m.\u001b[0m\u001b[0mascii_lowercase\u001b[0m \u001b[1;32mfor\u001b[0m \u001b[0mc\u001b[0m \u001b[1;32min\u001b[0m \u001b[0msummary\u001b[0m\u001b[1;33m)\u001b[0m\u001b[1;33m]\u001b[0m\u001b[1;33m\u001b[0m\u001b[0m\n\u001b[0m\u001b[0;32m    111\u001b[0m \u001b[1;33m\u001b[0m\u001b[0m\n\u001b[0;32m    112\u001b[0m \u001b[1;33m\u001b[0m\u001b[0m\n",
        "\u001b[1;32mC:\\Anaconda\\lib\\site-packages\\summarize-0.0.1-py2.7.egg\\summarize\\summarize.pyc\u001b[0m in \u001b[0;36mu\u001b[1;34m(s)\u001b[0m\n\u001b[0;32m     28\u001b[0m     \u001b[1;32melse\u001b[0m\u001b[1;33m:\u001b[0m\u001b[1;33m\u001b[0m\u001b[0m\n\u001b[0;32m     29\u001b[0m         \u001b[1;31m# not well documented but seems to work\u001b[0m\u001b[1;33m\u001b[0m\u001b[1;33m\u001b[0m\u001b[0m\n\u001b[1;32m---> 30\u001b[1;33m         \u001b[1;32mreturn\u001b[0m \u001b[0mcodecs\u001b[0m\u001b[1;33m.\u001b[0m\u001b[0municode_escape_decode\u001b[0m\u001b[1;33m(\u001b[0m\u001b[0ms\u001b[0m\u001b[1;33m)\u001b[0m\u001b[1;33m[\u001b[0m\u001b[1;36m0\u001b[0m\u001b[1;33m]\u001b[0m\u001b[1;33m\u001b[0m\u001b[0m\n\u001b[0m\u001b[0;32m     31\u001b[0m \u001b[1;33m\u001b[0m\u001b[0m\n\u001b[0;32m     32\u001b[0m \u001b[1;33m\u001b[0m\u001b[0m\n",
        "\u001b[1;31mUnicodeEncodeError\u001b[0m: 'ascii' codec can't encode character u'\\u2019' in position 9: ordinal not in range(128)"
       ]
      }
     ],
     "prompt_number": 3
    },
    {
     "cell_type": "markdown",
     "metadata": {},
     "source": [
      "#Southampton\n",
      "[u18 reports](http://www.saintsfc.co.uk/fixtures-results/u18-fixtures/)  \n",
      "[u21 reports](http://www.saintsfc.co.uk/fixtures-results/u21-fixtures/)  \n",
      "[Telegraph article on Academy](http://www.telegraph.co.uk/sport/football/teams/southampton/11199367/St-Marys-is-the-perfect-academy-for-youngsters-at-the-Southampton-dream-factory.html)\n",
      "[Weaponize Empathy](http://blog.codinghorror.com/what-if-we-could-weaponize-empathy/)   \n",
      "[FlaskBB](http://flaskbb.org/features.html) Forum Software   \n",
      "[Fail2Ban](https://github.com/oussemos/fail2ban-dashboard)  \n",
      "[Warriors](http://web.archive.org/web/20080620182503/http://redwing.hutman.net/~mreed/warriorshtm/rottweilerpuppy.htm)"
     ]
    },
    {
     "cell_type": "code",
     "collapsed": false,
     "input": [
      "import urllib2\n",
      "from bs4 import BeautifulSoup\n",
      "\n",
      "\n",
      "address = \"http://www.transfermarkt.com\"\n",
      "\n",
      "req = urllib2.Request(address)\n",
      "\n",
      "req.add_header('User-agent', 'Mozilla 5.10')\n",
      "\n",
      "res = urllib2.urlopen(req)\n",
      "\n",
      "html = res.read()\n",
      "\n",
      "try:\n",
      "    print urllib2.urlopen(address).read()\n",
      "except urllib2.HTTPError, e:\n",
      "    print e.code\n",
      "    print e.msg\n",
      "    print e.headers\n",
      "    print e.fp.read()\n",
      "    \n",
      "    \n",
      "\n",
      "soup = BeautifulSoup(html)"
     ],
     "language": "python",
     "metadata": {},
     "outputs": [
      {
       "output_type": "stream",
       "stream": "stdout",
       "text": [
        "404\n",
        "Not Found\n",
        "Server: nginx\r\n",
        "Date: Sun, 02 Nov 2014 21:47:05 GMT\r\n",
        "Content-Type: text/html; charset=utf-8\r\n",
        "Content-Length: 162\r\n",
        "Connection: close\r\n",
        "\n",
        "<html>\r\n",
        "<head><title>404 Not Found</title></head>\r\n",
        "<body bgcolor=\"white\">\r\n",
        "<center><h1>404 Not Found</h1></center>\r\n",
        "<hr><center>nginx</center>\r\n",
        "</body>\r\n",
        "</html>\r\n",
        "\n"
       ]
      },
      {
       "ename": "NameError",
       "evalue": "name 'htmlcontent' is not defined",
       "output_type": "pyerr",
       "traceback": [
        "\u001b[1;31m---------------------------------------------------------------------------\u001b[0m\n\u001b[1;31mNameError\u001b[0m                                 Traceback (most recent call last)",
        "\u001b[1;32m<ipython-input-5-aad4dde9242c>\u001b[0m in \u001b[0;36m<module>\u001b[1;34m()\u001b[0m\n\u001b[0;32m     23\u001b[0m \u001b[1;33m\u001b[0m\u001b[0m\n\u001b[0;32m     24\u001b[0m \u001b[1;33m\u001b[0m\u001b[0m\n\u001b[1;32m---> 25\u001b[1;33m \u001b[0msoup\u001b[0m \u001b[1;33m=\u001b[0m \u001b[0mBeautifulSoup\u001b[0m\u001b[1;33m(\u001b[0m\u001b[0mhtmlcontent\u001b[0m\u001b[1;33m)\u001b[0m\u001b[1;33m\u001b[0m\u001b[0m\n\u001b[0m",
        "\u001b[1;31mNameError\u001b[0m: name 'htmlcontent' is not defined"
       ]
      }
     ],
     "prompt_number": 5
    }
   ],
   "metadata": {}
  }
 ]
}