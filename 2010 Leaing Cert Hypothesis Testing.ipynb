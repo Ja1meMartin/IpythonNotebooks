{
 "metadata": {
  "name": "",
  "signature": "sha256:b2967d5bcdecb51a573a322dc8b5f4c4a9df16efc45466e65351266f87540a73"
 },
 "nbformat": 3,
 "nbformat_minor": 0,
 "worksheets": [
  {
   "cells": [
    {
     "cell_type": "code",
     "collapsed": false,
     "input": [
      "from __future__ import division\n",
      "import numpy as np\n",
      "import matplotlib.pyplot as plt\n",
      "from scipy.stats import norm\n",
      "%load_ext autoreload\n",
      "%autoreload 1\n",
      "import math\n",
      "%matplotlib inline"
     ],
     "language": "python",
     "metadata": {},
     "outputs": [
      {
       "output_type": "stream",
       "stream": "stdout",
       "text": [
        "The autoreload extension is already loaded. To reload it, use:\n",
        "  %reload_ext autoreload\n"
       ]
      }
     ],
     "prompt_number": 49
    },
    {
     "cell_type": "markdown",
     "metadata": {},
     "source": [
      "A car rental company has been using Evertread tyres on their fleet of economy cars.  All cars in this \n",
      "fleet are identical.  The company manages the tyres on each car in such a way that the four tyres all \n",
      "wear out at the same time.  The company keeps a record of the lifespan of each set of tyres.  The \n",
      "records show that the lifespan of these sets of tyres is normally distributed with mean 45 000 km \n",
      "and standard deviation 8000 km.  \n",
      "\n",
      "\n",
      "The company is considering switching brands from Evertread tyres to SafeRun tyres, because \n",
      "they are cheaper.  The distributors of SafeRun tyres claim that these tyres have the same mean \n",
      "lifespan as Evertread tyres.  The car rental company wants to check this claim before they \n",
      "switch brands.  They have enough data on Evertread tyres to regard these as a known \n",
      "population.  They want to test a sample of SafeRun tyres against it.  \n",
      "\n",
      "The company selects 25 economy cars at random from the fleet and fits them with the new \n",
      "tyres.  For these cars, it is found that the mean life span of the tyres is 43 850 km.  \n",
      "\n",
      "Test, at the 5% level of significance, the hypothesis that the mean lifespan of SafeRun tyres is \n",
      "the same as the known mean of Evertread tyres.  State clearly what the company can conclude \n",
      "about the tyres."
     ]
    },
    {
     "cell_type": "markdown",
     "metadata": {},
     "source": [
      "###State the Null and Alternative Hypothesese\n",
      "#####$$H_0: \\mu = 45000$$\n",
      "#####$$H_1: \\mu \\neq 45000$$  \n",
      "Every out come in life is a mixture of true talent plus luck.\n",
      "If a footballer scores fifteen in goals there is a small chance that he is a true-fifteen-goal \n",
      "player who had even luck. There is a greater chance that he was a player who should have scored \n",
      "goals who was unlucky or a player who should have scored less goals but was unlucky. \n",
      "We can never know for sure but if the standard deviations for goals is 2 we but be much happier \n",
      "rejecting the null hypothesis that a player is a fifteen-goal player if he went out and scored 25 \n",
      "goals (5 standard deviations away) than if he scored 17 goals (1 standard deviation away)\n",
      "\n",
      "\n",
      "One thing to note with standard deviations is how quickly things escalate:"
     ]
    },
    {
     "cell_type": "code",
     "collapsed": false,
     "input": [
      "numbers = [0.5 ,1.0 , 1.5 ,2.0 , 2.5, 3.0, 4.0,7.0]\n",
      "\n",
      "for x in numbers:\n",
      "    # get the p-value\n",
      "    pValue = norm.sf(x)*2\n",
      "    print x, \"sd would be due to chance roughly one out of\", int(round(1.0/(pValue))), \"times or in decimal \", pValue"
     ],
     "language": "python",
     "metadata": {},
     "outputs": [
      {
       "output_type": "stream",
       "stream": "stdout",
       "text": [
        "0.5 sd would be due to chance roughly one out of 2 times or in decimal  0.617075077452\n",
        "1.0 sd would be due to chance roughly one out of 3 times or in decimal  0.317310507863\n",
        "1.5 sd would be due to chance roughly one out of 7 times or in decimal  0.133614402538\n",
        "2.0 sd would be due to chance roughly one out of 22 times or in decimal  0.0455002638964\n",
        "2.5 sd would be due to chance roughly one out of 81 times or in decimal  0.0124193306516\n",
        "3.0 sd would be due to chance roughly one out of 370 times or in decimal  0.00269979606326\n",
        "4.0 sd would be due to chance roughly one out of 15787 times or in decimal  6.33424836662e-05\n",
        "7.0 sd would be due to chance roughly one out of 390682215445 times or in decimal  2.55962508777e-12\n"
       ]
      }
     ],
     "prompt_number": 50
    },
    {
     "cell_type": "markdown",
     "metadata": {},
     "source": [
      "### Probability Distribution Function  \n",
      "\n",
      "We can see why this is by drawing a probability distribution and notice \n",
      "how numbers that are close to the mean are higher than those that are far away. "
     ]
    },
    {
     "cell_type": "code",
     "collapsed": false,
     "input": [
      "#\n",
      "# Question Variables\n",
      "#\n",
      "mean = 10 #45000\n",
      "hypothetical_population_mean = mean\n",
      "sd = 4 #8000\n",
      "sample_size = 100 #25\n",
      "sample_mean = 12 #43580\n",
      "confidence_interval = 1*sd  # The value from the log tables\n",
      "\n",
      "\n",
      "\n",
      "\n",
      "curve_width = 4*sd # the number of standard deviations to show\n",
      "\n",
      "# Get the range of numbers\n",
      "# Use numpy's arrange(start,finish,increment)\n",
      "range = np.arange(mean - curve_width, mean + curve_width , curve_width * 0.002)\n",
      "\n",
      "# pdf is probability distribution function\n",
      "y = norm.pdf(range,mean,sd)\n",
      "\n",
      "# Show the graph\n",
      "plt.plot(range, y, color=\"black\")"
     ],
     "language": "python",
     "metadata": {},
     "outputs": [
      {
       "metadata": {},
       "output_type": "pyout",
       "prompt_number": 51,
       "text": [
        "[<matplotlib.lines.Line2D at 0x15db05f8>]"
       ]
      },
      {
       "metadata": {},
       "output_type": "display_data",
       "png": "[encoded data removed]",
       "text": [
        "<matplotlib.figure.Figure at 0x13fc5d68>"
       ]
      }
     ],
     "prompt_number": 51
    },
    {
     "cell_type": "markdown",
     "metadata": {},
     "source": [
      "### How far is far enough away\n",
      "\n",
      "We are\n",
      "interested in numbers in the red regions as those are far enough away that we can\n",
      "reject the idea that that the difference was due to chance."
     ]
    },
    {
     "cell_type": "code",
     "collapsed": false,
     "input": [
      "# local variables\n",
      "# local_confidence_interval = confidence_interval\n",
      "# confidence_interval should be a number*sd eg. 2*sd\n",
      "# 2*sd represents the area under the curve that is 2 sd away\n",
      "local_confidence_interval = 2.0*sd\n",
      "\n",
      "plt.plot(range,y,color=\"black\", ls='-')\n",
      "\n",
      "\n",
      "\n",
      "left = mean - local_confidence_interval\n",
      "right = mean + local_confidence_interval\n",
      "\n",
      "# x < - 2\n",
      "subx1 = [n for n in range if n < left] \n",
      "\n",
      "suby1 = y[:len(subx1)]\n",
      "\n",
      "plt.fill_betweenx(suby1,subx1, left, color = \"red\")\n",
      "\n",
      "# x < - 2\n",
      "subx2 = [n for n in range if n > right] \n",
      "\n",
      "suby2 = y[-len(subx2):]\n",
      "\n",
      "plt.fill_betweenx(suby2,subx2, right, color=\"red\")\n",
      "\n"
     ],
     "language": "python",
     "metadata": {},
     "outputs": [
      {
       "metadata": {},
       "output_type": "pyout",
       "prompt_number": 52,
       "text": [
        "<matplotlib.collections.PolyCollection at 0x15ecc908>"
       ]
      },
      {
       "metadata": {},
       "output_type": "display_data",
       "png": "[encoded data removed]",
       "text": [
        "<matplotlib.figure.Figure at 0x15da0470>"
       ]
      }
     ],
     "prompt_number": 52
    },
    {
     "cell_type": "markdown",
     "metadata": {},
     "source": [
      "###Transformation and Normalisation  \n",
      "When you ask someone where something is thankfully they don't take you literaly. \n",
      "For then the answer would be to give Ordnance Survey map co-ordinates or longituted and latitude.\n",
      "What we really mean is where is it from here. This is the transformation.\n",
      "We care that the mean of the second sample is 43,850 only so we can figure out how far it is from the proposed mean.  \n",
      "  \n",
      "*In this scenario the sign is the direction*\n",
      "  \n",
      "In maths speak this is:  \n",
      "  \n",
      "$$\\bar{x} - \\mu$$ "
     ]
    },
    {
     "cell_type": "code",
     "collapsed": false,
     "input": [
      "\n",
      "distance_from_mean = sample_mean - hypothetical_population_mean\n",
      "print \"The sample mean is\", distance_from_mean, \"away from the population mean\""
     ],
     "language": "python",
     "metadata": {},
     "outputs": [
      {
       "output_type": "stream",
       "stream": "stdout",
       "text": [
        "The sample mean is 2 away from the population mean\n"
       ]
      }
     ],
     "prompt_number": 53
    },
    {
     "cell_type": "markdown",
     "metadata": {},
     "source": [
      "### Numbers Don't Make Sense Without Units  \n",
      "\n",
      "Next we have the normalisation which is fancy speak for measuring something.\n",
      "When we measure something we pick a unit.\n",
      "Here we measure in standard deviations **but**\n",
      "divided by the square root of the sample size.  \n",
      "  \n",
      "Dividing by the square root of the sample size gives us a smaller measuring unit for large samples. \n",
      "This is ok because it is counterbalanced by the increasing unlikeliness of freak results as sample sizes grow.  \n",
      "  \n",
      "In maths speak:  \n",
      "  \n",
      "$$\\sigma/\\sqrt{n}$$  \n",
      "  "
     ]
    },
    {
     "cell_type": "code",
     "collapsed": false,
     "input": [
      "# local variables\n",
      "# local_sd = sd\n",
      "local_sd = sd\n",
      "# local_sample_size = sample_size\n",
      "local_sample_size = sample_size\n",
      "# sd_factors = [1,2,3]\n",
      "sd_factors = [1,2,3]\n",
      "# ss_factors = [1,2,3]\n",
      "ss_factors = [1,2,3]\n",
      "\n",
      "\n",
      "\n",
      "\n",
      "\n",
      "\n",
      "print \"watch how as sd increases so does our normalisation unit\"\n",
      "for number in sd_factors:\n",
      "    normalisation_unit = local_sd*number/math.sqrt(local_sample_size)\n",
      "    print number,\"- The normalisation unit is\", normalisation_unit, \"for sample size\",local_sample_size, \" and sd\", local_sd*number\n",
      "print \"\"\n",
      "print \"but as sample size increases our unit gets smaller\"\n",
      "for number in ss_factors:\n",
      "    normalisation_unit = local_sd/math.sqrt(local_sample_size*number)\n",
      "    print number,\"- The normalisation unit is\", normalisation_unit, \"for sample size\",local_sample_size*number, \" and sd\",local_sd\n",
      "    \n",
      "#tidy-up\n",
      "normalisation_unit = sd/math.sqrt(sample_size)"
     ],
     "language": "python",
     "metadata": {},
     "outputs": [
      {
       "output_type": "stream",
       "stream": "stdout",
       "text": [
        "watch how as sd increases so does our normalisation unit\n",
        "1 - The normalisation unit is 0.4 for sample size 100  and sd 4\n",
        "2 - The normalisation unit is 0.8 for sample size 100  and sd 8\n",
        "3 - The normalisation unit is 1.2 for sample size 100  and sd 12\n",
        "\n",
        "but as sample size increases our unit gets smaller\n",
        "1 - The normalisation unit is 0.4 for sample size 100  and sd 4\n",
        "2 - The normalisation unit is 0.282842712475 for sample size 200  and sd 4\n",
        "3 - The normalisation unit is 0.230940107676 for sample size 300  and sd 4\n"
       ]
      }
     ],
     "prompt_number": 54
    },
    {
     "cell_type": "markdown",
     "metadata": {},
     "source": [
      "###Standard Score (or Z-Score)  \n",
      "Finally to measure we divide our distance into units. Semi-formally this is:  \n",
      "\n",
      "$$\\frac{distance From Mean}{normalisation Unit}$$  \n",
      "  \n",
      "  \n",
      "\n",
      "In maths speak:  \n",
      "\n",
      "\n",
      "$$\\frac{\\bar{x} - \\mu}{\\sigma/\\sqrt{n}}$$"
     ]
    },
    {
     "cell_type": "code",
     "collapsed": false,
     "input": [
      "standard_score = float(distance_from_mean)/normalisation_unit\n",
      "print \"The standard score is\", standard_score"
     ],
     "language": "python",
     "metadata": {},
     "outputs": [
      {
       "output_type": "stream",
       "stream": "stdout",
       "text": [
        "The standard score is 5.0\n"
       ]
      }
     ],
     "prompt_number": 55
    },
    {
     "cell_type": "markdown",
     "metadata": {},
     "source": [
      "let's run this again with the data from the normalisation section"
     ]
    },
    {
     "cell_type": "code",
     "collapsed": false,
     "input": [
      "# local variables\n",
      "# local_sd = sd\n",
      "local_sd = sd\n",
      "# local_sample_size = sample_size\n",
      "local_sample_size = sample_size\n",
      "# sd_factors = [1,2,3]\n",
      "sd_factors = [1,2,3]\n",
      "# ss_factors = [1,2,3]\n",
      "ss_factors = [1,2,3]\n",
      "\n",
      "print \"watch how as sd increases so our standard score decreases\"\n",
      "print \"this is because we are increasing the unit\"\n",
      "for number in sd_factors:\n",
      "    normalisation_unit = local_sd*number/math.sqrt(local_sample_size)\n",
      "    standard_score = float(distance_from_mean)/normalisation_unit\n",
      "    print number,\"- The standard score is\", standard_score, \"for sample size\",local_sample_size, \" and sd\", local_sd*number\n",
      "print \"\"\n",
      "print \"conversely as sample size increases our standard score increases\"\n",
      "print \"this is because we are decreasing the unit\"\n",
      "for number in ss_factors:\n",
      "    normalisation_unit = local_sd/math.sqrt(local_sample_size*number)\n",
      "    standard_score = float(distance_from_mean)/normalisation_unit\n",
      "    print number,\"- The standard score is\", standard_score, \"for sample size\",local_sample_size*number, \" and sd\",local_sd\n",
      "    \n",
      "#tidy-up\n",
      "normalisation_unit = sd/math.sqrt(sample_size)\n",
      "standard_score = float(distance_from_mean)/normalisation_unit"
     ],
     "language": "python",
     "metadata": {},
     "outputs": [
      {
       "output_type": "stream",
       "stream": "stdout",
       "text": [
        "watch how as sd increases so our standard score decreases\n",
        "this is because we are increasing the unit\n",
        "1 - The standard score is 5.0 for sample size 100  and sd 4\n",
        "2 - The standard score is 2.5 for sample size 100  and sd 8\n",
        "3 - The standard score is 1.66666666667 for sample size 100  and sd 12\n",
        "\n",
        "conversely as sample size increases our standard score increases\n",
        "this is because we are decreasing the unit\n",
        "1 - The standard score is 5.0 for sample size 100  and sd 4\n",
        "2 - The standard score is 7.07106781187 for sample size 200  and sd 4\n",
        "3 - The standard score is 8.66025403784 for sample size 300  and sd 4\n"
       ]
      }
     ],
     "prompt_number": 57
    },
    {
     "cell_type": "markdown",
     "metadata": {},
     "source": [
      "###Is it in the Rejection Region  \n",
      "\n",
      "Now we check our log tables for the value 0.025 (dividing 0.5 in half because we are using both sides).\n",
      "This means we are looling"
     ]
    },
    {
     "cell_type": "code",
     "collapsed": false,
     "input": [
      "%aimport graph\n",
      "#local variables\n",
      "#local_standard_score = standard_score\n",
      "local_standard_score = standard_score\n",
      "# look up your graph to find confidence interval\n",
      "ci = 1.96\n",
      "local_ci = ci\n",
      "\n",
      "graph.show_final_plot(local_standard_score,local_ci)"
     ],
     "language": "python",
     "metadata": {},
     "outputs": []
    },
    {
     "cell_type": "code",
     "collapsed": true,
     "input": [],
     "language": "python",
     "metadata": {},
     "outputs": []
    },
    {
     "cell_type": "code",
     "collapsed": true,
     "input": [],
     "language": "python",
     "metadata": {},
     "outputs": []
    }
   ],
   "metadata": {}
  }
 ]
}