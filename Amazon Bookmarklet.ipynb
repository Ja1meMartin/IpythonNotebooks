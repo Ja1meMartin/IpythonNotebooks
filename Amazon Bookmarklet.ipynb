{
 "metadata": {
  "name": "",
  "signature": "sha256:586128e6941d2d78392020d79be699fadd6fc99c1595f7d50127805e846923f6"
 },
 "nbformat": 3,
 "nbformat_minor": 0,
 "worksheets": [
  {
   "cells": [
    {
     "cell_type": "markdown",
     "metadata": {},
     "source": [
      "By adding '&field-pct-off=x-y', where x and y are parameters, to theurl of a search on Amazon you can find the items with between x and y percent off. By leaving y blank you find items with greater than x percent off. The following bookmarklets help with that process. Drag the bookmars to your bookmarks toolbar and click on one of them when you have an Amazon search-results page open. Here is a search for Python books without the term 'Monty': [Python -Monty](http://www.amazon.co.uk/s/ref=nb_sb_noss?url=search-alias%3Dstripbooks&field-keywords=python+-monty&rh=n%3A266239%2Ck%3Apython+-monty)\n",
      "\n",
      "  \n",
      "Amazon takes one parameter. Amazon2 takes two parameters."
     ]
    },
    {
     "cell_type": "code",
     "collapsed": false,
     "input": [
      "from IPython.display import HTML\n",
      "\n",
      "s = \"\"\"\n",
      "\n",
      "<!DOCTYPE html>\n",
      "<html>\n",
      "<head lang=\"en\">\n",
      "    <meta charset=\"UTF-8\">\n",
      "    <title></title>\n",
      "</head>\n",
      "<body>\n",
      "<a href=\"javascript: \n",
      "var percent = prompt('enter a lower-bound percentage for the discount');\n",
      "window.location=window.location + '&field-pct-off=' + percent + '-';\n",
      "\">Amazon</a>\n",
      "</body>\n",
      "</html>\n",
      "\"\"\"\n",
      "\n",
      "h = HTML(s); h"
     ],
     "language": "python",
     "metadata": {},
     "outputs": [
      {
       "html": [
        "\n",
        "\n",
        "<!DOCTYPE html>\n",
        "<html>\n",
        "<head lang=\"en\">\n",
        "    <meta charset=\"UTF-8\">\n",
        "    <title></title>\n",
        "</head>\n",
        "<body>\n",
        "<a href=\"javascript: \n",
        "var percent = prompt('enter a lower-bound percentage for the discount');\n",
        "window.location=window.location + '&field-pct-off=' + percent + '-';\n",
        "\">Amazon</a>\n",
        "</body>\n",
        "</html>\n"
       ],
       "metadata": {},
       "output_type": "pyout",
       "prompt_number": 8,
       "text": [
        "<IPython.core.display.HTML at 0x348e898>"
       ]
      }
     ],
     "prompt_number": 8
    },
    {
     "cell_type": "code",
     "collapsed": false,
     "input": [
      "s = \"\"\"\n",
      "\n",
      "<!DOCTYPE html>\n",
      "<html>\n",
      "<head lang=\"en\">\n",
      "    <meta charset=\"UTF-8\">\n",
      "    <title></title>\n",
      "</head>\n",
      "<body>\n",
      "<a href=\"javascript: \n",
      "var lower = prompt('enter a lower-bound percentage for the discount');\n",
      "var upper = prompt('enter an upper-bound percentage for the discount');\n",
      "window.location=window.location + '&field-pct-off=' + lower + '-' + upper;\n",
      "\">Amazon2</a>\n",
      "</body>\n",
      "</html>\n",
      "\"\"\"\n",
      "\n",
      "h = HTML(s); h"
     ],
     "language": "python",
     "metadata": {},
     "outputs": [
      {
       "html": [
        "\n",
        "\n",
        "<!DOCTYPE html>\n",
        "<html>\n",
        "<head lang=\"en\">\n",
        "    <meta charset=\"UTF-8\">\n",
        "    <title></title>\n",
        "</head>\n",
        "<body>\n",
        "<a href=\"javascript: \n",
        "var lower = prompt('enter a lower-bound percentage for the discount');\n",
        "var upper = prompt('enter an upper-bound percentage for the discount');\n",
        "window.location=window.location + '&field-pct-off=' + lower + '-' + upper;\n",
        "\">Amazon2</a>\n",
        "</body>\n",
        "</html>\n"
       ],
       "metadata": {},
       "output_type": "pyout",
       "prompt_number": 10,
       "text": [
        "<IPython.core.display.HTML at 0x348e8d0>"
       ]
      }
     ],
     "prompt_number": 10
    },
    {
     "cell_type": "code",
     "collapsed": false,
     "input": [],
     "language": "python",
     "metadata": {},
     "outputs": []
    },
    {
     "cell_type": "code",
     "collapsed": false,
     "input": [
      "javascript:%20alert('ok');var%20price%20=%20prompt('enter%20a%20lower-bound%20percentage');window.location=window.location%20+%20'&field-pct-off='%20+%20price%20+%20'-';"
     ],
     "language": "python",
     "metadata": {},
     "outputs": []
    }
   ],
   "metadata": {}
  }
 ]
}