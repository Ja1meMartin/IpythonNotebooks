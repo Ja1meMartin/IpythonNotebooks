{
 "cells": [
  {
   "cell_type": "markdown",
   "metadata": {},
   "source": [
    "By adding '&field-pct-off=x-y', where x and y are parameters, to theurl of a search on Amazon you can find the items with between x and y percent off. By leaving y blank you find items with greater than x percent off. The following bookmarklets help with that process. Drag the bookmars to your bookmarks toolbar and click on one of them when you have an Amazon search-results page open. Here is a search for Python books without the term 'Monty': [Python -Monty](http://www.amazon.co.uk/s/ref=nb_sb_noss?url=search-alias%3Dstripbooks&field-keywords=python+-monty&rh=n%3A266239%2Ck%3Apython+-monty)\n",
    "\n",
    "  \n",
    "Amazon takes one parameter (a lower bound). Amazon2 takes two parameters (a lower and upper bound in case the things with lots off aren't of good quality)."
   ]
  },
  {
   "cell_type": "code",
   "execution_count": 8,
   "metadata": {
    "collapsed": false
   },
   "outputs": [
    {
     "data": {
      "text/html": [
       "\n",
       "\n",
       "<!DOCTYPE html>\n",
       "<html>\n",
       "<head lang=\"en\">\n",
       "    <meta charset=\"UTF-8\">\n",
       "    <title></title>\n",
       "</head>\n",
       "<body>\n",
       "<a href=\"javascript: \n",
       "var percent = prompt('enter a lower-bound percentage for the discount');\n",
       "window.location=window.location + '&field-pct-off=' + percent + '-';\n",
       "\">Amazon</a>\n",
       "</body>\n",
       "</html>\n"
      ],
      "text/plain": [
       "<IPython.core.display.HTML at 0x348e898>"
      ]
     },
     "execution_count": 8,
     "metadata": {},
     "output_type": "execute_result"
    }
   ],
   "source": [
    "from IPython.display import HTML\n",
    "\n",
    "s = \"\"\"\n",
    "\n",
    "<!DOCTYPE html>\n",
    "<html>\n",
    "<head lang=\"en\">\n",
    "    <meta charset=\"UTF-8\">\n",
    "    <title></title>\n",
    "</head>\n",
    "<body>\n",
    "<a href=\"javascript: \n",
    "var percent = prompt('enter a lower-bound percentage for the discount');\n",
    "window.location=window.location + '&field-pct-off=' + percent + '-';\n",
    "\">Amazon</a>\n",
    "</body>\n",
    "</html>\n",
    "\"\"\"\n",
    "\n",
    "h = HTML(s); h"
   ]
  },
  {
   "cell_type": "code",
   "execution_count": 10,
   "metadata": {
    "collapsed": false
   },
   "outputs": [
    {
     "data": {
      "text/html": [
       "\n",
       "\n",
       "<!DOCTYPE html>\n",
       "<html>\n",
       "<head lang=\"en\">\n",
       "    <meta charset=\"UTF-8\">\n",
       "    <title></title>\n",
       "</head>\n",
       "<body>\n",
       "<a href=\"javascript: \n",
       "var lower = prompt('enter a lower-bound percentage for the discount');\n",
       "var upper = prompt('enter an upper-bound percentage for the discount');\n",
       "window.location=window.location + '&field-pct-off=' + lower + '-' + upper;\n",
       "\">Amazon2</a>\n",
       "</body>\n",
       "</html>\n"
      ],
      "text/plain": [
       "<IPython.core.display.HTML at 0x348e8d0>"
      ]
     },
     "execution_count": 10,
     "metadata": {},
     "output_type": "execute_result"
    }
   ],
   "source": [
    "s = \"\"\"\n",
    "\n",
    "<!DOCTYPE html>\n",
    "<html>\n",
    "<head lang=\"en\">\n",
    "    <meta charset=\"UTF-8\">\n",
    "    <title></title>\n",
    "</head>\n",
    "<body>\n",
    "<a href=\"javascript: \n",
    "var lower = prompt('enter a lower-bound percentage for the discount');\n",
    "var upper = prompt('enter an upper-bound percentage for the discount');\n",
    "window.location=window.location + '&field-pct-off=' + lower + '-' + upper;\n",
    "\">Amazon2</a>\n",
    "</body>\n",
    "</html>\n",
    "\"\"\"\n",
    "\n",
    "h = HTML(s); h"
   ]
  }
 ],
 "metadata": {
  "kernelspec": {
   "display_name": "Python 2",
   "language": "python",
   "name": "python2"
  },
  "language_info": {
   "codemirror_mode": {
    "name": "ipython",
    "version": 2
   },
   "file_extension": ".py",
   "mimetype": "text/x-python",
   "name": "python",
   "nbconvert_exporter": "python",
   "pygments_lexer": "ipython2",
   "version": "2.7.10"
  }
 },
 "nbformat": 4,
 "nbformat_minor": 0
}
