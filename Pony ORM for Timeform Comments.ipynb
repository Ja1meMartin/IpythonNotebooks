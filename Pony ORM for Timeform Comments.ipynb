{
 "metadata": {
  "name": "",
  "signature": "sha256:47677f4ecb01f97b2ccbfe147bbce554ddc91b0dc752e3ada20c40d55c6d8ec5"
 },
 "nbformat": 3,
 "nbformat_minor": 0,
 "worksheets": [
  {
   "cells": [
    {
     "cell_type": "code",
     "collapsed": false,
     "input": [
      "from datetime import date\n",
      "from pony.orm import *\n",
      "\n",
      "db = Database(\"sqlite\", \"c:/pony/testdb1.13\", create_db=True)\n",
      "\n",
      "class RaceDay(db.Entity):\n",
      "    Date = PrimaryKey(date)\n",
      "    meetings = Set(\"Meeting\")\n",
      "\n",
      "class Course(db.Entity):\n",
      "    courseName = PrimaryKey(str)\n",
      "    course_distances = Set(\"CourseDistance\")\n",
      "    meetings = Set(\"Meeting\")\n",
      "    \n",
      "    @staticmethod\n",
      "    def find(name):\n",
      "        try:\n",
      "            c = Course[name]\n",
      "            return c\n",
      "        except:\n",
      "            c = Course(courseName = name)\n",
      "            return c\n",
      "\n",
      "class Distance(db.Entity):\n",
      "    Furlongs = PrimaryKey(int)\n",
      "    course_distances = Set(\"CourseDistance\")\n",
      "\n",
      "class CourseDistance(db.Entity):\n",
      "    course = Required(Course)\n",
      "    distance = Required(Distance)\n",
      "    PrimaryKey(course,distance)\n",
      "    races = Set(\"Race\")\n",
      "\n",
      "class Meeting(db.Entity):\n",
      "    race_day = Required(RaceDay)\n",
      "    course = Required(Course)\n",
      "    PrimaryKey(race_day, course)\n",
      "    races = Set(\"Race\")\n",
      "    ground = Optional(str)\n",
      "    \n",
      "    \n",
      "    @staticmethod\n",
      "    def find(rd, course):\n",
      "        try:\n",
      "            c = Meeting[rd, course]\n",
      "            return c\n",
      "        except:\n",
      "            c = Meeting(race_day = rd, course = course)\n",
      "            \n",
      "            return c\n",
      "\n",
      "class Race(db.Entity):\n",
      "    meeting = Required(Meeting)\n",
      "    race_number = Required(int)\n",
      "    meeting_race_day = date\n",
      "    course_distance = Required(CourseDistance)\n",
      "    runners = Set(\"Runner\")\n",
      "    PrimaryKey(meeting, race_number)\n",
      "    \n",
      "\n",
      "\n",
      "class Runner(db.Entity):\n",
      "    race = Required(Race)\n",
      "    horse = Required(\"Horse\")\n",
      "    PrimaryKey(race,horse)\n",
      "    race_comment = Optional(\"RaceComment\")\n",
      "\n",
      "class Horse(db.Entity):\n",
      "    horseName = PrimaryKey(str, 20)\n",
      "    runners = Set(Runner)\n",
      "    \n",
      "    \n",
      "\n",
      "\n",
      "\n",
      "\n",
      "\n",
      "class RaceComment(db.Entity):\n",
      "    \n",
      "    runner = PrimaryKey(Runner)\n",
      "    comment = Required(unicode)\n",
      "\n",
      "\n",
      "sql_debug(True)\n",
      "db.generate_mapping(create_tables=True)"
     ],
     "language": "python",
     "metadata": {},
     "outputs": [
      {
       "output_type": "stream",
       "stream": "stdout",
       "text": [
        "GET CONNECTION FROM THE LOCAL POOL\n",
        "PRAGMA foreign_keys = false\n",
        "BEGIN IMMEDIATE TRANSACTION\n",
        "CLOSE CONNECTION"
       ]
      },
      {
       "output_type": "stream",
       "stream": "stdout",
       "text": [
        "\n"
       ]
      },
      {
       "ename": "OperationalError",
       "evalue": "database is locked",
       "output_type": "pyerr",
       "traceback": [
        "\u001b[1;31m---------------------------------------------------------------------------\u001b[0m\n\u001b[1;31mOperationalError\u001b[0m                          Traceback (most recent call last)",
        "\u001b[1;32m<ipython-input-1-72f6836c1a01>\u001b[0m in \u001b[0;36m<module>\u001b[1;34m()\u001b[0m\n\u001b[0;32m     83\u001b[0m \u001b[1;33m\u001b[0m\u001b[0m\n\u001b[0;32m     84\u001b[0m \u001b[0msql_debug\u001b[0m\u001b[1;33m(\u001b[0m\u001b[0mTrue\u001b[0m\u001b[1;33m)\u001b[0m\u001b[1;33m\u001b[0m\u001b[0m\n\u001b[1;32m---> 85\u001b[1;33m \u001b[0mdb\u001b[0m\u001b[1;33m.\u001b[0m\u001b[0mgenerate_mapping\u001b[0m\u001b[1;33m(\u001b[0m\u001b[0mcreate_tables\u001b[0m\u001b[1;33m=\u001b[0m\u001b[0mTrue\u001b[0m\u001b[1;33m)\u001b[0m\u001b[1;33m\u001b[0m\u001b[0m\n\u001b[0m",
        "\u001b[1;32mC:\\Anaconda\\lib\\site-packages\\pony\\orm\\core.pyc\u001b[0m in \u001b[0;36mgenerate_mapping\u001b[1;34m(database, filename, check_tables, create_tables)\u001b[0m\n",
        "\u001b[1;32mC:\\Anaconda\\lib\\site-packages\\pony\\utils.pyc\u001b[0m in \u001b[0;36mcut_traceback\u001b[1;34m(func, *args, **kwargs)\u001b[0m\n\u001b[0;32m     79\u001b[0m             \u001b[1;32mif\u001b[0m \u001b[0mtb\u001b[0m\u001b[1;33m.\u001b[0m\u001b[0mtb_frame\u001b[0m\u001b[1;33m.\u001b[0m\u001b[0mf_globals\u001b[0m\u001b[1;33m.\u001b[0m\u001b[0mget\u001b[0m\u001b[1;33m(\u001b[0m\u001b[1;34m'__name__'\u001b[0m\u001b[1;33m)\u001b[0m \u001b[1;33m==\u001b[0m \u001b[1;34m'pony.utils'\u001b[0m \u001b[1;32mand\u001b[0m \u001b[0mtb\u001b[0m\u001b[1;33m.\u001b[0m\u001b[0mtb_frame\u001b[0m\u001b[1;33m.\u001b[0m\u001b[0mf_code\u001b[0m\u001b[1;33m.\u001b[0m\u001b[0mco_name\u001b[0m \u001b[1;33m==\u001b[0m \u001b[1;34m'throw'\u001b[0m\u001b[1;33m:\u001b[0m\u001b[1;33m\u001b[0m\u001b[0m\n\u001b[0;32m     80\u001b[0m                 \u001b[1;32mraise\u001b[0m \u001b[0mexc_type\u001b[0m\u001b[1;33m,\u001b[0m \u001b[0mexc\u001b[0m\u001b[1;33m,\u001b[0m \u001b[0mlast_pony_tb\u001b[0m\u001b[1;33m\u001b[0m\u001b[0m\n\u001b[1;32m---> 81\u001b[1;33m             \u001b[1;32mraise\u001b[0m \u001b[0mexc\u001b[0m  \u001b[1;31m# Set \"pony.options.CUT_TRACEBACK = False\" to see full traceback\u001b[0m\u001b[1;33m\u001b[0m\u001b[0m\n\u001b[0m\u001b[0;32m     82\u001b[0m         \u001b[1;32mfinally\u001b[0m\u001b[1;33m:\u001b[0m\u001b[1;33m\u001b[0m\u001b[0m\n\u001b[0;32m     83\u001b[0m             \u001b[1;32mdel\u001b[0m \u001b[0mtb\u001b[0m\u001b[1;33m,\u001b[0m \u001b[0mlast_pony_tb\u001b[0m\u001b[1;33m\u001b[0m\u001b[0m\n",
        "\u001b[1;31mOperationalError\u001b[0m: database is locked"
       ]
      }
     ],
     "prompt_number": 1
    }
   ],
   "metadata": {}
  }
 ]
}