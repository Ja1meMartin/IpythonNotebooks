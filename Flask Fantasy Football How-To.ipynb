{
 "metadata": {
  "name": "",
  "signature": "sha256:7bf9c3d7e8fdbbe06745cf487d56f5f0c63be02fafdd0e8e52262db19f9959f4"
 },
 "nbformat": 3,
 "nbformat_minor": 0,
 "worksheets": [
  {
   "cells": [
    {
     "cell_type": "markdown",
     "metadata": {},
     "source": [
      "#Flask  \n",
      "[Where WTF-Form gets its data from](http://www.reddit.com/r/flask/comments/2icxw9/question_about_the_flaskwtf_form_method_validate/)  \n",
      "[Flask server-sent events](https://github.com/DazWorrall/flask-sse)  \n",
      "[Jinja drop-down menu](http://www.reddit.com/r/flask/comments/2fug7o/af_getting_selected_value_from_dropdown_list/) When you're working with option tags, the only reason to specify a value explicitly is if it's going to be something different than the human-readable version. You'll often see something like:\n",
      "\n",
      "<option value=\"{{ user.id }}\">{{ user.name }}</option>  \n",
      "  \n",
      "[URL preprocessors](http://flask.pocoo.org/docs/0.10/patterns/urlprocessors/) maybe put FantasyLeagueID in url's  \n",
      " \n",
      "\n",
      "[Flask Script](http://flask-script.readthedocs.org/en/latest/) Cron Jobs and DB Scripts by gaining access to a shell\n",
      "\n",
      "\n",
      "[Bootstrap Sweet Alerts](http://lipis.github.io/bootstrap-sweetalert/)\n",
      "[Bootstrap Tables](http://wenzhixin.net.cn/p/bootstrap-table/docs/examples.html)\n"
     ]
    },
    {
     "cell_type": "markdown",
     "metadata": {},
     "source": [
      "#Flask Security\n",
      "[Flask Session](http://pythonhosted.org/Flask-Session/) Stormpath destroys a user session on logout. Don't forget the secret key to prevent CSRF.\n",
      "\n",
      "[Flask Login](https://flask-login.readthedocs.org/en/latest/#how-it-works)  load user   \n",
      "[Flask Social Login](https://pythonhosted.org/Flask-Social/)  \n",
      "[Flask OAuth](https://pythonhosted.org/Flask-Social/)\n",
      "[Hosting Flask Apps](http://www.reddit.com/r/flask/comments/2321oc/easiest_and_fastest_way_to_host_flask_python/)  \n",
      "[Flask-SeaSurf](http://flask-seasurf.readthedocs.org/en/latest/) prevent CSRF\n",
      "[Web App Vulnerability Scanner](http://wapiti.sourceforge.net/)  \n",
      "\n",
      "\n",
      "[Strompath-Flask](http://flask-stormpath.readthedocs.org/en/latest/)    \n",
      "[Flask Docs on Security Considerations](http://flask.pocoo.org/docs/0.10/security/)\n",
      "[Flask Session](http://pythonhosted.org/Flask-Session/) Can choose backend for session management so future is here.\n",
      "[ItsDangerous Client-Side Session Management](http://flask.pocoo.org/snippets/51/)  \n"
     ]
    },
    {
     "cell_type": "markdown",
     "metadata": {},
     "source": [
      "#Python  \n",
      "[Faker](http://www.joke2k.net/faker/)\n",
      "\n",
      "\n",
      "###Timeliine  \n",
      "[Redis Timeline in Python](https://github.com/calvdee/redis_timeline)  \n",
      "[Flask Pagination + Redis Timeline](http://blog.jmoz.co.uk/jquery-infinite-scroll-flask-bootstrap/)  \n",
      "\n",
      "\n",
      "###Scheduling\n",
      "[Ap Scheduler](https://devcenter.heroku.com/articles/clock-processes-python)\n"
     ]
    },
    {
     "cell_type": "markdown",
     "metadata": {},
     "source": [
      "#Class-Based Views in Flask\n",
      "[Flask-Classy](http://pythonhosted.org/Flask-Classy/)"
     ]
    },
    {
     "cell_type": "markdown",
     "metadata": {},
     "source": [
      "#Backend  \n",
      "[Intro To Pony](http://java.dzone.com/articles/python-101-intro-pony-orm)  \n",
      "[Try Redis](http://try.redis.io/)  \n"
     ]
    },
    {
     "cell_type": "markdown",
     "metadata": {},
     "source": [
      "[Foootball Squads](http://www.footballsquads.co.uk/eng/2014-2015/faprem/arsenal.htm)  \n",
      "[Useful Stats](http://www.redcafe.net/threads/useful-statistics-and-tactics-resources.331840/)  \n",
      "[Guide to Football APIs](http://www.jokecamp.com/blog/guide-to-football-and-soccer-data-and-apis/)  \n"
     ]
    },
    {
     "cell_type": "markdown",
     "metadata": {},
     "source": [
      "#Long Form  \n",
      "[Explore Flask](https://exploreflask.com/users.html)   \n",
      "[Large Apps in Flask](https://github.com/mitsuhiko/flask/wiki/Large-app-how-to)\n"
     ]
    }
   ],
   "metadata": {}
  }
 ]
}