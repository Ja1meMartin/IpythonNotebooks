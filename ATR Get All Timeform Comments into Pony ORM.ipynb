{
 "metadata": {
  "name": "",
  "signature": "sha256:3027e7eaf85e5a1c24221b98e7d2b9e8868bbc8a985427d86f3f02c8724cbbf9"
 },
 "nbformat": 3,
 "nbformat_minor": 0,
 "worksheets": [
  {
   "cells": [
    {
     "cell_type": "markdown",
     "metadata": {},
     "source": [
      "#Configuration"
     ]
    },
    {
     "cell_type": "code",
     "collapsed": false,
     "input": [
      "atr = \"http://www.attheraces.com\"\n",
      "\n",
      "# Beautiful Soup\n",
      "import lxml.etree\n",
      "import lxml.html\n",
      "import urllib2\n",
      "from bs4 import BeautifulSoup"
     ],
     "language": "python",
     "metadata": {},
     "outputs": [],
     "prompt_number": 79
    },
    {
     "cell_type": "markdown",
     "metadata": {},
     "source": [
      "#SQLite\n"
     ]
    },
    {
     "cell_type": "code",
     "collapsed": false,
     "input": [
      "from datetime import date\n",
      "from pony.orm import *\n",
      "\n",
      "db = Database(\"sqlite\", \"c:/pony/testdb1.11\", create_db=True)\n",
      "\n",
      "class RaceDay(db.Entity):\n",
      "    Date = PrimaryKey(date)\n",
      "    meetings = Set(\"Meeting\")\n",
      "\n",
      "class Course(db.Entity):\n",
      "    courseName = PrimaryKey(str)\n",
      "    course_distances = Set(\"CourseDistance\")\n",
      "    meetings = Set(\"Meeting\")\n",
      "    \n",
      "    @staticmethod\n",
      "    def find(name):\n",
      "        try:\n",
      "            c = Course[name]\n",
      "            return c\n",
      "        except:\n",
      "            c = Course(courseName = name)\n",
      "            commit()\n",
      "            return c\n",
      "\n",
      "class Distance(db.Entity):\n",
      "    Furlongs = PrimaryKey(int)\n",
      "    course_distances = Set(\"CourseDistance\")\n",
      "\n",
      "class CourseDistance(db.Entity):\n",
      "    course = Required(Course)\n",
      "    distance = Required(Distance)\n",
      "    PrimaryKey(course,distance)\n",
      "    races = Set(\"Race\")\n",
      "\n",
      "class Meeting(db.Entity):\n",
      "    race_day = Required(RaceDay)\n",
      "    course = Required(Course)\n",
      "    PrimaryKey(race_day, course)\n",
      "    races = Set(\"Race\")\n",
      "    ground = Optional(str)\n",
      "    \n",
      "    \n",
      "    @staticmethod\n",
      "    def find(rd, course):\n",
      "        try:\n",
      "            c = Meeting[rd, course]\n",
      "            return c\n",
      "        except:\n",
      "            c = Meeting(race_day = rd, course = course)\n",
      "            commit()\n",
      "            return c\n",
      "\n",
      "class Race(db.Entity):\n",
      "    meeting = Required(Meeting)\n",
      "    race_number = Required(int)\n",
      "    meeting_race_day = date\n",
      "    course_distance = Required(CourseDistance)\n",
      "    runners = Set(\"Runner\")\n",
      "    PrimaryKey(meeting, race_number)\n",
      "\n",
      "class Runner(db.Entity):\n",
      "    race = Required(Race)\n",
      "    horse = Required(\"Horse\")\n",
      "    PrimaryKey(race,horse)\n",
      "    race_comment = Optional(\"RaceComment\")\n",
      "\n",
      "class Horse(db.Entity):\n",
      "    horseName = PrimaryKey(str, 20)\n",
      "    runners = Set(Runner)\n",
      "    \n",
      "    \n",
      "\n",
      "\n",
      "\n",
      "\n",
      "\n",
      "class RaceComment(db.Entity):\n",
      "    \n",
      "    runner = PrimaryKey(Runner)\n",
      "    comment = Required(unicode)\n",
      "\n",
      "\n",
      "sql_debug(True)\n",
      "db.generate_mapping(create_tables=True)"
     ],
     "language": "python",
     "metadata": {},
     "outputs": [
      {
       "output_type": "stream",
       "stream": "stdout",
       "text": [
        "GET NEW CONNECTION\n",
        "RELEASE CONNECTION\n",
        "GET CONNECTION FROM THE LOCAL POOL\n",
        "PRAGMA foreign_keys = false\n",
        "BEGIN IMMEDIATE TRANSACTION\n",
        "SELECT \"Course\".\"courseName\"\n",
        "FROM \"Course\" \"Course\"\n",
        "WHERE 0 = 1\n",
        "\n",
        "SELECT \"CourseDistance\".\"course\", \"CourseDistance\".\"distance\"\n",
        "FROM \"CourseDistance\" \"CourseDistance\"\n",
        "WHERE 0 = 1\n",
        "\n",
        "SELECT \"Distance\".\"Furlongs\"\n",
        "FROM \"Distance\" \"Distance\"\n",
        "WHERE 0 = 1\n",
        "\n",
        "SELECT \"Horse\".\"horseName\"\n",
        "FROM \"Horse\" \"Horse\"\n",
        "WHERE 0 = 1\n",
        "\n",
        "SELECT \"Meeting\".\"race_day\", \"Meeting\".\"course\", \"Meeting\".\"ground\"\n",
        "FROM \"Meeting\" \"Meeting\"\n",
        "WHERE 0 = 1\n",
        "\n",
        "SELECT \"Race\".\"meeting_race_day\", \"Race\".\"meeting_course\", \"Race\".\"race_number\", \"Race\".\"course_distance_course\", \"Race\".\"course_distance_distance\"\n",
        "FROM \"Race\" \"Race\"\n",
        "WHERE 0 = 1\n",
        "\n",
        "SELECT \"RaceComment\".\"runner_race_meeting_race_day\", \"RaceComment\".\"runner_race_meeting_course\", \"RaceComment\".\"runner_race_race_number\", \"RaceComment\".\"runner_horse\", \"RaceComment\".\"comment\"\n",
        "FROM \"RaceComment\" \"RaceComment\"\n",
        "WHERE 0 = 1\n",
        "\n",
        "SELECT \"RaceDay\".\"Date\"\n",
        "FROM \"RaceDay\" \"RaceDay\"\n",
        "WHERE 0 = 1\n",
        "\n",
        "SELECT \"Runner\".\"race_meeting_race_day\", \"Runner\".\"race_meeting_course\", \"Runner\".\"race_race_number\", \"Runner\".\"horse\"\n",
        "FROM \"Runner\" \"Runner\"\n",
        "WHERE 0 = 1\n",
        "\n",
        "COMMIT\n",
        "PRAGMA foreign_keys = true\n",
        "CLOSE CONNECTION\n",
        "PRAGMA foreign_keys = true\n",
        "CLOSE CONNECTION\n"
       ]
      }
     ],
     "prompt_number": 80
    },
    {
     "cell_type": "markdown",
     "metadata": {},
     "source": [
      "#Objects\n",
      "###Race"
     ]
    },
    {
     "cell_type": "code",
     "collapsed": false,
     "input": [
      "class ATRRace(object):\n",
      "    \n",
      "    def __init__(self):\n",
      "        self.soups = None\n",
      "        self.meeting = 'Beverley'\n",
      "        # data = 17:05 - 5f \n",
      "        # link = /card.aspx?raceid=813020&meetingid=65660&date=2014-04-24&ref=mainracenavigation&refsite=&nav=racecards\n",
      "        # http://www.attheraces.com/card.aspx?raceid=813636&meetingid=65728&date=2014-04-28&ref=fixtures&refsite=&nav=racecards\n",
      "        \n",
      "        self.time = \"13:55\"\n",
      "        self.distance = \"5f\"\n",
      "        self.link = \"/card.aspx?raceid=839893&meetingid=68773&date=2014-09-15&ref=fixtures&refsite=&nav=racecards\"\n",
      "        #print \"Link for each race:\", len(race_data) == len(race_link)\n",
      "        \n",
      "    def soup(self):\n",
      "        if self.soups:\n",
      "            print \"oops\"\n",
      "            return self.soups\n",
      "        else:\n",
      "            address = atr + self.link\n",
      "            url = urllib2.urlopen(address)\n",
      "            content = url.read()\n",
      "            self.soups = BeautifulSoup(content)\n",
      "            return self.soups\n",
      "            \n",
      "        \n",
      "    def __str__(self):\n",
      "        s =\"Course: \" + self.meeting.course + \" Time: \" + self.time + \" Distance: \" + self.distance + \"\\nlink: \" + self.link\n",
      "        return s"
     ],
     "language": "python",
     "metadata": {},
     "outputs": [],
     "prompt_number": 81
    },
    {
     "cell_type": "markdown",
     "metadata": {},
     "source": [
      "#Code\n",
      "#### Find Race Name and Course"
     ]
    },
    {
     "cell_type": "code",
     "collapsed": false,
     "input": [
      "race = ATRRace()"
     ],
     "language": "python",
     "metadata": {},
     "outputs": [],
     "prompt_number": 82
    },
    {
     "cell_type": "code",
     "collapsed": false,
     "input": [
      "soup = race.soup()"
     ],
     "language": "python",
     "metadata": {},
     "outputs": [],
     "prompt_number": 83
    },
    {
     "cell_type": "markdown",
     "metadata": {},
     "source": [
      "1. have date create RaceDay"
     ]
    },
    {
     "cell_type": "code",
     "collapsed": false,
     "input": [
      "import time, datetime    \n",
      "\n",
      "today = datetime.date.today() + datetime.timedelta(days=1)\n",
      "print today\n",
      "\n",
      "rd = None\n",
      "try:\n",
      "    rd = RaceDay[today]\n",
      "\n",
      "except:\n",
      "    rd =RaceDay(Date = today)\n",
      "\n",
      "    \n",
      "print rd"
     ],
     "language": "python",
     "metadata": {},
     "outputs": [
      {
       "output_type": "stream",
       "stream": "stdout",
       "text": [
        "2014-09-16\n",
        "BEGIN IMMEDIATE TRANSACTION\n",
        "SELECT \"Date\"\n",
        "FROM \"RaceDay\"\n",
        "WHERE \"Date\" = ?\n",
        "['2014-09-16']\n",
        "\n",
        "RaceDay[datetime.date(2014, 9, 16)]\n"
       ]
      }
     ],
     "prompt_number": 97
    },
    {
     "cell_type": "code",
     "collapsed": false,
     "input": [
      "commit()\n"
     ],
     "language": "python",
     "metadata": {},
     "outputs": [
      {
       "output_type": "stream",
       "stream": "stdout",
       "text": [
        "BEGIN IMMEDIATE TRANSACTION\n",
        "INSERT INTO \"RaceDay\" (\"Date\") VALUES (?)\n",
        "['2014-09-15']\n",
        "\n",
        "COMMIT\n"
       ]
      }
     ],
     "prompt_number": 85
    },
    {
     "cell_type": "code",
     "collapsed": false,
     "input": [
      "h3 = soup.findAll('h3')\n",
      "for h in h3:\n",
      "    print \"--\",h.text\n",
      "    \n",
      "time, courseName = h3[1].text.split(',')[0].split(\" \")\n",
      "dist = h3[2].text\n",
      "print time, courseName"
     ],
     "language": "python",
     "metadata": {},
     "outputs": [
      {
       "output_type": "stream",
       "stream": "stdout",
       "text": [
        "-- Please enable JavaScript to login to At The Races Need further assistance?\n",
        "-- 16:20 Brighton,\r\n",
        "    15 Sep 2014\n",
        "-- 6f 209y\n",
        "16:20 Brighton\n"
       ]
      }
     ],
     "prompt_number": 86
    },
    {
     "cell_type": "markdown",
     "metadata": {},
     "source": [
      "#Add Course"
     ]
    },
    {
     "cell_type": "markdown",
     "metadata": {},
     "source": [
      "2. Find Course\n",
      "3. Find Meeting"
     ]
    },
    {
     "cell_type": "code",
     "collapsed": false,
     "input": [
      "\n",
      "c = Course.find(courseName)\n",
      "print c\n",
      "\n",
      "m = Meeting.find(rd.Date, c)\n",
      "print m\n",
      "\n"
     ],
     "language": "python",
     "metadata": {},
     "outputs": [
      {
       "output_type": "stream",
       "stream": "stdout",
       "text": [
        "BEGIN IMMEDIATE TRANSACTION\n",
        "SELECT \"courseName\"\n",
        "FROM \"Course\"\n",
        "WHERE \"courseName\" = ?\n",
        "[u'Brighton']\n",
        "\n",
        "INSERT INTO \"Course\" (\"courseName\") VALUES (?)\n",
        "[u'Brighton']\n",
        "\n",
        "COMMIT\n",
        "Course['Brighton']"
       ]
      },
      {
       "output_type": "stream",
       "stream": "stdout",
       "text": [
        "\n",
        "BEGIN IMMEDIATE TRANSACTION\n",
        "SELECT \"race_day\", \"course\", \"ground\"\n",
        "FROM \"Meeting\"\n",
        "WHERE \"race_day\" = ?\n",
        "  AND \"course\" = ?\n",
        "['2014-09-15', u'Brighton']\n",
        "\n",
        "INSERT INTO \"Meeting\" (\"race_day\", \"course\", \"ground\") VALUES (?, ?, ?)\n",
        "['2014-09-15', u'Brighton', u'']\n",
        "\n",
        "COMMIT\n",
        "Meeting[RaceDay[datetime.date(2014, 9, 15)],Course['Brighton']]"
       ]
      },
      {
       "output_type": "stream",
       "stream": "stdout",
       "text": [
        "\n"
       ]
      }
     ],
     "prompt_number": 87
    },
    {
     "cell_type": "markdown",
     "metadata": {},
     "source": [
      "4. Distance - convert 1m 5f"
     ]
    },
    {
     "cell_type": "markdown",
     "metadata": {},
     "source": [
      "# Convert String To Race Distance\n",
      "ERROR: Some races can be 1m 2y"
     ]
    },
    {
     "cell_type": "code",
     "collapsed": false,
     "input": [
      "def convertDistance(string):\n",
      "    furlongs = 0\n",
      "    \n",
      "    tokens = string.split()\n",
      "    \n",
      "    if len(tokens) > 1:\n",
      "        furlongs = furlongs + 8*int(tokens[0][0])\n",
      "        \n",
      "    return furlongs + int(tokens[-1][0])\n",
      "\n",
      "print convertDistance(\"1m 5f\")\n",
      "print convertDistance(\"5f\")\n",
      "    \n",
      "distance = convertDistance(dist)\n",
      "\n",
      "\n",
      "\n",
      "d = Distance(Furlongs = distance)\n"
     ],
     "language": "python",
     "metadata": {},
     "outputs": [
      {
       "output_type": "stream",
       "stream": "stdout",
       "text": [
        "13\n",
        "5\n"
       ]
      }
     ],
     "prompt_number": 88
    },
    {
     "cell_type": "markdown",
     "metadata": {},
     "source": [
      "What can I add to race?"
     ]
    },
    {
     "cell_type": "code",
     "collapsed": false,
     "input": [
      "cd = None\n",
      "\n",
      "try:\n",
      "    cd = CourseDistance[c,d]\n",
      "except:\n",
      "    cd = CourseDistance(course = c, distance = d)\n",
      "    \n",
      "race = None\n",
      "\n",
      "try:\n",
      "    race = Race[m,1]\n",
      "    \n",
      "except:\n",
      "    race = Race(meeting = m, race_number=1, course_distance = cd)"
     ],
     "language": "python",
     "metadata": {},
     "outputs": [
      {
       "output_type": "stream",
       "stream": "stdout",
       "text": [
        "BEGIN IMMEDIATE TRANSACTION\n",
        "INSERT INTO \"Distance\" (\"Furlongs\") VALUES (?)\n",
        "[50]\n",
        "\n",
        "SELECT \"course\", \"distance\"\n",
        "FROM \"CourseDistance\"\n",
        "WHERE \"distance\" = ?\n",
        "  AND \"course\" = ?\n",
        "[50, u'Brighton']\n",
        "\n",
        "INSERT INTO \"CourseDistance\" (\"course\", \"distance\") VALUES (?, ?)\n",
        "[u'Brighton', 50]\n",
        "\n",
        "SELECT \"meeting_race_day\", \"meeting_course\", \"race_number\", \"course_distance_course\", \"course_distance_distance\"\n",
        "FROM \"Race\"\n",
        "WHERE \"meeting_race_day\" = ?\n",
        "  AND \"meeting_course\" = ?\n",
        "  AND \"race_number\" = ?\n",
        "['2014-09-15', u'Brighton', 1]\n",
        "\n"
       ]
      }
     ],
     "prompt_number": 89
    },
    {
     "cell_type": "markdown",
     "metadata": {},
     "source": [
      "1. Get second table\n",
      "2. Get table head\n"
     ]
    },
    {
     "cell_type": "code",
     "collapsed": false,
     "input": [
      "table = soup.findAll(\"table\")[1]\n",
      "print table.find(\"thead\")"
     ],
     "language": "python",
     "metadata": {},
     "outputs": [
      {
       "output_type": "stream",
       "stream": "stdout",
       "text": [
        "<thead>\n",
        "<tr>\n",
        "<th class=\"tooltip\" title=\"Horse Number (Draw Number)\" width=\"44\">No/Drw<br/><img alt=\"\" height=\"1\" src=\"/images/spacer.gif\" width=\"44\"/></th>\n",
        "<th class=\"tooltip\" title=\"The jacket and cap worn by the jockey. Silks can be generic and provided by the track or specific to one owner\" width=\"44\">Silk<br/><img alt=\"\" height=\"1\" src=\"/images/spacer.gif\" width=\"44\"/></th>\n",
        "<th class=\"tooltip\" title=\"How the horse performed in it's previous outings, most recent on the right: Number=Position, F=Fell, P=Pulled Up, U=Unseated Rider,B=Brought Down,R=Refused,C=Carried Out,S=Slipped Up,/=Over A Year Between Races, -=New Season\" width=\"45\">Form<br/><img alt=\"\" height=\"1\" src=\"/images/spacer.gif\" width=\"45\"/></th>\n",
        "<th class=\"tooltip\" title=\"Name of horse / (breeding) if outside race country / any extra weight for recent win / days since last ran / C=won on this course, D=won at this distance, CD=won at this course and this distance, BF=beaten favourite last time out\" width=\"100%\">Horse</th>\n",
        "<th class=\"tooltip\" title=\"Age of horse / Weight carrying in stones and lbs / h=hood, v=visor, b=blinkers, es=eyeshield, ec=eyecover, t=tonguestrap, p=cheek pieces, 1=worn for first time\" width=\"60\">Age / Wt<br/><img alt=\"\" height=\"1\" src=\"/images/spacer.gif\" width=\"60\"/></th>\n",
        "<th class=\"tooltip\" title=\"Jockey / Trainer\" width=\"104\">Jockey / Trainer<br/><img alt=\"\" height=\"1\" src=\"/images/spacer.gif\" width=\"104\"/></th>\n",
        "<th class=\"tooltip\" title=\"Official Rating\" width=\"30\">OR</th>\n",
        "</tr>\n",
        "</thead>\n"
       ]
      }
     ],
     "prompt_number": 90
    },
    {
     "cell_type": "markdown",
     "metadata": {},
     "source": [
      "1. Get each horse by finding tr in tbody\n",
      "2. There are 2 rows: horse data andtimeform"
     ]
    },
    {
     "cell_type": "code",
     "collapsed": false,
     "input": [
      "tbody = table.find(\"tbody\")\n",
      "trows = tbody.findAll(\"tr\")\n",
      "horsenames = [row.find(\"span\", { \"class\" : \"horsename\" }).text for row in trows[::2]]\n",
      "\n",
      "\n",
      "'''for row in trows:\n",
      "    print \"NEW ROW\"\n",
      "    print row\n",
      "    print \"\\n\\n\\n\"'''\n",
      "\n",
      "print horsenames"
     ],
     "language": "python",
     "metadata": {},
     "outputs": [
      {
       "output_type": "stream",
       "stream": "stdout",
       "text": [
        "[u'Inkerman', u'Lionheart', u'Uprise', u'Summer Dancer', u'Hawk Moth', u'Berkeley Vale', u'Pour La Victoire', u'Just Isla', u'Tubeanie', u\"It's Taboo\", u'Burnhope', u'Commandingpresence', u'Stonecrabstomorrow', u'High On The Hog']\n"
       ]
      }
     ],
     "prompt_number": 91
    },
    {
     "cell_type": "code",
     "collapsed": false,
     "input": [
      "l =  [x for x in soup.find_all('tr') if x.has_attr('class')]\n",
      "\n",
      "\n",
      "print l[1]\n",
      "\n"
     ],
     "language": "python",
     "metadata": {},
     "outputs": [
      {
       "output_type": "stream",
       "stream": "stdout",
       "text": [
        "<tr class=\"\">\n",
        "<td class=\" cloth\"><span class=\"number draw\">1<em>(9)</em></span><div class=\"icons\"><a class=\"summary tooltip\" href=\"#\" title=\"&lt;div class='longtext'&gt;Placed in seven of 13 starts. Third of 11 behind Admirable Art beaten 1 3/4l at 3-1fav on his latest outing at Chepstow over 1m (good to soft) earlier this month.&lt;/div&gt;\">i</a><a class=\"timeform tooltip\" href=\"#\" title=\"&lt;div class='longtext'&gt;&lt;strong&gt;Timeform says&lt;/strong&gt;: Remains a maiden and not running as well as form figures suggest, twice beaten in selling company in recent weeks. Handicapper has at least given him a chance. &lt;span class=&quot;tfstarrating&quot;&gt;Star Rating &lt;img src=&quot;/images/racecards/star_3.gif&quot; alt=&quot;&quot;/&gt;&lt;/span&gt;&lt;/div&gt;\">T</a></div>\n",
        "</td>\n",
        "<td class=\"silk\"><img alt=\"Yellow, emerald green star, white sleeves, yellow cap, emerald green star\" src=\"/images/silks/20140915/20140915bgh162001.png\"/></td>\n",
        "<td>662523<br/><a class=\"full_form\" href=\"/form.aspx?id=2767750&amp;ref=cardmain&amp;dte=2014-09-15&amp;refsite=atr\" onclick=\"OpenWindow(this.href,836,550,'','no','FormPopup');return false;\" target=\"_blank\">Full form</a></td>\n",
        "<td class=\"horse\"><a class=\"tooltip\" href=\"/form.aspx?id=2767750&amp;ref=cardmain&amp;dte=2014-09-15&amp;refsite=atr\" onclick=\"OpenWindow(this.href,836,550,'','no','FormPopup');return false;\" target=\"FormWin\" title=\"click for Inkerman form\"><span class=\"horsename\">Inkerman</span></a>\r\n",
        "            (IRE)\r\n",
        "           10\u00a0<span class=\"tooltip racestat\" title=\"Beaten favourite last time out\">BF</span><a class=\"tracker_popup\" href=\"#\" id=\"trid2767750\" title=\"Inkerman\">ATR Tracker</a><br/><span class=\"horseextrawrap\"><span class=\"horseinfoicons\"></span>b\u00a0g\u00a0Duke Of Marmalade\u00a0-\u00a0Lady Taufan\u00a0(Taufan)</span></td>\n",
        "<td>4\u00a09 - 9tp</td>\n",
        "<td>\n",
        "<ul>\n",
        "<li class=\"jockey\"><a class=\"tooltip\" href=\"/form.aspx?id=1245409&amp;ref=cardmain&amp;dte=2014-09-15&amp;refsite=atr&amp;type=J\n",
        "    \" onclick=\"OpenWindow(this.href,836,550,'','no','FormPopup');return false;\" target=\"FormWin\" title=\"click for G Baker form\">G Baker</a></li>\n",
        "<li class=\"trainer\"><a class=\"tooltip\" href=\"/form.aspx?id=1000746&amp;ref=cardmain&amp;dte=2014-09-15&amp;refsite=atr&amp;type=T\n",
        "    \" onclick=\"OpenWindow(this.href,836,550,'','no','FormPopup');return false;\" target=\"FormWin\" title=\"click for J A Osborne form\">J A Osborne</a></li>\n",
        "</ul>\n",
        "</td>\n",
        "<td class=\"OR\">65</td>\n",
        "</tr>\n"
       ]
      }
     ],
     "prompt_number": 92
    },
    {
     "cell_type": "code",
     "collapsed": false,
     "input": [
      "mydivs = soup.findAll(\"tr\", { \"class\" : \"reviewtimeform\" })\n",
      "print mydivs"
     ],
     "language": "python",
     "metadata": {},
     "outputs": [
      {
       "output_type": "stream",
       "stream": "stdout",
       "text": [
        "[<tr class=\"reviewtimeform\">\n",
        "<td colspan=\"8\"><strong>Timeform says</strong>: Remains a maiden and not running as well as form figures suggest, twice beaten in selling company in recent weeks. Handicapper has at least given him a chance.<br/><span class=\"tfstarrating\">Star Rating <img alt=\"\" src=\"/images/racecards/star_3.gif\"/></span></td>\n",
        "</tr>, <tr class=\"reviewtimeform\">\n",
        "<td colspan=\"8\"><strong>Timeform says</strong>: Well below his best in recent months, new headgear failing to spark a revival at Epsom last week.<br/><span class=\"tfstarrating\">Star Rating <img alt=\"\" src=\"/images/racecards/star_3.gif\"/></span></td>\n",
        "</tr>, <tr class=\"reviewtimeform\">\n",
        "<td colspan=\"8\"><strong>Timeform says</strong>: Latest win at Yarmouth in June over 6f, but hasn't come close to matching that form since and experiment with a hood quickly shelved.<br/><span class=\"tfstarrating\">Star Rating <img alt=\"\" src=\"/images/racecards/star_3.gif\"/></span></td>\n",
        "</tr>, <tr class=\"reviewtimeform\">\n",
        "<td colspan=\"8\"><strong>Timeform says</strong>: Musselburgh winner over this trip for Paul Midgely a year ago, but not at the top of his game both starts for current yard after a lay-off.<br/><span class=\"tfstarrating\">Star Rating <img alt=\"\" src=\"/images/racecards/star_3.gif\"/></span></td>\n",
        "</tr>, <tr class=\"reviewtimeform\">\n",
        "<td colspan=\"8\"><strong>Timeform says</strong>: Back in the winning groove at Lingfield in July and has remained in good form since, going in again over this C&amp;D a month ago prior to a sound runner-up effort. Should remain competitive.<br/><span class=\"tfstarrating\">Star Rating <img alt=\"\" src=\"/images/racecards/star_3.gif\"/></span></td>\n",
        "</tr>, <tr class=\"reviewtimeform\">\n",
        "<td colspan=\"8\"><strong>Timeform says</strong>: Lightly-raced maiden. Fourth both starts in 7f handicaps following an absence, but more needed to get off the mark.<br/><span class=\"tfstarrating\">Star Rating <img alt=\"\" src=\"/images/racecards/star_3.gif\"/></span></td>\n",
        "</tr>, <tr class=\"reviewtimeform\">\n",
        "<td colspan=\"8\"><strong>Timeform says</strong>: Back in the winning groove when landing a minor event here (1m, good to soft) in April. Hit the crossbar over the same C&amp;D 6 days later and recent third after a break at Chepstow another sound run.<br/><span class=\"tfstarrating\">Star Rating <img alt=\"\" src=\"/images/racecards/star_5.gif\"/></span></td>\n",
        "</tr>, <tr class=\"reviewtimeform\">\n",
        "<td colspan=\"8\"><strong>Timeform says</strong>: Successful 3 times over 7f in 2013 (twice here) and has found the frame on her last 4 visits to this venue, her keeping-on second over 6f this month a good effort.<br/><span class=\"tfstarrating\">Star Rating <img alt=\"\" src=\"/images/racecards/star_4.gif\"/></span></td>\n",
        "</tr>, <tr class=\"reviewtimeform\">\n",
        "<td colspan=\"8\"><strong>Timeform says</strong>: Modest maiden for Clive Cox who stepped up on debut for this yard when runner-up over this trip at Yarmouth last month. Of interest from an unchanged mark.<br/><span class=\"tfstarrating\">Star Rating <img alt=\"\" src=\"/images/racecards/star_4.gif\"/></span></td>\n",
        "</tr>, <tr class=\"reviewtimeform\">\n",
        "<td colspan=\"8\"><strong>Timeform says</strong>: Finally shed her maiden tag at Ffos Las (6f) a year ago, but has found life tougher back in handicaps since.<br/><span class=\"tfstarrating\">Star Rating <img alt=\"\" src=\"/images/racecards/star_2.gif\"/></span></td>\n",
        "</tr>, <tr class=\"reviewtimeform\">\n",
        "<td colspan=\"8\"><strong>Timeform says</strong>: Slipped a long way in the weights, and more like it when third of 12 at leicester in July. Well positioned that day, and finds stringing performances together tough.<br/><span class=\"tfstarrating\">Star Rating <img alt=\"\" src=\"/images/racecards/star_3.gif\"/></span></td>\n",
        "</tr>, <tr class=\"reviewtimeform\">\n",
        "<td colspan=\"8\"><strong>Timeform says</strong>: On a long losing run, weakening out of things over 6f here 2 weeks ago, so not hard to look elsewhere.<br/><span class=\"tfstarrating\">Star Rating <img alt=\"\" src=\"/images/racecards/star_2.gif\"/></span></td>\n",
        "</tr>, <tr class=\"reviewtimeform\">\n",
        "<td colspan=\"8\"><strong>Timeform says</strong>: Veteran who has won 4 times at this track. Signs of a revival here of late, but others more persuasive at this stage of his career.<br/><span class=\"tfstarrating\">Star Rating <img alt=\"\" src=\"/images/racecards/star_3.gif\"/></span></td>\n",
        "</tr>, <tr class=\"reviewtimeform\">\n",
        "<td colspan=\"8\"><strong>Timeform says</strong>: Just the one win from 43 starts, which was a soft-ground C&amp;D handicap over 3 years ago. Runner-up at Leicester in July, but not in same frm here last month and is 5 lb wrong.<br/><span class=\"tfstarrating\">Star Rating <img alt=\"\" src=\"/images/racecards/star_2.gif\"/></span></td>\n",
        "</tr>]\n"
       ]
      }
     ],
     "prompt_number": 93
    },
    {
     "cell_type": "code",
     "collapsed": false,
     "input": [
      "'''for tr, x in enumerate(mydivs):\n",
      "    print tr, \"---------------\", x.text[16:-13]\n",
      "    print x.find(\"img\")\n",
      "    print str(x.find(\"img\"))[40]'''\n",
      "    \n",
      "objs = [(x.text[16:-13], str(x.find(\"img\"))[40] ) for x in mydivs]\n",
      "objs = zip(horsenames, objs)\n",
      "\n",
      "for o in objs:\n",
      "    horse = None\n",
      "    try:\n",
      "        horse = Horse(horseName = o[0])\n",
      "    except:\n",
      "        horse = Horse[o[0]]\n",
      "        \n",
      "    runner = None\n",
      "    \n",
      "    try:\n",
      "        runner = Runner(race = race, horse = horse)\n",
      "    except:\n",
      "        runner = Runner[race,horse]\n",
      "        \n",
      "    rc = None\n",
      "    \n",
      "    print str(o[1])\n",
      "    \n",
      "    try:\n",
      "        rc = RaceComment(runner = runner, comment = str(o[1][0]))\n",
      "    except:\n",
      "        rc = RaceComment[runner]\n",
      "        \n",
      "for o in objs:\n",
      "    print \"new\\n\",o"
     ],
     "language": "python",
     "metadata": {},
     "outputs": [
      {
       "output_type": "stream",
       "stream": "stdout",
       "text": [
        "(u'Remains a maiden and not running as well as form figures suggest, twice beaten in selling company in recent weeks. Handicapper has at least given him a chance.', '3')\n",
        "(u'Well below his best in recent months, new headgear failing to spark a revival at Epsom last week.', '3')\n",
        "(u\"Latest win at Yarmouth in June over 6f, but hasn't come close to matching that form since and experiment with a hood quickly shelved.\", '3')\n",
        "(u'Musselburgh winner over this trip for Paul Midgely a year ago, but not at the top of his game both starts for current yard after a lay-off.', '3')\n",
        "(u'Back in the winning groove at Lingfield in July and has remained in good form since, going in again over this C&D a month ago prior to a sound runner-up effort. Should remain competitive.', '3')\n",
        "(u'Lightly-raced maiden. Fourth both starts in 7f handicaps following an absence, but more needed to get off the mark.', '3')\n",
        "(u'Back in the winning groove when landing a minor event here (1m, good to soft) in April. Hit the crossbar over the same C&D 6 days later and recent third after a break at Chepstow another sound run.', '5')\n",
        "(u'Successful 3 times over 7f in 2013 (twice here) and has found the frame on her last 4 visits to this venue, her keeping-on second over 6f this month a good effort.', '4')\n",
        "(u'Modest maiden for Clive Cox who stepped up on debut for this yard when runner-up over this trip at Yarmouth last month. Of interest from an unchanged mark.', '4')\n",
        "(u'Finally shed her maiden tag at Ffos Las (6f) a year ago, but has found life tougher back in handicaps since.', '2')\n",
        "(u'Slipped a long way in the weights, and more like it when third of 12 at leicester in July. Well positioned that day, and finds stringing performances together tough.', '3')\n",
        "(u'On a long losing run, weakening out of things over 6f here 2 weeks ago, so not hard to look elsewhere.', '2')\n",
        "(u'Veteran who has won 4 times at this track. Signs of a revival here of late, but others more persuasive at this stage of his career.', '3')\n",
        "(u'Just the one win from 43 starts, which was a soft-ground C&D handicap over 3 years ago. Runner-up at Leicester in July, but not in same frm here last month and is 5 lb wrong.', '2')\n",
        "new\n",
        "(u'Inkerman', (u'Remains a maiden and not running as well as form figures suggest, twice beaten in selling company in recent weeks. Handicapper has at least given him a chance.', '3'))\n",
        "new\n",
        "(u'Lionheart', (u'Well below his best in recent months, new headgear failing to spark a revival at Epsom last week.', '3'))\n",
        "new\n",
        "(u'Uprise', (u\"Latest win at Yarmouth in June over 6f, but hasn't come close to matching that form since and experiment with a hood quickly shelved.\", '3'))\n",
        "new\n",
        "(u'Summer Dancer', (u'Musselburgh winner over this trip for Paul Midgely a year ago, but not at the top of his game both starts for current yard after a lay-off.', '3'))\n",
        "new\n",
        "(u'Hawk Moth', (u'Back in the winning groove at Lingfield in July and has remained in good form since, going in again over this C&D a month ago prior to a sound runner-up effort. Should remain competitive.', '3'))\n",
        "new\n",
        "(u'Berkeley Vale', (u'Lightly-raced maiden. Fourth both starts in 7f handicaps following an absence, but more needed to get off the mark.', '3'))\n",
        "new\n",
        "(u'Pour La Victoire', (u'Back in the winning groove when landing a minor event here (1m, good to soft) in April. Hit the crossbar over the same C&D 6 days later and recent third after a break at Chepstow another sound run.', '5'))\n",
        "new\n",
        "(u'Just Isla', (u'Successful 3 times over 7f in 2013 (twice here) and has found the frame on her last 4 visits to this venue, her keeping-on second over 6f this month a good effort.', '4'))\n",
        "new\n",
        "(u'Tubeanie', (u'Modest maiden for Clive Cox who stepped up on debut for this yard when runner-up over this trip at Yarmouth last month. Of interest from an unchanged mark.', '4'))\n",
        "new\n",
        "(u\"It's Taboo\", (u'Finally shed her maiden tag at Ffos Las (6f) a year ago, but has found life tougher back in handicaps since.', '2'))\n",
        "new\n",
        "(u'Burnhope', (u'Slipped a long way in the weights, and more like it when third of 12 at leicester in July. Well positioned that day, and finds stringing performances together tough.', '3'))\n",
        "new\n",
        "(u'Commandingpresence', (u'On a long losing run, weakening out of things over 6f here 2 weeks ago, so not hard to look elsewhere.', '2'))\n",
        "new\n",
        "(u'Stonecrabstomorrow', (u'Veteran who has won 4 times at this track. Signs of a revival here of late, but others more persuasive at this stage of his career.', '3'))\n",
        "new\n",
        "(u'High On The Hog', (u'Just the one win from 43 starts, which was a soft-ground C&D handicap over 3 years ago. Runner-up at Leicester in July, but not in same frm here last month and is 5 lb wrong.', '2'))\n"
       ]
      }
     ],
     "prompt_number": 94
    },
    {
     "cell_type": "code",
     "collapsed": false,
     "input": [
      "runs = select(r for r in Runner).show()\n",
      "\n",
      "for r in runs:\n",
      "    print r\n"
     ],
     "language": "python",
     "metadata": {},
     "outputs": [
      {
       "output_type": "stream",
       "stream": "stdout",
       "text": [
        "SELECT \"r\".\"Date\"\n",
        "FROM \"RaceDay\" \"r\"\n",
        "\n",
        "RaceDay[datetime.date(2014, 9, 15)]\n",
        "RaceDay[datetime.date(2014, 9, 16)]\n"
       ]
      }
     ],
     "prompt_number": 101
    }
   ],
   "metadata": {}
  }
 ]
}